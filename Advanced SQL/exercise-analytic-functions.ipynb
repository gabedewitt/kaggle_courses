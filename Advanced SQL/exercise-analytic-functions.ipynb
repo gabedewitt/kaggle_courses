{
 "cells": [
  {
   "cell_type": "markdown",
   "id": "9190df3d",
   "metadata": {
    "papermill": {
     "duration": 0.006512,
     "end_time": "2022-07-18T19:42:39.029334",
     "exception": false,
     "start_time": "2022-07-18T19:42:39.022822",
     "status": "completed"
    },
    "tags": []
   },
   "source": [
    "**This notebook is an exercise in the [Advanced SQL](https://www.kaggle.com/learn/advanced-sql) course.  You can reference the tutorial at [this link](https://www.kaggle.com/alexisbcook/analytic-functions).**\n",
    "\n",
    "---\n"
   ]
  },
  {
   "cell_type": "markdown",
   "id": "7a5706a0",
   "metadata": {
    "papermill": {
     "duration": 0.005726,
     "end_time": "2022-07-18T19:42:39.040727",
     "exception": false,
     "start_time": "2022-07-18T19:42:39.035001",
     "status": "completed"
    },
    "tags": []
   },
   "source": [
    "# Introduction\n",
    "\n",
    "Here, you'll use window functions to answer questions about the [Chicago Taxi Trips](https://www.kaggle.com/chicago/chicago-taxi-trips-bq) dataset.\n",
    "\n",
    "Before you get started, run the code cell below to set everything up."
   ]
  },
  {
   "cell_type": "code",
   "execution_count": 1,
   "id": "33beee36",
   "metadata": {
    "execution": {
     "iopub.execute_input": "2022-07-18T19:42:39.053924Z",
     "iopub.status.busy": "2022-07-18T19:42:39.053110Z",
     "iopub.status.idle": "2022-07-18T19:42:56.594856Z",
     "shell.execute_reply": "2022-07-18T19:42:56.594004Z"
    },
    "papermill": {
     "duration": 17.551344,
     "end_time": "2022-07-18T19:42:56.597315",
     "exception": false,
     "start_time": "2022-07-18T19:42:39.045971",
     "status": "completed"
    },
    "tags": []
   },
   "outputs": [
    {
     "name": "stdout",
     "output_type": "stream",
     "text": [
      "Using Kaggle's public dataset BigQuery integration.\n"
     ]
    },
    {
     "name": "stderr",
     "output_type": "stream",
     "text": [
      "/opt/conda/lib/python3.7/site-packages/google/cloud/bigquery/client.py:440: UserWarning: Cannot create BigQuery Storage client, the dependency google-cloud-bigquery-storage is not installed.\n",
      "  \"Cannot create BigQuery Storage client, the dependency \"\n"
     ]
    },
    {
     "name": "stdout",
     "output_type": "stream",
     "text": [
      "Setup Complete\n"
     ]
    }
   ],
   "source": [
    "# Set up feedback system\n",
    "from learntools.core import binder\n",
    "binder.bind(globals())\n",
    "from learntools.sql_advanced.ex2 import *\n",
    "print(\"Setup Complete\")"
   ]
  },
  {
   "cell_type": "markdown",
   "id": "9e533471",
   "metadata": {
    "papermill": {
     "duration": 0.004392,
     "end_time": "2022-07-18T19:42:56.606665",
     "exception": false,
     "start_time": "2022-07-18T19:42:56.602273",
     "status": "completed"
    },
    "tags": []
   },
   "source": [
    "The following code cell fetches the `taxi_trips` table from the `chicago_taxi_trips` dataset. We also preview the first five rows of the table.  You'll use the table to answer the questions below."
   ]
  },
  {
   "cell_type": "code",
   "execution_count": 2,
   "id": "9af775e7",
   "metadata": {
    "execution": {
     "iopub.execute_input": "2022-07-18T19:42:56.618133Z",
     "iopub.status.busy": "2022-07-18T19:42:56.617446Z",
     "iopub.status.idle": "2022-07-18T19:42:58.038277Z",
     "shell.execute_reply": "2022-07-18T19:42:58.036563Z"
    },
    "papermill": {
     "duration": 1.430282,
     "end_time": "2022-07-18T19:42:58.041673",
     "exception": false,
     "start_time": "2022-07-18T19:42:56.611391",
     "status": "completed"
    },
    "tags": []
   },
   "outputs": [
    {
     "name": "stdout",
     "output_type": "stream",
     "text": [
      "Using Kaggle's public dataset BigQuery integration.\n"
     ]
    },
    {
     "name": "stderr",
     "output_type": "stream",
     "text": [
      "/opt/conda/lib/python3.7/site-packages/ipykernel_launcher.py:19: UserWarning: Cannot use bqstorage_client if max_results is set, reverting to fetching data with the tabledata.list endpoint.\n"
     ]
    },
    {
     "data": {
      "text/html": [
       "<div>\n",
       "<style scoped>\n",
       "    .dataframe tbody tr th:only-of-type {\n",
       "        vertical-align: middle;\n",
       "    }\n",
       "\n",
       "    .dataframe tbody tr th {\n",
       "        vertical-align: top;\n",
       "    }\n",
       "\n",
       "    .dataframe thead th {\n",
       "        text-align: right;\n",
       "    }\n",
       "</style>\n",
       "<table border=\"1\" class=\"dataframe\">\n",
       "  <thead>\n",
       "    <tr style=\"text-align: right;\">\n",
       "      <th></th>\n",
       "      <th>unique_key</th>\n",
       "      <th>taxi_id</th>\n",
       "      <th>trip_start_timestamp</th>\n",
       "      <th>trip_end_timestamp</th>\n",
       "      <th>trip_seconds</th>\n",
       "      <th>trip_miles</th>\n",
       "      <th>pickup_census_tract</th>\n",
       "      <th>dropoff_census_tract</th>\n",
       "      <th>pickup_community_area</th>\n",
       "      <th>dropoff_community_area</th>\n",
       "      <th>...</th>\n",
       "      <th>extras</th>\n",
       "      <th>trip_total</th>\n",
       "      <th>payment_type</th>\n",
       "      <th>company</th>\n",
       "      <th>pickup_latitude</th>\n",
       "      <th>pickup_longitude</th>\n",
       "      <th>pickup_location</th>\n",
       "      <th>dropoff_latitude</th>\n",
       "      <th>dropoff_longitude</th>\n",
       "      <th>dropoff_location</th>\n",
       "    </tr>\n",
       "  </thead>\n",
       "  <tbody>\n",
       "    <tr>\n",
       "      <th>0</th>\n",
       "      <td>7b3e74418111fef19fd73835853d9c1cebd727d5</td>\n",
       "      <td>fa62820eb95bd0b9cc1a0aaf6cf26730aee22ec578db91...</td>\n",
       "      <td>2014-04-01 16:00:00+00:00</td>\n",
       "      <td>2014-04-01 16:00:00+00:00</td>\n",
       "      <td>0</td>\n",
       "      <td>0.0</td>\n",
       "      <td>NaN</td>\n",
       "      <td>NaN</td>\n",
       "      <td>NaN</td>\n",
       "      <td>NaN</td>\n",
       "      <td>...</td>\n",
       "      <td>0.0</td>\n",
       "      <td>6.45</td>\n",
       "      <td>Credit Card</td>\n",
       "      <td>Chicago Elite Cab Corp. (Chicago Carriag</td>\n",
       "      <td>NaN</td>\n",
       "      <td>NaN</td>\n",
       "      <td>None</td>\n",
       "      <td>NaN</td>\n",
       "      <td>NaN</td>\n",
       "      <td>None</td>\n",
       "    </tr>\n",
       "    <tr>\n",
       "      <th>1</th>\n",
       "      <td>9d2eefe122d32a385207087a71dd33deed0eea96</td>\n",
       "      <td>89612cda57630834fb854b4e42206d3478145557d975ce...</td>\n",
       "      <td>2014-03-06 21:30:00+00:00</td>\n",
       "      <td>2014-03-06 21:30:00+00:00</td>\n",
       "      <td>0</td>\n",
       "      <td>0.0</td>\n",
       "      <td>NaN</td>\n",
       "      <td>NaN</td>\n",
       "      <td>NaN</td>\n",
       "      <td>NaN</td>\n",
       "      <td>...</td>\n",
       "      <td>0.0</td>\n",
       "      <td>12.05</td>\n",
       "      <td>Credit Card</td>\n",
       "      <td>Chicago Elite Cab Corp. (Chicago Carriag</td>\n",
       "      <td>NaN</td>\n",
       "      <td>NaN</td>\n",
       "      <td>None</td>\n",
       "      <td>NaN</td>\n",
       "      <td>NaN</td>\n",
       "      <td>None</td>\n",
       "    </tr>\n",
       "    <tr>\n",
       "      <th>2</th>\n",
       "      <td>a8410244d022d258ae357f6ede25d0162efd675f</td>\n",
       "      <td>36dee7e88e2048dfeb8a98c9e420a1600544a8d4f21fe6...</td>\n",
       "      <td>2014-04-18 10:45:00+00:00</td>\n",
       "      <td>2014-04-18 10:45:00+00:00</td>\n",
       "      <td>0</td>\n",
       "      <td>0.0</td>\n",
       "      <td>NaN</td>\n",
       "      <td>NaN</td>\n",
       "      <td>NaN</td>\n",
       "      <td>NaN</td>\n",
       "      <td>...</td>\n",
       "      <td>0.0</td>\n",
       "      <td>12.55</td>\n",
       "      <td>Credit Card</td>\n",
       "      <td>Chicago Elite Cab Corp. (Chicago Carriag</td>\n",
       "      <td>NaN</td>\n",
       "      <td>NaN</td>\n",
       "      <td>None</td>\n",
       "      <td>NaN</td>\n",
       "      <td>NaN</td>\n",
       "      <td>None</td>\n",
       "    </tr>\n",
       "    <tr>\n",
       "      <th>3</th>\n",
       "      <td>c590e1ea0a0998541e049de913e4a26499955123</td>\n",
       "      <td>85d86e614d844575634820c6e19498d1cfd59bdecc396b...</td>\n",
       "      <td>2015-02-05 15:30:00+00:00</td>\n",
       "      <td>2015-02-05 15:45:00+00:00</td>\n",
       "      <td>1020</td>\n",
       "      <td>2.5</td>\n",
       "      <td>NaN</td>\n",
       "      <td>NaN</td>\n",
       "      <td>NaN</td>\n",
       "      <td>NaN</td>\n",
       "      <td>...</td>\n",
       "      <td>0.0</td>\n",
       "      <td>9.85</td>\n",
       "      <td>Cash</td>\n",
       "      <td>None</td>\n",
       "      <td>NaN</td>\n",
       "      <td>NaN</td>\n",
       "      <td>None</td>\n",
       "      <td>NaN</td>\n",
       "      <td>NaN</td>\n",
       "      <td>None</td>\n",
       "    </tr>\n",
       "    <tr>\n",
       "      <th>4</th>\n",
       "      <td>bdd767ee32e7038e4c1bcac28cd516cc7cb549b8</td>\n",
       "      <td>f4bc2acfbb68d505b7ca37f8553ab1fc28a2686429b55d...</td>\n",
       "      <td>2014-03-28 09:45:00+00:00</td>\n",
       "      <td>2014-03-28 09:45:00+00:00</td>\n",
       "      <td>0</td>\n",
       "      <td>0.0</td>\n",
       "      <td>NaN</td>\n",
       "      <td>NaN</td>\n",
       "      <td>NaN</td>\n",
       "      <td>NaN</td>\n",
       "      <td>...</td>\n",
       "      <td>0.0</td>\n",
       "      <td>16.45</td>\n",
       "      <td>Credit Card</td>\n",
       "      <td>Chicago Elite Cab Corp. (Chicago Carriag</td>\n",
       "      <td>NaN</td>\n",
       "      <td>NaN</td>\n",
       "      <td>None</td>\n",
       "      <td>NaN</td>\n",
       "      <td>NaN</td>\n",
       "      <td>None</td>\n",
       "    </tr>\n",
       "  </tbody>\n",
       "</table>\n",
       "<p>5 rows × 23 columns</p>\n",
       "</div>"
      ],
      "text/plain": [
       "                                 unique_key  \\\n",
       "0  7b3e74418111fef19fd73835853d9c1cebd727d5   \n",
       "1  9d2eefe122d32a385207087a71dd33deed0eea96   \n",
       "2  a8410244d022d258ae357f6ede25d0162efd675f   \n",
       "3  c590e1ea0a0998541e049de913e4a26499955123   \n",
       "4  bdd767ee32e7038e4c1bcac28cd516cc7cb549b8   \n",
       "\n",
       "                                             taxi_id  \\\n",
       "0  fa62820eb95bd0b9cc1a0aaf6cf26730aee22ec578db91...   \n",
       "1  89612cda57630834fb854b4e42206d3478145557d975ce...   \n",
       "2  36dee7e88e2048dfeb8a98c9e420a1600544a8d4f21fe6...   \n",
       "3  85d86e614d844575634820c6e19498d1cfd59bdecc396b...   \n",
       "4  f4bc2acfbb68d505b7ca37f8553ab1fc28a2686429b55d...   \n",
       "\n",
       "       trip_start_timestamp        trip_end_timestamp  trip_seconds  \\\n",
       "0 2014-04-01 16:00:00+00:00 2014-04-01 16:00:00+00:00             0   \n",
       "1 2014-03-06 21:30:00+00:00 2014-03-06 21:30:00+00:00             0   \n",
       "2 2014-04-18 10:45:00+00:00 2014-04-18 10:45:00+00:00             0   \n",
       "3 2015-02-05 15:30:00+00:00 2015-02-05 15:45:00+00:00          1020   \n",
       "4 2014-03-28 09:45:00+00:00 2014-03-28 09:45:00+00:00             0   \n",
       "\n",
       "   trip_miles  pickup_census_tract  dropoff_census_tract  \\\n",
       "0         0.0                  NaN                   NaN   \n",
       "1         0.0                  NaN                   NaN   \n",
       "2         0.0                  NaN                   NaN   \n",
       "3         2.5                  NaN                   NaN   \n",
       "4         0.0                  NaN                   NaN   \n",
       "\n",
       "   pickup_community_area  dropoff_community_area  ...  extras  trip_total  \\\n",
       "0                    NaN                     NaN  ...     0.0        6.45   \n",
       "1                    NaN                     NaN  ...     0.0       12.05   \n",
       "2                    NaN                     NaN  ...     0.0       12.55   \n",
       "3                    NaN                     NaN  ...     0.0        9.85   \n",
       "4                    NaN                     NaN  ...     0.0       16.45   \n",
       "\n",
       "   payment_type                                   company  pickup_latitude  \\\n",
       "0   Credit Card  Chicago Elite Cab Corp. (Chicago Carriag              NaN   \n",
       "1   Credit Card  Chicago Elite Cab Corp. (Chicago Carriag              NaN   \n",
       "2   Credit Card  Chicago Elite Cab Corp. (Chicago Carriag              NaN   \n",
       "3          Cash                                      None              NaN   \n",
       "4   Credit Card  Chicago Elite Cab Corp. (Chicago Carriag              NaN   \n",
       "\n",
       "  pickup_longitude pickup_location  dropoff_latitude  dropoff_longitude  \\\n",
       "0              NaN            None               NaN                NaN   \n",
       "1              NaN            None               NaN                NaN   \n",
       "2              NaN            None               NaN                NaN   \n",
       "3              NaN            None               NaN                NaN   \n",
       "4              NaN            None               NaN                NaN   \n",
       "\n",
       "  dropoff_location  \n",
       "0             None  \n",
       "1             None  \n",
       "2             None  \n",
       "3             None  \n",
       "4             None  \n",
       "\n",
       "[5 rows x 23 columns]"
      ]
     },
     "execution_count": 2,
     "metadata": {},
     "output_type": "execute_result"
    }
   ],
   "source": [
    "from google.cloud import bigquery\n",
    "\n",
    "# Create a \"Client\" object\n",
    "client = bigquery.Client()\n",
    "\n",
    "# Construct a reference to the \"chicago_taxi_trips\" dataset\n",
    "dataset_ref = client.dataset(\"chicago_taxi_trips\", project=\"bigquery-public-data\")\n",
    "\n",
    "# API request - fetch the dataset\n",
    "dataset = client.get_dataset(dataset_ref)\n",
    "\n",
    "# Construct a reference to the \"taxi_trips\" table\n",
    "table_ref = dataset_ref.table(\"taxi_trips\")\n",
    "\n",
    "# API request - fetch the table\n",
    "table = client.get_table(table_ref)\n",
    "\n",
    "# Preview the first five lines of the table\n",
    "client.list_rows(table, max_results=5).to_dataframe()"
   ]
  },
  {
   "cell_type": "markdown",
   "id": "df53e891",
   "metadata": {
    "papermill": {
     "duration": 0.005508,
     "end_time": "2022-07-18T19:42:58.054411",
     "exception": false,
     "start_time": "2022-07-18T19:42:58.048903",
     "status": "completed"
    },
    "tags": []
   },
   "source": [
    "# Exercises\n",
    "\n",
    "### 1) How can you predict the demand for taxis?\n",
    "\n",
    "Say you work for a taxi company, and you're interested in predicting the demand for taxis.  Towards this goal, you'd like to create a plot that shows a rolling average of the daily number of taxi trips.  Amend the (partial) query below to return a DataFrame with two columns:\n",
    "- `trip_date` - contains one entry for each date from January 1, 2016, to December 31, 2017.\n",
    "- `avg_num_trips` - shows the average number of daily trips, calculated over a window including the value for the current date, along with the values for the preceding 15 days and the following 15 days, as long as the days fit within the two-year time frame.  For instance, when calculating the value in this column for January 5, 2016, the window will include the number of trips for the preceding 4 days, the current date, and the following 15 days.\n",
    "\n",
    "This query is partially completed for you, and you need only write the part that calculates the `avg_num_trips` column.  Note that this query uses a common table expression (CTE); if you need to review how to use CTEs, you're encouraged to check out [this tutorial](https://www.kaggle.com/dansbecker/as-with) in the [Intro to SQL](https://www.kaggle.com/learn/intro-to-sql) micro-course."
   ]
  },
  {
   "cell_type": "code",
   "execution_count": 3,
   "id": "00257fd7",
   "metadata": {
    "execution": {
     "iopub.execute_input": "2022-07-18T19:42:58.068066Z",
     "iopub.status.busy": "2022-07-18T19:42:58.067601Z",
     "iopub.status.idle": "2022-07-18T19:42:59.302274Z",
     "shell.execute_reply": "2022-07-18T19:42:59.301203Z"
    },
    "papermill": {
     "duration": 1.244524,
     "end_time": "2022-07-18T19:42:59.304699",
     "exception": false,
     "start_time": "2022-07-18T19:42:58.060175",
     "status": "completed"
    },
    "tags": []
   },
   "outputs": [
    {
     "name": "stderr",
     "output_type": "stream",
     "text": [
      "/opt/conda/lib/python3.7/site-packages/google/cloud/bigquery/client.py:440: UserWarning: Cannot create BigQuery Storage client, the dependency google-cloud-bigquery-storage is not installed.\n",
      "  \"Cannot create BigQuery Storage client, the dependency \"\n"
     ]
    },
    {
     "data": {
      "text/html": [
       "<div>\n",
       "<style scoped>\n",
       "    .dataframe tbody tr th:only-of-type {\n",
       "        vertical-align: middle;\n",
       "    }\n",
       "\n",
       "    .dataframe tbody tr th {\n",
       "        vertical-align: top;\n",
       "    }\n",
       "\n",
       "    .dataframe thead th {\n",
       "        text-align: right;\n",
       "    }\n",
       "</style>\n",
       "<table border=\"1\" class=\"dataframe\">\n",
       "  <thead>\n",
       "    <tr style=\"text-align: right;\">\n",
       "      <th></th>\n",
       "      <th>trip_date</th>\n",
       "      <th>avg_num_trips</th>\n",
       "    </tr>\n",
       "  </thead>\n",
       "  <tbody>\n",
       "    <tr>\n",
       "      <th>0</th>\n",
       "      <td>2016-01-01</td>\n",
       "      <td>80461.937500</td>\n",
       "    </tr>\n",
       "    <tr>\n",
       "      <th>1</th>\n",
       "      <td>2016-01-02</td>\n",
       "      <td>80150.647059</td>\n",
       "    </tr>\n",
       "    <tr>\n",
       "      <th>2</th>\n",
       "      <td>2016-01-03</td>\n",
       "      <td>79419.611111</td>\n",
       "    </tr>\n",
       "    <tr>\n",
       "      <th>3</th>\n",
       "      <td>2016-01-04</td>\n",
       "      <td>79810.421053</td>\n",
       "    </tr>\n",
       "    <tr>\n",
       "      <th>4</th>\n",
       "      <td>2016-01-05</td>\n",
       "      <td>80293.900000</td>\n",
       "    </tr>\n",
       "  </tbody>\n",
       "</table>\n",
       "</div>"
      ],
      "text/plain": [
       "    trip_date  avg_num_trips\n",
       "0  2016-01-01   80461.937500\n",
       "1  2016-01-02   80150.647059\n",
       "2  2016-01-03   79419.611111\n",
       "3  2016-01-04   79810.421053\n",
       "4  2016-01-05   80293.900000"
      ]
     },
     "metadata": {},
     "output_type": "display_data"
    },
    {
     "data": {
      "application/javascript": [
       "parent.postMessage({\"jupyterEvent\": \"custom.exercise_interaction\", \"data\": {\"outcomeType\": 1, \"valueTowardsCompletion\": 0.3333333333333333, \"interactionType\": 1, \"questionType\": 2, \"questionId\": \"1_TaxiDemand\", \"learnToolsVersion\": \"0.3.4\", \"failureMessage\": \"\", \"exceptionClass\": \"\", \"trace\": \"\"}}, \"*\")"
      ],
      "text/plain": [
       "<IPython.core.display.Javascript object>"
      ]
     },
     "metadata": {},
     "output_type": "display_data"
    },
    {
     "data": {
      "text/markdown": [
       "<span style=\"color:#33cc33\">Correct</span>"
      ],
      "text/plain": [
       "Correct"
      ]
     },
     "metadata": {},
     "output_type": "display_data"
    }
   ],
   "source": [
    "# Fill in the blank below\n",
    "avg_num_trips_query = \"\"\"\n",
    "                      WITH trips_by_day AS\n",
    "                      (\n",
    "                      SELECT DATE(trip_start_timestamp) AS trip_date,\n",
    "                          COUNT(*) as num_trips\n",
    "                      FROM `bigquery-public-data.chicago_taxi_trips.taxi_trips`\n",
    "                      WHERE trip_start_timestamp >= '2016-01-01' AND trip_start_timestamp < '2018-01-01'\n",
    "                      GROUP BY trip_date\n",
    "                      ORDER BY trip_date\n",
    "                      )\n",
    "                      SELECT trip_date,\n",
    "                          AVG(num_trips)\n",
    "                          OVER (\n",
    "                               ORDER BY trip_date\n",
    "                               ROWS BETWEEN 15 PRECEDING AND 15 FOLLOWING\n",
    "                               ) AS avg_num_trips\n",
    "                      FROM trips_by_day\n",
    "                      \"\"\"\n",
    "\n",
    "# Check your answer\n",
    "q_1.check()"
   ]
  },
  {
   "cell_type": "code",
   "execution_count": 4,
   "id": "118e2165",
   "metadata": {
    "execution": {
     "iopub.execute_input": "2022-07-18T19:42:59.319847Z",
     "iopub.status.busy": "2022-07-18T19:42:59.318812Z",
     "iopub.status.idle": "2022-07-18T19:42:59.323407Z",
     "shell.execute_reply": "2022-07-18T19:42:59.322480Z"
    },
    "papermill": {
     "duration": 0.014745,
     "end_time": "2022-07-18T19:42:59.325616",
     "exception": false,
     "start_time": "2022-07-18T19:42:59.310871",
     "status": "completed"
    },
    "tags": []
   },
   "outputs": [],
   "source": [
    "# Lines below will give you a hint or solution code\n",
    "#q_1.hint()\n",
    "#q_1.solution()"
   ]
  },
  {
   "cell_type": "markdown",
   "id": "a8406c7a",
   "metadata": {
    "papermill": {
     "duration": 0.005499,
     "end_time": "2022-07-18T19:42:59.336973",
     "exception": false,
     "start_time": "2022-07-18T19:42:59.331474",
     "status": "completed"
    },
    "tags": []
   },
   "source": [
    "### 2) Can you separate and order trips by community area?\n",
    "\n",
    "The query below returns a DataFrame with three columns from the table: `pickup_community_area`, `trip_start_timestamp`, and `trip_end_timestamp`.  \n",
    "\n",
    "Amend the query to return an additional column called `trip_number` which shows the order in which the trips were taken from their respective community areas.  So, the first trip of the day originating from community area 1 should receive a value of 1; the second trip of the day from the same area should receive a value of 2.  Likewise, the first trip of the day from community area 2 should receive a value of 1, and so on.\n",
    "\n",
    "Note that there are many numbering functions that can be used to solve this problem (depending on how you want to deal with trips that started at the same time from the same community area); to answer this question, please use the **RANK()** function."
   ]
  },
  {
   "cell_type": "code",
   "execution_count": 5,
   "id": "6d66ae5e",
   "metadata": {
    "execution": {
     "iopub.execute_input": "2022-07-18T19:42:59.350711Z",
     "iopub.status.busy": "2022-07-18T19:42:59.350088Z",
     "iopub.status.idle": "2022-07-18T19:43:04.169791Z",
     "shell.execute_reply": "2022-07-18T19:43:04.169016Z"
    },
    "papermill": {
     "duration": 4.828957,
     "end_time": "2022-07-18T19:43:04.171767",
     "exception": false,
     "start_time": "2022-07-18T19:42:59.342810",
     "status": "completed"
    },
    "tags": []
   },
   "outputs": [
    {
     "name": "stderr",
     "output_type": "stream",
     "text": [
      "/opt/conda/lib/python3.7/site-packages/google/cloud/bigquery/client.py:440: UserWarning: Cannot create BigQuery Storage client, the dependency google-cloud-bigquery-storage is not installed.\n",
      "  \"Cannot create BigQuery Storage client, the dependency \"\n"
     ]
    },
    {
     "data": {
      "text/html": [
       "<div>\n",
       "<style scoped>\n",
       "    .dataframe tbody tr th:only-of-type {\n",
       "        vertical-align: middle;\n",
       "    }\n",
       "\n",
       "    .dataframe tbody tr th {\n",
       "        vertical-align: top;\n",
       "    }\n",
       "\n",
       "    .dataframe thead th {\n",
       "        text-align: right;\n",
       "    }\n",
       "</style>\n",
       "<table border=\"1\" class=\"dataframe\">\n",
       "  <thead>\n",
       "    <tr style=\"text-align: right;\">\n",
       "      <th></th>\n",
       "      <th>pickup_community_area</th>\n",
       "      <th>trip_start_timestamp</th>\n",
       "      <th>trip_end_timestamp</th>\n",
       "      <th>trip_number</th>\n",
       "    </tr>\n",
       "  </thead>\n",
       "  <tbody>\n",
       "    <tr>\n",
       "      <th>0</th>\n",
       "      <td>47.0</td>\n",
       "      <td>2017-05-01 08:45:00+00:00</td>\n",
       "      <td>2017-05-01 08:45:00+00:00</td>\n",
       "      <td>1</td>\n",
       "    </tr>\n",
       "    <tr>\n",
       "      <th>1</th>\n",
       "      <td>47.0</td>\n",
       "      <td>2017-05-01 10:30:00+00:00</td>\n",
       "      <td>2017-05-01 10:45:00+00:00</td>\n",
       "      <td>2</td>\n",
       "    </tr>\n",
       "    <tr>\n",
       "      <th>2</th>\n",
       "      <td>47.0</td>\n",
       "      <td>2017-05-01 11:15:00+00:00</td>\n",
       "      <td>2017-05-01 12:00:00+00:00</td>\n",
       "      <td>3</td>\n",
       "    </tr>\n",
       "    <tr>\n",
       "      <th>3</th>\n",
       "      <td>47.0</td>\n",
       "      <td>2017-05-01 15:45:00+00:00</td>\n",
       "      <td>2017-05-01 15:45:00+00:00</td>\n",
       "      <td>4</td>\n",
       "    </tr>\n",
       "    <tr>\n",
       "      <th>4</th>\n",
       "      <td>47.0</td>\n",
       "      <td>2017-05-01 16:30:00+00:00</td>\n",
       "      <td>2017-05-01 17:45:00+00:00</td>\n",
       "      <td>5</td>\n",
       "    </tr>\n",
       "  </tbody>\n",
       "</table>\n",
       "</div>"
      ],
      "text/plain": [
       "   pickup_community_area      trip_start_timestamp        trip_end_timestamp  \\\n",
       "0                   47.0 2017-05-01 08:45:00+00:00 2017-05-01 08:45:00+00:00   \n",
       "1                   47.0 2017-05-01 10:30:00+00:00 2017-05-01 10:45:00+00:00   \n",
       "2                   47.0 2017-05-01 11:15:00+00:00 2017-05-01 12:00:00+00:00   \n",
       "3                   47.0 2017-05-01 15:45:00+00:00 2017-05-01 15:45:00+00:00   \n",
       "4                   47.0 2017-05-01 16:30:00+00:00 2017-05-01 17:45:00+00:00   \n",
       "\n",
       "   trip_number  \n",
       "0            1  \n",
       "1            2  \n",
       "2            3  \n",
       "3            4  \n",
       "4            5  "
      ]
     },
     "metadata": {},
     "output_type": "display_data"
    },
    {
     "data": {
      "application/javascript": [
       "parent.postMessage({\"jupyterEvent\": \"custom.exercise_interaction\", \"data\": {\"outcomeType\": 1, \"valueTowardsCompletion\": 0.3333333333333333, \"interactionType\": 1, \"questionType\": 2, \"questionId\": \"2_CommunityArea\", \"learnToolsVersion\": \"0.3.4\", \"failureMessage\": \"\", \"exceptionClass\": \"\", \"trace\": \"\"}}, \"*\")"
      ],
      "text/plain": [
       "<IPython.core.display.Javascript object>"
      ]
     },
     "metadata": {},
     "output_type": "display_data"
    },
    {
     "data": {
      "text/markdown": [
       "<span style=\"color:#33cc33\">Correct</span>"
      ],
      "text/plain": [
       "Correct"
      ]
     },
     "metadata": {},
     "output_type": "display_data"
    }
   ],
   "source": [
    "# Amend the query below\n",
    "trip_number_query = \"\"\"\n",
    "                    WITH trip_info AS \n",
    "                    (\n",
    "                    SELECT pickup_community_area,\n",
    "                        trip_start_timestamp,\n",
    "                        trip_end_timestamp\n",
    "                    FROM `bigquery-public-data.chicago_taxi_trips.taxi_trips`\n",
    "                    WHERE DATE(trip_start_timestamp) = '2017-05-01'\n",
    "                    )\n",
    "                    SELECT *,\n",
    "                        RANK() \n",
    "                        OVER (\n",
    "                              PARTITION BY pickup_community_area\n",
    "                              ORDER BY trip_start_timestamp\n",
    "                              ) AS trip_number\n",
    "                    FROM trip_info            \n",
    "                    \"\"\"\n",
    "\n",
    "# Check your answer\n",
    "q_2.check()"
   ]
  },
  {
   "cell_type": "code",
   "execution_count": 6,
   "id": "8c46fc80",
   "metadata": {
    "execution": {
     "iopub.execute_input": "2022-07-18T19:43:04.187508Z",
     "iopub.status.busy": "2022-07-18T19:43:04.186279Z",
     "iopub.status.idle": "2022-07-18T19:43:04.191322Z",
     "shell.execute_reply": "2022-07-18T19:43:04.190351Z"
    },
    "papermill": {
     "duration": 0.01537,
     "end_time": "2022-07-18T19:43:04.193553",
     "exception": false,
     "start_time": "2022-07-18T19:43:04.178183",
     "status": "completed"
    },
    "tags": []
   },
   "outputs": [],
   "source": [
    "# Lines below will give you a hint or solution code\n",
    "#q_2.hint()\n",
    "#q_2.solution()"
   ]
  },
  {
   "cell_type": "markdown",
   "id": "a7ca9faa",
   "metadata": {
    "papermill": {
     "duration": 0.006073,
     "end_time": "2022-07-18T19:43:04.205938",
     "exception": false,
     "start_time": "2022-07-18T19:43:04.199865",
     "status": "completed"
    },
    "tags": []
   },
   "source": [
    "### 3) How much time elapses between trips?\n",
    "\n",
    "The (partial) query in the code cell below shows, for each trip in the selected time frame, the corresponding `taxi_id`, `trip_start_timestamp`, and `trip_end_timestamp`. \n",
    "\n",
    "Your task in this exercise is to edit the query to include an additional `prev_break` column that shows the length of the break (in minutes) that the driver had before each trip started (this corresponds to the time between `trip_start_timestamp` of the current trip and `trip_end_timestamp` of the previous trip).  Partition the calculation by `taxi_id`, and order the results within each partition by `trip_start_timestamp`.\n",
    "\n",
    "Some sample results are shown below, where all rows correspond to the same driver (or `taxi_id`).  Take the time now to make sure that the values in the `prev_break` column make sense to you!\n",
    "\n",
    "![first_commands](https://i.imgur.com/qjvQzg8.png)\n",
    "\n",
    "Note that the first trip of the day for each driver should have a value of **NaN** (not a number) in the `prev_break` column."
   ]
  },
  {
   "cell_type": "code",
   "execution_count": 7,
   "id": "00d9be6e",
   "metadata": {
    "execution": {
     "iopub.execute_input": "2022-07-18T19:43:04.220312Z",
     "iopub.status.busy": "2022-07-18T19:43:04.219916Z",
     "iopub.status.idle": "2022-07-18T19:43:15.388807Z",
     "shell.execute_reply": "2022-07-18T19:43:15.388081Z"
    },
    "papermill": {
     "duration": 11.178724,
     "end_time": "2022-07-18T19:43:15.390844",
     "exception": false,
     "start_time": "2022-07-18T19:43:04.212120",
     "status": "completed"
    },
    "tags": []
   },
   "outputs": [
    {
     "name": "stderr",
     "output_type": "stream",
     "text": [
      "/opt/conda/lib/python3.7/site-packages/google/cloud/bigquery/client.py:440: UserWarning: Cannot create BigQuery Storage client, the dependency google-cloud-bigquery-storage is not installed.\n",
      "  \"Cannot create BigQuery Storage client, the dependency \"\n"
     ]
    },
    {
     "data": {
      "text/html": [
       "<div>\n",
       "<style scoped>\n",
       "    .dataframe tbody tr th:only-of-type {\n",
       "        vertical-align: middle;\n",
       "    }\n",
       "\n",
       "    .dataframe tbody tr th {\n",
       "        vertical-align: top;\n",
       "    }\n",
       "\n",
       "    .dataframe thead th {\n",
       "        text-align: right;\n",
       "    }\n",
       "</style>\n",
       "<table border=\"1\" class=\"dataframe\">\n",
       "  <thead>\n",
       "    <tr style=\"text-align: right;\">\n",
       "      <th></th>\n",
       "      <th>taxi_id</th>\n",
       "      <th>trip_start_timestamp</th>\n",
       "      <th>trip_end_timestamp</th>\n",
       "      <th>prev_break</th>\n",
       "    </tr>\n",
       "  </thead>\n",
       "  <tbody>\n",
       "    <tr>\n",
       "      <th>0</th>\n",
       "      <td>06388756dbbbd254abc345d0aedd83fc80d5e1c396c7b5...</td>\n",
       "      <td>2017-05-01 01:30:00+00:00</td>\n",
       "      <td>2017-05-01 01:30:00+00:00</td>\n",
       "      <td>NaN</td>\n",
       "    </tr>\n",
       "    <tr>\n",
       "      <th>1</th>\n",
       "      <td>06388756dbbbd254abc345d0aedd83fc80d5e1c396c7b5...</td>\n",
       "      <td>2017-05-01 02:15:00+00:00</td>\n",
       "      <td>2017-05-01 02:15:00+00:00</td>\n",
       "      <td>45.0</td>\n",
       "    </tr>\n",
       "    <tr>\n",
       "      <th>2</th>\n",
       "      <td>06388756dbbbd254abc345d0aedd83fc80d5e1c396c7b5...</td>\n",
       "      <td>2017-05-01 04:00:00+00:00</td>\n",
       "      <td>2017-05-01 04:00:00+00:00</td>\n",
       "      <td>105.0</td>\n",
       "    </tr>\n",
       "    <tr>\n",
       "      <th>3</th>\n",
       "      <td>06388756dbbbd254abc345d0aedd83fc80d5e1c396c7b5...</td>\n",
       "      <td>2017-05-01 04:30:00+00:00</td>\n",
       "      <td>2017-05-01 04:30:00+00:00</td>\n",
       "      <td>30.0</td>\n",
       "    </tr>\n",
       "    <tr>\n",
       "      <th>4</th>\n",
       "      <td>38da359b5809a1970dce1d6723e217590f4cd1f8e80541...</td>\n",
       "      <td>2017-05-01 01:00:00+00:00</td>\n",
       "      <td>2017-05-01 01:15:00+00:00</td>\n",
       "      <td>NaN</td>\n",
       "    </tr>\n",
       "  </tbody>\n",
       "</table>\n",
       "</div>"
      ],
      "text/plain": [
       "                                             taxi_id  \\\n",
       "0  06388756dbbbd254abc345d0aedd83fc80d5e1c396c7b5...   \n",
       "1  06388756dbbbd254abc345d0aedd83fc80d5e1c396c7b5...   \n",
       "2  06388756dbbbd254abc345d0aedd83fc80d5e1c396c7b5...   \n",
       "3  06388756dbbbd254abc345d0aedd83fc80d5e1c396c7b5...   \n",
       "4  38da359b5809a1970dce1d6723e217590f4cd1f8e80541...   \n",
       "\n",
       "       trip_start_timestamp        trip_end_timestamp  prev_break  \n",
       "0 2017-05-01 01:30:00+00:00 2017-05-01 01:30:00+00:00         NaN  \n",
       "1 2017-05-01 02:15:00+00:00 2017-05-01 02:15:00+00:00        45.0  \n",
       "2 2017-05-01 04:00:00+00:00 2017-05-01 04:00:00+00:00       105.0  \n",
       "3 2017-05-01 04:30:00+00:00 2017-05-01 04:30:00+00:00        30.0  \n",
       "4 2017-05-01 01:00:00+00:00 2017-05-01 01:15:00+00:00         NaN  "
      ]
     },
     "metadata": {},
     "output_type": "display_data"
    },
    {
     "data": {
      "application/javascript": [
       "parent.postMessage({\"jupyterEvent\": \"custom.exercise_interaction\", \"data\": {\"outcomeType\": 1, \"valueTowardsCompletion\": 0.3333333333333333, \"interactionType\": 1, \"questionType\": 2, \"questionId\": \"3_BreakTime\", \"learnToolsVersion\": \"0.3.4\", \"failureMessage\": \"\", \"exceptionClass\": \"\", \"trace\": \"\"}}, \"*\")"
      ],
      "text/plain": [
       "<IPython.core.display.Javascript object>"
      ]
     },
     "metadata": {},
     "output_type": "display_data"
    },
    {
     "data": {
      "text/markdown": [
       "<span style=\"color:#33cc33\">Correct</span>"
      ],
      "text/plain": [
       "Correct"
      ]
     },
     "metadata": {},
     "output_type": "display_data"
    }
   ],
   "source": [
    "# Fill in the blanks below\n",
    "break_time_query = \"\"\"\n",
    "                   SELECT taxi_id,\n",
    "                       trip_start_timestamp,\n",
    "                       trip_end_timestamp,\n",
    "                       TIMESTAMP_DIFF(\n",
    "                           trip_start_timestamp, \n",
    "                           LAG(trip_end_timestamp) \n",
    "                               OVER (\n",
    "                                    PARTITION BY taxi_id \n",
    "                                    ORDER BY trip_start_timestamp), \n",
    "                           MINUTE) as prev_break\n",
    "                   FROM `bigquery-public-data.chicago_taxi_trips.taxi_trips`\n",
    "                   WHERE DATE(trip_start_timestamp) = '2017-05-01' \n",
    "                   \"\"\"\n",
    "\n",
    "# Check your answer\n",
    "q_3.check()"
   ]
  },
  {
   "cell_type": "code",
   "execution_count": 8,
   "id": "59642b56",
   "metadata": {
    "execution": {
     "iopub.execute_input": "2022-07-18T19:43:15.407018Z",
     "iopub.status.busy": "2022-07-18T19:43:15.406008Z",
     "iopub.status.idle": "2022-07-18T19:43:15.410748Z",
     "shell.execute_reply": "2022-07-18T19:43:15.409595Z"
    },
    "papermill": {
     "duration": 0.015242,
     "end_time": "2022-07-18T19:43:15.413079",
     "exception": false,
     "start_time": "2022-07-18T19:43:15.397837",
     "status": "completed"
    },
    "tags": []
   },
   "outputs": [],
   "source": [
    "# Lines below will give you a hint or solution code\n",
    "#q_3.hint()\n",
    "#q_3.solution()"
   ]
  },
  {
   "cell_type": "markdown",
   "id": "68df1264",
   "metadata": {
    "papermill": {
     "duration": 0.00674,
     "end_time": "2022-07-18T19:43:15.426826",
     "exception": false,
     "start_time": "2022-07-18T19:43:15.420086",
     "status": "completed"
    },
    "tags": []
   },
   "source": [
    "# Keep going\n",
    "\n",
    "Move on to learn how to query **[nested and repeated data](https://www.kaggle.com/alexisbcook/nested-and-repeated-data)**."
   ]
  },
  {
   "cell_type": "markdown",
   "id": "3ac7fe70",
   "metadata": {
    "papermill": {
     "duration": 0.00654,
     "end_time": "2022-07-18T19:43:15.440200",
     "exception": false,
     "start_time": "2022-07-18T19:43:15.433660",
     "status": "completed"
    },
    "tags": []
   },
   "source": [
    "---\n",
    "\n",
    "\n",
    "\n",
    "\n",
    "*Have questions or comments? Visit the [course discussion forum](https://www.kaggle.com/learn/advanced-sql/discussion) to chat with other learners.*"
   ]
  }
 ],
 "metadata": {
  "kernelspec": {
   "display_name": "Python 3",
   "language": "python",
   "name": "python3"
  },
  "language_info": {
   "codemirror_mode": {
    "name": "ipython",
    "version": 3
   },
   "file_extension": ".py",
   "mimetype": "text/x-python",
   "name": "python",
   "nbconvert_exporter": "python",
   "pygments_lexer": "ipython3",
   "version": "3.7.12"
  },
  "papermill": {
   "default_parameters": {},
   "duration": 47.41192,
   "end_time": "2022-07-18T19:43:16.068270",
   "environment_variables": {},
   "exception": null,
   "input_path": "__notebook__.ipynb",
   "output_path": "__notebook__.ipynb",
   "parameters": {},
   "start_time": "2022-07-18T19:42:28.656350",
   "version": "2.3.4"
  }
 },
 "nbformat": 4,
 "nbformat_minor": 5
}
