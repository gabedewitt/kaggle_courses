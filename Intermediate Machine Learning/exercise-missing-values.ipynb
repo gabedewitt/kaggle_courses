{
 "cells": [
  {
   "cell_type": "markdown",
   "id": "f2a161ba",
   "metadata": {
    "papermill": {
     "duration": 0.01134,
     "end_time": "2022-07-06T18:28:40.331094",
     "exception": false,
     "start_time": "2022-07-06T18:28:40.319754",
     "status": "completed"
    },
    "tags": []
   },
   "source": [
    "**This notebook is an exercise in the [Intermediate Machine Learning](https://www.kaggle.com/learn/intermediate-machine-learning) course.  You can reference the tutorial at [this link](https://www.kaggle.com/alexisbcook/missing-values).**\n",
    "\n",
    "---\n"
   ]
  },
  {
   "cell_type": "markdown",
   "id": "9ae70440",
   "metadata": {
    "papermill": {
     "duration": 0.009774,
     "end_time": "2022-07-06T18:28:40.351035",
     "exception": false,
     "start_time": "2022-07-06T18:28:40.341261",
     "status": "completed"
    },
    "tags": []
   },
   "source": [
    "Now it's your turn to test your new knowledge of **missing values** handling. You'll probably find it makes a big difference.\n",
    "\n",
    "# Setup\n",
    "\n",
    "The questions will give you feedback on your work. Run the following cell to set up the feedback system."
   ]
  },
  {
   "cell_type": "code",
   "execution_count": 1,
   "id": "fcf99bb6",
   "metadata": {
    "execution": {
     "iopub.execute_input": "2022-07-06T18:28:40.374106Z",
     "iopub.status.busy": "2022-07-06T18:28:40.373343Z",
     "iopub.status.idle": "2022-07-06T18:28:40.430398Z",
     "shell.execute_reply": "2022-07-06T18:28:40.429616Z"
    },
    "papermill": {
     "duration": 0.071474,
     "end_time": "2022-07-06T18:28:40.432950",
     "exception": false,
     "start_time": "2022-07-06T18:28:40.361476",
     "status": "completed"
    },
    "tags": []
   },
   "outputs": [
    {
     "name": "stdout",
     "output_type": "stream",
     "text": [
      "Setup Complete\n"
     ]
    }
   ],
   "source": [
    "# Set up code checking\n",
    "import os\n",
    "if not os.path.exists(\"../input/train.csv\"):\n",
    "    os.symlink(\"../input/home-data-for-ml-course/train.csv\", \"../input/train.csv\")  \n",
    "    os.symlink(\"../input/home-data-for-ml-course/test.csv\", \"../input/test.csv\") \n",
    "from learntools.core import binder\n",
    "binder.bind(globals())\n",
    "from learntools.ml_intermediate.ex2 import *\n",
    "print(\"Setup Complete\")"
   ]
  },
  {
   "cell_type": "markdown",
   "id": "e8459cae",
   "metadata": {
    "papermill": {
     "duration": 0.010011,
     "end_time": "2022-07-06T18:28:40.453038",
     "exception": false,
     "start_time": "2022-07-06T18:28:40.443027",
     "status": "completed"
    },
    "tags": []
   },
   "source": [
    "In this exercise, you will work with data from the [Housing Prices Competition for Kaggle Learn Users](https://www.kaggle.com/c/home-data-for-ml-course). \n",
    "\n",
    "![Ames Housing dataset image](https://i.imgur.com/lTJVG4e.png)\n",
    "\n",
    "Run the next code cell without changes to load the training and validation sets in `X_train`, `X_valid`, `y_train`, and `y_valid`.  The test set is loaded in `X_test`."
   ]
  },
  {
   "cell_type": "code",
   "execution_count": 2,
   "id": "662af788",
   "metadata": {
    "execution": {
     "iopub.execute_input": "2022-07-06T18:28:40.475204Z",
     "iopub.status.busy": "2022-07-06T18:28:40.474822Z",
     "iopub.status.idle": "2022-07-06T18:28:41.612111Z",
     "shell.execute_reply": "2022-07-06T18:28:41.611110Z"
    },
    "papermill": {
     "duration": 1.151856,
     "end_time": "2022-07-06T18:28:41.615062",
     "exception": false,
     "start_time": "2022-07-06T18:28:40.463206",
     "status": "completed"
    },
    "tags": []
   },
   "outputs": [],
   "source": [
    "import pandas as pd\n",
    "from sklearn.model_selection import train_test_split\n",
    "\n",
    "# Read the data\n",
    "X_full = pd.read_csv('../input/train.csv', index_col='Id')\n",
    "X_test_full = pd.read_csv('../input/test.csv', index_col='Id')\n",
    "\n",
    "# Remove rows with missing target, separate target from predictors\n",
    "X_full.dropna(axis=0, subset=['SalePrice'], inplace=True)\n",
    "y = X_full.SalePrice\n",
    "X_full.drop(['SalePrice'], axis=1, inplace=True)\n",
    "\n",
    "# To keep things simple, we'll use only numerical predictors\n",
    "X = X_full.select_dtypes(exclude=['object'])\n",
    "X_test = X_test_full.select_dtypes(exclude=['object'])\n",
    "\n",
    "# Break off validation set from training data\n",
    "X_train, X_valid, y_train, y_valid = train_test_split(X, y, train_size=0.8, test_size=0.2,\n",
    "                                                      random_state=0)"
   ]
  },
  {
   "cell_type": "markdown",
   "id": "2b9c1afe",
   "metadata": {
    "papermill": {
     "duration": 0.009945,
     "end_time": "2022-07-06T18:28:41.635440",
     "exception": false,
     "start_time": "2022-07-06T18:28:41.625495",
     "status": "completed"
    },
    "tags": []
   },
   "source": [
    "Use the next code cell to print the first five rows of the data."
   ]
  },
  {
   "cell_type": "code",
   "execution_count": 3,
   "id": "6104a658",
   "metadata": {
    "execution": {
     "iopub.execute_input": "2022-07-06T18:28:41.657805Z",
     "iopub.status.busy": "2022-07-06T18:28:41.657394Z",
     "iopub.status.idle": "2022-07-06T18:28:41.686658Z",
     "shell.execute_reply": "2022-07-06T18:28:41.685573Z"
    },
    "papermill": {
     "duration": 0.043245,
     "end_time": "2022-07-06T18:28:41.689138",
     "exception": false,
     "start_time": "2022-07-06T18:28:41.645893",
     "status": "completed"
    },
    "tags": []
   },
   "outputs": [
    {
     "data": {
      "text/html": [
       "<div>\n",
       "<style scoped>\n",
       "    .dataframe tbody tr th:only-of-type {\n",
       "        vertical-align: middle;\n",
       "    }\n",
       "\n",
       "    .dataframe tbody tr th {\n",
       "        vertical-align: top;\n",
       "    }\n",
       "\n",
       "    .dataframe thead th {\n",
       "        text-align: right;\n",
       "    }\n",
       "</style>\n",
       "<table border=\"1\" class=\"dataframe\">\n",
       "  <thead>\n",
       "    <tr style=\"text-align: right;\">\n",
       "      <th></th>\n",
       "      <th>MSSubClass</th>\n",
       "      <th>LotFrontage</th>\n",
       "      <th>LotArea</th>\n",
       "      <th>OverallQual</th>\n",
       "      <th>OverallCond</th>\n",
       "      <th>YearBuilt</th>\n",
       "      <th>YearRemodAdd</th>\n",
       "      <th>MasVnrArea</th>\n",
       "      <th>BsmtFinSF1</th>\n",
       "      <th>BsmtFinSF2</th>\n",
       "      <th>...</th>\n",
       "      <th>GarageArea</th>\n",
       "      <th>WoodDeckSF</th>\n",
       "      <th>OpenPorchSF</th>\n",
       "      <th>EnclosedPorch</th>\n",
       "      <th>3SsnPorch</th>\n",
       "      <th>ScreenPorch</th>\n",
       "      <th>PoolArea</th>\n",
       "      <th>MiscVal</th>\n",
       "      <th>MoSold</th>\n",
       "      <th>YrSold</th>\n",
       "    </tr>\n",
       "    <tr>\n",
       "      <th>Id</th>\n",
       "      <th></th>\n",
       "      <th></th>\n",
       "      <th></th>\n",
       "      <th></th>\n",
       "      <th></th>\n",
       "      <th></th>\n",
       "      <th></th>\n",
       "      <th></th>\n",
       "      <th></th>\n",
       "      <th></th>\n",
       "      <th></th>\n",
       "      <th></th>\n",
       "      <th></th>\n",
       "      <th></th>\n",
       "      <th></th>\n",
       "      <th></th>\n",
       "      <th></th>\n",
       "      <th></th>\n",
       "      <th></th>\n",
       "      <th></th>\n",
       "      <th></th>\n",
       "    </tr>\n",
       "  </thead>\n",
       "  <tbody>\n",
       "    <tr>\n",
       "      <th>619</th>\n",
       "      <td>20</td>\n",
       "      <td>90.0</td>\n",
       "      <td>11694</td>\n",
       "      <td>9</td>\n",
       "      <td>5</td>\n",
       "      <td>2007</td>\n",
       "      <td>2007</td>\n",
       "      <td>452.0</td>\n",
       "      <td>48</td>\n",
       "      <td>0</td>\n",
       "      <td>...</td>\n",
       "      <td>774</td>\n",
       "      <td>0</td>\n",
       "      <td>108</td>\n",
       "      <td>0</td>\n",
       "      <td>0</td>\n",
       "      <td>260</td>\n",
       "      <td>0</td>\n",
       "      <td>0</td>\n",
       "      <td>7</td>\n",
       "      <td>2007</td>\n",
       "    </tr>\n",
       "    <tr>\n",
       "      <th>871</th>\n",
       "      <td>20</td>\n",
       "      <td>60.0</td>\n",
       "      <td>6600</td>\n",
       "      <td>5</td>\n",
       "      <td>5</td>\n",
       "      <td>1962</td>\n",
       "      <td>1962</td>\n",
       "      <td>0.0</td>\n",
       "      <td>0</td>\n",
       "      <td>0</td>\n",
       "      <td>...</td>\n",
       "      <td>308</td>\n",
       "      <td>0</td>\n",
       "      <td>0</td>\n",
       "      <td>0</td>\n",
       "      <td>0</td>\n",
       "      <td>0</td>\n",
       "      <td>0</td>\n",
       "      <td>0</td>\n",
       "      <td>8</td>\n",
       "      <td>2009</td>\n",
       "    </tr>\n",
       "    <tr>\n",
       "      <th>93</th>\n",
       "      <td>30</td>\n",
       "      <td>80.0</td>\n",
       "      <td>13360</td>\n",
       "      <td>5</td>\n",
       "      <td>7</td>\n",
       "      <td>1921</td>\n",
       "      <td>2006</td>\n",
       "      <td>0.0</td>\n",
       "      <td>713</td>\n",
       "      <td>0</td>\n",
       "      <td>...</td>\n",
       "      <td>432</td>\n",
       "      <td>0</td>\n",
       "      <td>0</td>\n",
       "      <td>44</td>\n",
       "      <td>0</td>\n",
       "      <td>0</td>\n",
       "      <td>0</td>\n",
       "      <td>0</td>\n",
       "      <td>8</td>\n",
       "      <td>2009</td>\n",
       "    </tr>\n",
       "    <tr>\n",
       "      <th>818</th>\n",
       "      <td>20</td>\n",
       "      <td>NaN</td>\n",
       "      <td>13265</td>\n",
       "      <td>8</td>\n",
       "      <td>5</td>\n",
       "      <td>2002</td>\n",
       "      <td>2002</td>\n",
       "      <td>148.0</td>\n",
       "      <td>1218</td>\n",
       "      <td>0</td>\n",
       "      <td>...</td>\n",
       "      <td>857</td>\n",
       "      <td>150</td>\n",
       "      <td>59</td>\n",
       "      <td>0</td>\n",
       "      <td>0</td>\n",
       "      <td>0</td>\n",
       "      <td>0</td>\n",
       "      <td>0</td>\n",
       "      <td>7</td>\n",
       "      <td>2008</td>\n",
       "    </tr>\n",
       "    <tr>\n",
       "      <th>303</th>\n",
       "      <td>20</td>\n",
       "      <td>118.0</td>\n",
       "      <td>13704</td>\n",
       "      <td>7</td>\n",
       "      <td>5</td>\n",
       "      <td>2001</td>\n",
       "      <td>2002</td>\n",
       "      <td>150.0</td>\n",
       "      <td>0</td>\n",
       "      <td>0</td>\n",
       "      <td>...</td>\n",
       "      <td>843</td>\n",
       "      <td>468</td>\n",
       "      <td>81</td>\n",
       "      <td>0</td>\n",
       "      <td>0</td>\n",
       "      <td>0</td>\n",
       "      <td>0</td>\n",
       "      <td>0</td>\n",
       "      <td>1</td>\n",
       "      <td>2006</td>\n",
       "    </tr>\n",
       "  </tbody>\n",
       "</table>\n",
       "<p>5 rows × 36 columns</p>\n",
       "</div>"
      ],
      "text/plain": [
       "     MSSubClass  LotFrontage  LotArea  OverallQual  OverallCond  YearBuilt  \\\n",
       "Id                                                                           \n",
       "619          20         90.0    11694            9            5       2007   \n",
       "871          20         60.0     6600            5            5       1962   \n",
       "93           30         80.0    13360            5            7       1921   \n",
       "818          20          NaN    13265            8            5       2002   \n",
       "303          20        118.0    13704            7            5       2001   \n",
       "\n",
       "     YearRemodAdd  MasVnrArea  BsmtFinSF1  BsmtFinSF2  ...  GarageArea  \\\n",
       "Id                                                     ...               \n",
       "619          2007       452.0          48           0  ...         774   \n",
       "871          1962         0.0           0           0  ...         308   \n",
       "93           2006         0.0         713           0  ...         432   \n",
       "818          2002       148.0        1218           0  ...         857   \n",
       "303          2002       150.0           0           0  ...         843   \n",
       "\n",
       "     WoodDeckSF  OpenPorchSF  EnclosedPorch  3SsnPorch  ScreenPorch  PoolArea  \\\n",
       "Id                                                                              \n",
       "619           0          108              0          0          260         0   \n",
       "871           0            0              0          0            0         0   \n",
       "93            0            0             44          0            0         0   \n",
       "818         150           59              0          0            0         0   \n",
       "303         468           81              0          0            0         0   \n",
       "\n",
       "     MiscVal  MoSold  YrSold  \n",
       "Id                            \n",
       "619        0       7    2007  \n",
       "871        0       8    2009  \n",
       "93         0       8    2009  \n",
       "818        0       7    2008  \n",
       "303        0       1    2006  \n",
       "\n",
       "[5 rows x 36 columns]"
      ]
     },
     "execution_count": 3,
     "metadata": {},
     "output_type": "execute_result"
    }
   ],
   "source": [
    "X_train.head()"
   ]
  },
  {
   "cell_type": "markdown",
   "id": "4506a3ab",
   "metadata": {
    "papermill": {
     "duration": 0.01015,
     "end_time": "2022-07-06T18:28:41.709995",
     "exception": false,
     "start_time": "2022-07-06T18:28:41.699845",
     "status": "completed"
    },
    "tags": []
   },
   "source": [
    "You can already see a few missing values in the first several rows.  In the next step, you'll obtain a more comprehensive understanding of the missing values in the dataset.\n",
    "\n",
    "# Step 1: Preliminary investigation\n",
    "\n",
    "Run the code cell below without changes."
   ]
  },
  {
   "cell_type": "code",
   "execution_count": 4,
   "id": "d8043c9f",
   "metadata": {
    "execution": {
     "iopub.execute_input": "2022-07-06T18:28:41.733322Z",
     "iopub.status.busy": "2022-07-06T18:28:41.732926Z",
     "iopub.status.idle": "2022-07-06T18:28:41.741451Z",
     "shell.execute_reply": "2022-07-06T18:28:41.740401Z"
    },
    "papermill": {
     "duration": 0.022699,
     "end_time": "2022-07-06T18:28:41.743887",
     "exception": false,
     "start_time": "2022-07-06T18:28:41.721188",
     "status": "completed"
    },
    "tags": []
   },
   "outputs": [
    {
     "name": "stdout",
     "output_type": "stream",
     "text": [
      "(1168, 36)\n",
      "LotFrontage    212\n",
      "MasVnrArea       6\n",
      "GarageYrBlt     58\n",
      "dtype: int64\n"
     ]
    }
   ],
   "source": [
    "# Shape of training data (num_rows, num_columns)\n",
    "print(X_train.shape)\n",
    "\n",
    "# Number of missing values in each column of training data\n",
    "missing_val_count_by_column = (X_train.isnull().sum())\n",
    "print(missing_val_count_by_column[missing_val_count_by_column > 0])"
   ]
  },
  {
   "cell_type": "markdown",
   "id": "5e4a23ad",
   "metadata": {
    "papermill": {
     "duration": 0.010402,
     "end_time": "2022-07-06T18:28:41.765059",
     "exception": false,
     "start_time": "2022-07-06T18:28:41.754657",
     "status": "completed"
    },
    "tags": []
   },
   "source": [
    "### Part A\n",
    "\n",
    "Use the above output to answer the questions below."
   ]
  },
  {
   "cell_type": "code",
   "execution_count": 5,
   "id": "8cfadeca",
   "metadata": {
    "execution": {
     "iopub.execute_input": "2022-07-06T18:28:41.788354Z",
     "iopub.status.busy": "2022-07-06T18:28:41.787709Z",
     "iopub.status.idle": "2022-07-06T18:28:41.805823Z",
     "shell.execute_reply": "2022-07-06T18:28:41.804763Z"
    },
    "papermill": {
     "duration": 0.032417,
     "end_time": "2022-07-06T18:28:41.808025",
     "exception": false,
     "start_time": "2022-07-06T18:28:41.775608",
     "status": "completed"
    },
    "tags": []
   },
   "outputs": [
    {
     "name": "stdout",
     "output_type": "stream",
     "text": [
      "1168\n",
      "3\n",
      "276\n"
     ]
    },
    {
     "data": {
      "application/javascript": [
       "parent.postMessage({\"jupyterEvent\": \"custom.exercise_interaction\", \"data\": {\"outcomeType\": 1, \"valueTowardsCompletion\": 1.0, \"interactionType\": 1, \"questionType\": 1, \"questionId\": \"1.1_InvestigateEquality\", \"learnToolsVersion\": \"0.3.4\", \"failureMessage\": \"\", \"exceptionClass\": \"\", \"trace\": \"\"}}, \"*\")"
      ],
      "text/plain": [
       "<IPython.core.display.Javascript object>"
      ]
     },
     "metadata": {},
     "output_type": "display_data"
    },
    {
     "data": {
      "text/markdown": [
       "<span style=\"color:#33cc33\">Correct</span>"
      ],
      "text/plain": [
       "Correct"
      ]
     },
     "metadata": {},
     "output_type": "display_data"
    }
   ],
   "source": [
    "# Fill in the line below: How many rows are in the training data?\n",
    "num_rows = X_train.shape[0]\n",
    "print(num_rows)\n",
    "# Fill in the line below: How many columns in the training data\n",
    "# have missing values?\n",
    "num_cols_with_missing = len([col for col in X_train.columns\n",
    "                     if X_train[col].isnull().any()])\n",
    "print(num_cols_with_missing)\n",
    "# Fill in the line below: How many missing entries are contained in \n",
    "# all of the training data?\n",
    "tot_missing = sum(missing_val_count_by_column)\n",
    "print(tot_missing)\n",
    "# Check your answers\n",
    "step_1.a.check()"
   ]
  },
  {
   "cell_type": "code",
   "execution_count": 6,
   "id": "84b5e9af",
   "metadata": {
    "execution": {
     "iopub.execute_input": "2022-07-06T18:28:41.831587Z",
     "iopub.status.busy": "2022-07-06T18:28:41.831229Z",
     "iopub.status.idle": "2022-07-06T18:28:41.836093Z",
     "shell.execute_reply": "2022-07-06T18:28:41.834760Z"
    },
    "papermill": {
     "duration": 0.019289,
     "end_time": "2022-07-06T18:28:41.838380",
     "exception": false,
     "start_time": "2022-07-06T18:28:41.819091",
     "status": "completed"
    },
    "tags": []
   },
   "outputs": [],
   "source": [
    "# Lines below will give you a hint or solution code\n",
    "#step_1.a.hint()\n",
    "#step_1.a.solution()"
   ]
  },
  {
   "cell_type": "markdown",
   "id": "67fb6510",
   "metadata": {
    "papermill": {
     "duration": 0.01064,
     "end_time": "2022-07-06T18:28:41.859846",
     "exception": false,
     "start_time": "2022-07-06T18:28:41.849206",
     "status": "completed"
    },
    "tags": []
   },
   "source": [
    "### Part B\n",
    "Considering your answers above, what do you think is likely the best approach to dealing with the missing values?"
   ]
  },
  {
   "cell_type": "markdown",
   "id": "6ed042a5",
   "metadata": {
    "papermill": {
     "duration": 0.010407,
     "end_time": "2022-07-06T18:28:41.880970",
     "exception": false,
     "start_time": "2022-07-06T18:28:41.870563",
     "status": "completed"
    },
    "tags": []
   },
   "source": [
    "Probably imputing values to the rows that are missing."
   ]
  },
  {
   "cell_type": "code",
   "execution_count": 7,
   "id": "c5b5a9a2",
   "metadata": {
    "execution": {
     "iopub.execute_input": "2022-07-06T18:28:41.903937Z",
     "iopub.status.busy": "2022-07-06T18:28:41.903506Z",
     "iopub.status.idle": "2022-07-06T18:28:41.912620Z",
     "shell.execute_reply": "2022-07-06T18:28:41.911515Z"
    },
    "papermill": {
     "duration": 0.023199,
     "end_time": "2022-07-06T18:28:41.914868",
     "exception": false,
     "start_time": "2022-07-06T18:28:41.891669",
     "status": "completed"
    },
    "tags": []
   },
   "outputs": [
    {
     "data": {
      "application/javascript": [
       "parent.postMessage({\"jupyterEvent\": \"custom.exercise_interaction\", \"data\": {\"outcomeType\": 1, \"valueTowardsCompletion\": 1.0, \"interactionType\": 1, \"questionType\": 4, \"questionId\": \"1.2_InvestigateThought\", \"learnToolsVersion\": \"0.3.4\", \"failureMessage\": \"\", \"exceptionClass\": \"\", \"trace\": \"\"}}, \"*\")"
      ],
      "text/plain": [
       "<IPython.core.display.Javascript object>"
      ]
     },
     "metadata": {},
     "output_type": "display_data"
    },
    {
     "data": {
      "text/markdown": [
       "<span style=\"color:#33cc33\">Correct:</span> \n",
       "\n",
       "Since there are relatively few missing entries in the data (the column with the greatest percentage of missing values is missing less than 20% of its entries), we can expect that dropping columns is unlikely to yield good results.  This is because we'd be throwing away a lot of valuable data, and so imputation will likely perform better."
      ],
      "text/plain": [
       "Correct: \n",
       "\n",
       "Since there are relatively few missing entries in the data (the column with the greatest percentage of missing values is missing less than 20% of its entries), we can expect that dropping columns is unlikely to yield good results.  This is because we'd be throwing away a lot of valuable data, and so imputation will likely perform better."
      ]
     },
     "metadata": {},
     "output_type": "display_data"
    }
   ],
   "source": [
    "# Check your answer (Run this code cell to receive credit!)\n",
    "step_1.b.check()"
   ]
  },
  {
   "cell_type": "code",
   "execution_count": 8,
   "id": "7c72834b",
   "metadata": {
    "execution": {
     "iopub.execute_input": "2022-07-06T18:28:41.939299Z",
     "iopub.status.busy": "2022-07-06T18:28:41.938665Z",
     "iopub.status.idle": "2022-07-06T18:28:41.943304Z",
     "shell.execute_reply": "2022-07-06T18:28:41.942435Z"
    },
    "papermill": {
     "duration": 0.019192,
     "end_time": "2022-07-06T18:28:41.945442",
     "exception": false,
     "start_time": "2022-07-06T18:28:41.926250",
     "status": "completed"
    },
    "tags": []
   },
   "outputs": [],
   "source": [
    "#step_1.b.hint()"
   ]
  },
  {
   "cell_type": "markdown",
   "id": "34cf9aa5",
   "metadata": {
    "papermill": {
     "duration": 0.010672,
     "end_time": "2022-07-06T18:28:41.967240",
     "exception": false,
     "start_time": "2022-07-06T18:28:41.956568",
     "status": "completed"
    },
    "tags": []
   },
   "source": [
    "To compare different approaches to dealing with missing values, you'll use the same `score_dataset()` function from the tutorial.  This function reports the [mean absolute error](https://en.wikipedia.org/wiki/Mean_absolute_error) (MAE) from a random forest model."
   ]
  },
  {
   "cell_type": "code",
   "execution_count": 9,
   "id": "91551c2f",
   "metadata": {
    "execution": {
     "iopub.execute_input": "2022-07-06T18:28:41.991495Z",
     "iopub.status.busy": "2022-07-06T18:28:41.990815Z",
     "iopub.status.idle": "2022-07-06T18:28:42.203601Z",
     "shell.execute_reply": "2022-07-06T18:28:42.202370Z"
    },
    "papermill": {
     "duration": 0.228177,
     "end_time": "2022-07-06T18:28:42.206409",
     "exception": false,
     "start_time": "2022-07-06T18:28:41.978232",
     "status": "completed"
    },
    "tags": []
   },
   "outputs": [],
   "source": [
    "from sklearn.ensemble import RandomForestRegressor\n",
    "from sklearn.metrics import mean_absolute_error\n",
    "\n",
    "# Function for comparing different approaches\n",
    "def score_dataset(X_train, X_valid, y_train, y_valid):\n",
    "    model = RandomForestRegressor(n_estimators=100, random_state=0)\n",
    "    model.fit(X_train, y_train)\n",
    "    preds = model.predict(X_valid)\n",
    "    return mean_absolute_error(y_valid, preds)"
   ]
  },
  {
   "cell_type": "markdown",
   "id": "4be9d9ab",
   "metadata": {
    "papermill": {
     "duration": 0.011669,
     "end_time": "2022-07-06T18:28:42.229978",
     "exception": false,
     "start_time": "2022-07-06T18:28:42.218309",
     "status": "completed"
    },
    "tags": []
   },
   "source": [
    "# Step 2: Drop columns with missing values\n",
    "\n",
    "In this step, you'll preprocess the data in `X_train` and `X_valid` to remove columns with missing values.  Set the preprocessed DataFrames to `reduced_X_train` and `reduced_X_valid`, respectively.  "
   ]
  },
  {
   "cell_type": "code",
   "execution_count": 10,
   "id": "d40d7ba2",
   "metadata": {
    "execution": {
     "iopub.execute_input": "2022-07-06T18:28:42.254653Z",
     "iopub.status.busy": "2022-07-06T18:28:42.254269Z",
     "iopub.status.idle": "2022-07-06T18:28:42.283077Z",
     "shell.execute_reply": "2022-07-06T18:28:42.281972Z"
    },
    "papermill": {
     "duration": 0.043637,
     "end_time": "2022-07-06T18:28:42.285391",
     "exception": false,
     "start_time": "2022-07-06T18:28:42.241754",
     "status": "completed"
    },
    "tags": []
   },
   "outputs": [
    {
     "data": {
      "application/javascript": [
       "parent.postMessage({\"jupyterEvent\": \"custom.exercise_interaction\", \"data\": {\"outcomeType\": 1, \"valueTowardsCompletion\": 1.0, \"interactionType\": 1, \"questionType\": 2, \"questionId\": \"2_DropMissing\", \"learnToolsVersion\": \"0.3.4\", \"failureMessage\": \"\", \"exceptionClass\": \"\", \"trace\": \"\"}}, \"*\")"
      ],
      "text/plain": [
       "<IPython.core.display.Javascript object>"
      ]
     },
     "metadata": {},
     "output_type": "display_data"
    },
    {
     "data": {
      "text/markdown": [
       "<span style=\"color:#33cc33\">Correct</span>"
      ],
      "text/plain": [
       "Correct"
      ]
     },
     "metadata": {},
     "output_type": "display_data"
    }
   ],
   "source": [
    "# Fill in the line below: get names of columns with missing values\n",
    "col_missing_values = [col for col in X_train.columns\n",
    "                     if X_train[col].isnull().any()] # Your code here\n",
    "\n",
    "# Fill in the lines below: drop columns in training and validation data\n",
    "reduced_X_train = X_train.drop(col_missing_values, axis = 1)\n",
    "reduced_X_valid = X_valid.drop(col_missing_values, axis = 1)\n",
    "\n",
    "# Check your answers\n",
    "step_2.check()"
   ]
  },
  {
   "cell_type": "code",
   "execution_count": 11,
   "id": "2e1e0e67",
   "metadata": {
    "execution": {
     "iopub.execute_input": "2022-07-06T18:28:42.310631Z",
     "iopub.status.busy": "2022-07-06T18:28:42.309895Z",
     "iopub.status.idle": "2022-07-06T18:28:42.314432Z",
     "shell.execute_reply": "2022-07-06T18:28:42.313611Z"
    },
    "papermill": {
     "duration": 0.019565,
     "end_time": "2022-07-06T18:28:42.316579",
     "exception": false,
     "start_time": "2022-07-06T18:28:42.297014",
     "status": "completed"
    },
    "tags": []
   },
   "outputs": [],
   "source": [
    "# Lines below will give you a hint or solution code\n",
    "#step_2.hint()\n",
    "#step_2.solution()"
   ]
  },
  {
   "cell_type": "markdown",
   "id": "6f59588b",
   "metadata": {
    "papermill": {
     "duration": 0.011231,
     "end_time": "2022-07-06T18:28:42.339205",
     "exception": false,
     "start_time": "2022-07-06T18:28:42.327974",
     "status": "completed"
    },
    "tags": []
   },
   "source": [
    "Run the next code cell without changes to obtain the MAE for this approach."
   ]
  },
  {
   "cell_type": "code",
   "execution_count": 12,
   "id": "f441c7e1",
   "metadata": {
    "execution": {
     "iopub.execute_input": "2022-07-06T18:28:42.364553Z",
     "iopub.status.busy": "2022-07-06T18:28:42.363814Z",
     "iopub.status.idle": "2022-07-06T18:28:43.486873Z",
     "shell.execute_reply": "2022-07-06T18:28:43.485494Z"
    },
    "papermill": {
     "duration": 1.140511,
     "end_time": "2022-07-06T18:28:43.491310",
     "exception": false,
     "start_time": "2022-07-06T18:28:42.350799",
     "status": "completed"
    },
    "tags": []
   },
   "outputs": [
    {
     "name": "stdout",
     "output_type": "stream",
     "text": [
      "MAE (Drop columns with missing values):\n",
      "17837.82570776256\n"
     ]
    }
   ],
   "source": [
    "print(\"MAE (Drop columns with missing values):\")\n",
    "print(score_dataset(reduced_X_train, reduced_X_valid, y_train, y_valid))"
   ]
  },
  {
   "cell_type": "markdown",
   "id": "51a79ea5",
   "metadata": {
    "papermill": {
     "duration": 0.011474,
     "end_time": "2022-07-06T18:28:43.515541",
     "exception": false,
     "start_time": "2022-07-06T18:28:43.504067",
     "status": "completed"
    },
    "tags": []
   },
   "source": [
    "# Step 3: Imputation\n",
    "\n",
    "### Part A\n",
    "\n",
    "Use the next code cell to impute missing values with the mean value along each column.  Set the preprocessed DataFrames to `imputed_X_train` and `imputed_X_valid`.  Make sure that the column names match those in `X_train` and `X_valid`."
   ]
  },
  {
   "cell_type": "code",
   "execution_count": 13,
   "id": "4774e80e",
   "metadata": {
    "execution": {
     "iopub.execute_input": "2022-07-06T18:28:43.541517Z",
     "iopub.status.busy": "2022-07-06T18:28:43.540746Z",
     "iopub.status.idle": "2022-07-06T18:28:43.576763Z",
     "shell.execute_reply": "2022-07-06T18:28:43.575606Z"
    },
    "papermill": {
     "duration": 0.051658,
     "end_time": "2022-07-06T18:28:43.579075",
     "exception": false,
     "start_time": "2022-07-06T18:28:43.527417",
     "status": "completed"
    },
    "tags": []
   },
   "outputs": [
    {
     "data": {
      "application/javascript": [
       "parent.postMessage({\"jupyterEvent\": \"custom.exercise_interaction\", \"data\": {\"outcomeType\": 1, \"valueTowardsCompletion\": 1.0, \"interactionType\": 1, \"questionType\": 2, \"questionId\": \"3.1_ImputeCode\", \"learnToolsVersion\": \"0.3.4\", \"failureMessage\": \"\", \"exceptionClass\": \"\", \"trace\": \"\"}}, \"*\")"
      ],
      "text/plain": [
       "<IPython.core.display.Javascript object>"
      ]
     },
     "metadata": {},
     "output_type": "display_data"
    },
    {
     "data": {
      "text/markdown": [
       "<span style=\"color:#33cc33\">Correct</span>"
      ],
      "text/plain": [
       "Correct"
      ]
     },
     "metadata": {},
     "output_type": "display_data"
    }
   ],
   "source": [
    "from sklearn.impute import SimpleImputer\n",
    "import numpy as np\n",
    "# Fill in the lines below: imputation\n",
    "my_imputer = SimpleImputer() # Your code here\n",
    "imputed_X_train = pd.DataFrame(my_imputer.fit_transform(X_train))\n",
    "imputed_X_valid = pd.DataFrame(my_imputer.transform(X_valid))\n",
    "\n",
    "# Fill in the lines below: imputation removed column names; put them back\n",
    "imputed_X_train.columns = X_train.columns\n",
    "imputed_X_valid.columns = X_valid.columns\n",
    "\n",
    "# Check your answers\n",
    "step_3.a.check()"
   ]
  },
  {
   "cell_type": "code",
   "execution_count": 14,
   "id": "2930192b",
   "metadata": {
    "execution": {
     "iopub.execute_input": "2022-07-06T18:28:43.605049Z",
     "iopub.status.busy": "2022-07-06T18:28:43.604343Z",
     "iopub.status.idle": "2022-07-06T18:28:43.608715Z",
     "shell.execute_reply": "2022-07-06T18:28:43.607989Z"
    },
    "papermill": {
     "duration": 0.019713,
     "end_time": "2022-07-06T18:28:43.610887",
     "exception": false,
     "start_time": "2022-07-06T18:28:43.591174",
     "status": "completed"
    },
    "tags": []
   },
   "outputs": [],
   "source": [
    "# Lines below will give you a hint or solution code\n",
    "#step_3.a.hint()\n",
    "#step_3.a.solution()"
   ]
  },
  {
   "cell_type": "markdown",
   "id": "4ea1dc7f",
   "metadata": {
    "papermill": {
     "duration": 0.011591,
     "end_time": "2022-07-06T18:28:43.634417",
     "exception": false,
     "start_time": "2022-07-06T18:28:43.622826",
     "status": "completed"
    },
    "tags": []
   },
   "source": [
    "Run the next code cell without changes to obtain the MAE for this approach."
   ]
  },
  {
   "cell_type": "code",
   "execution_count": 15,
   "id": "4ff27fa5",
   "metadata": {
    "execution": {
     "iopub.execute_input": "2022-07-06T18:28:43.660466Z",
     "iopub.status.busy": "2022-07-06T18:28:43.659703Z",
     "iopub.status.idle": "2022-07-06T18:28:44.887753Z",
     "shell.execute_reply": "2022-07-06T18:28:44.886208Z"
    },
    "papermill": {
     "duration": 1.244013,
     "end_time": "2022-07-06T18:28:44.890382",
     "exception": false,
     "start_time": "2022-07-06T18:28:43.646369",
     "status": "completed"
    },
    "tags": []
   },
   "outputs": [
    {
     "name": "stdout",
     "output_type": "stream",
     "text": [
      "MAE (Imputation):\n",
      "18062.894611872147\n"
     ]
    }
   ],
   "source": [
    "print(\"MAE (Imputation):\")\n",
    "print(score_dataset(imputed_X_train, imputed_X_valid, y_train, y_valid))"
   ]
  },
  {
   "cell_type": "markdown",
   "id": "401bab8f",
   "metadata": {
    "papermill": {
     "duration": 0.012055,
     "end_time": "2022-07-06T18:28:44.914616",
     "exception": false,
     "start_time": "2022-07-06T18:28:44.902561",
     "status": "completed"
    },
    "tags": []
   },
   "source": [
    "### Part B\n",
    "\n",
    "Compare the MAE from each approach.  Does anything surprise you about the results?  Why do you think one approach performed better than the other?"
   ]
  },
  {
   "cell_type": "markdown",
   "id": "e03eeba8",
   "metadata": {
    "papermill": {
     "duration": 0.011896,
     "end_time": "2022-07-06T18:28:44.938780",
     "exception": false,
     "start_time": "2022-07-06T18:28:44.926884",
     "status": "completed"
    },
    "tags": []
   },
   "source": [
    "It was expected the imputation mathod to perform better, however dropping the columns did perform better; maybe that's due to the fact that the imputation that was performed was based on the mean of every individual numeric column and not every column is in fact continuous, some have years that are discrete variables and the mean might not be the best value to be imputed, maybe the mode or median might perform better."
   ]
  },
  {
   "cell_type": "code",
   "execution_count": 16,
   "id": "f23f6393",
   "metadata": {
    "execution": {
     "iopub.execute_input": "2022-07-06T18:28:44.965119Z",
     "iopub.status.busy": "2022-07-06T18:28:44.964694Z",
     "iopub.status.idle": "2022-07-06T18:28:44.973610Z",
     "shell.execute_reply": "2022-07-06T18:28:44.972547Z"
    },
    "papermill": {
     "duration": 0.024744,
     "end_time": "2022-07-06T18:28:44.975894",
     "exception": false,
     "start_time": "2022-07-06T18:28:44.951150",
     "status": "completed"
    },
    "tags": []
   },
   "outputs": [
    {
     "data": {
      "application/javascript": [
       "parent.postMessage({\"jupyterEvent\": \"custom.exercise_interaction\", \"data\": {\"outcomeType\": 1, \"valueTowardsCompletion\": 1.0, \"interactionType\": 1, \"questionType\": 4, \"questionId\": \"3.2_ImputeThought\", \"learnToolsVersion\": \"0.3.4\", \"failureMessage\": \"\", \"exceptionClass\": \"\", \"trace\": \"\"}}, \"*\")"
      ],
      "text/plain": [
       "<IPython.core.display.Javascript object>"
      ]
     },
     "metadata": {},
     "output_type": "display_data"
    },
    {
     "data": {
      "text/markdown": [
       "<span style=\"color:#33cc33\">Correct:</span> \n",
       "\n",
       "Given that thre are so few missing values in the dataset, we'd expect imputation to perform better than dropping columns entirely.  However, we see that dropping columns performs slightly better!  While this can probably partially be attributed to noise in the dataset, another potential explanation is that the imputation method is not a great match to this dataset.  That is, maybe instead of filling in the mean value, it makes more sense to set every missing value to a value of 0, to fill in the most frequently encountered value, or to use some other method.  For instance, consider the `GarageYrBlt` column (which indicates the year that the garage was built).  It's likely that in some cases, a missing value could indicate a house that does not have a garage.  Does it make more sense to fill in the median value along each column in this case?  Or could we get better results by filling in the minimum value along each column?  It's not quite clear what's best in this case, but perhaps we can rule out some options immediately - for instance, setting missing values in this column to 0 is likely to yield horrible results!"
      ],
      "text/plain": [
       "Correct: \n",
       "\n",
       "Given that thre are so few missing values in the dataset, we'd expect imputation to perform better than dropping columns entirely.  However, we see that dropping columns performs slightly better!  While this can probably partially be attributed to noise in the dataset, another potential explanation is that the imputation method is not a great match to this dataset.  That is, maybe instead of filling in the mean value, it makes more sense to set every missing value to a value of 0, to fill in the most frequently encountered value, or to use some other method.  For instance, consider the `GarageYrBlt` column (which indicates the year that the garage was built).  It's likely that in some cases, a missing value could indicate a house that does not have a garage.  Does it make more sense to fill in the median value along each column in this case?  Or could we get better results by filling in the minimum value along each column?  It's not quite clear what's best in this case, but perhaps we can rule out some options immediately - for instance, setting missing values in this column to 0 is likely to yield horrible results!"
      ]
     },
     "metadata": {},
     "output_type": "display_data"
    }
   ],
   "source": [
    "# Check your answer (Run this code cell to receive credit!)\n",
    "step_3.b.check()"
   ]
  },
  {
   "cell_type": "code",
   "execution_count": 17,
   "id": "3465ad79",
   "metadata": {
    "execution": {
     "iopub.execute_input": "2022-07-06T18:28:45.002924Z",
     "iopub.status.busy": "2022-07-06T18:28:45.002247Z",
     "iopub.status.idle": "2022-07-06T18:28:45.007562Z",
     "shell.execute_reply": "2022-07-06T18:28:45.005273Z"
    },
    "papermill": {
     "duration": 0.021665,
     "end_time": "2022-07-06T18:28:45.010057",
     "exception": false,
     "start_time": "2022-07-06T18:28:44.988392",
     "status": "completed"
    },
    "tags": []
   },
   "outputs": [],
   "source": [
    "#step_3.b.hint()"
   ]
  },
  {
   "cell_type": "markdown",
   "id": "3cbe2dec",
   "metadata": {
    "papermill": {
     "duration": 0.012384,
     "end_time": "2022-07-06T18:28:45.035383",
     "exception": false,
     "start_time": "2022-07-06T18:28:45.022999",
     "status": "completed"
    },
    "tags": []
   },
   "source": [
    "# Step 4: Generate test predictions\n",
    "\n",
    "In this final step, you'll use any approach of your choosing to deal with missing values.  Once you've preprocessed the training and validation features, you'll train and evaluate a random forest model.  Then, you'll preprocess the test data before generating predictions that can be submitted to the competition!\n",
    "\n",
    "### Part A\n",
    "\n",
    "Use the next code cell to preprocess the training and validation data.  Set the preprocessed DataFrames to `final_X_train` and `final_X_valid`.  **You can use any approach of your choosing here!**  in order for this step to be marked as correct, you need only ensure:\n",
    "- the preprocessed DataFrames have the same number of columns,\n",
    "- the preprocessed DataFrames have no missing values, \n",
    "- `final_X_train` and `y_train` have the same number of rows, and\n",
    "- `final_X_valid` and `y_valid` have the same number of rows."
   ]
  },
  {
   "cell_type": "code",
   "execution_count": 18,
   "id": "6eae33fb",
   "metadata": {
    "execution": {
     "iopub.execute_input": "2022-07-06T18:28:45.062501Z",
     "iopub.status.busy": "2022-07-06T18:28:45.062102Z",
     "iopub.status.idle": "2022-07-06T18:28:45.093689Z",
     "shell.execute_reply": "2022-07-06T18:28:45.092619Z"
    },
    "papermill": {
     "duration": 0.048295,
     "end_time": "2022-07-06T18:28:45.096495",
     "exception": false,
     "start_time": "2022-07-06T18:28:45.048200",
     "status": "completed"
    },
    "tags": []
   },
   "outputs": [
    {
     "data": {
      "application/javascript": [
       "parent.postMessage({\"jupyterEvent\": \"custom.exercise_interaction\", \"data\": {\"outcomeType\": 1, \"valueTowardsCompletion\": 1.0, \"interactionType\": 1, \"questionType\": 2, \"questionId\": \"4.1_PredsCodeA\", \"learnToolsVersion\": \"0.3.4\", \"failureMessage\": \"\", \"exceptionClass\": \"\", \"trace\": \"\"}}, \"*\")"
      ],
      "text/plain": [
       "<IPython.core.display.Javascript object>"
      ]
     },
     "metadata": {},
     "output_type": "display_data"
    },
    {
     "data": {
      "text/markdown": [
       "<span style=\"color:#33cc33\">Correct</span>"
      ],
      "text/plain": [
       "Correct"
      ]
     },
     "metadata": {},
     "output_type": "display_data"
    }
   ],
   "source": [
    "# Preprocessed training and validation features\n",
    "second_imputer = SimpleImputer(strategy = 'median')\n",
    "final_X_train = pd.DataFrame(second_imputer.fit_transform(X_train))\n",
    "final_X_valid = pd.DataFrame(second_imputer.transform(X_valid))\n",
    "\n",
    "# Check your answers\n",
    "step_4.a.check()"
   ]
  },
  {
   "cell_type": "code",
   "execution_count": 19,
   "id": "d1c322d9",
   "metadata": {
    "execution": {
     "iopub.execute_input": "2022-07-06T18:28:45.124384Z",
     "iopub.status.busy": "2022-07-06T18:28:45.123999Z",
     "iopub.status.idle": "2022-07-06T18:28:45.128159Z",
     "shell.execute_reply": "2022-07-06T18:28:45.127059Z"
    },
    "papermill": {
     "duration": 0.021012,
     "end_time": "2022-07-06T18:28:45.130377",
     "exception": false,
     "start_time": "2022-07-06T18:28:45.109365",
     "status": "completed"
    },
    "tags": []
   },
   "outputs": [],
   "source": [
    "# Lines below will give you a hint or solution code\n",
    "#step_4.a.hint()\n",
    "#.a.solution()"
   ]
  },
  {
   "cell_type": "markdown",
   "id": "8473033a",
   "metadata": {
    "papermill": {
     "duration": 0.012901,
     "end_time": "2022-07-06T18:28:45.156368",
     "exception": false,
     "start_time": "2022-07-06T18:28:45.143467",
     "status": "completed"
    },
    "tags": []
   },
   "source": [
    "Run the next code cell to train and evaluate a random forest model.  (*Note that we don't use the `score_dataset()` function above, because we will soon use the trained model to generate test predictions!*)"
   ]
  },
  {
   "cell_type": "code",
   "execution_count": 20,
   "id": "07f9d7bb",
   "metadata": {
    "execution": {
     "iopub.execute_input": "2022-07-06T18:28:45.184477Z",
     "iopub.status.busy": "2022-07-06T18:28:45.183709Z",
     "iopub.status.idle": "2022-07-06T18:28:46.409302Z",
     "shell.execute_reply": "2022-07-06T18:28:46.408070Z"
    },
    "papermill": {
     "duration": 1.242898,
     "end_time": "2022-07-06T18:28:46.412422",
     "exception": false,
     "start_time": "2022-07-06T18:28:45.169524",
     "status": "completed"
    },
    "tags": []
   },
   "outputs": [
    {
     "name": "stdout",
     "output_type": "stream",
     "text": [
      "MAE (Your approach):\n",
      "17791.59899543379\n"
     ]
    }
   ],
   "source": [
    "# Define and fit model\n",
    "model = RandomForestRegressor(n_estimators=100, random_state=0)\n",
    "model.fit(final_X_train, y_train)\n",
    "\n",
    "# Get validation predictions and MAE\n",
    "preds_valid = model.predict(final_X_valid)\n",
    "print(\"MAE (Your approach):\")\n",
    "print(mean_absolute_error(y_valid, preds_valid))"
   ]
  },
  {
   "cell_type": "markdown",
   "id": "60d107d9",
   "metadata": {
    "papermill": {
     "duration": 0.012373,
     "end_time": "2022-07-06T18:28:46.437666",
     "exception": false,
     "start_time": "2022-07-06T18:28:46.425293",
     "status": "completed"
    },
    "tags": []
   },
   "source": [
    "### Part B\n",
    "\n",
    "Use the next code cell to preprocess your test data.  Make sure that you use a method that agrees with how you preprocessed the training and validation data, and set the preprocessed test features to `final_X_test`.\n",
    "\n",
    "Then, use the preprocessed test features and the trained model to generate test predictions in `preds_test`.\n",
    "\n",
    "In order for this step to be marked correct, you need only ensure:\n",
    "- the preprocessed test DataFrame has no missing values, and\n",
    "- `final_X_test` has the same number of rows as `X_test`."
   ]
  },
  {
   "cell_type": "code",
   "execution_count": 21,
   "id": "60426300",
   "metadata": {
    "execution": {
     "iopub.execute_input": "2022-07-06T18:28:46.464668Z",
     "iopub.status.busy": "2022-07-06T18:28:46.464314Z",
     "iopub.status.idle": "2022-07-06T18:28:46.518362Z",
     "shell.execute_reply": "2022-07-06T18:28:46.517186Z"
    },
    "papermill": {
     "duration": 0.070454,
     "end_time": "2022-07-06T18:28:46.520735",
     "exception": false,
     "start_time": "2022-07-06T18:28:46.450281",
     "status": "completed"
    },
    "tags": []
   },
   "outputs": [
    {
     "data": {
      "application/javascript": [
       "parent.postMessage({\"jupyterEvent\": \"custom.exercise_interaction\", \"data\": {\"outcomeType\": 1, \"valueTowardsCompletion\": 1.0, \"interactionType\": 1, \"questionType\": 2, \"questionId\": \"4.2_PredsCodeB\", \"learnToolsVersion\": \"0.3.4\", \"failureMessage\": \"\", \"exceptionClass\": \"\", \"trace\": \"\"}}, \"*\")"
      ],
      "text/plain": [
       "<IPython.core.display.Javascript object>"
      ]
     },
     "metadata": {},
     "output_type": "display_data"
    },
    {
     "data": {
      "text/markdown": [
       "<span style=\"color:#33cc33\">Correct</span>"
      ],
      "text/plain": [
       "Correct"
      ]
     },
     "metadata": {},
     "output_type": "display_data"
    }
   ],
   "source": [
    "# Fill in the line below: preprocess test data\n",
    "final_X_test = pd.DataFrame(second_imputer.transform(X_test))\n",
    "\n",
    "# Fill in the line below: get test predictions\n",
    "preds_test = model.predict(final_X_test)\n",
    "\n",
    "# Check your answers\n",
    "step_4.b.check()"
   ]
  },
  {
   "cell_type": "code",
   "execution_count": 22,
   "id": "98179d1b",
   "metadata": {
    "execution": {
     "iopub.execute_input": "2022-07-06T18:28:46.549205Z",
     "iopub.status.busy": "2022-07-06T18:28:46.548202Z",
     "iopub.status.idle": "2022-07-06T18:28:46.552996Z",
     "shell.execute_reply": "2022-07-06T18:28:46.551931Z"
    },
    "papermill": {
     "duration": 0.021412,
     "end_time": "2022-07-06T18:28:46.555198",
     "exception": false,
     "start_time": "2022-07-06T18:28:46.533786",
     "status": "completed"
    },
    "tags": []
   },
   "outputs": [],
   "source": [
    "# Lines below will give you a hint or solution code\n",
    "#step_4.b.hint()\n",
    "#step_4.b.solution()"
   ]
  },
  {
   "cell_type": "markdown",
   "id": "f0f183f2",
   "metadata": {
    "papermill": {
     "duration": 0.012729,
     "end_time": "2022-07-06T18:28:46.580903",
     "exception": false,
     "start_time": "2022-07-06T18:28:46.568174",
     "status": "completed"
    },
    "tags": []
   },
   "source": [
    "Run the next code cell without changes to save your results to a CSV file that can be submitted directly to the competition."
   ]
  },
  {
   "cell_type": "code",
   "execution_count": 23,
   "id": "01d49ab6",
   "metadata": {
    "execution": {
     "iopub.execute_input": "2022-07-06T18:28:46.608934Z",
     "iopub.status.busy": "2022-07-06T18:28:46.608538Z",
     "iopub.status.idle": "2022-07-06T18:28:46.621436Z",
     "shell.execute_reply": "2022-07-06T18:28:46.620344Z"
    },
    "papermill": {
     "duration": 0.029747,
     "end_time": "2022-07-06T18:28:46.623713",
     "exception": false,
     "start_time": "2022-07-06T18:28:46.593966",
     "status": "completed"
    },
    "tags": []
   },
   "outputs": [],
   "source": [
    "# Save test predictions to file\n",
    "output = pd.DataFrame({'Id': X_test.index,\n",
    "                       'SalePrice': preds_test})\n",
    "output.to_csv('submission.csv', index=False)"
   ]
  },
  {
   "cell_type": "markdown",
   "id": "dd736ce5",
   "metadata": {
    "papermill": {
     "duration": 0.013004,
     "end_time": "2022-07-06T18:28:46.650184",
     "exception": false,
     "start_time": "2022-07-06T18:28:46.637180",
     "status": "completed"
    },
    "tags": []
   },
   "source": [
    "# Submit your results\n",
    "\n",
    "Once you have successfully completed Step 4, you're ready to submit your results to the leaderboard!  (_You also learned how to do this in the previous exercise.  If you need a reminder of how to do this, please use the instructions below._)  \n",
    "\n",
    "First, you'll need to join the competition if you haven't already.  So open a new window by clicking on [this link](https://www.kaggle.com/c/home-data-for-ml-course).  Then click on the **Join Competition** button.\n",
    "\n",
    "![join competition image](https://i.imgur.com/wLmFtH3.png)\n",
    "\n",
    "Next, follow the instructions below:\n",
    "1. Begin by clicking on the **Save Version** button in the top right corner of the window.  This will generate a pop-up window.  \n",
    "2. Ensure that the **Save and Run All** option is selected, and then click on the **Save** button.\n",
    "3. This generates a window in the bottom left corner of the notebook.  After it has finished running, click on the number to the right of the **Save Version** button.  This pulls up a list of versions on the right of the screen.  Click on the ellipsis **(...)** to the right of the most recent version, and select **Open in Viewer**.  This brings you into view mode of the same page. You will need to scroll down to get back to these instructions.\n",
    "4. Click on the **Output** tab on the right of the screen.  Then, click on the file you would like to submit, and click on the **Submit** button to submit your results to the leaderboard.\n",
    "\n",
    "You have now successfully submitted to the competition!\n",
    "\n",
    "If you want to keep working to improve your performance, select the **Edit** button in the top right of the screen. Then you can change your code and repeat the process. There's a lot of room to improve, and you will climb up the leaderboard as you work.\n",
    "\n",
    "\n",
    "# Keep going\n",
    "\n",
    "Move on to learn what **[categorical variables](https://www.kaggle.com/alexisbcook/categorical-variables)** are, along with how to incorporate them into your machine learning models.  Categorical variables are very common in real-world data, but you'll get an error if you try to plug them into your models without processing them first!"
   ]
  },
  {
   "cell_type": "markdown",
   "id": "b8dee276",
   "metadata": {
    "papermill": {
     "duration": 0.012804,
     "end_time": "2022-07-06T18:28:46.676232",
     "exception": false,
     "start_time": "2022-07-06T18:28:46.663428",
     "status": "completed"
    },
    "tags": []
   },
   "source": [
    "---\n",
    "\n",
    "\n",
    "\n",
    "\n",
    "*Have questions or comments? Visit the [course discussion forum](https://www.kaggle.com/learn/intermediate-machine-learning/discussion) to chat with other learners.*"
   ]
  }
 ],
 "metadata": {
  "kernelspec": {
   "display_name": "Python 3",
   "language": "python",
   "name": "python3"
  },
  "language_info": {
   "codemirror_mode": {
    "name": "ipython",
    "version": 3
   },
   "file_extension": ".py",
   "mimetype": "text/x-python",
   "name": "python",
   "nbconvert_exporter": "python",
   "pygments_lexer": "ipython3",
   "version": "3.7.12"
  },
  "papermill": {
   "default_parameters": {},
   "duration": 19.618174,
   "end_time": "2022-07-06T18:28:50.099757",
   "environment_variables": {},
   "exception": null,
   "input_path": "__notebook__.ipynb",
   "output_path": "__notebook__.ipynb",
   "parameters": {},
   "start_time": "2022-07-06T18:28:30.481583",
   "version": "2.3.4"
  }
 },
 "nbformat": 4,
 "nbformat_minor": 5
}
