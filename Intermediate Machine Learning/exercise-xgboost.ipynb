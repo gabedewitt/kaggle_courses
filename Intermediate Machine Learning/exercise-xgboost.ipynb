{
 "cells": [
  {
   "cell_type": "markdown",
   "id": "d3ff78d4",
   "metadata": {
    "papermill": {
     "duration": 0.006893,
     "end_time": "2022-07-07T18:49:08.288409",
     "exception": false,
     "start_time": "2022-07-07T18:49:08.281516",
     "status": "completed"
    },
    "tags": []
   },
   "source": [
    "**This notebook is an exercise in the [Intermediate Machine Learning](https://www.kaggle.com/learn/intermediate-machine-learning) course.  You can reference the tutorial at [this link](https://www.kaggle.com/alexisbcook/xgboost).**\n",
    "\n",
    "---\n"
   ]
  },
  {
   "cell_type": "markdown",
   "id": "15d3ebc0",
   "metadata": {
    "papermill": {
     "duration": 0.005791,
     "end_time": "2022-07-07T18:49:08.300366",
     "exception": false,
     "start_time": "2022-07-07T18:49:08.294575",
     "status": "completed"
    },
    "tags": []
   },
   "source": [
    "In this exercise, you will use your new knowledge to train a model with **gradient boosting**.\n",
    "\n",
    "# Setup\n",
    "\n",
    "The questions below will give you feedback on your work. Run the following cell to set up the feedback system."
   ]
  },
  {
   "cell_type": "code",
   "execution_count": 1,
   "id": "7d83d584",
   "metadata": {
    "execution": {
     "iopub.execute_input": "2022-07-07T18:49:08.314375Z",
     "iopub.status.busy": "2022-07-07T18:49:08.314049Z",
     "iopub.status.idle": "2022-07-07T18:49:10.314765Z",
     "shell.execute_reply": "2022-07-07T18:49:10.314064Z"
    },
    "papermill": {
     "duration": 2.010598,
     "end_time": "2022-07-07T18:49:10.317030",
     "exception": false,
     "start_time": "2022-07-07T18:49:08.306432",
     "status": "completed"
    },
    "tags": []
   },
   "outputs": [
    {
     "name": "stdout",
     "output_type": "stream",
     "text": [
      "Setup Complete\n"
     ]
    }
   ],
   "source": [
    "# Set up code checking\n",
    "import os\n",
    "if not os.path.exists(\"../input/train.csv\"):\n",
    "    os.symlink(\"../input/home-data-for-ml-course/train.csv\", \"../input/train.csv\")  \n",
    "    os.symlink(\"../input/home-data-for-ml-course/test.csv\", \"../input/test.csv\") \n",
    "from learntools.core import binder\n",
    "binder.bind(globals())\n",
    "from learntools.ml_intermediate.ex6 import *\n",
    "print(\"Setup Complete\")"
   ]
  },
  {
   "cell_type": "markdown",
   "id": "98417c40",
   "metadata": {
    "papermill": {
     "duration": 0.006043,
     "end_time": "2022-07-07T18:49:10.329868",
     "exception": false,
     "start_time": "2022-07-07T18:49:10.323825",
     "status": "completed"
    },
    "tags": []
   },
   "source": [
    "You will work with the [Housing Prices Competition for Kaggle Learn Users](https://www.kaggle.com/c/home-data-for-ml-course) dataset from the previous exercise. \n",
    "\n",
    "![Ames Housing dataset image](https://i.imgur.com/lTJVG4e.png)\n",
    "\n",
    "Run the next code cell without changes to load the training and validation sets in `X_train`, `X_valid`, `y_train`, and `y_valid`.  The test set is loaded in `X_test`."
   ]
  },
  {
   "cell_type": "code",
   "execution_count": 2,
   "id": "64ab755b",
   "metadata": {
    "execution": {
     "iopub.execute_input": "2022-07-07T18:49:10.345006Z",
     "iopub.status.busy": "2022-07-07T18:49:10.343574Z",
     "iopub.status.idle": "2022-07-07T18:49:10.493017Z",
     "shell.execute_reply": "2022-07-07T18:49:10.492191Z"
    },
    "papermill": {
     "duration": 0.159373,
     "end_time": "2022-07-07T18:49:10.495386",
     "exception": false,
     "start_time": "2022-07-07T18:49:10.336013",
     "status": "completed"
    },
    "tags": []
   },
   "outputs": [],
   "source": [
    "import pandas as pd\n",
    "from sklearn.model_selection import train_test_split\n",
    "\n",
    "# Read the data\n",
    "X = pd.read_csv('../input/train.csv', index_col='Id')\n",
    "X_test_full = pd.read_csv('../input/test.csv', index_col='Id')\n",
    "\n",
    "# Remove rows with missing target, separate target from predictors\n",
    "X.dropna(axis=0, subset=['SalePrice'], inplace=True)\n",
    "y = X.SalePrice              \n",
    "X.drop(['SalePrice'], axis=1, inplace=True)\n",
    "\n",
    "# Break off validation set from training data\n",
    "X_train_full, X_valid_full, y_train, y_valid = train_test_split(X, y, train_size=0.8, test_size=0.2,\n",
    "                                                                random_state=0)\n",
    "\n",
    "# \"Cardinality\" means the number of unique values in a column\n",
    "# Select categorical columns with relatively low cardinality (convenient but arbitrary)\n",
    "low_cardinality_cols = [cname for cname in X_train_full.columns if X_train_full[cname].nunique() < 10 and \n",
    "                        X_train_full[cname].dtype == \"object\"]\n",
    "\n",
    "# Select numeric columns\n",
    "numeric_cols = [cname for cname in X_train_full.columns if X_train_full[cname].dtype in ['int64', 'float64']]\n",
    "\n",
    "# Keep selected columns only\n",
    "my_cols = low_cardinality_cols + numeric_cols\n",
    "X_train = X_train_full[my_cols].copy()\n",
    "X_valid = X_valid_full[my_cols].copy()\n",
    "X_test = X_test_full[my_cols].copy()\n",
    "\n",
    "# One-hot encode the data (to shorten the code, we use pandas)\n",
    "X_train = pd.get_dummies(X_train)\n",
    "X_valid = pd.get_dummies(X_valid)\n",
    "X_test = pd.get_dummies(X_test)\n",
    "X_train, X_valid = X_train.align(X_valid, join='left', axis=1)\n",
    "X_train, X_test = X_train.align(X_test, join='left', axis=1)"
   ]
  },
  {
   "cell_type": "markdown",
   "id": "eeb2a0fc",
   "metadata": {
    "papermill": {
     "duration": 0.006227,
     "end_time": "2022-07-07T18:49:10.508109",
     "exception": false,
     "start_time": "2022-07-07T18:49:10.501882",
     "status": "completed"
    },
    "tags": []
   },
   "source": [
    "# Step 1: Build model\n",
    "\n",
    "### Part A\n",
    "\n",
    "In this step, you'll build and train your first model with gradient boosting.\n",
    "\n",
    "- Begin by setting `my_model_1` to an XGBoost model.  Use the [XGBRegressor](https://xgboost.readthedocs.io/en/latest/python/python_api.html#xgboost.XGBRegressor) class, and set the random seed to 0 (`random_state=0`).  **Leave all other parameters as default.**\n",
    "- Then, fit the model to the training data in `X_train` and `y_train`."
   ]
  },
  {
   "cell_type": "code",
   "execution_count": 3,
   "id": "b310744d",
   "metadata": {
    "execution": {
     "iopub.execute_input": "2022-07-07T18:49:10.522044Z",
     "iopub.status.busy": "2022-07-07T18:49:10.521716Z",
     "iopub.status.idle": "2022-07-07T18:49:11.317834Z",
     "shell.execute_reply": "2022-07-07T18:49:11.317141Z"
    },
    "papermill": {
     "duration": 0.805528,
     "end_time": "2022-07-07T18:49:11.319918",
     "exception": false,
     "start_time": "2022-07-07T18:49:10.514390",
     "status": "completed"
    },
    "tags": []
   },
   "outputs": [
    {
     "data": {
      "application/javascript": [
       "parent.postMessage({\"jupyterEvent\": \"custom.exercise_interaction\", \"data\": {\"outcomeType\": 1, \"valueTowardsCompletion\": 0.5, \"interactionType\": 1, \"questionType\": 2, \"questionId\": \"1.1_Model1A\", \"learnToolsVersion\": \"0.3.4\", \"failureMessage\": \"\", \"exceptionClass\": \"\", \"trace\": \"\"}}, \"*\")"
      ],
      "text/plain": [
       "<IPython.core.display.Javascript object>"
      ]
     },
     "metadata": {},
     "output_type": "display_data"
    },
    {
     "data": {
      "text/markdown": [
       "<span style=\"color:#33cc33\">Correct</span>"
      ],
      "text/plain": [
       "Correct"
      ]
     },
     "metadata": {},
     "output_type": "display_data"
    }
   ],
   "source": [
    "from xgboost import XGBRegressor\n",
    "\n",
    "# Define the model\n",
    "my_model_1 = XGBRegressor(random_state = 0) # Your code here\n",
    "\n",
    "# Fit the model\n",
    "my_model_1.fit(X_train,y_train) # Your code here\n",
    "\n",
    "# Check your answer\n",
    "step_1.a.check()"
   ]
  },
  {
   "cell_type": "code",
   "execution_count": 4,
   "id": "408445cf",
   "metadata": {
    "execution": {
     "iopub.execute_input": "2022-07-07T18:49:11.335187Z",
     "iopub.status.busy": "2022-07-07T18:49:11.334364Z",
     "iopub.status.idle": "2022-07-07T18:49:11.338187Z",
     "shell.execute_reply": "2022-07-07T18:49:11.337518Z"
    },
    "papermill": {
     "duration": 0.013034,
     "end_time": "2022-07-07T18:49:11.339774",
     "exception": false,
     "start_time": "2022-07-07T18:49:11.326740",
     "status": "completed"
    },
    "tags": []
   },
   "outputs": [],
   "source": [
    "# Lines below will give you a hint or solution code\n",
    "#step_1.a.hint()\n",
    "#step_1.a.solution()"
   ]
  },
  {
   "cell_type": "markdown",
   "id": "ebd91993",
   "metadata": {
    "papermill": {
     "duration": 0.003797,
     "end_time": "2022-07-07T18:49:11.347836",
     "exception": false,
     "start_time": "2022-07-07T18:49:11.344039",
     "status": "completed"
    },
    "tags": []
   },
   "source": [
    "### Part B\n",
    "\n",
    "Set `predictions_1` to the model's predictions for the validation data.  Recall that the validation features are stored in `X_valid`."
   ]
  },
  {
   "cell_type": "code",
   "execution_count": 5,
   "id": "7432819c",
   "metadata": {
    "execution": {
     "iopub.execute_input": "2022-07-07T18:49:11.357911Z",
     "iopub.status.busy": "2022-07-07T18:49:11.357101Z",
     "iopub.status.idle": "2022-07-07T18:49:11.374239Z",
     "shell.execute_reply": "2022-07-07T18:49:11.373636Z"
    },
    "papermill": {
     "duration": 0.028327,
     "end_time": "2022-07-07T18:49:11.380280",
     "exception": false,
     "start_time": "2022-07-07T18:49:11.351953",
     "status": "completed"
    },
    "tags": []
   },
   "outputs": [
    {
     "data": {
      "application/javascript": [
       "parent.postMessage({\"jupyterEvent\": \"custom.exercise_interaction\", \"data\": {\"outcomeType\": 1, \"valueTowardsCompletion\": 0.5, \"interactionType\": 1, \"questionType\": 2, \"questionId\": \"1.2_Model1B\", \"learnToolsVersion\": \"0.3.4\", \"failureMessage\": \"\", \"exceptionClass\": \"\", \"trace\": \"\"}}, \"*\")"
      ],
      "text/plain": [
       "<IPython.core.display.Javascript object>"
      ]
     },
     "metadata": {},
     "output_type": "display_data"
    },
    {
     "data": {
      "text/markdown": [
       "<span style=\"color:#33cc33\">Correct</span>"
      ],
      "text/plain": [
       "Correct"
      ]
     },
     "metadata": {},
     "output_type": "display_data"
    }
   ],
   "source": [
    "from sklearn.metrics import mean_absolute_error\n",
    "\n",
    "# Get predictions\n",
    "predictions_1 = my_model_1.predict(X_valid) # Your code here\n",
    "\n",
    "# Check your answer\n",
    "step_1.b.check()"
   ]
  },
  {
   "cell_type": "code",
   "execution_count": 6,
   "id": "1c7a804f",
   "metadata": {
    "execution": {
     "iopub.execute_input": "2022-07-07T18:49:11.390604Z",
     "iopub.status.busy": "2022-07-07T18:49:11.390343Z",
     "iopub.status.idle": "2022-07-07T18:49:11.393458Z",
     "shell.execute_reply": "2022-07-07T18:49:11.392691Z"
    },
    "papermill": {
     "duration": 0.010079,
     "end_time": "2022-07-07T18:49:11.395258",
     "exception": false,
     "start_time": "2022-07-07T18:49:11.385179",
     "status": "completed"
    },
    "tags": []
   },
   "outputs": [],
   "source": [
    "# Lines below will give you a hint or solution code\n",
    "#step_1.b.hint()\n",
    "#step_1.b.solution()"
   ]
  },
  {
   "cell_type": "markdown",
   "id": "b6139a79",
   "metadata": {
    "papermill": {
     "duration": 0.004257,
     "end_time": "2022-07-07T18:49:11.404769",
     "exception": false,
     "start_time": "2022-07-07T18:49:11.400512",
     "status": "completed"
    },
    "tags": []
   },
   "source": [
    "### Part C\n",
    "\n",
    "Finally, use the `mean_absolute_error()` function to calculate the mean absolute error (MAE) corresponding to the predictions for the validation set.  Recall that the labels for the validation data are stored in `y_valid`."
   ]
  },
  {
   "cell_type": "code",
   "execution_count": 7,
   "id": "77fe7b81",
   "metadata": {
    "execution": {
     "iopub.execute_input": "2022-07-07T18:49:11.414971Z",
     "iopub.status.busy": "2022-07-07T18:49:11.414639Z",
     "iopub.status.idle": "2022-07-07T18:49:11.424842Z",
     "shell.execute_reply": "2022-07-07T18:49:11.424145Z"
    },
    "papermill": {
     "duration": 0.017813,
     "end_time": "2022-07-07T18:49:11.426810",
     "exception": false,
     "start_time": "2022-07-07T18:49:11.408997",
     "status": "completed"
    },
    "tags": []
   },
   "outputs": [
    {
     "name": "stdout",
     "output_type": "stream",
     "text": [
      "Mean Absolute Error: 17662.736729452055\n"
     ]
    },
    {
     "data": {
      "application/javascript": [
       "parent.postMessage({\"jupyterEvent\": \"custom.exercise_interaction\", \"data\": {\"outcomeType\": 1, \"valueTowardsCompletion\": 0.5, \"interactionType\": 1, \"questionType\": 2, \"questionId\": \"1.3_Model1C\", \"learnToolsVersion\": \"0.3.4\", \"failureMessage\": \"\", \"exceptionClass\": \"\", \"trace\": \"\"}}, \"*\")"
      ],
      "text/plain": [
       "<IPython.core.display.Javascript object>"
      ]
     },
     "metadata": {},
     "output_type": "display_data"
    },
    {
     "data": {
      "text/markdown": [
       "<span style=\"color:#33cc33\">Correct</span>"
      ],
      "text/plain": [
       "Correct"
      ]
     },
     "metadata": {},
     "output_type": "display_data"
    }
   ],
   "source": [
    "# Calculate MAE\n",
    "mae_1 = mean_absolute_error(y_valid, predictions_1) # Your code here\n",
    "\n",
    "# Uncomment to print MAE\n",
    "print(\"Mean Absolute Error:\" , mae_1)\n",
    "\n",
    "# Check your answer\n",
    "step_1.c.check()"
   ]
  },
  {
   "cell_type": "code",
   "execution_count": 8,
   "id": "2ef9e536",
   "metadata": {
    "execution": {
     "iopub.execute_input": "2022-07-07T18:49:11.442881Z",
     "iopub.status.busy": "2022-07-07T18:49:11.442560Z",
     "iopub.status.idle": "2022-07-07T18:49:11.447607Z",
     "shell.execute_reply": "2022-07-07T18:49:11.446796Z"
    },
    "papermill": {
     "duration": 0.015322,
     "end_time": "2022-07-07T18:49:11.449520",
     "exception": false,
     "start_time": "2022-07-07T18:49:11.434198",
     "status": "completed"
    },
    "tags": []
   },
   "outputs": [],
   "source": [
    "# Lines below will give you a hint or solution code\n",
    "#step_1.c.hint()\n",
    "#step_1.c.solution()"
   ]
  },
  {
   "cell_type": "markdown",
   "id": "0959c708",
   "metadata": {
    "papermill": {
     "duration": 0.007192,
     "end_time": "2022-07-07T18:49:11.464342",
     "exception": false,
     "start_time": "2022-07-07T18:49:11.457150",
     "status": "completed"
    },
    "tags": []
   },
   "source": [
    "# Step 2: Improve the model\n",
    "\n",
    "Now that you've trained a default model as baseline, it's time to tinker with the parameters, to see if you can get better performance!\n",
    "- Begin by setting `my_model_2` to an XGBoost model, using the [XGBRegressor](https://xgboost.readthedocs.io/en/latest/python/python_api.html#xgboost.XGBRegressor) class.  Use what you learned in the previous tutorial to figure out how to change the default parameters (like `n_estimators` and `learning_rate`) to get better results.\n",
    "- Then, fit the model to the training data in `X_train` and `y_train`.\n",
    "- Set `predictions_2` to the model's predictions for the validation data.  Recall that the validation features are stored in `X_valid`.\n",
    "- Finally, use the `mean_absolute_error()` function to calculate the mean absolute error (MAE) corresponding to the predictions on the validation set.  Recall that the labels for the validation data are stored in `y_valid`.\n",
    "\n",
    "In order for this step to be marked correct, your model in `my_model_2` must attain lower MAE than the model in `my_model_1`. "
   ]
  },
  {
   "cell_type": "code",
   "execution_count": 9,
   "id": "11fd2da6",
   "metadata": {
    "execution": {
     "iopub.execute_input": "2022-07-07T18:49:11.481365Z",
     "iopub.status.busy": "2022-07-07T18:49:11.480740Z",
     "iopub.status.idle": "2022-07-07T18:49:12.530102Z",
     "shell.execute_reply": "2022-07-07T18:49:12.529313Z"
    },
    "papermill": {
     "duration": 1.060453,
     "end_time": "2022-07-07T18:49:12.532347",
     "exception": false,
     "start_time": "2022-07-07T18:49:11.471894",
     "status": "completed"
    },
    "tags": []
   },
   "outputs": [
    {
     "name": "stdout",
     "output_type": "stream",
     "text": [
      "Mean Absolute Error: 17342.744180757705\n"
     ]
    },
    {
     "data": {
      "application/javascript": [
       "parent.postMessage({\"jupyterEvent\": \"custom.exercise_interaction\", \"data\": {\"outcomeType\": 1, \"valueTowardsCompletion\": 0.5, \"interactionType\": 1, \"questionType\": 2, \"questionId\": \"2_Model2\", \"learnToolsVersion\": \"0.3.4\", \"failureMessage\": \"\", \"exceptionClass\": \"\", \"trace\": \"\"}}, \"*\")"
      ],
      "text/plain": [
       "<IPython.core.display.Javascript object>"
      ]
     },
     "metadata": {},
     "output_type": "display_data"
    },
    {
     "data": {
      "text/markdown": [
       "<span style=\"color:#33cc33\">Correct</span>"
      ],
      "text/plain": [
       "Correct"
      ]
     },
     "metadata": {},
     "output_type": "display_data"
    }
   ],
   "source": [
    "# Define the model\n",
    "my_model_2 = XGBRegressor(random_state = 0, n_estimators = 150, learning_rate = 0.15) # Your code here\n",
    "\n",
    "# Fit the model\n",
    "my_model_2.fit(X_train,y_train)  # Your code here\n",
    "\n",
    "# Get predictions\n",
    "predictions_2 = my_model_2.predict(X_valid) # Your code here\n",
    "\n",
    "# Calculate MAE\n",
    "mae_2 = mean_absolute_error(y_valid, predictions_2) # Your code here\n",
    "\n",
    "# Uncomment to print MAE\n",
    "print(\"Mean Absolute Error:\" , mae_2)\n",
    "\n",
    "# Check your answer\n",
    "step_2.check()"
   ]
  },
  {
   "cell_type": "code",
   "execution_count": 10,
   "id": "d4f52d31",
   "metadata": {
    "execution": {
     "iopub.execute_input": "2022-07-07T18:49:12.549943Z",
     "iopub.status.busy": "2022-07-07T18:49:12.549581Z",
     "iopub.status.idle": "2022-07-07T18:49:12.553515Z",
     "shell.execute_reply": "2022-07-07T18:49:12.552456Z"
    },
    "papermill": {
     "duration": 0.014789,
     "end_time": "2022-07-07T18:49:12.555338",
     "exception": false,
     "start_time": "2022-07-07T18:49:12.540549",
     "status": "completed"
    },
    "tags": []
   },
   "outputs": [],
   "source": [
    "# Lines below will give you a hint or solution code\n",
    "#step_2.hint()\n",
    "#step_2.solution()"
   ]
  },
  {
   "cell_type": "markdown",
   "id": "36102369",
   "metadata": {
    "papermill": {
     "duration": 0.008726,
     "end_time": "2022-07-07T18:49:12.572225",
     "exception": false,
     "start_time": "2022-07-07T18:49:12.563499",
     "status": "completed"
    },
    "tags": []
   },
   "source": [
    "# Step 3: Break the model\n",
    "\n",
    "In this step, you will create a model that performs worse than the original model in Step 1.  This will help you to develop your intuition for how to set parameters.  You might even find that you accidentally get better performance, which is ultimately a nice problem to have and a valuable learning experience!\n",
    "- Begin by setting `my_model_3` to an XGBoost model, using the [XGBRegressor](https://xgboost.readthedocs.io/en/latest/python/python_api.html#xgboost.XGBRegressor) class.  Use what you learned in the previous tutorial to figure out how to change the default parameters (like `n_estimators` and `learning_rate`) to design a model to get high MAE.\n",
    "- Then, fit the model to the training data in `X_train` and `y_train`.\n",
    "- Set `predictions_3` to the model's predictions for the validation data.  Recall that the validation features are stored in `X_valid`.\n",
    "- Finally, use the `mean_absolute_error()` function to calculate the mean absolute error (MAE) corresponding to the predictions on the validation set.  Recall that the labels for the validation data are stored in `y_valid`.\n",
    "\n",
    "In order for this step to be marked correct, your model in `my_model_3` must attain higher MAE than the model in `my_model_1`. "
   ]
  },
  {
   "cell_type": "code",
   "execution_count": 11,
   "id": "94706370",
   "metadata": {
    "execution": {
     "iopub.execute_input": "2022-07-07T18:49:12.591468Z",
     "iopub.status.busy": "2022-07-07T18:49:12.589592Z",
     "iopub.status.idle": "2022-07-07T18:49:16.420434Z",
     "shell.execute_reply": "2022-07-07T18:49:16.419438Z"
    },
    "papermill": {
     "duration": 3.842827,
     "end_time": "2022-07-07T18:49:16.423115",
     "exception": false,
     "start_time": "2022-07-07T18:49:12.580288",
     "status": "completed"
    },
    "tags": []
   },
   "outputs": [
    {
     "name": "stdout",
     "output_type": "stream",
     "text": [
      "Mean Absolute Error: 27693.317262414384\n"
     ]
    },
    {
     "data": {
      "application/javascript": [
       "parent.postMessage({\"jupyterEvent\": \"custom.exercise_interaction\", \"data\": {\"outcomeType\": 1, \"valueTowardsCompletion\": 0.5, \"interactionType\": 1, \"questionType\": 2, \"questionId\": \"3_Model3\", \"learnToolsVersion\": \"0.3.4\", \"failureMessage\": \"\", \"exceptionClass\": \"\", \"trace\": \"\"}}, \"*\")"
      ],
      "text/plain": [
       "<IPython.core.display.Javascript object>"
      ]
     },
     "metadata": {},
     "output_type": "display_data"
    },
    {
     "data": {
      "text/markdown": [
       "<span style=\"color:#33cc33\">Correct</span>"
      ],
      "text/plain": [
       "Correct"
      ]
     },
     "metadata": {},
     "output_type": "display_data"
    }
   ],
   "source": [
    "# Define the model\n",
    "my_model_3 = XGBRegressor(random_state = 0, n_estimators = 500, learning_rate = 0.9)\n",
    "\n",
    "# Fit the model\n",
    "my_model_3.fit(X_train, y_train) # Your code here\n",
    "\n",
    "# Get predictions\n",
    "predictions_3 = my_model_3.predict(X_valid)\n",
    "\n",
    "# Calculate MAE\n",
    "mae_3 = mean_absolute_error(y_valid, predictions_3) \n",
    "\n",
    "# Uncomment to print MAE\n",
    "print(\"Mean Absolute Error:\" , mae_3)\n",
    "\n",
    "# Check your answer\n",
    "step_3.check()"
   ]
  },
  {
   "cell_type": "code",
   "execution_count": 12,
   "id": "6ff46f07",
   "metadata": {
    "execution": {
     "iopub.execute_input": "2022-07-07T18:49:16.442578Z",
     "iopub.status.busy": "2022-07-07T18:49:16.441766Z",
     "iopub.status.idle": "2022-07-07T18:49:16.445631Z",
     "shell.execute_reply": "2022-07-07T18:49:16.444971Z"
    },
    "papermill": {
     "duration": 0.015413,
     "end_time": "2022-07-07T18:49:16.447505",
     "exception": false,
     "start_time": "2022-07-07T18:49:16.432092",
     "status": "completed"
    },
    "tags": []
   },
   "outputs": [],
   "source": [
    "# Lines below will give you a hint or solution code\n",
    "#step_3.hint()\n",
    "#step_3.solution()"
   ]
  },
  {
   "cell_type": "markdown",
   "id": "916b5f4a",
   "metadata": {
    "papermill": {
     "duration": 0.008058,
     "end_time": "2022-07-07T18:49:16.464180",
     "exception": false,
     "start_time": "2022-07-07T18:49:16.456122",
     "status": "completed"
    },
    "tags": []
   },
   "source": [
    "# Keep going\n",
    "\n",
    "Continue to learn about **[data leakage](https://www.kaggle.com/alexisbcook/data-leakage)**.  This is an important issue for a data scientist to understand, and it has the potential to ruin your models in subtle and dangerous ways!"
   ]
  },
  {
   "cell_type": "markdown",
   "id": "49a7bed6",
   "metadata": {
    "papermill": {
     "duration": 0.008235,
     "end_time": "2022-07-07T18:49:16.480878",
     "exception": false,
     "start_time": "2022-07-07T18:49:16.472643",
     "status": "completed"
    },
    "tags": []
   },
   "source": [
    "---\n",
    "\n",
    "\n",
    "\n",
    "\n",
    "*Have questions or comments? Visit the [course discussion forum](https://www.kaggle.com/learn/intermediate-machine-learning/discussion) to chat with other learners.*"
   ]
  }
 ],
 "metadata": {
  "kernelspec": {
   "display_name": "Python 3",
   "language": "python",
   "name": "python3"
  },
  "language_info": {
   "codemirror_mode": {
    "name": "ipython",
    "version": 3
   },
   "file_extension": ".py",
   "mimetype": "text/x-python",
   "name": "python",
   "nbconvert_exporter": "python",
   "pygments_lexer": "ipython3",
   "version": "3.7.12"
  },
  "papermill": {
   "default_parameters": {},
   "duration": 16.437184,
   "end_time": "2022-07-07T18:49:17.109692",
   "environment_variables": {},
   "exception": null,
   "input_path": "__notebook__.ipynb",
   "output_path": "__notebook__.ipynb",
   "parameters": {},
   "start_time": "2022-07-07T18:49:00.672508",
   "version": "2.3.4"
  }
 },
 "nbformat": 4,
 "nbformat_minor": 5
}
