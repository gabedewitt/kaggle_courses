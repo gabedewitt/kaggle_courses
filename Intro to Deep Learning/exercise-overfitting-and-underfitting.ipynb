{
 "cells": [
  {
   "cell_type": "markdown",
   "id": "f15784aa",
   "metadata": {
    "papermill": {
     "duration": 0.005861,
     "end_time": "2022-08-02T20:53:27.736016",
     "exception": false,
     "start_time": "2022-08-02T20:53:27.730155",
     "status": "completed"
    },
    "tags": []
   },
   "source": [
    "**This notebook is an exercise in the [Intro to Deep Learning](https://www.kaggle.com/learn/intro-to-deep-learning) course.  You can reference the tutorial at [this link](https://www.kaggle.com/ryanholbrook/overfitting-and-underfitting).**\n",
    "\n",
    "---\n"
   ]
  },
  {
   "cell_type": "markdown",
   "id": "67053021",
   "metadata": {
    "papermill": {
     "duration": 0.004368,
     "end_time": "2022-08-02T20:53:27.745286",
     "exception": false,
     "start_time": "2022-08-02T20:53:27.740918",
     "status": "completed"
    },
    "tags": []
   },
   "source": [
    "# Introduction #\n",
    "\n",
    "In this exercise, you’ll learn how to improve training outcomes by including an early stopping callback to prevent overfitting.\n",
    "\n",
    "When you're ready, run this next cell to set everything up!"
   ]
  },
  {
   "cell_type": "code",
   "execution_count": 1,
   "id": "7752bf08",
   "metadata": {
    "execution": {
     "iopub.execute_input": "2022-08-02T20:53:27.756521Z",
     "iopub.status.busy": "2022-08-02T20:53:27.756008Z",
     "iopub.status.idle": "2022-08-02T20:53:27.793674Z",
     "shell.execute_reply": "2022-08-02T20:53:27.792813Z"
    },
    "papermill": {
     "duration": 0.04588,
     "end_time": "2022-08-02T20:53:27.795791",
     "exception": false,
     "start_time": "2022-08-02T20:53:27.749911",
     "status": "completed"
    },
    "tags": []
   },
   "outputs": [],
   "source": [
    "# Setup plotting\n",
    "import matplotlib.pyplot as plt\n",
    "plt.style.use('seaborn-whitegrid')\n",
    "# Set Matplotlib defaults\n",
    "plt.rc('figure', autolayout=True)\n",
    "plt.rc('axes', labelweight='bold', labelsize='large',\n",
    "       titleweight='bold', titlesize=18, titlepad=10)\n",
    "plt.rc('animation', html='html5')\n",
    "\n",
    "# Setup feedback system\n",
    "from learntools.core import binder\n",
    "binder.bind(globals())\n",
    "from learntools.deep_learning_intro.ex4 import *"
   ]
  },
  {
   "cell_type": "markdown",
   "id": "a633eaa1",
   "metadata": {
    "papermill": {
     "duration": 0.004472,
     "end_time": "2022-08-02T20:53:27.805032",
     "exception": false,
     "start_time": "2022-08-02T20:53:27.800560",
     "status": "completed"
    },
    "tags": []
   },
   "source": [
    "First load the *Spotify* dataset. Your task will be to predict the popularity of a song based on various audio features, like `'tempo'`, `'danceability'`, and `'mode'`."
   ]
  },
  {
   "cell_type": "code",
   "execution_count": 2,
   "id": "6fe8fd66",
   "metadata": {
    "execution": {
     "iopub.execute_input": "2022-08-02T20:53:27.816413Z",
     "iopub.status.busy": "2022-08-02T20:53:27.815576Z",
     "iopub.status.idle": "2022-08-02T20:53:34.520428Z",
     "shell.execute_reply": "2022-08-02T20:53:34.519405Z"
    },
    "papermill": {
     "duration": 6.713106,
     "end_time": "2022-08-02T20:53:34.522867",
     "exception": false,
     "start_time": "2022-08-02T20:53:27.809761",
     "status": "completed"
    },
    "tags": []
   },
   "outputs": [
    {
     "name": "stdout",
     "output_type": "stream",
     "text": [
      "Input shape: [18]\n"
     ]
    }
   ],
   "source": [
    "import pandas as pd\n",
    "from sklearn.preprocessing import StandardScaler, OneHotEncoder\n",
    "from sklearn.compose import make_column_transformer\n",
    "from sklearn.model_selection import GroupShuffleSplit\n",
    "\n",
    "from tensorflow import keras\n",
    "from tensorflow.keras import layers\n",
    "from tensorflow.keras import callbacks\n",
    "\n",
    "spotify = pd.read_csv('../input/dl-course-data/spotify.csv')\n",
    "\n",
    "X = spotify.copy().dropna()\n",
    "y = X.pop('track_popularity')\n",
    "artists = X['track_artist']\n",
    "\n",
    "features_num = ['danceability', 'energy', 'key', 'loudness', 'mode',\n",
    "                'speechiness', 'acousticness', 'instrumentalness',\n",
    "                'liveness', 'valence', 'tempo', 'duration_ms']\n",
    "features_cat = ['playlist_genre']\n",
    "\n",
    "preprocessor = make_column_transformer(\n",
    "    (StandardScaler(), features_num),\n",
    "    (OneHotEncoder(), features_cat),\n",
    ")\n",
    "\n",
    "# We'll do a \"grouped\" split to keep all of an artist's songs in one\n",
    "# split or the other. This is to help prevent signal leakage.\n",
    "def group_split(X, y, group, train_size=0.75):\n",
    "    splitter = GroupShuffleSplit(train_size=train_size)\n",
    "    train, test = next(splitter.split(X, y, groups=group))\n",
    "    return (X.iloc[train], X.iloc[test], y.iloc[train], y.iloc[test])\n",
    "\n",
    "X_train, X_valid, y_train, y_valid = group_split(X, y, artists)\n",
    "\n",
    "X_train = preprocessor.fit_transform(X_train)\n",
    "X_valid = preprocessor.transform(X_valid)\n",
    "y_train = y_train / 100 # popularity is on a scale 0-100, so this rescales to 0-1.\n",
    "y_valid = y_valid / 100\n",
    "\n",
    "input_shape = [X_train.shape[1]]\n",
    "print(\"Input shape: {}\".format(input_shape))"
   ]
  },
  {
   "cell_type": "markdown",
   "id": "9036f631",
   "metadata": {
    "papermill": {
     "duration": 0.004856,
     "end_time": "2022-08-02T20:53:34.532683",
     "exception": false,
     "start_time": "2022-08-02T20:53:34.527827",
     "status": "completed"
    },
    "tags": []
   },
   "source": [
    "Let's start with the simplest network, a linear model. This model has low capacity.\n",
    "\n",
    "Run this next cell without any changes to train a linear model on the *Spotify* dataset."
   ]
  },
  {
   "cell_type": "code",
   "execution_count": 3,
   "id": "07faeb1d",
   "metadata": {
    "execution": {
     "iopub.execute_input": "2022-08-02T20:53:34.544338Z",
     "iopub.status.busy": "2022-08-02T20:53:34.543348Z",
     "iopub.status.idle": "2022-08-02T20:53:44.623453Z",
     "shell.execute_reply": "2022-08-02T20:53:44.622381Z"
    },
    "lines_to_next_cell": 0,
    "papermill": {
     "duration": 10.088037,
     "end_time": "2022-08-02T20:53:44.625583",
     "exception": false,
     "start_time": "2022-08-02T20:53:34.537546",
     "status": "completed"
    },
    "tags": []
   },
   "outputs": [
    {
     "name": "stderr",
     "output_type": "stream",
     "text": [
      "2022-08-02 20:53:34.644440: I tensorflow/stream_executor/cuda/cuda_gpu_executor.cc:937] successful NUMA node read from SysFS had negative value (-1), but there must be at least one NUMA node, so returning NUMA node zero\n",
      "2022-08-02 20:53:34.758593: I tensorflow/stream_executor/cuda/cuda_gpu_executor.cc:937] successful NUMA node read from SysFS had negative value (-1), but there must be at least one NUMA node, so returning NUMA node zero\n",
      "2022-08-02 20:53:34.759419: I tensorflow/stream_executor/cuda/cuda_gpu_executor.cc:937] successful NUMA node read from SysFS had negative value (-1), but there must be at least one NUMA node, so returning NUMA node zero\n",
      "2022-08-02 20:53:34.761254: I tensorflow/core/platform/cpu_feature_guard.cc:142] This TensorFlow binary is optimized with oneAPI Deep Neural Network Library (oneDNN) to use the following CPU instructions in performance-critical operations:  AVX2 AVX512F FMA\n",
      "To enable them in other operations, rebuild TensorFlow with the appropriate compiler flags.\n",
      "2022-08-02 20:53:34.761619: I tensorflow/stream_executor/cuda/cuda_gpu_executor.cc:937] successful NUMA node read from SysFS had negative value (-1), but there must be at least one NUMA node, so returning NUMA node zero\n",
      "2022-08-02 20:53:34.762323: I tensorflow/stream_executor/cuda/cuda_gpu_executor.cc:937] successful NUMA node read from SysFS had negative value (-1), but there must be at least one NUMA node, so returning NUMA node zero\n",
      "2022-08-02 20:53:34.762974: I tensorflow/stream_executor/cuda/cuda_gpu_executor.cc:937] successful NUMA node read from SysFS had negative value (-1), but there must be at least one NUMA node, so returning NUMA node zero\n",
      "2022-08-02 20:53:37.088930: I tensorflow/stream_executor/cuda/cuda_gpu_executor.cc:937] successful NUMA node read from SysFS had negative value (-1), but there must be at least one NUMA node, so returning NUMA node zero\n",
      "2022-08-02 20:53:37.089914: I tensorflow/stream_executor/cuda/cuda_gpu_executor.cc:937] successful NUMA node read from SysFS had negative value (-1), but there must be at least one NUMA node, so returning NUMA node zero\n",
      "2022-08-02 20:53:37.090604: I tensorflow/stream_executor/cuda/cuda_gpu_executor.cc:937] successful NUMA node read from SysFS had negative value (-1), but there must be at least one NUMA node, so returning NUMA node zero\n",
      "2022-08-02 20:53:37.091189: I tensorflow/core/common_runtime/gpu/gpu_device.cc:1510] Created device /job:localhost/replica:0/task:0/device:GPU:0 with 15403 MB memory:  -> device: 0, name: Tesla P100-PCIE-16GB, pci bus id: 0000:00:04.0, compute capability: 6.0\n",
      "2022-08-02 20:53:37.554437: I tensorflow/compiler/mlir/mlir_graph_optimization_pass.cc:185] None of the MLIR Optimization Passes are enabled (registered 2)\n"
     ]
    },
    {
     "name": "stdout",
     "output_type": "stream",
     "text": [
      "Minimum Validation Loss: 0.1977\n"
     ]
    },
    {
     "data": {
      "image/png": "[encoded data removed]",
      "text/plain": [
       "<Figure size 432x288 with 1 Axes>"
      ]
     },
     "metadata": {},
     "output_type": "display_data"
    }
   ],
   "source": [
    "model = keras.Sequential([\n",
    "    layers.Dense(1, input_shape=input_shape),\n",
    "])\n",
    "model.compile(\n",
    "    optimizer='adam',\n",
    "    loss='mae',\n",
    ")\n",
    "history = model.fit(\n",
    "    X_train, y_train,\n",
    "    validation_data=(X_valid, y_valid),\n",
    "    batch_size=512,\n",
    "    epochs=50,\n",
    "    verbose=0, # suppress output since we'll plot the curves\n",
    ")\n",
    "history_df = pd.DataFrame(history.history)\n",
    "history_df.loc[0:, ['loss', 'val_loss']].plot()\n",
    "print(\"Minimum Validation Loss: {:0.4f}\".format(history_df['val_loss'].min()));"
   ]
  },
  {
   "cell_type": "markdown",
   "id": "b7581333",
   "metadata": {
    "papermill": {
     "duration": 0.005001,
     "end_time": "2022-08-02T20:53:44.636150",
     "exception": false,
     "start_time": "2022-08-02T20:53:44.631149",
     "status": "completed"
    },
    "tags": []
   },
   "source": [
    "It's not uncommon for the curves to follow a \"hockey stick\" pattern like you see here. This makes the final part of training hard to see, so let's start at epoch 10 instead:"
   ]
  },
  {
   "cell_type": "code",
   "execution_count": 4,
   "id": "b48d14ad",
   "metadata": {
    "execution": {
     "iopub.execute_input": "2022-08-02T20:53:44.648158Z",
     "iopub.status.busy": "2022-08-02T20:53:44.647285Z",
     "iopub.status.idle": "2022-08-02T20:53:44.910420Z",
     "shell.execute_reply": "2022-08-02T20:53:44.909538Z"
    },
    "papermill": {
     "duration": 0.271113,
     "end_time": "2022-08-02T20:53:44.912398",
     "exception": false,
     "start_time": "2022-08-02T20:53:44.641285",
     "status": "completed"
    },
    "tags": []
   },
   "outputs": [
    {
     "name": "stdout",
     "output_type": "stream",
     "text": [
      "Minimum Validation Loss: 0.1977\n"
     ]
    },
    {
     "data": {
      "image/png": "[encoded data removed]",
      "text/plain": [
       "<Figure size 432x288 with 1 Axes>"
      ]
     },
     "metadata": {},
     "output_type": "display_data"
    }
   ],
   "source": [
    "# Start the plot at epoch 10\n",
    "history_df.loc[10:, ['loss', 'val_loss']].plot()\n",
    "print(\"Minimum Validation Loss: {:0.4f}\".format(history_df['val_loss'].min()));"
   ]
  },
  {
   "cell_type": "markdown",
   "id": "e49f9b39",
   "metadata": {
    "papermill": {
     "duration": 0.005648,
     "end_time": "2022-08-02T20:53:44.923864",
     "exception": false,
     "start_time": "2022-08-02T20:53:44.918216",
     "status": "completed"
    },
    "tags": []
   },
   "source": [
    "# 1) Evaluate Baseline\n",
    "\n",
    "What do you think? Would you say this model is underfitting, overfitting, just right?"
   ]
  },
  {
   "cell_type": "markdown",
   "id": "4f522807",
   "metadata": {
    "papermill": {
     "duration": 0.005282,
     "end_time": "2022-08-02T20:53:44.934779",
     "exception": false,
     "start_time": "2022-08-02T20:53:44.929497",
     "status": "completed"
    },
    "tags": []
   },
   "source": [
    "It might be underfitting, since the validation and training losses stabilized around the 20th epoch."
   ]
  },
  {
   "cell_type": "code",
   "execution_count": 5,
   "id": "f34357cd",
   "metadata": {
    "execution": {
     "iopub.execute_input": "2022-08-02T20:53:44.947823Z",
     "iopub.status.busy": "2022-08-02T20:53:44.947511Z",
     "iopub.status.idle": "2022-08-02T20:53:44.956524Z",
     "shell.execute_reply": "2022-08-02T20:53:44.955420Z"
    },
    "papermill": {
     "duration": 0.018645,
     "end_time": "2022-08-02T20:53:44.958866",
     "exception": false,
     "start_time": "2022-08-02T20:53:44.940221",
     "status": "completed"
    },
    "tags": []
   },
   "outputs": [
    {
     "data": {
      "application/javascript": [
       "parent.postMessage({\"jupyterEvent\": \"custom.exercise_interaction\", \"data\": {\"outcomeType\": 1, \"valueTowardsCompletion\": 0.25, \"interactionType\": 1, \"questionType\": 4, \"questionId\": \"1_Q1\", \"learnToolsVersion\": \"0.3.4\", \"failureMessage\": \"\", \"exceptionClass\": \"\", \"trace\": \"\"}}, \"*\")"
      ],
      "text/plain": [
       "<IPython.core.display.Javascript object>"
      ]
     },
     "metadata": {},
     "output_type": "display_data"
    },
    {
     "data": {
      "text/markdown": [
       "<span style=\"color:#33cc33\">Correct:</span> \n",
       "\n",
       "The gap between these curves is quite small and the validation loss never increases, so it's more likely that the network is underfitting than overfitting. It would be worth experimenting with more capacity to see if that's the case."
      ],
      "text/plain": [
       "Correct: \n",
       "\n",
       "The gap between these curves is quite small and the validation loss never increases, so it's more likely that the network is underfitting than overfitting. It would be worth experimenting with more capacity to see if that's the case."
      ]
     },
     "metadata": {},
     "output_type": "display_data"
    }
   ],
   "source": [
    "# View the solution (Run this cell to receive credit!)\n",
    "q_1.check()"
   ]
  },
  {
   "cell_type": "markdown",
   "id": "639805f2",
   "metadata": {
    "papermill": {
     "duration": 0.005416,
     "end_time": "2022-08-02T20:53:44.969893",
     "exception": false,
     "start_time": "2022-08-02T20:53:44.964477",
     "status": "completed"
    },
    "tags": []
   },
   "source": [
    "Now let's add some capacity to our network. We'll add three hidden layers with 128 units each. Run the next cell to train the network and see the learning curves."
   ]
  },
  {
   "cell_type": "code",
   "execution_count": 6,
   "id": "3b1b3873",
   "metadata": {
    "execution": {
     "iopub.execute_input": "2022-08-02T20:53:44.982309Z",
     "iopub.status.busy": "2022-08-02T20:53:44.982039Z",
     "iopub.status.idle": "2022-08-02T20:53:55.797854Z",
     "shell.execute_reply": "2022-08-02T20:53:55.796871Z"
    },
    "papermill": {
     "duration": 10.824898,
     "end_time": "2022-08-02T20:53:55.800398",
     "exception": false,
     "start_time": "2022-08-02T20:53:44.975500",
     "status": "completed"
    },
    "scrolled": true,
    "tags": []
   },
   "outputs": [
    {
     "name": "stdout",
     "output_type": "stream",
     "text": [
      "Epoch 1/50\n",
      "48/48 [==============================] - 1s 5ms/step - loss: 0.2206 - val_loss: 0.2013\n",
      "Epoch 2/50\n",
      "48/48 [==============================] - 0s 3ms/step - loss: 0.1956 - val_loss: 0.1986\n",
      "Epoch 3/50\n",
      "48/48 [==============================] - 0s 4ms/step - loss: 0.1918 - val_loss: 0.2005\n",
      "Epoch 4/50\n",
      "48/48 [==============================] - 0s 5ms/step - loss: 0.1890 - val_loss: 0.1967\n",
      "Epoch 5/50\n",
      "48/48 [==============================] - 0s 5ms/step - loss: 0.1860 - val_loss: 0.1967\n",
      "Epoch 6/50\n",
      "48/48 [==============================] - 0s 4ms/step - loss: 0.1854 - val_loss: 0.1976\n",
      "Epoch 7/50\n",
      "48/48 [==============================] - 0s 4ms/step - loss: 0.1831 - val_loss: 0.1966\n",
      "Epoch 8/50\n",
      "48/48 [==============================] - 0s 5ms/step - loss: 0.1809 - val_loss: 0.1968\n",
      "Epoch 9/50\n",
      "48/48 [==============================] - 0s 3ms/step - loss: 0.1809 - val_loss: 0.1974\n",
      "Epoch 10/50\n",
      "48/48 [==============================] - 0s 3ms/step - loss: 0.1798 - val_loss: 0.1981\n",
      "Epoch 11/50\n",
      "48/48 [==============================] - 0s 3ms/step - loss: 0.1771 - val_loss: 0.2005\n",
      "Epoch 12/50\n",
      "48/48 [==============================] - 0s 3ms/step - loss: 0.1762 - val_loss: 0.2020\n",
      "Epoch 13/50\n",
      "48/48 [==============================] - 0s 3ms/step - loss: 0.1745 - val_loss: 0.1994\n",
      "Epoch 14/50\n",
      "48/48 [==============================] - 0s 3ms/step - loss: 0.1730 - val_loss: 0.2009\n",
      "Epoch 15/50\n",
      "48/48 [==============================] - 0s 3ms/step - loss: 0.1717 - val_loss: 0.2013\n",
      "Epoch 16/50\n",
      "48/48 [==============================] - 0s 3ms/step - loss: 0.1707 - val_loss: 0.2016\n",
      "Epoch 17/50\n",
      "48/48 [==============================] - 0s 3ms/step - loss: 0.1691 - val_loss: 0.2010\n",
      "Epoch 18/50\n",
      "48/48 [==============================] - 0s 3ms/step - loss: 0.1671 - val_loss: 0.2011\n",
      "Epoch 19/50\n",
      "48/48 [==============================] - 0s 3ms/step - loss: 0.1672 - val_loss: 0.2041\n",
      "Epoch 20/50\n",
      "48/48 [==============================] - 0s 4ms/step - loss: 0.1656 - val_loss: 0.2035\n",
      "Epoch 21/50\n",
      "48/48 [==============================] - 0s 3ms/step - loss: 0.1638 - val_loss: 0.2031\n",
      "Epoch 22/50\n",
      "48/48 [==============================] - 0s 3ms/step - loss: 0.1627 - val_loss: 0.2042\n",
      "Epoch 23/50\n",
      "48/48 [==============================] - 0s 3ms/step - loss: 0.1612 - val_loss: 0.2049\n",
      "Epoch 24/50\n",
      "48/48 [==============================] - 0s 3ms/step - loss: 0.1590 - val_loss: 0.2053\n",
      "Epoch 25/50\n",
      "48/48 [==============================] - 0s 3ms/step - loss: 0.1592 - val_loss: 0.2044\n",
      "Epoch 26/50\n",
      "48/48 [==============================] - 0s 3ms/step - loss: 0.1576 - val_loss: 0.2091\n",
      "Epoch 27/50\n",
      "48/48 [==============================] - 0s 3ms/step - loss: 0.1565 - val_loss: 0.2062\n",
      "Epoch 28/50\n",
      "48/48 [==============================] - 0s 3ms/step - loss: 0.1547 - val_loss: 0.2065\n",
      "Epoch 29/50\n",
      "48/48 [==============================] - 0s 3ms/step - loss: 0.1530 - val_loss: 0.2083\n",
      "Epoch 30/50\n",
      "48/48 [==============================] - 0s 3ms/step - loss: 0.1521 - val_loss: 0.2074\n",
      "Epoch 31/50\n",
      "48/48 [==============================] - 0s 3ms/step - loss: 0.1505 - val_loss: 0.2092\n",
      "Epoch 32/50\n",
      "48/48 [==============================] - 0s 3ms/step - loss: 0.1490 - val_loss: 0.2102\n",
      "Epoch 33/50\n",
      "48/48 [==============================] - 0s 3ms/step - loss: 0.1490 - val_loss: 0.2088\n",
      "Epoch 34/50\n",
      "48/48 [==============================] - 0s 3ms/step - loss: 0.1465 - val_loss: 0.2089\n",
      "Epoch 35/50\n",
      "48/48 [==============================] - 0s 3ms/step - loss: 0.1461 - val_loss: 0.2098\n",
      "Epoch 36/50\n",
      "48/48 [==============================] - 0s 3ms/step - loss: 0.1460 - val_loss: 0.2132\n",
      "Epoch 37/50\n",
      "48/48 [==============================] - 0s 5ms/step - loss: 0.1446 - val_loss: 0.2125\n",
      "Epoch 38/50\n",
      "48/48 [==============================] - 0s 4ms/step - loss: 0.1446 - val_loss: 0.2125\n",
      "Epoch 39/50\n",
      "48/48 [==============================] - 0s 4ms/step - loss: 0.1437 - val_loss: 0.2117\n",
      "Epoch 40/50\n",
      "48/48 [==============================] - 0s 3ms/step - loss: 0.1401 - val_loss: 0.2121\n",
      "Epoch 41/50\n",
      "48/48 [==============================] - 0s 3ms/step - loss: 0.1404 - val_loss: 0.2122\n",
      "Epoch 42/50\n",
      "48/48 [==============================] - 0s 3ms/step - loss: 0.1382 - val_loss: 0.2121\n",
      "Epoch 43/50\n",
      "48/48 [==============================] - 0s 3ms/step - loss: 0.1374 - val_loss: 0.2133\n",
      "Epoch 44/50\n",
      "48/48 [==============================] - 0s 3ms/step - loss: 0.1366 - val_loss: 0.2137\n",
      "Epoch 45/50\n",
      "48/48 [==============================] - 0s 3ms/step - loss: 0.1362 - val_loss: 0.2134\n",
      "Epoch 46/50\n",
      "48/48 [==============================] - 0s 3ms/step - loss: 0.1346 - val_loss: 0.2155\n",
      "Epoch 47/50\n",
      "48/48 [==============================] - 0s 3ms/step - loss: 0.1352 - val_loss: 0.2131\n",
      "Epoch 48/50\n",
      "48/48 [==============================] - 0s 3ms/step - loss: 0.1328 - val_loss: 0.2140\n",
      "Epoch 49/50\n",
      "48/48 [==============================] - 0s 3ms/step - loss: 0.1315 - val_loss: 0.2147\n",
      "Epoch 50/50\n",
      "48/48 [==============================] - 0s 3ms/step - loss: 0.1308 - val_loss: 0.2155\n",
      "Minimum Validation Loss: 0.1966\n"
     ]
    },
    {
     "data": {
      "image/png": "[encoded data removed]",
      "text/plain": [
       "<Figure size 432x288 with 1 Axes>"
      ]
     },
     "metadata": {},
     "output_type": "display_data"
    }
   ],
   "source": [
    "model = keras.Sequential([\n",
    "    layers.Dense(128, activation='relu', input_shape=input_shape),\n",
    "    layers.Dense(128, activation='relu'),\n",
    "    layers.Dense(128, activation='relu'),\n",
    "    layers.Dense(1)\n",
    "])\n",
    "model.compile(\n",
    "    optimizer='adam',\n",
    "    loss='mae',\n",
    ")\n",
    "history = model.fit(\n",
    "    X_train, y_train,\n",
    "    validation_data=(X_valid, y_valid),\n",
    "    batch_size=512,\n",
    "    epochs=50,\n",
    ")\n",
    "history_df = pd.DataFrame(history.history)\n",
    "history_df.loc[:, ['loss', 'val_loss']].plot()\n",
    "print(\"Minimum Validation Loss: {:0.4f}\".format(history_df['val_loss'].min()));"
   ]
  },
  {
   "cell_type": "markdown",
   "id": "1ffa4364",
   "metadata": {
    "papermill": {
     "duration": 0.014622,
     "end_time": "2022-08-02T20:53:55.830806",
     "exception": false,
     "start_time": "2022-08-02T20:53:55.816184",
     "status": "completed"
    },
    "tags": []
   },
   "source": [
    "# 2) Add Capacity\n",
    "\n",
    "What is your evaluation of these curves? Underfitting, overfitting, just right?"
   ]
  },
  {
   "cell_type": "markdown",
   "id": "14c17c40",
   "metadata": {
    "papermill": {
     "duration": 0.014279,
     "end_time": "2022-08-02T20:53:55.859779",
     "exception": false,
     "start_time": "2022-08-02T20:53:55.845500",
     "status": "completed"
    },
    "tags": []
   },
   "source": [
    "Now it seems that they are overfitting, since the training loss keeps decreasing while the validation loss increases."
   ]
  },
  {
   "cell_type": "code",
   "execution_count": 7,
   "id": "30e07420",
   "metadata": {
    "execution": {
     "iopub.execute_input": "2022-08-02T20:53:55.890136Z",
     "iopub.status.busy": "2022-08-02T20:53:55.889819Z",
     "iopub.status.idle": "2022-08-02T20:53:55.897603Z",
     "shell.execute_reply": "2022-08-02T20:53:55.896663Z"
    },
    "papermill": {
     "duration": 0.025495,
     "end_time": "2022-08-02T20:53:55.899682",
     "exception": false,
     "start_time": "2022-08-02T20:53:55.874187",
     "status": "completed"
    },
    "tags": []
   },
   "outputs": [
    {
     "data": {
      "application/javascript": [
       "parent.postMessage({\"jupyterEvent\": \"custom.exercise_interaction\", \"data\": {\"outcomeType\": 1, \"valueTowardsCompletion\": 0.25, \"interactionType\": 1, \"questionType\": 4, \"questionId\": \"2_Q2\", \"learnToolsVersion\": \"0.3.4\", \"failureMessage\": \"\", \"exceptionClass\": \"\", \"trace\": \"\"}}, \"*\")"
      ],
      "text/plain": [
       "<IPython.core.display.Javascript object>"
      ]
     },
     "metadata": {},
     "output_type": "display_data"
    },
    {
     "data": {
      "text/markdown": [
       "<span style=\"color:#33cc33\">Correct:</span> \n",
       "\n",
       "Now the validation loss begins to rise very early, while the training loss continues to decrease. This indicates that the network has begun to overfit. At this point, we would need to try something to prevent it, either by reducing the number of units or through a method like early stopping. (We'll see another in the next lesson!)"
      ],
      "text/plain": [
       "Correct: \n",
       "\n",
       "Now the validation loss begins to rise very early, while the training loss continues to decrease. This indicates that the network has begun to overfit. At this point, we would need to try something to prevent it, either by reducing the number of units or through a method like early stopping. (We'll see another in the next lesson!)"
      ]
     },
     "metadata": {},
     "output_type": "display_data"
    }
   ],
   "source": [
    "# View the solution (Run this cell to receive credit!)\n",
    "q_2.check()"
   ]
  },
  {
   "cell_type": "markdown",
   "id": "da888411",
   "metadata": {
    "papermill": {
     "duration": 0.01495,
     "end_time": "2022-08-02T20:53:55.929233",
     "exception": false,
     "start_time": "2022-08-02T20:53:55.914283",
     "status": "completed"
    },
    "tags": []
   },
   "source": [
    "# 3) Define Early Stopping Callback\n",
    "\n",
    "Now define an early stopping callback that waits 5 epochs (`patience'`) for a change in validation loss of at least `0.001` (`min_delta`) and keeps the weights with the best loss (`restore_best_weights`)."
   ]
  },
  {
   "cell_type": "code",
   "execution_count": 8,
   "id": "1c976505",
   "metadata": {
    "execution": {
     "iopub.execute_input": "2022-08-02T20:53:55.959805Z",
     "iopub.status.busy": "2022-08-02T20:53:55.959509Z",
     "iopub.status.idle": "2022-08-02T20:53:55.970706Z",
     "shell.execute_reply": "2022-08-02T20:53:55.969902Z"
    },
    "lines_to_next_cell": 0,
    "papermill": {
     "duration": 0.028914,
     "end_time": "2022-08-02T20:53:55.972697",
     "exception": false,
     "start_time": "2022-08-02T20:53:55.943783",
     "status": "completed"
    },
    "tags": []
   },
   "outputs": [
    {
     "data": {
      "application/javascript": [
       "parent.postMessage({\"jupyterEvent\": \"custom.exercise_interaction\", \"data\": {\"outcomeType\": 1, \"valueTowardsCompletion\": 0.25, \"interactionType\": 1, \"questionType\": 2, \"questionId\": \"3_Q3\", \"learnToolsVersion\": \"0.3.4\", \"failureMessage\": \"\", \"exceptionClass\": \"\", \"trace\": \"\"}}, \"*\")"
      ],
      "text/plain": [
       "<IPython.core.display.Javascript object>"
      ]
     },
     "metadata": {},
     "output_type": "display_data"
    },
    {
     "data": {
      "text/markdown": [
       "<span style=\"color:#33cc33\">Correct</span>"
      ],
      "text/plain": [
       "Correct"
      ]
     },
     "metadata": {},
     "output_type": "display_data"
    }
   ],
   "source": [
    "from tensorflow.keras import callbacks\n",
    "\n",
    "# YOUR CODE HERE: define an early stopping callback\n",
    "early_stopping = callbacks.EarlyStopping(\n",
    "    min_delta=0.001, # minimium amount of change to count as an improvement\n",
    "    patience=5, # how many epochs to wait before stopping\n",
    "    restore_best_weights=True,\n",
    ")\n",
    "\n",
    "# Check your answer\n",
    "q_3.check()"
   ]
  },
  {
   "cell_type": "code",
   "execution_count": 9,
   "id": "525e70e5",
   "metadata": {
    "execution": {
     "iopub.execute_input": "2022-08-02T20:53:56.004585Z",
     "iopub.status.busy": "2022-08-02T20:53:56.004146Z",
     "iopub.status.idle": "2022-08-02T20:53:56.009179Z",
     "shell.execute_reply": "2022-08-02T20:53:56.008346Z"
    },
    "papermill": {
     "duration": 0.022926,
     "end_time": "2022-08-02T20:53:56.011107",
     "exception": false,
     "start_time": "2022-08-02T20:53:55.988181",
     "status": "completed"
    },
    "tags": []
   },
   "outputs": [],
   "source": [
    "# Lines below will give you a hint or solution code\n",
    "#q_3.hint()\n",
    "#q_3.solution()"
   ]
  },
  {
   "cell_type": "markdown",
   "id": "5f104dc2",
   "metadata": {
    "papermill": {
     "duration": 0.01447,
     "end_time": "2022-08-02T20:53:56.040291",
     "exception": false,
     "start_time": "2022-08-02T20:53:56.025821",
     "status": "completed"
    },
    "tags": []
   },
   "source": [
    "Now run this cell to train the model and get the learning curves. Notice the `callbacks` argument in `model.fit`."
   ]
  },
  {
   "cell_type": "code",
   "execution_count": 10,
   "id": "0a8f23be",
   "metadata": {
    "execution": {
     "iopub.execute_input": "2022-08-02T20:53:56.071714Z",
     "iopub.status.busy": "2022-08-02T20:53:56.070855Z",
     "iopub.status.idle": "2022-08-02T20:53:58.278258Z",
     "shell.execute_reply": "2022-08-02T20:53:58.277345Z"
    },
    "papermill": {
     "duration": 2.225413,
     "end_time": "2022-08-02T20:53:58.280416",
     "exception": false,
     "start_time": "2022-08-02T20:53:56.055003",
     "status": "completed"
    },
    "tags": []
   },
   "outputs": [
    {
     "name": "stdout",
     "output_type": "stream",
     "text": [
      "Epoch 1/50\n",
      "48/48 [==============================] - 1s 5ms/step - loss: 0.3005 - val_loss: 0.2187\n",
      "Epoch 2/50\n",
      "48/48 [==============================] - 0s 3ms/step - loss: 0.2059 - val_loss: 0.2066\n",
      "Epoch 3/50\n",
      "48/48 [==============================] - 0s 3ms/step - loss: 0.1990 - val_loss: 0.2032\n",
      "Epoch 4/50\n",
      "48/48 [==============================] - 0s 3ms/step - loss: 0.1952 - val_loss: 0.2011\n",
      "Epoch 5/50\n",
      "48/48 [==============================] - 0s 3ms/step - loss: 0.1928 - val_loss: 0.2005\n",
      "Epoch 6/50\n",
      "48/48 [==============================] - 0s 4ms/step - loss: 0.1910 - val_loss: 0.1992\n",
      "Epoch 7/50\n",
      "48/48 [==============================] - 0s 3ms/step - loss: 0.1895 - val_loss: 0.1992\n",
      "Epoch 8/50\n",
      "48/48 [==============================] - 0s 3ms/step - loss: 0.1882 - val_loss: 0.1988\n",
      "Epoch 9/50\n",
      "48/48 [==============================] - 0s 3ms/step - loss: 0.1871 - val_loss: 0.1994\n",
      "Epoch 10/50\n",
      "48/48 [==============================] - 0s 3ms/step - loss: 0.1872 - val_loss: 0.1986\n",
      "Epoch 11/50\n",
      "48/48 [==============================] - 0s 3ms/step - loss: 0.1854 - val_loss: 0.1993\n",
      "Minimum Validation Loss: 0.1986\n"
     ]
    },
    {
     "data": {
      "image/png": "[encoded data removed]",
      "text/plain": [
       "<Figure size 432x288 with 1 Axes>"
      ]
     },
     "metadata": {},
     "output_type": "display_data"
    }
   ],
   "source": [
    "model = keras.Sequential([\n",
    "    layers.Dense(128, activation='relu', input_shape=input_shape),\n",
    "    layers.Dense(64, activation='relu'),    \n",
    "    layers.Dense(1)\n",
    "])\n",
    "model.compile(\n",
    "    optimizer='adam',\n",
    "    loss='mae',\n",
    ")\n",
    "history = model.fit(\n",
    "    X_train, y_train,\n",
    "    validation_data=(X_valid, y_valid),\n",
    "    batch_size=512,\n",
    "    epochs=50,\n",
    "    callbacks=[early_stopping]\n",
    ")\n",
    "history_df = pd.DataFrame(history.history)\n",
    "history_df.loc[:, ['loss', 'val_loss']].plot()\n",
    "print(\"Minimum Validation Loss: {:0.4f}\".format(history_df['val_loss'].min()));"
   ]
  },
  {
   "cell_type": "markdown",
   "id": "693ba092",
   "metadata": {
    "papermill": {
     "duration": 0.017406,
     "end_time": "2022-08-02T20:53:58.315351",
     "exception": false,
     "start_time": "2022-08-02T20:53:58.297945",
     "status": "completed"
    },
    "tags": []
   },
   "source": [
    "# 4) Train and Interpret\n",
    "\n",
    "Was this an improvement compared to training without early stopping?"
   ]
  },
  {
   "cell_type": "markdown",
   "id": "d619398a",
   "metadata": {
    "papermill": {
     "duration": 0.017852,
     "end_time": "2022-08-02T20:53:58.350060",
     "exception": false,
     "start_time": "2022-08-02T20:53:58.332208",
     "status": "completed"
    },
    "tags": []
   },
   "source": [
    "We got a model that generalizes better than the simple neural network and, since it stops earlier than the previous one, doesn't overfit, moreover the best weights are returned so that the model that is returned has the minimum validation loss."
   ]
  },
  {
   "cell_type": "code",
   "execution_count": 11,
   "id": "fa7c816b",
   "metadata": {
    "execution": {
     "iopub.execute_input": "2022-08-02T20:53:58.386449Z",
     "iopub.status.busy": "2022-08-02T20:53:58.385773Z",
     "iopub.status.idle": "2022-08-02T20:53:58.393927Z",
     "shell.execute_reply": "2022-08-02T20:53:58.393056Z"
    },
    "papermill": {
     "duration": 0.028524,
     "end_time": "2022-08-02T20:53:58.396002",
     "exception": false,
     "start_time": "2022-08-02T20:53:58.367478",
     "status": "completed"
    },
    "tags": []
   },
   "outputs": [
    {
     "data": {
      "application/javascript": [
       "parent.postMessage({\"jupyterEvent\": \"custom.exercise_interaction\", \"data\": {\"outcomeType\": 1, \"valueTowardsCompletion\": 0.25, \"interactionType\": 1, \"questionType\": 4, \"questionId\": \"4_Q4\", \"learnToolsVersion\": \"0.3.4\", \"failureMessage\": \"\", \"exceptionClass\": \"\", \"trace\": \"\"}}, \"*\")"
      ],
      "text/plain": [
       "<IPython.core.display.Javascript object>"
      ]
     },
     "metadata": {},
     "output_type": "display_data"
    },
    {
     "data": {
      "text/markdown": [
       "<span style=\"color:#33cc33\">Correct:</span> \n",
       "\n",
       "The early stopping callback did stop the training once the network began overfitting. Moreover, by including `restore_best_weights` we still get to keep the model where validation loss was lowest."
      ],
      "text/plain": [
       "Correct: \n",
       "\n",
       "The early stopping callback did stop the training once the network began overfitting. Moreover, by including `restore_best_weights` we still get to keep the model where validation loss was lowest."
      ]
     },
     "metadata": {},
     "output_type": "display_data"
    }
   ],
   "source": [
    "# View the solution (Run this cell to receive credit!)\n",
    "q_4.check()"
   ]
  },
  {
   "cell_type": "markdown",
   "id": "25743f0e",
   "metadata": {
    "papermill": {
     "duration": 0.016846,
     "end_time": "2022-08-02T20:53:58.430150",
     "exception": false,
     "start_time": "2022-08-02T20:53:58.413304",
     "status": "completed"
    },
    "tags": []
   },
   "source": [
    "If you like, try experimenting with `patience` and `min_delta` to see what difference it might make.\n",
    "\n",
    "# Keep Going #\n",
    "\n",
    "Move on to [**learn about a couple of special layers**](https://www.kaggle.com/ryanholbrook/dropout-and-batch-normalization): batch normalization and dropout."
   ]
  },
  {
   "cell_type": "markdown",
   "id": "cce0c3d6",
   "metadata": {
    "papermill": {
     "duration": 0.01681,
     "end_time": "2022-08-02T20:53:58.464030",
     "exception": false,
     "start_time": "2022-08-02T20:53:58.447220",
     "status": "completed"
    },
    "tags": []
   },
   "source": [
    "---\n",
    "\n",
    "\n",
    "\n",
    "\n",
    "*Have questions or comments? Visit the [course discussion forum](https://www.kaggle.com/learn/intro-to-deep-learning/discussion) to chat with other learners.*"
   ]
  }
 ],
 "metadata": {
  "kernelspec": {
   "display_name": "Python 3",
   "language": "python",
   "name": "python3"
  },
  "language_info": {
   "codemirror_mode": {
    "name": "ipython",
    "version": 3
   },
   "file_extension": ".py",
   "mimetype": "text/x-python",
   "name": "python",
   "nbconvert_exporter": "python",
   "pygments_lexer": "ipython3",
   "version": "3.7.12"
  },
  "papermill": {
   "default_parameters": {},
   "duration": 42.45234,
   "end_time": "2022-08-02T20:54:02.198979",
   "environment_variables": {},
   "exception": null,
   "input_path": "__notebook__.ipynb",
   "output_path": "__notebook__.ipynb",
   "parameters": {},
   "start_time": "2022-08-02T20:53:19.746639",
   "version": "2.3.4"
  }
 },
 "nbformat": 4,
 "nbformat_minor": 5
}
