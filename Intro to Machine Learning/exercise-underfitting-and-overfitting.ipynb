{
 "cells": [
  {
   "cell_type": "markdown",
   "id": "5fd851f4",
   "metadata": {
    "papermill": {
     "duration": 0.004775,
     "end_time": "2022-07-05T18:42:26.818023",
     "exception": false,
     "start_time": "2022-07-05T18:42:26.813248",
     "status": "completed"
    },
    "tags": []
   },
   "source": [
    "**This notebook is an exercise in the [Introduction to Machine Learning](https://www.kaggle.com/learn/intro-to-machine-learning) course.  You can reference the tutorial at [this link](https://www.kaggle.com/dansbecker/underfitting-and-overfitting).**\n",
    "\n",
    "---\n"
   ]
  },
  {
   "cell_type": "markdown",
   "id": "a5e0e5ca",
   "metadata": {
    "papermill": {
     "duration": 0.003705,
     "end_time": "2022-07-05T18:42:26.825775",
     "exception": false,
     "start_time": "2022-07-05T18:42:26.822070",
     "status": "completed"
    },
    "tags": []
   },
   "source": [
    "## Recap\n",
    "You've built your first model, and now it's time to optimize the size of the tree to make better predictions. Run this cell to set up your coding environment where the previous step left off."
   ]
  },
  {
   "cell_type": "code",
   "execution_count": 1,
   "id": "33daf266",
   "metadata": {
    "execution": {
     "iopub.execute_input": "2022-07-05T18:42:26.837105Z",
     "iopub.status.busy": "2022-07-05T18:42:26.836014Z",
     "iopub.status.idle": "2022-07-05T18:42:28.320871Z",
     "shell.execute_reply": "2022-07-05T18:42:28.319649Z"
    },
    "papermill": {
     "duration": 1.494003,
     "end_time": "2022-07-05T18:42:28.323798",
     "exception": false,
     "start_time": "2022-07-05T18:42:26.829795",
     "status": "completed"
    },
    "tags": []
   },
   "outputs": [
    {
     "name": "stdout",
     "output_type": "stream",
     "text": [
      "Validation MAE: 29,653\n",
      "\n",
      "Setup complete\n"
     ]
    }
   ],
   "source": [
    "# Code you have previously used to load data\n",
    "import pandas as pd\n",
    "from sklearn.metrics import mean_absolute_error\n",
    "from sklearn.model_selection import train_test_split\n",
    "from sklearn.tree import DecisionTreeRegressor\n",
    "\n",
    "\n",
    "# Path of the file to read\n",
    "iowa_file_path = '../input/home-data-for-ml-course/train.csv'\n",
    "\n",
    "home_data = pd.read_csv(iowa_file_path)\n",
    "# Create target object and call it y\n",
    "y = home_data.SalePrice\n",
    "# Create X\n",
    "features = ['LotArea', 'YearBuilt', '1stFlrSF', '2ndFlrSF', 'FullBath', 'BedroomAbvGr', 'TotRmsAbvGrd']\n",
    "X = home_data[features]\n",
    "\n",
    "# Split into validation and training data\n",
    "train_X, val_X, train_y, val_y = train_test_split(X, y, random_state=1)\n",
    "\n",
    "# Specify Model\n",
    "iowa_model = DecisionTreeRegressor(random_state=1)\n",
    "# Fit Model\n",
    "iowa_model.fit(train_X, train_y)\n",
    "\n",
    "# Make validation predictions and calculate mean absolute error\n",
    "val_predictions = iowa_model.predict(val_X)\n",
    "val_mae = mean_absolute_error(val_predictions, val_y)\n",
    "print(\"Validation MAE: {:,.0f}\".format(val_mae))\n",
    "\n",
    "# Set up code checking\n",
    "from learntools.core import binder\n",
    "binder.bind(globals())\n",
    "from learntools.machine_learning.ex5 import *\n",
    "print(\"\\nSetup complete\")"
   ]
  },
  {
   "cell_type": "markdown",
   "id": "821b581d",
   "metadata": {
    "papermill": {
     "duration": 0.003597,
     "end_time": "2022-07-05T18:42:28.331434",
     "exception": false,
     "start_time": "2022-07-05T18:42:28.327837",
     "status": "completed"
    },
    "tags": []
   },
   "source": [
    "# Exercises\n",
    "You could write the function `get_mae` yourself. For now, we'll supply it. This is the same function you read about in the previous lesson. Just run the cell below."
   ]
  },
  {
   "cell_type": "code",
   "execution_count": 2,
   "id": "dccfc991",
   "metadata": {
    "execution": {
     "iopub.execute_input": "2022-07-05T18:42:28.341222Z",
     "iopub.status.busy": "2022-07-05T18:42:28.340645Z",
     "iopub.status.idle": "2022-07-05T18:42:28.346051Z",
     "shell.execute_reply": "2022-07-05T18:42:28.345216Z"
    },
    "papermill": {
     "duration": 0.013046,
     "end_time": "2022-07-05T18:42:28.348258",
     "exception": false,
     "start_time": "2022-07-05T18:42:28.335212",
     "status": "completed"
    },
    "tags": []
   },
   "outputs": [],
   "source": [
    "def get_mae(max_leaf_nodes, train_X, val_X, train_y, val_y):\n",
    "    model = DecisionTreeRegressor(max_leaf_nodes=max_leaf_nodes, random_state=0)\n",
    "    model.fit(train_X, train_y)\n",
    "    preds_val = model.predict(val_X)\n",
    "    mae = mean_absolute_error(val_y, preds_val)\n",
    "    return(mae)"
   ]
  },
  {
   "cell_type": "markdown",
   "id": "9f4c3a06",
   "metadata": {
    "papermill": {
     "duration": 0.003901,
     "end_time": "2022-07-05T18:42:28.356170",
     "exception": false,
     "start_time": "2022-07-05T18:42:28.352269",
     "status": "completed"
    },
    "tags": []
   },
   "source": [
    "## Step 1: Compare Different Tree Sizes\n",
    "Write a loop that tries the following values for *max_leaf_nodes* from a set of possible values.\n",
    "\n",
    "Call the *get_mae* function on each value of max_leaf_nodes. Store the output in some way that allows you to select the value of `max_leaf_nodes` that gives the most accurate model on your data."
   ]
  },
  {
   "cell_type": "code",
   "execution_count": 3,
   "id": "89f4d7b0",
   "metadata": {
    "execution": {
     "iopub.execute_input": "2022-07-05T18:42:28.366138Z",
     "iopub.status.busy": "2022-07-05T18:42:28.365405Z",
     "iopub.status.idle": "2022-07-05T18:42:28.440016Z",
     "shell.execute_reply": "2022-07-05T18:42:28.438469Z"
    },
    "papermill": {
     "duration": 0.082821,
     "end_time": "2022-07-05T18:42:28.442912",
     "exception": false,
     "start_time": "2022-07-05T18:42:28.360091",
     "status": "completed"
    },
    "tags": []
   },
   "outputs": [
    {
     "name": "stdout",
     "output_type": "stream",
     "text": [
      "5\n",
      "25\n",
      "50\n",
      "100\n",
      "100\n",
      "100\n"
     ]
    },
    {
     "data": {
      "application/javascript": [
       "parent.postMessage({\"jupyterEvent\": \"custom.exercise_interaction\", \"data\": {\"outcomeType\": 1, \"valueTowardsCompletion\": 0.5, \"interactionType\": 1, \"questionType\": 1, \"questionId\": \"1_BestTreeSize\", \"learnToolsVersion\": \"0.3.4\", \"failureMessage\": \"\", \"exceptionClass\": \"\", \"trace\": \"\"}}, \"*\")"
      ],
      "text/plain": [
       "<IPython.core.display.Javascript object>"
      ]
     },
     "metadata": {},
     "output_type": "display_data"
    },
    {
     "data": {
      "text/markdown": [
       "<span style=\"color:#33cc33\">Correct</span>"
      ],
      "text/plain": [
       "Correct"
      ]
     },
     "metadata": {},
     "output_type": "display_data"
    }
   ],
   "source": [
    "candidate_max_leaf_nodes = [5, 25, 50, 100, 250, 500]\n",
    "# Write loop to find the ideal tree size from candidate_max_leaf_nodes\n",
    "min_mae = 200000\n",
    "for ml_node in candidate_max_leaf_nodes:\n",
    "    if get_mae(ml_node, train_X, val_X, train_y, val_y) < min_mae:\n",
    "        best_ln = ml_node\n",
    "        min_mae = get_mae(ml_node, train_X, val_X, train_y, val_y)\n",
    "    print(best_ln)\n",
    "# Store the best value of max_leaf_nodes (it will be either 5, 25, 50, 100, 250 or 500)\n",
    "best_tree_size = best_ln\n",
    "\n",
    "# Check your answer\n",
    "step_1.check()"
   ]
  },
  {
   "cell_type": "code",
   "execution_count": 4,
   "id": "7a3465e2",
   "metadata": {
    "execution": {
     "iopub.execute_input": "2022-07-05T18:42:28.454292Z",
     "iopub.status.busy": "2022-07-05T18:42:28.453899Z",
     "iopub.status.idle": "2022-07-05T18:42:28.458470Z",
     "shell.execute_reply": "2022-07-05T18:42:28.457159Z"
    },
    "papermill": {
     "duration": 0.014182,
     "end_time": "2022-07-05T18:42:28.461590",
     "exception": false,
     "start_time": "2022-07-05T18:42:28.447408",
     "status": "completed"
    },
    "tags": []
   },
   "outputs": [],
   "source": [
    "# The lines below will show you a hint or the solution.\n",
    "# step_1.hint() \n",
    "# step_1.solution()"
   ]
  },
  {
   "cell_type": "markdown",
   "id": "5ffbe771",
   "metadata": {
    "papermill": {
     "duration": 0.004066,
     "end_time": "2022-07-05T18:42:28.470212",
     "exception": false,
     "start_time": "2022-07-05T18:42:28.466146",
     "status": "completed"
    },
    "tags": []
   },
   "source": [
    "## Step 2: Fit Model Using All Data\n",
    "You know the best tree size. If you were going to deploy this model in practice, you would make it even more accurate by using all of the data and keeping that tree size.  That is, you don't need to hold out the validation data now that you've made all your modeling decisions."
   ]
  },
  {
   "cell_type": "code",
   "execution_count": 5,
   "id": "adfd1a47",
   "metadata": {
    "execution": {
     "iopub.execute_input": "2022-07-05T18:42:28.481247Z",
     "iopub.status.busy": "2022-07-05T18:42:28.480668Z",
     "iopub.status.idle": "2022-07-05T18:42:28.496978Z",
     "shell.execute_reply": "2022-07-05T18:42:28.496165Z"
    },
    "papermill": {
     "duration": 0.025425,
     "end_time": "2022-07-05T18:42:28.499956",
     "exception": false,
     "start_time": "2022-07-05T18:42:28.474531",
     "status": "completed"
    },
    "tags": []
   },
   "outputs": [
    {
     "data": {
      "application/javascript": [
       "parent.postMessage({\"jupyterEvent\": \"custom.exercise_interaction\", \"data\": {\"outcomeType\": 1, \"valueTowardsCompletion\": 0.5, \"interactionType\": 1, \"questionType\": 2, \"questionId\": \"2_FitModelWithAllData\", \"learnToolsVersion\": \"0.3.4\", \"failureMessage\": \"\", \"exceptionClass\": \"\", \"trace\": \"\"}}, \"*\")"
      ],
      "text/plain": [
       "<IPython.core.display.Javascript object>"
      ]
     },
     "metadata": {},
     "output_type": "display_data"
    },
    {
     "data": {
      "text/markdown": [
       "<span style=\"color:#33cc33\">Correct</span>"
      ],
      "text/plain": [
       "Correct"
      ]
     },
     "metadata": {},
     "output_type": "display_data"
    }
   ],
   "source": [
    "# Fill in argument to make optimal size and uncomment\n",
    "final_model = DecisionTreeRegressor(max_leaf_nodes = best_ln , random_state = 1)\n",
    "\n",
    "# fit the final model and uncomment the next two lines\n",
    "final_model.fit(X, y)\n",
    "\n",
    "# Check your answer\n",
    "step_2.check()"
   ]
  },
  {
   "cell_type": "code",
   "execution_count": 6,
   "id": "d1d5afe3",
   "metadata": {
    "execution": {
     "iopub.execute_input": "2022-07-05T18:42:28.512859Z",
     "iopub.status.busy": "2022-07-05T18:42:28.511582Z",
     "iopub.status.idle": "2022-07-05T18:42:28.516244Z",
     "shell.execute_reply": "2022-07-05T18:42:28.515361Z"
    },
    "papermill": {
     "duration": 0.013651,
     "end_time": "2022-07-05T18:42:28.518466",
     "exception": false,
     "start_time": "2022-07-05T18:42:28.504815",
     "status": "completed"
    },
    "tags": []
   },
   "outputs": [],
   "source": [
    "# step_2.hint()\n",
    "# step_2.solution()"
   ]
  },
  {
   "cell_type": "markdown",
   "id": "c108d504",
   "metadata": {
    "papermill": {
     "duration": 0.004431,
     "end_time": "2022-07-05T18:42:28.527585",
     "exception": false,
     "start_time": "2022-07-05T18:42:28.523154",
     "status": "completed"
    },
    "tags": []
   },
   "source": [
    "You've tuned this model and improved your results. But we are still using Decision Tree models, which are not very sophisticated by modern machine learning standards. In the next step you will learn to use Random Forests to improve your models even more.\n",
    "\n",
    "# Keep Going\n",
    "\n",
    "You are ready for **[Random Forests](https://www.kaggle.com/dansbecker/random-forests).**\n"
   ]
  },
  {
   "cell_type": "markdown",
   "id": "a65fcf01",
   "metadata": {
    "papermill": {
     "duration": 0.004591,
     "end_time": "2022-07-05T18:42:28.536801",
     "exception": false,
     "start_time": "2022-07-05T18:42:28.532210",
     "status": "completed"
    },
    "tags": []
   },
   "source": [
    "---\n",
    "\n",
    "\n",
    "\n",
    "\n",
    "*Have questions or comments? Visit the [course discussion forum](https://www.kaggle.com/learn/intro-to-machine-learning/discussion) to chat with other learners.*"
   ]
  }
 ],
 "metadata": {
  "kernelspec": {
   "display_name": "Python 3",
   "language": "python",
   "name": "python3"
  },
  "language_info": {
   "codemirror_mode": {
    "name": "ipython",
    "version": 3
   },
   "file_extension": ".py",
   "mimetype": "text/x-python",
   "name": "python",
   "nbconvert_exporter": "python",
   "pygments_lexer": "ipython3",
   "version": "3.7.12"
  },
  "papermill": {
   "default_parameters": {},
   "duration": 12.830749,
   "end_time": "2022-07-05T18:42:29.263566",
   "environment_variables": {},
   "exception": null,
   "input_path": "__notebook__.ipynb",
   "output_path": "__notebook__.ipynb",
   "parameters": {},
   "start_time": "2022-07-05T18:42:16.432817",
   "version": "2.3.4"
  }
 },
 "nbformat": 4,
 "nbformat_minor": 5
}
