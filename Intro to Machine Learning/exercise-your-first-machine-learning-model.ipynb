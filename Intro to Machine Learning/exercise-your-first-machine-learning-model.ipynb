{
 "cells": [
  {
   "cell_type": "markdown",
   "id": "df1259fa",
   "metadata": {
    "papermill": {
     "duration": 0.011011,
     "end_time": "2022-07-05T17:55:03.743370",
     "exception": false,
     "start_time": "2022-07-05T17:55:03.732359",
     "status": "completed"
    },
    "tags": []
   },
   "source": [
    "**This notebook is an exercise in the [Introduction to Machine Learning](https://www.kaggle.com/learn/intro-to-machine-learning) course.  You can reference the tutorial at [this link](https://www.kaggle.com/dansbecker/your-first-machine-learning-model).**\n",
    "\n",
    "---\n"
   ]
  },
  {
   "cell_type": "markdown",
   "id": "8ec0fa9c",
   "metadata": {
    "papermill": {
     "duration": 0.004707,
     "end_time": "2022-07-05T17:55:03.754624",
     "exception": false,
     "start_time": "2022-07-05T17:55:03.749917",
     "status": "completed"
    },
    "tags": []
   },
   "source": [
    "## Recap\n",
    "So far, you have loaded your data and reviewed it with the following code. Run this cell to set up your coding environment where the previous step left off."
   ]
  },
  {
   "cell_type": "code",
   "execution_count": 1,
   "id": "98155e2e",
   "metadata": {
    "execution": {
     "iopub.execute_input": "2022-07-05T17:55:03.767243Z",
     "iopub.status.busy": "2022-07-05T17:55:03.766487Z",
     "iopub.status.idle": "2022-07-05T17:55:05.778183Z",
     "shell.execute_reply": "2022-07-05T17:55:05.775162Z"
    },
    "papermill": {
     "duration": 2.022924,
     "end_time": "2022-07-05T17:55:05.782697",
     "exception": false,
     "start_time": "2022-07-05T17:55:03.759773",
     "status": "completed"
    },
    "tags": []
   },
   "outputs": [
    {
     "name": "stdout",
     "output_type": "stream",
     "text": [
      "Setup Complete\n"
     ]
    }
   ],
   "source": [
    "# Code you have previously used to load data\n",
    "import pandas as pd\n",
    "\n",
    "# Path of the file to read\n",
    "iowa_file_path = '../input/home-data-for-ml-course/train.csv'\n",
    "\n",
    "home_data = pd.read_csv(iowa_file_path)\n",
    "\n",
    "# Set up code checking\n",
    "from learntools.core import binder\n",
    "binder.bind(globals())\n",
    "from learntools.machine_learning.ex3 import *\n",
    "\n",
    "print(\"Setup Complete\")"
   ]
  },
  {
   "cell_type": "markdown",
   "id": "7b880c76",
   "metadata": {
    "papermill": {
     "duration": 0.010764,
     "end_time": "2022-07-05T17:55:05.805148",
     "exception": false,
     "start_time": "2022-07-05T17:55:05.794384",
     "status": "completed"
    },
    "tags": []
   },
   "source": [
    "# Exercises\n",
    "\n",
    "## Step 1: Specify Prediction Target\n",
    "Select the target variable, which corresponds to the sales price. Save this to a new variable called `y`. You'll need to print a list of the columns to find the name of the column you need.\n"
   ]
  },
  {
   "cell_type": "code",
   "execution_count": 2,
   "id": "2fc14a0f",
   "metadata": {
    "execution": {
     "iopub.execute_input": "2022-07-05T17:55:05.826499Z",
     "iopub.status.busy": "2022-07-05T17:55:05.825335Z",
     "iopub.status.idle": "2022-07-05T17:55:05.840082Z",
     "shell.execute_reply": "2022-07-05T17:55:05.838349Z"
    },
    "papermill": {
     "duration": 0.029942,
     "end_time": "2022-07-05T17:55:05.844417",
     "exception": false,
     "start_time": "2022-07-05T17:55:05.814475",
     "status": "completed"
    },
    "tags": []
   },
   "outputs": [
    {
     "data": {
      "text/plain": [
       "Index(['Id', 'MSSubClass', 'MSZoning', 'LotFrontage', 'LotArea', 'Street',\n",
       "       'Alley', 'LotShape', 'LandContour', 'Utilities', 'LotConfig',\n",
       "       'LandSlope', 'Neighborhood', 'Condition1', 'Condition2', 'BldgType',\n",
       "       'HouseStyle', 'OverallQual', 'OverallCond', 'YearBuilt', 'YearRemodAdd',\n",
       "       'RoofStyle', 'RoofMatl', 'Exterior1st', 'Exterior2nd', 'MasVnrType',\n",
       "       'MasVnrArea', 'ExterQual', 'ExterCond', 'Foundation', 'BsmtQual',\n",
       "       'BsmtCond', 'BsmtExposure', 'BsmtFinType1', 'BsmtFinSF1',\n",
       "       'BsmtFinType2', 'BsmtFinSF2', 'BsmtUnfSF', 'TotalBsmtSF', 'Heating',\n",
       "       'HeatingQC', 'CentralAir', 'Electrical', '1stFlrSF', '2ndFlrSF',\n",
       "       'LowQualFinSF', 'GrLivArea', 'BsmtFullBath', 'BsmtHalfBath', 'FullBath',\n",
       "       'HalfBath', 'BedroomAbvGr', 'KitchenAbvGr', 'KitchenQual',\n",
       "       'TotRmsAbvGrd', 'Functional', 'Fireplaces', 'FireplaceQu', 'GarageType',\n",
       "       'GarageYrBlt', 'GarageFinish', 'GarageCars', 'GarageArea', 'GarageQual',\n",
       "       'GarageCond', 'PavedDrive', 'WoodDeckSF', 'OpenPorchSF',\n",
       "       'EnclosedPorch', '3SsnPorch', 'ScreenPorch', 'PoolArea', 'PoolQC',\n",
       "       'Fence', 'MiscFeature', 'MiscVal', 'MoSold', 'YrSold', 'SaleType',\n",
       "       'SaleCondition', 'SalePrice'],\n",
       "      dtype='object')"
      ]
     },
     "execution_count": 2,
     "metadata": {},
     "output_type": "execute_result"
    }
   ],
   "source": [
    "# print the list of columns in the dataset to find the name of the prediction target\n",
    "home_data.columns"
   ]
  },
  {
   "cell_type": "code",
   "execution_count": 3,
   "id": "90ff9410",
   "metadata": {
    "execution": {
     "iopub.execute_input": "2022-07-05T17:55:05.859724Z",
     "iopub.status.busy": "2022-07-05T17:55:05.859196Z",
     "iopub.status.idle": "2022-07-05T17:55:05.878699Z",
     "shell.execute_reply": "2022-07-05T17:55:05.877205Z"
    },
    "papermill": {
     "duration": 0.03039,
     "end_time": "2022-07-05T17:55:05.881706",
     "exception": false,
     "start_time": "2022-07-05T17:55:05.851316",
     "status": "completed"
    },
    "tags": []
   },
   "outputs": [
    {
     "data": {
      "application/javascript": [
       "parent.postMessage({\"jupyterEvent\": \"custom.exercise_interaction\", \"data\": {\"outcomeType\": 1, \"valueTowardsCompletion\": 0.25, \"interactionType\": 1, \"questionType\": 2, \"questionId\": \"1_SetTarget\", \"learnToolsVersion\": \"0.3.4\", \"failureMessage\": \"\", \"exceptionClass\": \"\", \"trace\": \"\"}}, \"*\")"
      ],
      "text/plain": [
       "<IPython.core.display.Javascript object>"
      ]
     },
     "metadata": {},
     "output_type": "display_data"
    },
    {
     "data": {
      "text/markdown": [
       "<span style=\"color:#33cc33\">Correct</span>"
      ],
      "text/plain": [
       "Correct"
      ]
     },
     "metadata": {},
     "output_type": "display_data"
    }
   ],
   "source": [
    "y = home_data.SalePrice\n",
    "\n",
    "# Check your answer\n",
    "step_1.check()"
   ]
  },
  {
   "cell_type": "code",
   "execution_count": 4,
   "id": "0e648c4c",
   "metadata": {
    "execution": {
     "iopub.execute_input": "2022-07-05T17:55:05.907751Z",
     "iopub.status.busy": "2022-07-05T17:55:05.906756Z",
     "iopub.status.idle": "2022-07-05T17:55:05.915259Z",
     "shell.execute_reply": "2022-07-05T17:55:05.909842Z"
    },
    "papermill": {
     "duration": 0.025858,
     "end_time": "2022-07-05T17:55:05.918237",
     "exception": false,
     "start_time": "2022-07-05T17:55:05.892379",
     "status": "completed"
    },
    "tags": []
   },
   "outputs": [],
   "source": [
    "# The lines below will show you a hint or the solution.\n",
    "# step_1.hint() \n",
    "# step_1.solution()"
   ]
  },
  {
   "cell_type": "markdown",
   "id": "c534a583",
   "metadata": {
    "papermill": {
     "duration": 0.005808,
     "end_time": "2022-07-05T17:55:05.931672",
     "exception": false,
     "start_time": "2022-07-05T17:55:05.925864",
     "status": "completed"
    },
    "tags": []
   },
   "source": [
    "## Step 2: Create X\n",
    "Now you will create a DataFrame called `X` holding the predictive features.\n",
    "\n",
    "Since you want only some columns from the original data, you'll first create a list with the names of the columns you want in `X`.\n",
    "\n",
    "You'll use just the following columns in the list (you can copy and paste the whole list to save some typing, though you'll still need to add quotes):\n",
    "  * LotArea\n",
    "  * YearBuilt\n",
    "  * 1stFlrSF\n",
    "  * 2ndFlrSF\n",
    "  * FullBath\n",
    "  * BedroomAbvGr\n",
    "  * TotRmsAbvGrd\n",
    "\n",
    "After you've created that list of features, use it to create the DataFrame that you'll use to fit the model."
   ]
  },
  {
   "cell_type": "code",
   "execution_count": 5,
   "id": "c03c80ae",
   "metadata": {
    "execution": {
     "iopub.execute_input": "2022-07-05T17:55:05.947368Z",
     "iopub.status.busy": "2022-07-05T17:55:05.946909Z",
     "iopub.status.idle": "2022-07-05T17:55:05.970955Z",
     "shell.execute_reply": "2022-07-05T17:55:05.969214Z"
    },
    "papermill": {
     "duration": 0.035693,
     "end_time": "2022-07-05T17:55:05.973997",
     "exception": false,
     "start_time": "2022-07-05T17:55:05.938304",
     "status": "completed"
    },
    "tags": []
   },
   "outputs": [
    {
     "data": {
      "application/javascript": [
       "parent.postMessage({\"jupyterEvent\": \"custom.exercise_interaction\", \"data\": {\"outcomeType\": 1, \"valueTowardsCompletion\": 0.25, \"interactionType\": 1, \"questionType\": 2, \"questionId\": \"2_SelectPredictionData\", \"learnToolsVersion\": \"0.3.4\", \"failureMessage\": \"\", \"exceptionClass\": \"\", \"trace\": \"\"}}, \"*\")"
      ],
      "text/plain": [
       "<IPython.core.display.Javascript object>"
      ]
     },
     "metadata": {},
     "output_type": "display_data"
    },
    {
     "data": {
      "text/markdown": [
       "<span style=\"color:#33cc33\">Correct</span>"
      ],
      "text/plain": [
       "Correct"
      ]
     },
     "metadata": {},
     "output_type": "display_data"
    }
   ],
   "source": [
    "# Create the list of features below\n",
    "feature_names = ['LotArea','YearBuilt','1stFlrSF','2ndFlrSF','FullBath','BedroomAbvGr','TotRmsAbvGrd']\n",
    "\n",
    "# Select data corresponding to features in feature_names\n",
    "X = home_data[feature_names]\n",
    "\n",
    "# Check your answer\n",
    "step_2.check()"
   ]
  },
  {
   "cell_type": "code",
   "execution_count": 6,
   "id": "4e4cec92",
   "metadata": {
    "execution": {
     "iopub.execute_input": "2022-07-05T17:55:05.995757Z",
     "iopub.status.busy": "2022-07-05T17:55:05.995259Z",
     "iopub.status.idle": "2022-07-05T17:55:06.001368Z",
     "shell.execute_reply": "2022-07-05T17:55:05.999253Z"
    },
    "papermill": {
     "duration": 0.021343,
     "end_time": "2022-07-05T17:55:06.005195",
     "exception": false,
     "start_time": "2022-07-05T17:55:05.983852",
     "status": "completed"
    },
    "tags": []
   },
   "outputs": [],
   "source": [
    "# step_2.hint()\n",
    "# step_2.solution()"
   ]
  },
  {
   "cell_type": "markdown",
   "id": "4411262c",
   "metadata": {
    "papermill": {
     "duration": 0.009586,
     "end_time": "2022-07-05T17:55:06.025146",
     "exception": false,
     "start_time": "2022-07-05T17:55:06.015560",
     "status": "completed"
    },
    "tags": []
   },
   "source": [
    "## Review Data\n",
    "Before building a model, take a quick look at **X** to verify it looks sensible"
   ]
  },
  {
   "cell_type": "code",
   "execution_count": 7,
   "id": "cdf655e9",
   "metadata": {
    "execution": {
     "iopub.execute_input": "2022-07-05T17:55:06.049186Z",
     "iopub.status.busy": "2022-07-05T17:55:06.048519Z",
     "iopub.status.idle": "2022-07-05T17:55:06.102214Z",
     "shell.execute_reply": "2022-07-05T17:55:06.099577Z"
    },
    "papermill": {
     "duration": 0.069227,
     "end_time": "2022-07-05T17:55:06.105700",
     "exception": false,
     "start_time": "2022-07-05T17:55:06.036473",
     "status": "completed"
    },
    "tags": []
   },
   "outputs": [
    {
     "name": "stdout",
     "output_type": "stream",
     "text": [
      "             LotArea    YearBuilt     1stFlrSF     2ndFlrSF     FullBath  \\\n",
      "count    1460.000000  1460.000000  1460.000000  1460.000000  1460.000000   \n",
      "mean    10516.828082  1971.267808  1162.626712   346.992466     1.565068   \n",
      "std      9981.264932    30.202904   386.587738   436.528436     0.550916   \n",
      "min      1300.000000  1872.000000   334.000000     0.000000     0.000000   \n",
      "25%      7553.500000  1954.000000   882.000000     0.000000     1.000000   \n",
      "50%      9478.500000  1973.000000  1087.000000     0.000000     2.000000   \n",
      "75%     11601.500000  2000.000000  1391.250000   728.000000     2.000000   \n",
      "max    215245.000000  2010.000000  4692.000000  2065.000000     3.000000   \n",
      "\n",
      "       BedroomAbvGr  TotRmsAbvGrd  \n",
      "count   1460.000000   1460.000000  \n",
      "mean       2.866438      6.517808  \n",
      "std        0.815778      1.625393  \n",
      "min        0.000000      2.000000  \n",
      "25%        2.000000      5.000000  \n",
      "50%        3.000000      6.000000  \n",
      "75%        3.000000      7.000000  \n",
      "max        8.000000     14.000000  \n",
      "   LotArea  YearBuilt  1stFlrSF  2ndFlrSF  FullBath  BedroomAbvGr  \\\n",
      "0     8450       2003       856       854         2             3   \n",
      "1     9600       1976      1262         0         2             3   \n",
      "2    11250       2001       920       866         2             3   \n",
      "3     9550       1915       961       756         1             3   \n",
      "4    14260       2000      1145      1053         2             4   \n",
      "\n",
      "   TotRmsAbvGrd  \n",
      "0             8  \n",
      "1             6  \n",
      "2             6  \n",
      "3             7  \n",
      "4             9  \n"
     ]
    }
   ],
   "source": [
    "# Review data\n",
    "# print description or statistics from X\n",
    "#print(_)\n",
    "print(X.describe())\n",
    "# print the top few lines\n",
    "#print(_)\n",
    "print(X.head())"
   ]
  },
  {
   "cell_type": "markdown",
   "id": "68a395ba",
   "metadata": {
    "papermill": {
     "duration": 0.011082,
     "end_time": "2022-07-05T17:55:06.126418",
     "exception": false,
     "start_time": "2022-07-05T17:55:06.115336",
     "status": "completed"
    },
    "tags": []
   },
   "source": [
    "## Step 3: Specify and Fit Model\n",
    "Create a `DecisionTreeRegressor` and save it iowa_model. Ensure you've done the relevant import from sklearn to run this command.\n",
    "\n",
    "Then fit the model you just created using the data in `X` and `y` that you saved above."
   ]
  },
  {
   "cell_type": "code",
   "execution_count": 8,
   "id": "2b1b37b6",
   "metadata": {
    "execution": {
     "iopub.execute_input": "2022-07-05T17:55:06.148395Z",
     "iopub.status.busy": "2022-07-05T17:55:06.148021Z",
     "iopub.status.idle": "2022-07-05T17:55:06.172884Z",
     "shell.execute_reply": "2022-07-05T17:55:06.171845Z"
    },
    "papermill": {
     "duration": 0.039036,
     "end_time": "2022-07-05T17:55:06.175235",
     "exception": false,
     "start_time": "2022-07-05T17:55:06.136199",
     "status": "completed"
    },
    "tags": []
   },
   "outputs": [
    {
     "data": {
      "application/javascript": [
       "parent.postMessage({\"jupyterEvent\": \"custom.exercise_interaction\", \"data\": {\"outcomeType\": 1, \"valueTowardsCompletion\": 0.25, \"interactionType\": 1, \"questionType\": 2, \"questionId\": \"3_CreateModel\", \"learnToolsVersion\": \"0.3.4\", \"failureMessage\": \"\", \"exceptionClass\": \"\", \"trace\": \"\"}}, \"*\")"
      ],
      "text/plain": [
       "<IPython.core.display.Javascript object>"
      ]
     },
     "metadata": {},
     "output_type": "display_data"
    },
    {
     "data": {
      "text/markdown": [
       "<span style=\"color:#33cc33\">Correct</span>"
      ],
      "text/plain": [
       "Correct"
      ]
     },
     "metadata": {},
     "output_type": "display_data"
    }
   ],
   "source": [
    "# from _ import _\n",
    "#specify the model. \n",
    "#For model reproducibility, set a numeric value for random_state when specifying the model\n",
    "from sklearn.tree import DecisionTreeRegressor\n",
    " \n",
    "iowa_model = DecisionTreeRegressor(random_state = 141)\n",
    "\n",
    "# Fit the model\n",
    "iowa_model.fit(X,y)\n",
    "\n",
    "# Check your answer\n",
    "step_3.check()"
   ]
  },
  {
   "cell_type": "code",
   "execution_count": 9,
   "id": "ea3e8e2f",
   "metadata": {
    "execution": {
     "iopub.execute_input": "2022-07-05T17:55:06.197859Z",
     "iopub.status.busy": "2022-07-05T17:55:06.197380Z",
     "iopub.status.idle": "2022-07-05T17:55:06.203377Z",
     "shell.execute_reply": "2022-07-05T17:55:06.202053Z"
    },
    "papermill": {
     "duration": 0.020731,
     "end_time": "2022-07-05T17:55:06.206329",
     "exception": false,
     "start_time": "2022-07-05T17:55:06.185598",
     "status": "completed"
    },
    "tags": []
   },
   "outputs": [],
   "source": [
    "# step_3.hint()\n",
    "# step_3.solution()"
   ]
  },
  {
   "cell_type": "markdown",
   "id": "4c495069",
   "metadata": {
    "papermill": {
     "duration": 0.010225,
     "end_time": "2022-07-05T17:55:06.227358",
     "exception": false,
     "start_time": "2022-07-05T17:55:06.217133",
     "status": "completed"
    },
    "tags": []
   },
   "source": [
    "## Step 4: Make Predictions\n",
    "Make predictions with the model's `predict` command using `X` as the data. Save the results to a variable called `predictions`."
   ]
  },
  {
   "cell_type": "code",
   "execution_count": 10,
   "id": "7843e3f7",
   "metadata": {
    "execution": {
     "iopub.execute_input": "2022-07-05T17:55:06.252960Z",
     "iopub.status.busy": "2022-07-05T17:55:06.251003Z",
     "iopub.status.idle": "2022-07-05T17:55:06.267501Z",
     "shell.execute_reply": "2022-07-05T17:55:06.266497Z"
    },
    "papermill": {
     "duration": 0.030929,
     "end_time": "2022-07-05T17:55:06.270581",
     "exception": false,
     "start_time": "2022-07-05T17:55:06.239652",
     "status": "completed"
    },
    "tags": []
   },
   "outputs": [
    {
     "name": "stdout",
     "output_type": "stream",
     "text": [
      "[208500. 181500. 223500. ... 266500. 142125. 147500.]\n"
     ]
    },
    {
     "data": {
      "application/javascript": [
       "parent.postMessage({\"jupyterEvent\": \"custom.exercise_interaction\", \"data\": {\"outcomeType\": 1, \"valueTowardsCompletion\": 0.25, \"interactionType\": 1, \"questionType\": 2, \"questionId\": \"4_MakePredictions\", \"learnToolsVersion\": \"0.3.4\", \"failureMessage\": \"\", \"exceptionClass\": \"\", \"trace\": \"\"}}, \"*\")"
      ],
      "text/plain": [
       "<IPython.core.display.Javascript object>"
      ]
     },
     "metadata": {},
     "output_type": "display_data"
    },
    {
     "data": {
      "text/markdown": [
       "<span style=\"color:#33cc33\">Correct</span>"
      ],
      "text/plain": [
       "Correct"
      ]
     },
     "metadata": {},
     "output_type": "display_data"
    }
   ],
   "source": [
    "predictions = iowa_model.predict(X)\n",
    "print(predictions)\n",
    "\n",
    "# Check your answer\n",
    "step_4.check()"
   ]
  },
  {
   "cell_type": "code",
   "execution_count": 11,
   "id": "83468bbe",
   "metadata": {
    "execution": {
     "iopub.execute_input": "2022-07-05T17:55:06.294792Z",
     "iopub.status.busy": "2022-07-05T17:55:06.293314Z",
     "iopub.status.idle": "2022-07-05T17:55:06.300669Z",
     "shell.execute_reply": "2022-07-05T17:55:06.298863Z"
    },
    "papermill": {
     "duration": 0.02274,
     "end_time": "2022-07-05T17:55:06.303850",
     "exception": false,
     "start_time": "2022-07-05T17:55:06.281110",
     "status": "completed"
    },
    "tags": []
   },
   "outputs": [],
   "source": [
    "# step_4.hint()\n",
    "# step_4.solution()"
   ]
  },
  {
   "cell_type": "markdown",
   "id": "58866274",
   "metadata": {
    "papermill": {
     "duration": 0.011741,
     "end_time": "2022-07-05T17:55:06.326381",
     "exception": false,
     "start_time": "2022-07-05T17:55:06.314640",
     "status": "completed"
    },
    "tags": []
   },
   "source": [
    "## Think About Your Results\n",
    "\n",
    "Use the `head` method to compare the top few predictions to the actual home values (in `y`) for those same homes. Anything surprising?\n"
   ]
  },
  {
   "cell_type": "code",
   "execution_count": 12,
   "id": "f6508000",
   "metadata": {
    "execution": {
     "iopub.execute_input": "2022-07-05T17:55:06.352146Z",
     "iopub.status.busy": "2022-07-05T17:55:06.350913Z",
     "iopub.status.idle": "2022-07-05T17:55:06.357384Z",
     "shell.execute_reply": "2022-07-05T17:55:06.356552Z"
    },
    "papermill": {
     "duration": 0.023284,
     "end_time": "2022-07-05T17:55:06.360908",
     "exception": false,
     "start_time": "2022-07-05T17:55:06.337624",
     "status": "completed"
    },
    "tags": []
   },
   "outputs": [
    {
     "name": "stdout",
     "output_type": "stream",
     "text": [
      "0    208500\n",
      "1    181500\n",
      "2    223500\n",
      "3    140000\n",
      "4    250000\n",
      "5    143000\n",
      "Name: SalePrice, dtype: int64\n",
      "[208500. 181500. 223500. 140000. 250000. 143000.]\n"
     ]
    }
   ],
   "source": [
    "# You can write code in this cell\n",
    "print(y[:6])\n",
    "print(predictions[:6])"
   ]
  },
  {
   "cell_type": "markdown",
   "id": "e6d750ad",
   "metadata": {
    "papermill": {
     "duration": 0.010501,
     "end_time": "2022-07-05T17:55:06.382672",
     "exception": false,
     "start_time": "2022-07-05T17:55:06.372171",
     "status": "completed"
    },
    "tags": []
   },
   "source": [
    "The predctions are matching the real value, it might have to do with the fact that the model is training and predcting the same data."
   ]
  },
  {
   "cell_type": "markdown",
   "id": "f94940b0",
   "metadata": {
    "papermill": {
     "duration": 0.011545,
     "end_time": "2022-07-05T17:55:06.405836",
     "exception": false,
     "start_time": "2022-07-05T17:55:06.394291",
     "status": "completed"
    },
    "tags": []
   },
   "source": [
    "It's natural to ask how accurate the model's predictions will be and how you can improve that. That will be you're next step.\n",
    "\n",
    "# Keep Going\n",
    "\n",
    "You are ready for **[Model Validation](https://www.kaggle.com/dansbecker/model-validation).**\n"
   ]
  },
  {
   "cell_type": "markdown",
   "id": "5a3cc853",
   "metadata": {
    "papermill": {
     "duration": 0.010838,
     "end_time": "2022-07-05T17:55:06.428355",
     "exception": false,
     "start_time": "2022-07-05T17:55:06.417517",
     "status": "completed"
    },
    "tags": []
   },
   "source": [
    "---\n",
    "\n",
    "\n",
    "\n",
    "\n",
    "*Have questions or comments? Visit the [course discussion forum](https://www.kaggle.com/learn/intro-to-machine-learning/discussion) to chat with other learners.*"
   ]
  }
 ],
 "metadata": {
  "kernelspec": {
   "display_name": "Python 3",
   "language": "python",
   "name": "python3"
  },
  "language_info": {
   "codemirror_mode": {
    "name": "ipython",
    "version": 3
   },
   "file_extension": ".py",
   "mimetype": "text/x-python",
   "name": "python",
   "nbconvert_exporter": "python",
   "pygments_lexer": "ipython3",
   "version": "3.7.12"
  },
  "papermill": {
   "default_parameters": {},
   "duration": 18.748363,
   "end_time": "2022-07-05T17:55:07.565169",
   "environment_variables": {},
   "exception": null,
   "input_path": "__notebook__.ipynb",
   "output_path": "__notebook__.ipynb",
   "parameters": {},
   "start_time": "2022-07-05T17:54:48.816806",
   "version": "2.3.4"
  }
 },
 "nbformat": 4,
 "nbformat_minor": 5
}
