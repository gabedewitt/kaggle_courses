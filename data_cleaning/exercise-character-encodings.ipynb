{
 "cells": [
  {
   "cell_type": "markdown",
   "id": "fafc1bcf",
   "metadata": {
    "papermill": {
     "duration": 0.006041,
     "end_time": "2022-07-04T19:53:29.382675",
     "exception": false,
     "start_time": "2022-07-04T19:53:29.376634",
     "status": "completed"
    },
    "tags": []
   },
   "source": [
    "**This notebook is an exercise in the [Data Cleaning](https://www.kaggle.com/learn/data-cleaning) course.  You can reference the tutorial at [this link](https://www.kaggle.com/alexisbcook/character-encodings).**\n",
    "\n",
    "---\n"
   ]
  },
  {
   "cell_type": "markdown",
   "id": "1591f6b3",
   "metadata": {
    "papermill": {
     "duration": 0.007784,
     "end_time": "2022-07-04T19:53:29.397812",
     "exception": false,
     "start_time": "2022-07-04T19:53:29.390028",
     "status": "completed"
    },
    "tags": []
   },
   "source": [
    "In this exercise, you'll apply what you learned in the **Character encodings** tutorial.\n",
    "\n",
    "# Setup\n",
    "\n",
    "The questions below will give you feedback on your work. Run the following cell to set up the feedback system."
   ]
  },
  {
   "cell_type": "code",
   "execution_count": 1,
   "id": "c511e86b",
   "metadata": {
    "execution": {
     "iopub.execute_input": "2022-07-04T19:53:29.416632Z",
     "iopub.status.busy": "2022-07-04T19:53:29.414736Z",
     "iopub.status.idle": "2022-07-04T19:53:29.515570Z",
     "shell.execute_reply": "2022-07-04T19:53:29.514170Z"
    },
    "papermill": {
     "duration": 0.11386,
     "end_time": "2022-07-04T19:53:29.518795",
     "exception": false,
     "start_time": "2022-07-04T19:53:29.404935",
     "status": "completed"
    },
    "tags": []
   },
   "outputs": [
    {
     "name": "stdout",
     "output_type": "stream",
     "text": [
      "Setup Complete\n"
     ]
    }
   ],
   "source": [
    "from learntools.core import binder\n",
    "binder.bind(globals())\n",
    "from learntools.data_cleaning.ex4 import *\n",
    "print(\"Setup Complete\")"
   ]
  },
  {
   "cell_type": "markdown",
   "id": "79ea1715",
   "metadata": {
    "papermill": {
     "duration": 0.005247,
     "end_time": "2022-07-04T19:53:29.529135",
     "exception": false,
     "start_time": "2022-07-04T19:53:29.523888",
     "status": "completed"
    },
    "tags": []
   },
   "source": [
    "# Get our environment set up\n",
    "\n",
    "The first thing we'll need to do is load in the libraries we'll be using."
   ]
  },
  {
   "cell_type": "code",
   "execution_count": 2,
   "id": "9ece165c",
   "metadata": {
    "execution": {
     "iopub.execute_input": "2022-07-04T19:53:29.542339Z",
     "iopub.status.busy": "2022-07-04T19:53:29.541307Z",
     "iopub.status.idle": "2022-07-04T19:53:29.548627Z",
     "shell.execute_reply": "2022-07-04T19:53:29.547334Z"
    },
    "papermill": {
     "duration": 0.017177,
     "end_time": "2022-07-04T19:53:29.551254",
     "exception": false,
     "start_time": "2022-07-04T19:53:29.534077",
     "status": "completed"
    },
    "tags": []
   },
   "outputs": [],
   "source": [
    "# modules we'll use\n",
    "import pandas as pd\n",
    "import numpy as np\n",
    "\n",
    "# helpful character encoding module\n",
    "import chardet\n",
    "\n",
    "# set seed for reproducibility\n",
    "np.random.seed(0)"
   ]
  },
  {
   "cell_type": "markdown",
   "id": "1b5365e2",
   "metadata": {
    "papermill": {
     "duration": 0.00473,
     "end_time": "2022-07-04T19:53:29.561141",
     "exception": false,
     "start_time": "2022-07-04T19:53:29.556411",
     "status": "completed"
    },
    "tags": []
   },
   "source": [
    "# 1) What are encodings?\n",
    "\n",
    "You're working with a dataset composed of bytes.  Run the code cell below to print a sample entry."
   ]
  },
  {
   "cell_type": "code",
   "execution_count": 3,
   "id": "2450973b",
   "metadata": {
    "execution": {
     "iopub.execute_input": "2022-07-04T19:53:29.573687Z",
     "iopub.status.busy": "2022-07-04T19:53:29.572805Z",
     "iopub.status.idle": "2022-07-04T19:53:29.579798Z",
     "shell.execute_reply": "2022-07-04T19:53:29.578457Z"
    },
    "papermill": {
     "duration": 0.017225,
     "end_time": "2022-07-04T19:53:29.583269",
     "exception": false,
     "start_time": "2022-07-04T19:53:29.566044",
     "status": "completed"
    },
    "tags": []
   },
   "outputs": [
    {
     "name": "stdout",
     "output_type": "stream",
     "text": [
      "b'\\xa7A\\xa6n'\n",
      "data type: <class 'bytes'>\n"
     ]
    }
   ],
   "source": [
    "sample_entry = b'\\xa7A\\xa6n'\n",
    "print(sample_entry)\n",
    "print('data type:', type(sample_entry))"
   ]
  },
  {
   "cell_type": "markdown",
   "id": "28f0be55",
   "metadata": {
    "papermill": {
     "duration": 0.004522,
     "end_time": "2022-07-04T19:53:29.592961",
     "exception": false,
     "start_time": "2022-07-04T19:53:29.588439",
     "status": "completed"
    },
    "tags": []
   },
   "source": [
    "You notice that it doesn't use the standard UTF-8 encoding. \n",
    "\n",
    "Use the next code cell to create a variable `new_entry` that changes the encoding from `\"big5-tw\"` to `\"utf-8\"`.  `new_entry` should have the bytes datatype."
   ]
  },
  {
   "cell_type": "code",
   "execution_count": 4,
   "id": "df74ab20",
   "metadata": {
    "execution": {
     "iopub.execute_input": "2022-07-04T19:53:29.605110Z",
     "iopub.status.busy": "2022-07-04T19:53:29.604258Z",
     "iopub.status.idle": "2022-07-04T19:53:29.616247Z",
     "shell.execute_reply": "2022-07-04T19:53:29.615303Z"
    },
    "papermill": {
     "duration": 0.020656,
     "end_time": "2022-07-04T19:53:29.618466",
     "exception": false,
     "start_time": "2022-07-04T19:53:29.597810",
     "status": "completed"
    },
    "tags": []
   },
   "outputs": [
    {
     "data": {
      "application/javascript": [
       "parent.postMessage({\"jupyterEvent\": \"custom.exercise_interaction\", \"data\": {\"outcomeType\": 1, \"valueTowardsCompletion\": 0.3333333333333333, \"interactionType\": 1, \"questionType\": 1, \"questionId\": \"1_EncodingsIntro\", \"learnToolsVersion\": \"0.3.4\", \"failureMessage\": \"\", \"exceptionClass\": \"\", \"trace\": \"\"}}, \"*\")"
      ],
      "text/plain": [
       "<IPython.core.display.Javascript object>"
      ]
     },
     "metadata": {},
     "output_type": "display_data"
    },
    {
     "data": {
      "text/markdown": [
       "<span style=\"color:#33cc33\">Correct</span>"
      ],
      "text/plain": [
       "Correct"
      ]
     },
     "metadata": {},
     "output_type": "display_data"
    }
   ],
   "source": [
    "new_entry = sample_entry.decode(\"big5-tw\").encode(\"utf-8\", errors=\"replace\")\n",
    "\n",
    "# Check your answer\n",
    "q1.check()"
   ]
  },
  {
   "cell_type": "code",
   "execution_count": 5,
   "id": "e82ecef7",
   "metadata": {
    "execution": {
     "iopub.execute_input": "2022-07-04T19:53:29.630364Z",
     "iopub.status.busy": "2022-07-04T19:53:29.629953Z",
     "iopub.status.idle": "2022-07-04T19:53:29.639187Z",
     "shell.execute_reply": "2022-07-04T19:53:29.638026Z"
    },
    "papermill": {
     "duration": 0.018006,
     "end_time": "2022-07-04T19:53:29.641361",
     "exception": false,
     "start_time": "2022-07-04T19:53:29.623355",
     "status": "completed"
    },
    "tags": []
   },
   "outputs": [
    {
     "data": {
      "application/javascript": [
       "parent.postMessage({\"jupyterEvent\": \"custom.exercise_interaction\", \"data\": {\"interactionType\": 2, \"questionType\": 1, \"questionId\": \"1_EncodingsIntro\", \"learnToolsVersion\": \"0.3.4\", \"valueTowardsCompletion\": 0.0, \"failureMessage\": \"\", \"exceptionClass\": \"\", \"trace\": \"\", \"outcomeType\": 4}}, \"*\")"
      ],
      "text/plain": [
       "<IPython.core.display.Javascript object>"
      ]
     },
     "metadata": {},
     "output_type": "display_data"
    },
    {
     "data": {
      "text/markdown": [
       "<span style=\"color:#3366cc\">Hint:</span> Try using `.decode()` to get the string, then `.encode()` to get the bytes representation, encoded in UTF-8."
      ],
      "text/plain": [
       "Hint: Try using `.decode()` to get the string, then `.encode()` to get the bytes representation, encoded in UTF-8."
      ]
     },
     "metadata": {},
     "output_type": "display_data"
    }
   ],
   "source": [
    "# Lines below will give you a hint or solution code\n",
    "q1.hint()\n",
    "#q1.solution()"
   ]
  },
  {
   "cell_type": "markdown",
   "id": "49c8c6ff",
   "metadata": {
    "papermill": {
     "duration": 0.005168,
     "end_time": "2022-07-04T19:53:29.651699",
     "exception": false,
     "start_time": "2022-07-04T19:53:29.646531",
     "status": "completed"
    },
    "tags": []
   },
   "source": [
    "# 2) Reading in files with encoding problems\n",
    "\n",
    "Use the code cell below to read in this file at path `\"../input/fatal-police-shootings-in-the-us/PoliceKillingsUS.csv\"`.  \n",
    "\n",
    "Figure out what the correct encoding should be and read in the file to a DataFrame `police_killings`."
   ]
  },
  {
   "cell_type": "code",
   "execution_count": 6,
   "id": "6a42c24f",
   "metadata": {
    "execution": {
     "iopub.execute_input": "2022-07-04T19:53:29.665128Z",
     "iopub.status.busy": "2022-07-04T19:53:29.664229Z",
     "iopub.status.idle": "2022-07-04T19:53:29.693215Z",
     "shell.execute_reply": "2022-07-04T19:53:29.691952Z"
    },
    "papermill": {
     "duration": 0.038113,
     "end_time": "2022-07-04T19:53:29.695301",
     "exception": false,
     "start_time": "2022-07-04T19:53:29.657188",
     "status": "completed"
    },
    "tags": []
   },
   "outputs": [
    {
     "data": {
      "application/javascript": [
       "parent.postMessage({\"jupyterEvent\": \"custom.exercise_interaction\", \"data\": {\"outcomeType\": 1, \"valueTowardsCompletion\": 0.3333333333333333, \"interactionType\": 1, \"questionType\": 1, \"questionId\": \"2_ReadIn\", \"learnToolsVersion\": \"0.3.4\", \"failureMessage\": \"\", \"exceptionClass\": \"\", \"trace\": \"\"}}, \"*\")"
      ],
      "text/plain": [
       "<IPython.core.display.Javascript object>"
      ]
     },
     "metadata": {},
     "output_type": "display_data"
    },
    {
     "data": {
      "text/markdown": [
       "<span style=\"color:#33cc33\">Correct</span>"
      ],
      "text/plain": [
       "Correct"
      ]
     },
     "metadata": {},
     "output_type": "display_data"
    }
   ],
   "source": [
    "# TODO: Load in the DataFrame correctly.\n",
    "police_killings = pd.read_csv(\"../input/fatal-police-shootings-in-the-us/PoliceKillingsUS.csv\", encoding = 'Windows-1252')\n",
    "\n",
    "# Check your answer\n",
    "q2.check()"
   ]
  },
  {
   "cell_type": "markdown",
   "id": "20cd25d9",
   "metadata": {
    "papermill": {
     "duration": 0.005037,
     "end_time": "2022-07-04T19:53:29.705795",
     "exception": false,
     "start_time": "2022-07-04T19:53:29.700758",
     "status": "completed"
    },
    "tags": []
   },
   "source": [
    "Feel free to use any additional code cells for supplemental work.  To get credit for finishing this question, you'll need to run `q2.check()` and get a result of **Correct**."
   ]
  },
  {
   "cell_type": "code",
   "execution_count": 7,
   "id": "25ad955e",
   "metadata": {
    "execution": {
     "iopub.execute_input": "2022-07-04T19:53:29.719958Z",
     "iopub.status.busy": "2022-07-04T19:53:29.719081Z",
     "iopub.status.idle": "2022-07-04T19:53:31.619934Z",
     "shell.execute_reply": "2022-07-04T19:53:31.618550Z"
    },
    "papermill": {
     "duration": 1.91132,
     "end_time": "2022-07-04T19:53:31.623236",
     "exception": false,
     "start_time": "2022-07-04T19:53:29.711916",
     "status": "completed"
    },
    "tags": []
   },
   "outputs": [
    {
     "name": "stdout",
     "output_type": "stream",
     "text": [
      "{'encoding': 'Windows-1252', 'confidence': 0.73, 'language': ''}\n"
     ]
    }
   ],
   "source": [
    "# (Optional) Use this code cell for any additional work.\n",
    "# figuring out which encode the file uses\n",
    "\n",
    "with open(\"../input/fatal-police-shootings-in-the-us/PoliceKillingsUS.csv\", 'rb') as rawdata:\n",
    "    result = chardet.detect(rawdata.read())\n",
    "\n",
    "# check what the character encoding might be\n",
    "print(result)"
   ]
  },
  {
   "cell_type": "code",
   "execution_count": 8,
   "id": "c5e24f34",
   "metadata": {
    "execution": {
     "iopub.execute_input": "2022-07-04T19:53:31.636752Z",
     "iopub.status.busy": "2022-07-04T19:53:31.636314Z",
     "iopub.status.idle": "2022-07-04T19:53:31.641264Z",
     "shell.execute_reply": "2022-07-04T19:53:31.639998Z"
    },
    "papermill": {
     "duration": 0.01451,
     "end_time": "2022-07-04T19:53:31.643443",
     "exception": false,
     "start_time": "2022-07-04T19:53:31.628933",
     "status": "completed"
    },
    "tags": []
   },
   "outputs": [],
   "source": [
    "# Lines below will give you a hint or solution code\n",
    "#q2.hint()\n",
    "#q2.solution()"
   ]
  },
  {
   "cell_type": "markdown",
   "id": "dbef3335",
   "metadata": {
    "papermill": {
     "duration": 0.005405,
     "end_time": "2022-07-04T19:53:31.654659",
     "exception": false,
     "start_time": "2022-07-04T19:53:31.649254",
     "status": "completed"
    },
    "tags": []
   },
   "source": [
    "# 3) Saving your files with UTF-8 encoding\n",
    "\n",
    "Save a version of the police killings dataset to CSV with UTF-8 encoding.  Your answer will be marked correct after saving this file.  \n",
    "\n",
    "Note: When using the `to_csv()` method, supply only the name of the file (e.g., `\"my_file.csv\"`).  This saves the file at the filepath `\"/kaggle/working/my_file.csv\"`."
   ]
  },
  {
   "cell_type": "code",
   "execution_count": 9,
   "id": "aa6004cd",
   "metadata": {
    "execution": {
     "iopub.execute_input": "2022-07-04T19:53:31.668954Z",
     "iopub.status.busy": "2022-07-04T19:53:31.668099Z",
     "iopub.status.idle": "2022-07-04T19:53:31.703335Z",
     "shell.execute_reply": "2022-07-04T19:53:31.702025Z"
    },
    "papermill": {
     "duration": 0.044787,
     "end_time": "2022-07-04T19:53:31.705730",
     "exception": false,
     "start_time": "2022-07-04T19:53:31.660943",
     "status": "completed"
    },
    "tags": []
   },
   "outputs": [
    {
     "data": {
      "application/javascript": [
       "parent.postMessage({\"jupyterEvent\": \"custom.exercise_interaction\", \"data\": {\"outcomeType\": 1, \"valueTowardsCompletion\": 0.3333333333333333, \"interactionType\": 1, \"questionType\": 2, \"questionId\": \"3_SaveCSV\", \"learnToolsVersion\": \"0.3.4\", \"failureMessage\": \"\", \"exceptionClass\": \"\", \"trace\": \"\"}}, \"*\")"
      ],
      "text/plain": [
       "<IPython.core.display.Javascript object>"
      ]
     },
     "metadata": {},
     "output_type": "display_data"
    },
    {
     "data": {
      "text/markdown": [
       "<span style=\"color:#33cc33\">Correct</span>"
      ],
      "text/plain": [
       "Correct"
      ]
     },
     "metadata": {},
     "output_type": "display_data"
    }
   ],
   "source": [
    "# TODO: Save the police killings dataset to CSV\n",
    "police_killings.to_csv(\"my_file.csv\")\n",
    "\n",
    "# Check your answer\n",
    "q3.check()"
   ]
  },
  {
   "cell_type": "code",
   "execution_count": 10,
   "id": "35ef5d9d",
   "metadata": {
    "execution": {
     "iopub.execute_input": "2022-07-04T19:53:31.720386Z",
     "iopub.status.busy": "2022-07-04T19:53:31.719616Z",
     "iopub.status.idle": "2022-07-04T19:53:31.723726Z",
     "shell.execute_reply": "2022-07-04T19:53:31.722723Z"
    },
    "papermill": {
     "duration": 0.014248,
     "end_time": "2022-07-04T19:53:31.725975",
     "exception": false,
     "start_time": "2022-07-04T19:53:31.711727",
     "status": "completed"
    },
    "tags": []
   },
   "outputs": [],
   "source": [
    "# Lines below will give you a hint or solution code\n",
    "#q3.hint()\n",
    "#q3.solution()"
   ]
  },
  {
   "cell_type": "markdown",
   "id": "50b9114d",
   "metadata": {
    "papermill": {
     "duration": 0.005948,
     "end_time": "2022-07-04T19:53:31.738131",
     "exception": false,
     "start_time": "2022-07-04T19:53:31.732183",
     "status": "completed"
    },
    "tags": []
   },
   "source": [
    "# (Optional) More practice\n",
    "\n",
    "Check out [this dataset of files in different character encodings](https://www.kaggle.com/rtatman/character-encoding-examples). Can you read in all the files with their original encodings and them save them out as UTF-8 files?\n",
    "\n",
    "If you have a file that's in UTF-8 but has just a couple of weird-looking characters in it, you can try out the [ftfy module](https://ftfy.readthedocs.io/en/latest/#) and see if it helps. \n",
    "\n",
    "# Keep going\n",
    "\n",
    "In the final lesson, learn how to [**clean up inconsistent text entries**](https://www.kaggle.com/alexisbcook/inconsistent-data-entry) in your dataset."
   ]
  },
  {
   "cell_type": "code",
   "execution_count": 11,
   "id": "37daee0c",
   "metadata": {
    "execution": {
     "iopub.execute_input": "2022-07-04T19:53:31.753076Z",
     "iopub.status.busy": "2022-07-04T19:53:31.751980Z",
     "iopub.status.idle": "2022-07-04T19:53:32.557396Z",
     "shell.execute_reply": "2022-07-04T19:53:32.555305Z"
    },
    "papermill": {
     "duration": 0.816258,
     "end_time": "2022-07-04T19:53:32.560391",
     "exception": false,
     "start_time": "2022-07-04T19:53:31.744133",
     "status": "completed"
    },
    "tags": []
   },
   "outputs": [
    {
     "name": "stdout",
     "output_type": "stream",
     "text": [
      "{'encoding': 'ISO-8859-1', 'confidence': 0.6763685978169605, 'language': ''}\n",
      "{'encoding': 'ascii', 'confidence': 1.0, 'language': ''}\n",
      "{'encoding': 'windows-1251', 'confidence': 0.99, 'language': 'Bulgarian'}\n",
      "{'encoding': 'ISO-8859-1', 'confidence': 0.7298085018675127, 'language': ''}\n",
      "{'encoding': 'UTF-8-SIG', 'confidence': 1.0, 'language': ''}\n",
      "{'encoding': 'Big5', 'confidence': 0.99, 'language': 'Chinese'}\n"
     ]
    }
   ],
   "source": [
    "# (Optional) Use this code cell for any additional work.\n",
    "# figuring out which encode the file uses\n",
    "\n",
    "with open(\"../input/character-encoding-examples/die_ISO-8859-1.txt\", 'rb') as rawdata:\n",
    "    result1 = chardet.detect(rawdata.read())\n",
    "\n",
    "with open(\"../input/character-encoding-examples/harpers_ASCII.txt\", 'rb') as rawdata:\n",
    "    result2 = chardet.detect(rawdata.read())    \n",
    "\n",
    "with open(\"../input/character-encoding-examples/olaf_Windows-1251.txt\", 'rb') as rawdata:\n",
    "    result3 = chardet.detect(rawdata.read())    \n",
    "    \n",
    "with open(\"../input/character-encoding-examples/portugal_ISO-8859-1.txt\", 'rb') as rawdata:\n",
    "    result4 = chardet.detect(rawdata.read())        \n",
    "\n",
    "with open(\"../input/character-encoding-examples/shisei_UTF-8.txt\", 'rb') as rawdata:\n",
    "    result5 = chardet.detect(rawdata.read())      \n",
    "\n",
    "with open(\"../input/character-encoding-examples/yan_BIG-5.txt\", 'rb') as rawdata:\n",
    "    result6 = chardet.detect(rawdata.read())        \n",
    "    \n",
    "# check what the character encoding might be\n",
    "print(result1)\n",
    "print(result2)\n",
    "print(result3)\n",
    "print(result4)\n",
    "print(result5)\n",
    "print(result6)"
   ]
  },
  {
   "cell_type": "code",
   "execution_count": 12,
   "id": "fadd1067",
   "metadata": {
    "execution": {
     "iopub.execute_input": "2022-07-04T19:53:32.575753Z",
     "iopub.status.busy": "2022-07-04T19:53:32.574568Z",
     "iopub.status.idle": "2022-07-04T19:53:32.642580Z",
     "shell.execute_reply": "2022-07-04T19:53:32.641422Z"
    },
    "papermill": {
     "duration": 0.079047,
     "end_time": "2022-07-04T19:53:32.645720",
     "exception": false,
     "start_time": "2022-07-04T19:53:32.566673",
     "status": "completed"
    },
    "tags": []
   },
   "outputs": [],
   "source": [
    "df_1 = pd.read_fwf(\"../input/character-encoding-examples/die_ISO-8859-1.txt\", encoding = \"ISO-8859-1\")\n",
    "df_2 = pd.read_fwf(\"../input/character-encoding-examples/harpers_ASCII.txt\", encoding = \"ascii\")\n",
    "df_3 = pd.read_fwf(\"../input/character-encoding-examples/olaf_Windows-1251.txt\", encoding = \"windows-1251\")\n",
    "df_4 = pd.read_fwf(\"../input/character-encoding-examples/portugal_ISO-8859-1.txt\", encoding = \"ISO-8859-1\")\n",
    "df_5 = pd.read_fwf(\"../input/character-encoding-examples/shisei_UTF-8.txt\", encoding = \"UTF-8-SIG\")\n",
    "df_6 = pd.read_fwf(\"../input/character-encoding-examples/yan_BIG-5.txt\", encoding = \"Big5\")"
   ]
  },
  {
   "cell_type": "code",
   "execution_count": 13,
   "id": "298dc6b6",
   "metadata": {
    "execution": {
     "iopub.execute_input": "2022-07-04T19:53:32.660546Z",
     "iopub.status.busy": "2022-07-04T19:53:32.660045Z",
     "iopub.status.idle": "2022-07-04T19:53:32.673330Z",
     "shell.execute_reply": "2022-07-04T19:53:32.672086Z"
    },
    "papermill": {
     "duration": 0.024579,
     "end_time": "2022-07-04T19:53:32.676573",
     "exception": false,
     "start_time": "2022-07-04T19:53:32.651994",
     "status": "completed"
    },
    "tags": []
   },
   "outputs": [
    {
     "name": "stdout",
     "output_type": "stream",
     "text": [
      "     The Project Gutenberg EBook of Die Fürstin, by Kasimir Edschmid\n",
      "0     This eBook is for the use of anyone anywhere a...             \n",
      "1     almost no restrictions whatsoever.  You may co...             \n",
      "2     re-use it under the terms of the Project Guten...             \n",
      "3        with this eBook or online at www.gutenberg.net             \n",
      "4                                    Title: Die Fürstin             \n",
      "...                                                 ...             \n",
      "1286                           http://www.gutenberg.net             \n",
      "1287  This Web site includes information about Proje...             \n",
      "1288  including how to make donations to the Project...             \n",
      "1289  Archive Foundation, how to help produce our ne...             \n",
      "1290  subscribe to our email newsletter to hear abou...             \n",
      "\n",
      "[1291 rows x 1 columns]\n"
     ]
    }
   ],
   "source": [
    "print(df_1)"
   ]
  },
  {
   "cell_type": "code",
   "execution_count": 14,
   "id": "997793c5",
   "metadata": {
    "execution": {
     "iopub.execute_input": "2022-07-04T19:53:32.692076Z",
     "iopub.status.busy": "2022-07-04T19:53:32.691361Z",
     "iopub.status.idle": "2022-07-04T19:53:32.732978Z",
     "shell.execute_reply": "2022-07-04T19:53:32.731369Z"
    },
    "papermill": {
     "duration": 0.052806,
     "end_time": "2022-07-04T19:53:32.736139",
     "exception": false,
     "start_time": "2022-07-04T19:53:32.683333",
     "status": "completed"
    },
    "tags": []
   },
   "outputs": [],
   "source": [
    "df_1.to_csv(\"die_ISO-8859-1.csv\")\n",
    "df_2.to_csv(\"harpers_ASCII.csv\")\n",
    "df_3.to_csv(\"olaf_Windows-1251.csv\")\n",
    "df_4.to_csv(\"portugal_ISO-8859-1.csv\")\n",
    "df_5.to_csv(\"shisei_UTF-8.csv\")\n",
    "df_6.to_csv(\"yan_BIG-5.csv\")"
   ]
  },
  {
   "cell_type": "markdown",
   "id": "69922053",
   "metadata": {
    "papermill": {
     "duration": 0.006356,
     "end_time": "2022-07-04T19:53:32.749069",
     "exception": false,
     "start_time": "2022-07-04T19:53:32.742713",
     "status": "completed"
    },
    "tags": []
   },
   "source": [
    "---\n",
    "\n",
    "\n",
    "\n",
    "\n",
    "*Have questions or comments? Visit the [course discussion forum](https://www.kaggle.com/learn/data-cleaning/discussion) to chat with other learners.*"
   ]
  }
 ],
 "metadata": {
  "kernelspec": {
   "display_name": "Python 3",
   "language": "python",
   "name": "python3"
  },
  "language_info": {
   "codemirror_mode": {
    "name": "ipython",
    "version": 3
   },
   "file_extension": ".py",
   "mimetype": "text/x-python",
   "name": "python",
   "nbconvert_exporter": "python",
   "pygments_lexer": "ipython3",
   "version": "3.7.12"
  },
  "papermill": {
   "default_parameters": {},
   "duration": 13.920999,
   "end_time": "2022-07-04T19:53:33.681658",
   "environment_variables": {},
   "exception": null,
   "input_path": "__notebook__.ipynb",
   "output_path": "__notebook__.ipynb",
   "parameters": {},
   "start_time": "2022-07-04T19:53:19.760659",
   "version": "2.3.4"
  }
 },
 "nbformat": 4,
 "nbformat_minor": 5
}
