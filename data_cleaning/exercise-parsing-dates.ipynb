{
 "cells": [
  {
   "cell_type": "markdown",
   "id": "bd708b2e",
   "metadata": {
    "papermill": {
     "duration": 0.009572,
     "end_time": "2022-07-01T20:20:39.796592",
     "exception": false,
     "start_time": "2022-07-01T20:20:39.787020",
     "status": "completed"
    },
    "tags": []
   },
   "source": [
    "**This notebook is an exercise in the [Data Cleaning](https://www.kaggle.com/learn/data-cleaning) course.  You can reference the tutorial at [this link](https://www.kaggle.com/alexisbcook/parsing-dates).**\n",
    "\n",
    "---\n"
   ]
  },
  {
   "cell_type": "markdown",
   "id": "84482f0d",
   "metadata": {
    "papermill": {
     "duration": 0.006631,
     "end_time": "2022-07-01T20:20:39.810650",
     "exception": false,
     "start_time": "2022-07-01T20:20:39.804019",
     "status": "completed"
    },
    "tags": []
   },
   "source": [
    "In this exercise, you'll apply what you learned in the **Parsing dates** tutorial.\n",
    "\n",
    "# Setup\n",
    "\n",
    "The questions below will give you feedback on your work. Run the following cell to set up the feedback system."
   ]
  },
  {
   "cell_type": "code",
   "execution_count": 1,
   "id": "012e8fd5",
   "metadata": {
    "execution": {
     "iopub.execute_input": "2022-07-01T20:20:39.829301Z",
     "iopub.status.busy": "2022-07-01T20:20:39.828613Z",
     "iopub.status.idle": "2022-07-01T20:20:41.293136Z",
     "shell.execute_reply": "2022-07-01T20:20:41.291461Z"
    },
    "papermill": {
     "duration": 1.47737,
     "end_time": "2022-07-01T20:20:41.296190",
     "exception": false,
     "start_time": "2022-07-01T20:20:39.818820",
     "status": "completed"
    },
    "tags": []
   },
   "outputs": [
    {
     "name": "stdout",
     "output_type": "stream",
     "text": [
      "Setup Complete\n"
     ]
    }
   ],
   "source": [
    "from learntools.core import binder\n",
    "binder.bind(globals())\n",
    "from learntools.data_cleaning.ex3 import *\n",
    "print(\"Setup Complete\")"
   ]
  },
  {
   "cell_type": "markdown",
   "id": "422edcf4",
   "metadata": {
    "papermill": {
     "duration": 0.006874,
     "end_time": "2022-07-01T20:20:41.310498",
     "exception": false,
     "start_time": "2022-07-01T20:20:41.303624",
     "status": "completed"
    },
    "tags": []
   },
   "source": [
    "# Get our environment set up\n",
    "\n",
    "The first thing we'll need to do is load in the libraries and dataset we'll be using. We'll be working with a dataset containing information on earthquakes that occured between 1965 and 2016."
   ]
  },
  {
   "cell_type": "code",
   "execution_count": 2,
   "id": "dee029a3",
   "metadata": {
    "execution": {
     "iopub.execute_input": "2022-07-01T20:20:41.327930Z",
     "iopub.status.busy": "2022-07-01T20:20:41.327476Z",
     "iopub.status.idle": "2022-07-01T20:20:41.442235Z",
     "shell.execute_reply": "2022-07-01T20:20:41.440337Z"
    },
    "papermill": {
     "duration": 0.12731,
     "end_time": "2022-07-01T20:20:41.445399",
     "exception": false,
     "start_time": "2022-07-01T20:20:41.318089",
     "status": "completed"
    },
    "tags": []
   },
   "outputs": [],
   "source": [
    "# modules we'll use\n",
    "import pandas as pd\n",
    "import numpy as np\n",
    "import seaborn as sns\n",
    "import datetime\n",
    "\n",
    "# read in our data\n",
    "earthquakes = pd.read_csv(\"../input/earthquake-database/database.csv\")\n",
    "\n",
    "# set seed for reproducibility\n",
    "np.random.seed(0)"
   ]
  },
  {
   "cell_type": "markdown",
   "id": "af2f0668",
   "metadata": {
    "papermill": {
     "duration": 0.007607,
     "end_time": "2022-07-01T20:20:41.461128",
     "exception": false,
     "start_time": "2022-07-01T20:20:41.453521",
     "status": "completed"
    },
    "tags": []
   },
   "source": [
    "# 1) Check the data type of our date column\n",
    "\n",
    "You'll be working with the \"Date\" column from the `earthquakes` dataframe.  Investigate this column now: does it look like it contains dates?  What is the dtype of the column?"
   ]
  },
  {
   "cell_type": "code",
   "execution_count": 3,
   "id": "3f8c2038",
   "metadata": {
    "execution": {
     "iopub.execute_input": "2022-07-01T20:20:41.479687Z",
     "iopub.status.busy": "2022-07-01T20:20:41.478686Z",
     "iopub.status.idle": "2022-07-01T20:20:41.490511Z",
     "shell.execute_reply": "2022-07-01T20:20:41.489260Z"
    },
    "papermill": {
     "duration": 0.023881,
     "end_time": "2022-07-01T20:20:41.493330",
     "exception": false,
     "start_time": "2022-07-01T20:20:41.469449",
     "status": "completed"
    },
    "tags": []
   },
   "outputs": [
    {
     "data": {
      "text/plain": [
       "0    01/02/1965\n",
       "1    01/04/1965\n",
       "2    01/05/1965\n",
       "3    01/08/1965\n",
       "4    01/09/1965\n",
       "Name: Date, dtype: object"
      ]
     },
     "execution_count": 3,
     "metadata": {},
     "output_type": "execute_result"
    }
   ],
   "source": [
    "# TODO: Your code here!\n",
    "earthquakes.Date.head()"
   ]
  },
  {
   "cell_type": "markdown",
   "id": "4685dfc5",
   "metadata": {
    "papermill": {
     "duration": 0.007043,
     "end_time": "2022-07-01T20:20:41.507946",
     "exception": false,
     "start_time": "2022-07-01T20:20:41.500903",
     "status": "completed"
    },
    "tags": []
   },
   "source": [
    "Date is an object column."
   ]
  },
  {
   "cell_type": "code",
   "execution_count": 4,
   "id": "7ebb9dd4",
   "metadata": {
    "execution": {
     "iopub.execute_input": "2022-07-01T20:20:41.527367Z",
     "iopub.status.busy": "2022-07-01T20:20:41.525945Z",
     "iopub.status.idle": "2022-07-01T20:20:41.534617Z",
     "shell.execute_reply": "2022-07-01T20:20:41.533242Z"
    },
    "papermill": {
     "duration": 0.021343,
     "end_time": "2022-07-01T20:20:41.537425",
     "exception": false,
     "start_time": "2022-07-01T20:20:41.516082",
     "status": "completed"
    },
    "tags": []
   },
   "outputs": [
    {
     "data": {
      "text/plain": [
       "dtype('O')"
      ]
     },
     "execution_count": 4,
     "metadata": {},
     "output_type": "execute_result"
    }
   ],
   "source": [
    "earthquakes['Date'].dtype"
   ]
  },
  {
   "cell_type": "markdown",
   "id": "06ef5724",
   "metadata": {
    "papermill": {
     "duration": 0.008561,
     "end_time": "2022-07-01T20:20:41.555438",
     "exception": false,
     "start_time": "2022-07-01T20:20:41.546877",
     "status": "completed"
    },
    "tags": []
   },
   "source": [
    "Once you have answered the question above, run the code cell below to get credit for your work."
   ]
  },
  {
   "cell_type": "code",
   "execution_count": 5,
   "id": "7129aa46",
   "metadata": {
    "execution": {
     "iopub.execute_input": "2022-07-01T20:20:41.573815Z",
     "iopub.status.busy": "2022-07-01T20:20:41.572981Z",
     "iopub.status.idle": "2022-07-01T20:20:41.580723Z",
     "shell.execute_reply": "2022-07-01T20:20:41.579865Z"
    },
    "papermill": {
     "duration": 0.019985,
     "end_time": "2022-07-01T20:20:41.583328",
     "exception": false,
     "start_time": "2022-07-01T20:20:41.563343",
     "status": "completed"
    },
    "tags": []
   },
   "outputs": [
    {
     "data": {
      "application/javascript": [
       "parent.postMessage({\"jupyterEvent\": \"custom.exercise_interaction\", \"data\": {\"outcomeType\": 1, \"valueTowardsCompletion\": 0.25, \"interactionType\": 1, \"questionType\": 4, \"questionId\": \"1_CheckDtype\", \"learnToolsVersion\": \"0.3.4\", \"failureMessage\": \"\", \"exceptionClass\": \"\", \"trace\": \"\"}}, \"*\")"
      ],
      "text/plain": [
       "<IPython.core.display.Javascript object>"
      ]
     },
     "metadata": {},
     "output_type": "display_data"
    },
    {
     "data": {
      "text/markdown": [
       "<span style=\"color:#33cc33\">Correct:</span> \n",
       "\n",
       "The \"Date\" column in the `earthquakes` DataFrame does have dates.  The dtype is \"object\"."
      ],
      "text/plain": [
       "Correct: \n",
       "\n",
       "The \"Date\" column in the `earthquakes` DataFrame does have dates.  The dtype is \"object\"."
      ]
     },
     "metadata": {},
     "output_type": "display_data"
    }
   ],
   "source": [
    "# Check your answer (Run this code cell to receive credit!)\n",
    "q1.check()"
   ]
  },
  {
   "cell_type": "code",
   "execution_count": 6,
   "id": "99049c3a",
   "metadata": {
    "execution": {
     "iopub.execute_input": "2022-07-01T20:20:41.602934Z",
     "iopub.status.busy": "2022-07-01T20:20:41.602153Z",
     "iopub.status.idle": "2022-07-01T20:20:41.605995Z",
     "shell.execute_reply": "2022-07-01T20:20:41.605211Z"
    },
    "papermill": {
     "duration": 0.016007,
     "end_time": "2022-07-01T20:20:41.608218",
     "exception": false,
     "start_time": "2022-07-01T20:20:41.592211",
     "status": "completed"
    },
    "tags": []
   },
   "outputs": [],
   "source": [
    "# Line below will give you a hint\n",
    "#q1.hint()"
   ]
  },
  {
   "cell_type": "markdown",
   "id": "bc73142c",
   "metadata": {
    "papermill": {
     "duration": 0.007366,
     "end_time": "2022-07-01T20:20:41.623449",
     "exception": false,
     "start_time": "2022-07-01T20:20:41.616083",
     "status": "completed"
    },
    "tags": []
   },
   "source": [
    "# 2) Convert our date columns to datetime\n",
    "\n",
    "Most of the entries in the \"Date\" column follow the same format: \"month/day/four-digit year\".  However, the entry at index 3378 follows a completely different pattern.  Run the code cell below to see this."
   ]
  },
  {
   "cell_type": "code",
   "execution_count": 7,
   "id": "e399522a",
   "metadata": {
    "execution": {
     "iopub.execute_input": "2022-07-01T20:20:41.641322Z",
     "iopub.status.busy": "2022-07-01T20:20:41.640815Z",
     "iopub.status.idle": "2022-07-01T20:20:41.676491Z",
     "shell.execute_reply": "2022-07-01T20:20:41.675074Z"
    },
    "papermill": {
     "duration": 0.048265,
     "end_time": "2022-07-01T20:20:41.679569",
     "exception": false,
     "start_time": "2022-07-01T20:20:41.631304",
     "status": "completed"
    },
    "tags": []
   },
   "outputs": [
    {
     "data": {
      "text/html": [
       "<div>\n",
       "<style scoped>\n",
       "    .dataframe tbody tr th:only-of-type {\n",
       "        vertical-align: middle;\n",
       "    }\n",
       "\n",
       "    .dataframe tbody tr th {\n",
       "        vertical-align: top;\n",
       "    }\n",
       "\n",
       "    .dataframe thead th {\n",
       "        text-align: right;\n",
       "    }\n",
       "</style>\n",
       "<table border=\"1\" class=\"dataframe\">\n",
       "  <thead>\n",
       "    <tr style=\"text-align: right;\">\n",
       "      <th></th>\n",
       "      <th>Date</th>\n",
       "      <th>Time</th>\n",
       "      <th>Latitude</th>\n",
       "      <th>Longitude</th>\n",
       "      <th>Type</th>\n",
       "      <th>Depth</th>\n",
       "      <th>Depth Error</th>\n",
       "      <th>Depth Seismic Stations</th>\n",
       "      <th>Magnitude</th>\n",
       "      <th>Magnitude Type</th>\n",
       "      <th>...</th>\n",
       "      <th>Magnitude Seismic Stations</th>\n",
       "      <th>Azimuthal Gap</th>\n",
       "      <th>Horizontal Distance</th>\n",
       "      <th>Horizontal Error</th>\n",
       "      <th>Root Mean Square</th>\n",
       "      <th>ID</th>\n",
       "      <th>Source</th>\n",
       "      <th>Location Source</th>\n",
       "      <th>Magnitude Source</th>\n",
       "      <th>Status</th>\n",
       "    </tr>\n",
       "  </thead>\n",
       "  <tbody>\n",
       "    <tr>\n",
       "      <th>3378</th>\n",
       "      <td>1975-02-23T02:58:41.000Z</td>\n",
       "      <td>1975-02-23T02:58:41.000Z</td>\n",
       "      <td>8.017</td>\n",
       "      <td>124.075</td>\n",
       "      <td>Earthquake</td>\n",
       "      <td>623.0</td>\n",
       "      <td>NaN</td>\n",
       "      <td>NaN</td>\n",
       "      <td>5.6</td>\n",
       "      <td>MB</td>\n",
       "      <td>...</td>\n",
       "      <td>NaN</td>\n",
       "      <td>NaN</td>\n",
       "      <td>NaN</td>\n",
       "      <td>NaN</td>\n",
       "      <td>NaN</td>\n",
       "      <td>USP0000A09</td>\n",
       "      <td>US</td>\n",
       "      <td>US</td>\n",
       "      <td>US</td>\n",
       "      <td>Reviewed</td>\n",
       "    </tr>\n",
       "    <tr>\n",
       "      <th>3379</th>\n",
       "      <td>02/23/1975</td>\n",
       "      <td>03:53:36</td>\n",
       "      <td>-21.727</td>\n",
       "      <td>-71.356</td>\n",
       "      <td>Earthquake</td>\n",
       "      <td>33.0</td>\n",
       "      <td>NaN</td>\n",
       "      <td>NaN</td>\n",
       "      <td>5.6</td>\n",
       "      <td>MB</td>\n",
       "      <td>...</td>\n",
       "      <td>NaN</td>\n",
       "      <td>NaN</td>\n",
       "      <td>NaN</td>\n",
       "      <td>NaN</td>\n",
       "      <td>NaN</td>\n",
       "      <td>USP0000A0A</td>\n",
       "      <td>US</td>\n",
       "      <td>US</td>\n",
       "      <td>US</td>\n",
       "      <td>Reviewed</td>\n",
       "    </tr>\n",
       "    <tr>\n",
       "      <th>3380</th>\n",
       "      <td>02/23/1975</td>\n",
       "      <td>07:34:11</td>\n",
       "      <td>-10.879</td>\n",
       "      <td>166.667</td>\n",
       "      <td>Earthquake</td>\n",
       "      <td>33.0</td>\n",
       "      <td>NaN</td>\n",
       "      <td>NaN</td>\n",
       "      <td>5.5</td>\n",
       "      <td>MS</td>\n",
       "      <td>...</td>\n",
       "      <td>NaN</td>\n",
       "      <td>NaN</td>\n",
       "      <td>NaN</td>\n",
       "      <td>NaN</td>\n",
       "      <td>NaN</td>\n",
       "      <td>USP0000A0C</td>\n",
       "      <td>US</td>\n",
       "      <td>US</td>\n",
       "      <td>US</td>\n",
       "      <td>Reviewed</td>\n",
       "    </tr>\n",
       "    <tr>\n",
       "      <th>3381</th>\n",
       "      <td>02/25/1975</td>\n",
       "      <td>05:20:05</td>\n",
       "      <td>-7.388</td>\n",
       "      <td>149.798</td>\n",
       "      <td>Earthquake</td>\n",
       "      <td>33.0</td>\n",
       "      <td>NaN</td>\n",
       "      <td>NaN</td>\n",
       "      <td>5.5</td>\n",
       "      <td>MB</td>\n",
       "      <td>...</td>\n",
       "      <td>NaN</td>\n",
       "      <td>NaN</td>\n",
       "      <td>NaN</td>\n",
       "      <td>NaN</td>\n",
       "      <td>NaN</td>\n",
       "      <td>USP0000A12</td>\n",
       "      <td>US</td>\n",
       "      <td>US</td>\n",
       "      <td>US</td>\n",
       "      <td>Reviewed</td>\n",
       "    </tr>\n",
       "    <tr>\n",
       "      <th>3382</th>\n",
       "      <td>02/26/1975</td>\n",
       "      <td>04:48:55</td>\n",
       "      <td>85.047</td>\n",
       "      <td>97.969</td>\n",
       "      <td>Earthquake</td>\n",
       "      <td>33.0</td>\n",
       "      <td>NaN</td>\n",
       "      <td>NaN</td>\n",
       "      <td>5.6</td>\n",
       "      <td>MS</td>\n",
       "      <td>...</td>\n",
       "      <td>NaN</td>\n",
       "      <td>NaN</td>\n",
       "      <td>NaN</td>\n",
       "      <td>NaN</td>\n",
       "      <td>NaN</td>\n",
       "      <td>USP0000A1H</td>\n",
       "      <td>US</td>\n",
       "      <td>US</td>\n",
       "      <td>US</td>\n",
       "      <td>Reviewed</td>\n",
       "    </tr>\n",
       "  </tbody>\n",
       "</table>\n",
       "<p>5 rows × 21 columns</p>\n",
       "</div>"
      ],
      "text/plain": [
       "                          Date                      Time  Latitude  Longitude  \\\n",
       "3378  1975-02-23T02:58:41.000Z  1975-02-23T02:58:41.000Z     8.017    124.075   \n",
       "3379                02/23/1975                  03:53:36   -21.727    -71.356   \n",
       "3380                02/23/1975                  07:34:11   -10.879    166.667   \n",
       "3381                02/25/1975                  05:20:05    -7.388    149.798   \n",
       "3382                02/26/1975                  04:48:55    85.047     97.969   \n",
       "\n",
       "            Type  Depth  Depth Error  Depth Seismic Stations  Magnitude  \\\n",
       "3378  Earthquake  623.0          NaN                     NaN        5.6   \n",
       "3379  Earthquake   33.0          NaN                     NaN        5.6   \n",
       "3380  Earthquake   33.0          NaN                     NaN        5.5   \n",
       "3381  Earthquake   33.0          NaN                     NaN        5.5   \n",
       "3382  Earthquake   33.0          NaN                     NaN        5.6   \n",
       "\n",
       "     Magnitude Type  ...  Magnitude Seismic Stations  Azimuthal Gap  \\\n",
       "3378             MB  ...                         NaN            NaN   \n",
       "3379             MB  ...                         NaN            NaN   \n",
       "3380             MS  ...                         NaN            NaN   \n",
       "3381             MB  ...                         NaN            NaN   \n",
       "3382             MS  ...                         NaN            NaN   \n",
       "\n",
       "      Horizontal Distance  Horizontal Error  Root Mean Square          ID  \\\n",
       "3378                  NaN               NaN               NaN  USP0000A09   \n",
       "3379                  NaN               NaN               NaN  USP0000A0A   \n",
       "3380                  NaN               NaN               NaN  USP0000A0C   \n",
       "3381                  NaN               NaN               NaN  USP0000A12   \n",
       "3382                  NaN               NaN               NaN  USP0000A1H   \n",
       "\n",
       "     Source Location Source Magnitude Source    Status  \n",
       "3378     US              US               US  Reviewed  \n",
       "3379     US              US               US  Reviewed  \n",
       "3380     US              US               US  Reviewed  \n",
       "3381     US              US               US  Reviewed  \n",
       "3382     US              US               US  Reviewed  \n",
       "\n",
       "[5 rows x 21 columns]"
      ]
     },
     "execution_count": 7,
     "metadata": {},
     "output_type": "execute_result"
    }
   ],
   "source": [
    "earthquakes[3378:3383]"
   ]
  },
  {
   "cell_type": "markdown",
   "id": "d75085cb",
   "metadata": {
    "papermill": {
     "duration": 0.008341,
     "end_time": "2022-07-01T20:20:41.696674",
     "exception": false,
     "start_time": "2022-07-01T20:20:41.688333",
     "status": "completed"
    },
    "tags": []
   },
   "source": [
    "This does appear to be an issue with data entry: ideally, all entries in the column have the same format.  We can get an idea of how widespread this issue is by checking the length of each entry in the \"Date\" column."
   ]
  },
  {
   "cell_type": "code",
   "execution_count": 8,
   "id": "dcd81ead",
   "metadata": {
    "execution": {
     "iopub.execute_input": "2022-07-01T20:20:41.718200Z",
     "iopub.status.busy": "2022-07-01T20:20:41.717671Z",
     "iopub.status.idle": "2022-07-01T20:20:41.739661Z",
     "shell.execute_reply": "2022-07-01T20:20:41.738294Z"
    },
    "papermill": {
     "duration": 0.035622,
     "end_time": "2022-07-01T20:20:41.742251",
     "exception": false,
     "start_time": "2022-07-01T20:20:41.706629",
     "status": "completed"
    },
    "tags": []
   },
   "outputs": [
    {
     "data": {
      "text/plain": [
       "10    23409\n",
       "24        3\n",
       "Name: Date, dtype: int64"
      ]
     },
     "execution_count": 8,
     "metadata": {},
     "output_type": "execute_result"
    }
   ],
   "source": [
    "date_lengths = earthquakes.Date.str.len()\n",
    "date_lengths.value_counts()"
   ]
  },
  {
   "cell_type": "markdown",
   "id": "076c68bb",
   "metadata": {
    "papermill": {
     "duration": 0.008035,
     "end_time": "2022-07-01T20:20:41.758885",
     "exception": false,
     "start_time": "2022-07-01T20:20:41.750850",
     "status": "completed"
    },
    "tags": []
   },
   "source": [
    "Looks like there are two more rows that has a date in a different format.  Run the code cell below to obtain the indices corresponding to those rows and print the data."
   ]
  },
  {
   "cell_type": "code",
   "execution_count": 9,
   "id": "52d965b6",
   "metadata": {
    "execution": {
     "iopub.execute_input": "2022-07-01T20:20:41.779997Z",
     "iopub.status.busy": "2022-07-01T20:20:41.779499Z",
     "iopub.status.idle": "2022-07-01T20:20:41.812993Z",
     "shell.execute_reply": "2022-07-01T20:20:41.811472Z"
    },
    "papermill": {
     "duration": 0.048492,
     "end_time": "2022-07-01T20:20:41.815941",
     "exception": false,
     "start_time": "2022-07-01T20:20:41.767449",
     "status": "completed"
    },
    "tags": []
   },
   "outputs": [
    {
     "name": "stdout",
     "output_type": "stream",
     "text": [
      "Indices with corrupted data: [ 3378  7512 20650]\n"
     ]
    },
    {
     "data": {
      "text/html": [
       "<div>\n",
       "<style scoped>\n",
       "    .dataframe tbody tr th:only-of-type {\n",
       "        vertical-align: middle;\n",
       "    }\n",
       "\n",
       "    .dataframe tbody tr th {\n",
       "        vertical-align: top;\n",
       "    }\n",
       "\n",
       "    .dataframe thead th {\n",
       "        text-align: right;\n",
       "    }\n",
       "</style>\n",
       "<table border=\"1\" class=\"dataframe\">\n",
       "  <thead>\n",
       "    <tr style=\"text-align: right;\">\n",
       "      <th></th>\n",
       "      <th>Date</th>\n",
       "      <th>Time</th>\n",
       "      <th>Latitude</th>\n",
       "      <th>Longitude</th>\n",
       "      <th>Type</th>\n",
       "      <th>Depth</th>\n",
       "      <th>Depth Error</th>\n",
       "      <th>Depth Seismic Stations</th>\n",
       "      <th>Magnitude</th>\n",
       "      <th>Magnitude Type</th>\n",
       "      <th>...</th>\n",
       "      <th>Magnitude Seismic Stations</th>\n",
       "      <th>Azimuthal Gap</th>\n",
       "      <th>Horizontal Distance</th>\n",
       "      <th>Horizontal Error</th>\n",
       "      <th>Root Mean Square</th>\n",
       "      <th>ID</th>\n",
       "      <th>Source</th>\n",
       "      <th>Location Source</th>\n",
       "      <th>Magnitude Source</th>\n",
       "      <th>Status</th>\n",
       "    </tr>\n",
       "  </thead>\n",
       "  <tbody>\n",
       "    <tr>\n",
       "      <th>3378</th>\n",
       "      <td>1975-02-23T02:58:41.000Z</td>\n",
       "      <td>1975-02-23T02:58:41.000Z</td>\n",
       "      <td>8.017</td>\n",
       "      <td>124.075</td>\n",
       "      <td>Earthquake</td>\n",
       "      <td>623.0</td>\n",
       "      <td>NaN</td>\n",
       "      <td>NaN</td>\n",
       "      <td>5.6</td>\n",
       "      <td>MB</td>\n",
       "      <td>...</td>\n",
       "      <td>NaN</td>\n",
       "      <td>NaN</td>\n",
       "      <td>NaN</td>\n",
       "      <td>NaN</td>\n",
       "      <td>NaN</td>\n",
       "      <td>USP0000A09</td>\n",
       "      <td>US</td>\n",
       "      <td>US</td>\n",
       "      <td>US</td>\n",
       "      <td>Reviewed</td>\n",
       "    </tr>\n",
       "    <tr>\n",
       "      <th>7512</th>\n",
       "      <td>1985-04-28T02:53:41.530Z</td>\n",
       "      <td>1985-04-28T02:53:41.530Z</td>\n",
       "      <td>-32.998</td>\n",
       "      <td>-71.766</td>\n",
       "      <td>Earthquake</td>\n",
       "      <td>33.0</td>\n",
       "      <td>NaN</td>\n",
       "      <td>NaN</td>\n",
       "      <td>5.6</td>\n",
       "      <td>MW</td>\n",
       "      <td>...</td>\n",
       "      <td>NaN</td>\n",
       "      <td>NaN</td>\n",
       "      <td>NaN</td>\n",
       "      <td>NaN</td>\n",
       "      <td>1.30</td>\n",
       "      <td>USP0002E81</td>\n",
       "      <td>US</td>\n",
       "      <td>US</td>\n",
       "      <td>HRV</td>\n",
       "      <td>Reviewed</td>\n",
       "    </tr>\n",
       "    <tr>\n",
       "      <th>20650</th>\n",
       "      <td>2011-03-13T02:23:34.520Z</td>\n",
       "      <td>2011-03-13T02:23:34.520Z</td>\n",
       "      <td>36.344</td>\n",
       "      <td>142.344</td>\n",
       "      <td>Earthquake</td>\n",
       "      <td>10.1</td>\n",
       "      <td>13.9</td>\n",
       "      <td>289.0</td>\n",
       "      <td>5.8</td>\n",
       "      <td>MWC</td>\n",
       "      <td>...</td>\n",
       "      <td>NaN</td>\n",
       "      <td>32.3</td>\n",
       "      <td>NaN</td>\n",
       "      <td>NaN</td>\n",
       "      <td>1.06</td>\n",
       "      <td>USP000HWQP</td>\n",
       "      <td>US</td>\n",
       "      <td>US</td>\n",
       "      <td>GCMT</td>\n",
       "      <td>Reviewed</td>\n",
       "    </tr>\n",
       "  </tbody>\n",
       "</table>\n",
       "<p>3 rows × 21 columns</p>\n",
       "</div>"
      ],
      "text/plain": [
       "                           Date                      Time  Latitude  \\\n",
       "3378   1975-02-23T02:58:41.000Z  1975-02-23T02:58:41.000Z     8.017   \n",
       "7512   1985-04-28T02:53:41.530Z  1985-04-28T02:53:41.530Z   -32.998   \n",
       "20650  2011-03-13T02:23:34.520Z  2011-03-13T02:23:34.520Z    36.344   \n",
       "\n",
       "       Longitude        Type  Depth  Depth Error  Depth Seismic Stations  \\\n",
       "3378     124.075  Earthquake  623.0          NaN                     NaN   \n",
       "7512     -71.766  Earthquake   33.0          NaN                     NaN   \n",
       "20650    142.344  Earthquake   10.1         13.9                   289.0   \n",
       "\n",
       "       Magnitude Magnitude Type  ...  Magnitude Seismic Stations  \\\n",
       "3378         5.6             MB  ...                         NaN   \n",
       "7512         5.6             MW  ...                         NaN   \n",
       "20650        5.8            MWC  ...                         NaN   \n",
       "\n",
       "       Azimuthal Gap  Horizontal Distance  Horizontal Error  Root Mean Square  \\\n",
       "3378             NaN                  NaN               NaN               NaN   \n",
       "7512             NaN                  NaN               NaN              1.30   \n",
       "20650           32.3                  NaN               NaN              1.06   \n",
       "\n",
       "               ID Source Location Source Magnitude Source    Status  \n",
       "3378   USP0000A09     US              US               US  Reviewed  \n",
       "7512   USP0002E81     US              US              HRV  Reviewed  \n",
       "20650  USP000HWQP     US              US             GCMT  Reviewed  \n",
       "\n",
       "[3 rows x 21 columns]"
      ]
     },
     "execution_count": 9,
     "metadata": {},
     "output_type": "execute_result"
    }
   ],
   "source": [
    "indices = np.where([date_lengths == 24])[1]\n",
    "print('Indices with corrupted data:', indices)\n",
    "earthquakes.loc[indices]"
   ]
  },
  {
   "cell_type": "markdown",
   "id": "229dc7a5",
   "metadata": {
    "papermill": {
     "duration": 0.008759,
     "end_time": "2022-07-01T20:20:41.834137",
     "exception": false,
     "start_time": "2022-07-01T20:20:41.825378",
     "status": "completed"
    },
    "tags": []
   },
   "source": [
    "Given all of this information, it's your turn to create a new column \"date_parsed\" in the `earthquakes` dataset that has correctly parsed dates in it.  \n",
    "\n",
    "**Note**: When completing this problem, you are allowed to (but are not required to) amend the entries in the \"Date\" and \"Time\" columns.  Do not remove any rows from the dataset."
   ]
  },
  {
   "cell_type": "code",
   "execution_count": 10,
   "id": "86d4af9a",
   "metadata": {
    "execution": {
     "iopub.execute_input": "2022-07-01T20:20:41.853873Z",
     "iopub.status.busy": "2022-07-01T20:20:41.853432Z",
     "iopub.status.idle": "2022-07-01T20:20:41.905850Z",
     "shell.execute_reply": "2022-07-01T20:20:41.904461Z"
    },
    "papermill": {
     "duration": 0.066521,
     "end_time": "2022-07-01T20:20:41.909132",
     "exception": false,
     "start_time": "2022-07-01T20:20:41.842611",
     "status": "completed"
    },
    "tags": []
   },
   "outputs": [
    {
     "data": {
      "application/javascript": [
       "parent.postMessage({\"jupyterEvent\": \"custom.exercise_interaction\", \"data\": {\"outcomeType\": 1, \"valueTowardsCompletion\": 0.25, \"interactionType\": 1, \"questionType\": 2, \"questionId\": \"2_ConvertToDatetime\", \"learnToolsVersion\": \"0.3.4\", \"failureMessage\": \"\", \"exceptionClass\": \"\", \"trace\": \"\"}}, \"*\")"
      ],
      "text/plain": [
       "<IPython.core.display.Javascript object>"
      ]
     },
     "metadata": {},
     "output_type": "display_data"
    },
    {
     "data": {
      "text/markdown": [
       "<span style=\"color:#33cc33\">Correct</span>"
      ],
      "text/plain": [
       "Correct"
      ]
     },
     "metadata": {},
     "output_type": "display_data"
    }
   ],
   "source": [
    "# TODO: Your code here\n",
    "earthquakes.loc[3378, \"Date\"] = \"02/23/1975\"\n",
    "earthquakes.loc[7512, \"Date\"] = \"04/28/1985\"\n",
    "earthquakes.loc[20650, \"Date\"] = \"03/13/2011\"\n",
    "\n",
    "earthquakes['date_parsed'] = pd.to_datetime(earthquakes['Date'], format=\"%m/%d/%Y\")\n",
    "# Check your answer\n",
    "q2.check()"
   ]
  },
  {
   "cell_type": "code",
   "execution_count": 11,
   "id": "8a4886a6",
   "metadata": {
    "execution": {
     "iopub.execute_input": "2022-07-01T20:20:41.930205Z",
     "iopub.status.busy": "2022-07-01T20:20:41.929724Z",
     "iopub.status.idle": "2022-07-01T20:20:41.940819Z",
     "shell.execute_reply": "2022-07-01T20:20:41.939168Z"
    },
    "papermill": {
     "duration": 0.02552,
     "end_time": "2022-07-01T20:20:41.943726",
     "exception": false,
     "start_time": "2022-07-01T20:20:41.918206",
     "status": "completed"
    },
    "tags": []
   },
   "outputs": [
    {
     "data": {
      "application/javascript": [
       "parent.postMessage({\"jupyterEvent\": \"custom.exercise_interaction\", \"data\": {\"interactionType\": 2, \"questionType\": 2, \"questionId\": \"2_ConvertToDatetime\", \"learnToolsVersion\": \"0.3.4\", \"valueTowardsCompletion\": 0.0, \"failureMessage\": \"\", \"exceptionClass\": \"\", \"trace\": \"\", \"outcomeType\": 4}}, \"*\")"
      ],
      "text/plain": [
       "<IPython.core.display.Javascript object>"
      ]
     },
     "metadata": {},
     "output_type": "display_data"
    },
    {
     "data": {
      "text/markdown": [
       "<span style=\"color:#3366cc\">Hint:</span> Since there are only three rows with a fancy type, you might consider manually editing them. For instance, you can begin by setting `earthquakes.loc[3378, \"Date\"] = \"02/23/1975\"`."
      ],
      "text/plain": [
       "Hint: Since there are only three rows with a fancy type, you might consider manually editing them. For instance, you can begin by setting `earthquakes.loc[3378, \"Date\"] = \"02/23/1975\"`."
      ]
     },
     "metadata": {},
     "output_type": "display_data"
    }
   ],
   "source": [
    "# Lines below will give you a hint or solution code\n",
    "q2.hint()\n",
    "#q2.solution()"
   ]
  },
  {
   "cell_type": "markdown",
   "id": "341c8200",
   "metadata": {
    "papermill": {
     "duration": 0.008408,
     "end_time": "2022-07-01T20:20:41.960951",
     "exception": false,
     "start_time": "2022-07-01T20:20:41.952543",
     "status": "completed"
    },
    "tags": []
   },
   "source": [
    "# 3) Select the day of the month\n",
    "\n",
    "Create a Pandas Series `day_of_month_earthquakes` containing the day of the month from the \"date_parsed\" column."
   ]
  },
  {
   "cell_type": "code",
   "execution_count": 12,
   "id": "13039d16",
   "metadata": {
    "execution": {
     "iopub.execute_input": "2022-07-01T20:20:41.981535Z",
     "iopub.status.busy": "2022-07-01T20:20:41.981053Z",
     "iopub.status.idle": "2022-07-01T20:20:41.994404Z",
     "shell.execute_reply": "2022-07-01T20:20:41.993163Z"
    },
    "papermill": {
     "duration": 0.026877,
     "end_time": "2022-07-01T20:20:41.996719",
     "exception": false,
     "start_time": "2022-07-01T20:20:41.969842",
     "status": "completed"
    },
    "tags": []
   },
   "outputs": [
    {
     "data": {
      "application/javascript": [
       "parent.postMessage({\"jupyterEvent\": \"custom.exercise_interaction\", \"data\": {\"outcomeType\": 1, \"valueTowardsCompletion\": 0.25, \"interactionType\": 1, \"questionType\": 1, \"questionId\": \"3_DayOfMonth\", \"learnToolsVersion\": \"0.3.4\", \"failureMessage\": \"\", \"exceptionClass\": \"\", \"trace\": \"\"}}, \"*\")"
      ],
      "text/plain": [
       "<IPython.core.display.Javascript object>"
      ]
     },
     "metadata": {},
     "output_type": "display_data"
    },
    {
     "data": {
      "text/markdown": [
       "<span style=\"color:#33cc33\">Correct</span>"
      ],
      "text/plain": [
       "Correct"
      ]
     },
     "metadata": {},
     "output_type": "display_data"
    }
   ],
   "source": [
    "# try to get the day of the month from the date column\n",
    "day_of_month_earthquakes = earthquakes['date_parsed'].dt.day\n",
    "\n",
    "# Check your answer\n",
    "q3.check()"
   ]
  },
  {
   "cell_type": "code",
   "execution_count": 13,
   "id": "fd88e2f0",
   "metadata": {
    "execution": {
     "iopub.execute_input": "2022-07-01T20:20:42.016475Z",
     "iopub.status.busy": "2022-07-01T20:20:42.015983Z",
     "iopub.status.idle": "2022-07-01T20:20:42.021740Z",
     "shell.execute_reply": "2022-07-01T20:20:42.020292Z"
    },
    "papermill": {
     "duration": 0.019261,
     "end_time": "2022-07-01T20:20:42.024843",
     "exception": false,
     "start_time": "2022-07-01T20:20:42.005582",
     "status": "completed"
    },
    "tags": []
   },
   "outputs": [],
   "source": [
    "# Lines below will give you a hint or solution code\n",
    "#q3.hint()\n",
    "#q3.solution()"
   ]
  },
  {
   "cell_type": "markdown",
   "id": "d57ac9e4",
   "metadata": {
    "papermill": {
     "duration": 0.009616,
     "end_time": "2022-07-01T20:20:42.043432",
     "exception": false,
     "start_time": "2022-07-01T20:20:42.033816",
     "status": "completed"
    },
    "tags": []
   },
   "source": [
    "# 4) Plot the day of the month to check the date parsing\n",
    "\n",
    "Plot the days of the month from your earthquake dataset."
   ]
  },
  {
   "cell_type": "code",
   "execution_count": 14,
   "id": "2f58a2f0",
   "metadata": {
    "execution": {
     "iopub.execute_input": "2022-07-01T20:20:42.064538Z",
     "iopub.status.busy": "2022-07-01T20:20:42.064040Z",
     "iopub.status.idle": "2022-07-01T20:20:42.391533Z",
     "shell.execute_reply": "2022-07-01T20:20:42.389840Z"
    },
    "papermill": {
     "duration": 0.341805,
     "end_time": "2022-07-01T20:20:42.395005",
     "exception": false,
     "start_time": "2022-07-01T20:20:42.053200",
     "status": "completed"
    },
    "tags": []
   },
   "outputs": [
    {
     "data": {
      "text/plain": [
       "<seaborn.axisgrid.FacetGrid at 0x7f3190790090>"
      ]
     },
     "execution_count": 14,
     "metadata": {},
     "output_type": "execute_result"
    },
    {
     "data": {
      "image/png": "[encoded data removed]",
      "text/plain": [
       "<Figure size 360x360 with 1 Axes>"
      ]
     },
     "metadata": {
      "needs_background": "light"
     },
     "output_type": "display_data"
    }
   ],
   "source": [
    "# TODO: Your code here!\n",
    "day_of_month_earthquakes = day_of_month_earthquakes.dropna()\n",
    "\n",
    "sns.displot(day_of_month_earthquakes, kde = False, bins = 31)"
   ]
  },
  {
   "cell_type": "markdown",
   "id": "eaddef64",
   "metadata": {
    "papermill": {
     "duration": 0.009799,
     "end_time": "2022-07-01T20:20:42.414623",
     "exception": false,
     "start_time": "2022-07-01T20:20:42.404824",
     "status": "completed"
    },
    "tags": []
   },
   "source": [
    "Does the graph make sense to you?"
   ]
  },
  {
   "cell_type": "markdown",
   "id": "81e4dc1c",
   "metadata": {
    "papermill": {
     "duration": 0.008865,
     "end_time": "2022-07-01T20:20:42.433049",
     "exception": false,
     "start_time": "2022-07-01T20:20:42.424184",
     "status": "completed"
    },
    "tags": []
   },
   "source": [
    "Yes, just shows which day of a given month is more likely for an earthquake to occur."
   ]
  },
  {
   "cell_type": "code",
   "execution_count": 15,
   "id": "30e8f1a1",
   "metadata": {
    "execution": {
     "iopub.execute_input": "2022-07-01T20:20:42.454862Z",
     "iopub.status.busy": "2022-07-01T20:20:42.453829Z",
     "iopub.status.idle": "2022-07-01T20:20:42.466195Z",
     "shell.execute_reply": "2022-07-01T20:20:42.464740Z"
    },
    "papermill": {
     "duration": 0.026622,
     "end_time": "2022-07-01T20:20:42.468917",
     "exception": false,
     "start_time": "2022-07-01T20:20:42.442295",
     "status": "completed"
    },
    "tags": []
   },
   "outputs": [
    {
     "data": {
      "application/javascript": [
       "parent.postMessage({\"jupyterEvent\": \"custom.exercise_interaction\", \"data\": {\"outcomeType\": 1, \"valueTowardsCompletion\": 0.25, \"interactionType\": 1, \"questionType\": 4, \"questionId\": \"4_PlotDayOfMonth\", \"learnToolsVersion\": \"0.3.4\", \"failureMessage\": \"\", \"exceptionClass\": \"\", \"trace\": \"\"}}, \"*\")"
      ],
      "text/plain": [
       "<IPython.core.display.Javascript object>"
      ]
     },
     "metadata": {},
     "output_type": "display_data"
    },
    {
     "data": {
      "text/markdown": [
       "<span style=\"color:#33cc33\">Correct:</span> \n",
       "\n",
       "The graph should make sense: it shows a relatively even distribution in days of the month,which is what we would expect."
      ],
      "text/plain": [
       "Correct: \n",
       "\n",
       "The graph should make sense: it shows a relatively even distribution in days of the month,which is what we would expect."
      ]
     },
     "metadata": {},
     "output_type": "display_data"
    }
   ],
   "source": [
    "# Check your answer (Run this code cell to receive credit!)\n",
    "q4.check()"
   ]
  },
  {
   "cell_type": "code",
   "execution_count": 16,
   "id": "12d71b86",
   "metadata": {
    "execution": {
     "iopub.execute_input": "2022-07-01T20:20:42.490743Z",
     "iopub.status.busy": "2022-07-01T20:20:42.490285Z",
     "iopub.status.idle": "2022-07-01T20:20:42.495862Z",
     "shell.execute_reply": "2022-07-01T20:20:42.494748Z"
    },
    "papermill": {
     "duration": 0.019777,
     "end_time": "2022-07-01T20:20:42.498253",
     "exception": false,
     "start_time": "2022-07-01T20:20:42.478476",
     "status": "completed"
    },
    "tags": []
   },
   "outputs": [],
   "source": [
    "# Line below will give you a hint\n",
    "#q4.hint()"
   ]
  },
  {
   "cell_type": "markdown",
   "id": "94bafec3",
   "metadata": {
    "papermill": {
     "duration": 0.010191,
     "end_time": "2022-07-01T20:20:42.518114",
     "exception": false,
     "start_time": "2022-07-01T20:20:42.507923",
     "status": "completed"
    },
    "tags": []
   },
   "source": [
    "# (Optional) Bonus Challenge\n",
    "\n",
    "For an extra challenge, you'll work with a [Smithsonian dataset](https://www.kaggle.com/smithsonian/volcanic-eruptions) that documents Earth's volcanoes and their eruptive history over the past 10,000 years \n",
    "\n",
    "Run the next code cell to load the data."
   ]
  },
  {
   "cell_type": "code",
   "execution_count": 17,
   "id": "d6b0b535",
   "metadata": {
    "execution": {
     "iopub.execute_input": "2022-07-01T20:20:42.539535Z",
     "iopub.status.busy": "2022-07-01T20:20:42.539103Z",
     "iopub.status.idle": "2022-07-01T20:20:42.566498Z",
     "shell.execute_reply": "2022-07-01T20:20:42.565538Z"
    },
    "papermill": {
     "duration": 0.040993,
     "end_time": "2022-07-01T20:20:42.569124",
     "exception": false,
     "start_time": "2022-07-01T20:20:42.528131",
     "status": "completed"
    },
    "tags": []
   },
   "outputs": [],
   "source": [
    "volcanos = pd.read_csv(\"../input/volcanic-eruptions/database.csv\")"
   ]
  },
  {
   "cell_type": "markdown",
   "id": "af5b9d0e",
   "metadata": {
    "papermill": {
     "duration": 0.009445,
     "end_time": "2022-07-01T20:20:42.587785",
     "exception": false,
     "start_time": "2022-07-01T20:20:42.578340",
     "status": "completed"
    },
    "tags": []
   },
   "source": [
    "Try parsing the column \"Last Known Eruption\" from the `volcanos` dataframe. This column contains a mixture of text (\"Unknown\") and years both before the common era (BCE, also known as BC) and in the common era (CE, also known as AD)."
   ]
  },
  {
   "cell_type": "code",
   "execution_count": 18,
   "id": "cfc69f90",
   "metadata": {
    "execution": {
     "iopub.execute_input": "2022-07-01T20:20:42.609573Z",
     "iopub.status.busy": "2022-07-01T20:20:42.608562Z",
     "iopub.status.idle": "2022-07-01T20:20:42.620605Z",
     "shell.execute_reply": "2022-07-01T20:20:42.619392Z"
    },
    "papermill": {
     "duration": 0.025878,
     "end_time": "2022-07-01T20:20:42.623150",
     "exception": false,
     "start_time": "2022-07-01T20:20:42.597272",
     "status": "completed"
    },
    "tags": []
   },
   "outputs": [
    {
     "data": {
      "text/plain": [
       "764     Unknown\n",
       "1069    1996 CE\n",
       "34      1855 CE\n",
       "489     2016 CE\n",
       "9       1302 CE\n",
       "Name: Last Known Eruption, dtype: object"
      ]
     },
     "execution_count": 18,
     "metadata": {},
     "output_type": "execute_result"
    }
   ],
   "source": [
    "volcanos['Last Known Eruption'].sample(5)"
   ]
  },
  {
   "cell_type": "code",
   "execution_count": 19,
   "id": "1ea89ed6",
   "metadata": {
    "execution": {
     "iopub.execute_input": "2022-07-01T20:20:42.645217Z",
     "iopub.status.busy": "2022-07-01T20:20:42.643804Z",
     "iopub.status.idle": "2022-07-01T20:20:42.653892Z",
     "shell.execute_reply": "2022-07-01T20:20:42.652675Z"
    },
    "papermill": {
     "duration": 0.023637,
     "end_time": "2022-07-01T20:20:42.656343",
     "exception": false,
     "start_time": "2022-07-01T20:20:42.632706",
     "status": "completed"
    },
    "scrolled": true,
    "tags": []
   },
   "outputs": [
    {
     "data": {
      "text/plain": [
       "array(['8300 BCE', '4040 BCE', 'Unknown', '3600 BCE', '1282 CE',\n",
       "       '104 BCE', '1538 CE', '1944 CE', '1302 CE', '8040 BCE', '2016 CE',\n",
       "       '1230 CE', '1890 CE', '1867 CE', '1891 CE', '1050 BCE', '258 BCE',\n",
       "       '140 CE', '1950 CE', '1888 CE', '2080 BCE', '6880 BCE', '1650 CE',\n",
       "       '1855 CE', '1840 CE', '50 CE', '750 BCE', '1900 BCE', '2000 BCE',\n",
       "       '778 BCE', '3000 BCE', '2008 CE', '2013 CE', '2011 CE', '1861 CE',\n",
       "       '2012 CE', '1915 CE', '2005 CE', '2009 CE', '1928 CE', '1978 CE',\n",
       "       '1631 CE', '1820 CE', '1900 CE', '50 BCE', '1921 CE', '6550 BCE',\n",
       "       '1910 CE', '5050 BCE', '7550 BCE', '6050 BCE', '1770 CE',\n",
       "       '1863 CE', '10450 BCE', '1450 CE', '1250 CE', '1800 CE',\n",
       "       '2120 BCE', '2015 CE', '8050 BCE', '1957 CE', '1923 CE', '2000 CE',\n",
       "       '2950 BCE', '850 CE', '1222 CE', '1850 CE', '640 CE', '1000 CE',\n",
       "       '650 CE', '1256 CE', '1810 CE', '500 CE', '1200 BCE', '1937 CE',\n",
       "       '1253 CE', '5350 BCE', '2050 BCE', '2007 CE', '1995 CE', '1793 CE',\n",
       "       '2004 CE', '400 CE', '1350 CE', '5060 BCE', '1854 CE', '1981 CE',\n",
       "       '1180 CE', '180 CE', '260 CE', '1360 CE', '4360 BCE', '2006 CE',\n",
       "       '1932 CE', '1999 CE', '1936 CE', '2014 CE', '2001 CE', '1979 CE',\n",
       "       '1985 CE', '2003 CE', '1866 CE', '1911 CE', '1550 CE', '1660 CE',\n",
       "       '1972 CE', '1960 CE', '1993 CE', '1895 CE', '950 CE', '1886 CE',\n",
       "       '1912 CE', '4946 BCE', '1956 CE', '1935 CE', '350 BCE', '1580 CE',\n",
       "       '1847 CE', '1966 CE', '1974 CE', '1881 CE', '1996 CE', '1903 CE',\n",
       "       '2900 BCE', '1839 CE', '1986 CE', '1924 CE', '1940 CE', '1933 CE',\n",
       "       '1939 CE', '1938 CE', '2002 CE', '1984 CE', '1951 CE', '1971 CE',\n",
       "       '1730 CE', '1797 CE', '160 BCE', '1885 CE', '1952 CE', '1898 CE',\n",
       "       '1964 CE', '1967 CE', '1991 CE', '1969 CE', '1968 CE', '1699 CE',\n",
       "       '1892 CE', '1904 CE', '1988 CE', '1983 CE', '1977 CE', '1880 CE',\n",
       "       '1919 CE', '1897 CE', '1641 CE', '1290 CE', '120 CE', '1882 CE',\n",
       "       '1873 CE', '1953 CE', '3500 BCE', '1860 CE', '1857 CE', '1454 CE',\n",
       "       '442 BCE', '5750 BCE', '1853 CE', '1785 CE', '648 CE', '1835 CE',\n",
       "       '1914 CE', '1190 CE', '885 CE', '6200 BCE', '400 BCE', '867 CE',\n",
       "       '6850 BCE', '1989 CE', '1708 CE', '1200 CE', '1659 CE', '1998 CE',\n",
       "       '550 CE', '1544 CE', '9540 BCE', '3050 BCE', '4570 BCE', '1963 CE',\n",
       "       '3400 BCE', '837 CE', '1997 CE', '915 CE', '1787 CE', '1990 CE',\n",
       "       '4550 BCE', '886 CE', '838 CE', '2010 CE', '4100 BCE', '1606 CE',\n",
       "       '1970 CE', '1916 CE', '1945 CE', '1954 CE', '1975 CE', '1959 CE',\n",
       "       '1906 CE', '1917 CE', '870 CE', '1883 CE', '1790 CE', '1874 CE',\n",
       "       '4900 BCE', '5830 BCE', '1739 CE', '1320 CE', '1080 CE', '1848 CE',\n",
       "       '7480 BCE', '1973 CE', '1825 CE', '1884 CE', '1690 CE', '4050 BCE',\n",
       "       '350 CE', '6440 BCE', '1901 CE', '1907 CE', '300 BCE', '1776 CE',\n",
       "       '300 CE', '3550 BCE', '390 CE', '550 BCE', '800 BCE', '4450 BCE',\n",
       "       '200 CE', '1500 CE', '1740 CE', '5310 BCE', '1600 CE', '2240 BCE',\n",
       "       '7050 BCE', '1060 BCE', '3450 BCE', '1550 BCE', '220 BCE',\n",
       "       '5180 BCE', '2980 BCE', '0 CE', '520 BCE', '2990 BCE', '1007 CE',\n",
       "       '1830 CE', '1987 CE', '1600 BCE', '1150 BCE', '1812 CE', '1828 CE',\n",
       "       '1929 CE', '1878 CE', '1992 CE', '7600 BCE', '1796 CE', '1890 BCE',\n",
       "       '1931 CE', '1814 CE', '500 BCE', '1790 BCE', '1710 CE', '3850 BCE',\n",
       "       '1876 CE', '1280 BCE', '847 CE', '2220 BCE', '5220 BCE', '410 BCE',\n",
       "       '8060 BCE', '1700 CE', '1894 CE', '6250 BCE', '680 CE', '70 CE',\n",
       "       '480 CE', '440 CE', '5800 BCE', '2790 BCE', '690 CE', '2850 BCE',\n",
       "       '5610 BCE', '1250 BCE', '1786 CE', '1060 CE', '1380 CE', '1260 CE',\n",
       "       '5550 BCE', '210 CE', '8400 BCE', '130 BCE', '3250 BCE',\n",
       "       '1350 BCE', '1050 CE', '1170 BCE', '2200 BCE', '1100 CE',\n",
       "       '1075 CE', '3490 BCE', '1180 BCE', '2260 BCE', '2460 BCE',\n",
       "       '1801 CE', '1750 CE', '1994 CE', '1875 CE', '1270 CE', '4470 BCE',\n",
       "       '1150 CE', '3920 BCE', '1846 CE', '1982 CE', '1818 CE', '960 BCE',\n",
       "       '1859 CE', '1946 CE', '5390 BCE', '1720 CE', '850 BCE', '1943 CE',\n",
       "       '930 BCE', '1926 CE', '6650 BCE', '3740 BCE', '290 CE', '320 BCE',\n",
       "       '1773 CE', '1802 CE', '2450 BCE', '1280 CE', '1813 CE', '1490 CE',\n",
       "       '700 BCE', '1320 BCE', '1913 CE', '5250 BCE', '1877 CE', '750 CE',\n",
       "       '2300 BCE', '6890 BCE', '4890 BCE', '1822 CE', '1869 CE',\n",
       "       '1980 CE', '4000 BCE', '1240 CE', '1872 CE', '560 CE', '230 BCE',\n",
       "       '190 BCE', '1090 CE', '340 CE', '590 BCE', '1920 CE', '4920 BCE',\n",
       "       '1560 CE', '1908 CE', '1640 CE', '250 CE', '160 CE', '920 CE',\n",
       "       '1766 CE', '960 CE', '1340 CE', '1341 CE', '150 CE', '3350 BCE',\n",
       "       '1918 CE', '1477 CE', '1961 CE', '900 BCE', '1868 CE', '1728 CE',\n",
       "       '1755 CE', '1865 CE', '950 BCE', '1958 CE', '1950 BCE', '1652 CE',\n",
       "       '1564 CE', '1630 CE', '4500 BCE', '1909 CE', '40 CE', '1824 CE',\n",
       "       '1962 CE', '1899 CE', '8350 BCE', '210 BCE', '1905 CE'],\n",
       "      dtype=object)"
      ]
     },
     "execution_count": 19,
     "metadata": {},
     "output_type": "execute_result"
    }
   ],
   "source": [
    "volcanos['Last Known Eruption'].unique()"
   ]
  },
  {
   "cell_type": "code",
   "execution_count": 20,
   "id": "30d232ad",
   "metadata": {
    "execution": {
     "iopub.execute_input": "2022-07-01T20:20:42.678290Z",
     "iopub.status.busy": "2022-07-01T20:20:42.677436Z",
     "iopub.status.idle": "2022-07-01T20:20:42.691531Z",
     "shell.execute_reply": "2022-07-01T20:20:42.690310Z"
    },
    "papermill": {
     "duration": 0.028445,
     "end_time": "2022-07-01T20:20:42.694501",
     "exception": false,
     "start_time": "2022-07-01T20:20:42.666056",
     "status": "completed"
    },
    "tags": []
   },
   "outputs": [],
   "source": [
    "volcanos['Year of Last Known Eruption'] = volcanos['Last Known Eruption'].str.split(\" \", expand=True, )[0]\n",
    "volcanos['Era of Last Known Eruption'] = volcanos['Last Known Eruption'].str.split(\" \", expand=True, )[1]"
   ]
  },
  {
   "cell_type": "code",
   "execution_count": 21,
   "id": "8cd894f2",
   "metadata": {
    "execution": {
     "iopub.execute_input": "2022-07-01T20:20:42.717640Z",
     "iopub.status.busy": "2022-07-01T20:20:42.716682Z",
     "iopub.status.idle": "2022-07-01T20:20:42.725313Z",
     "shell.execute_reply": "2022-07-01T20:20:42.723917Z"
    },
    "papermill": {
     "duration": 0.023913,
     "end_time": "2022-07-01T20:20:42.728207",
     "exception": false,
     "start_time": "2022-07-01T20:20:42.704294",
     "status": "completed"
    },
    "tags": []
   },
   "outputs": [],
   "source": [
    "volcanos['Year of Last Known Eruption'] = volcanos['Year of Last Known Eruption'].replace('Unknown', np.nan)\n",
    "volcanos['Era of Last Known Eruption'] = volcanos['Era of Last Known Eruption'].replace('None', np.nan)"
   ]
  },
  {
   "cell_type": "code",
   "execution_count": 22,
   "id": "fab54324",
   "metadata": {
    "execution": {
     "iopub.execute_input": "2022-07-01T20:20:42.750224Z",
     "iopub.status.busy": "2022-07-01T20:20:42.749800Z",
     "iopub.status.idle": "2022-07-01T20:20:42.766925Z",
     "shell.execute_reply": "2022-07-01T20:20:42.765485Z"
    },
    "papermill": {
     "duration": 0.031565,
     "end_time": "2022-07-01T20:20:42.769662",
     "exception": false,
     "start_time": "2022-07-01T20:20:42.738097",
     "status": "completed"
    },
    "tags": []
   },
   "outputs": [
    {
     "data": {
      "text/html": [
       "<div>\n",
       "<style scoped>\n",
       "    .dataframe tbody tr th:only-of-type {\n",
       "        vertical-align: middle;\n",
       "    }\n",
       "\n",
       "    .dataframe tbody tr th {\n",
       "        vertical-align: top;\n",
       "    }\n",
       "\n",
       "    .dataframe thead th {\n",
       "        text-align: right;\n",
       "    }\n",
       "</style>\n",
       "<table border=\"1\" class=\"dataframe\">\n",
       "  <thead>\n",
       "    <tr style=\"text-align: right;\">\n",
       "      <th></th>\n",
       "      <th>Year of Last Known Eruption</th>\n",
       "      <th>Era of Last Known Eruption</th>\n",
       "    </tr>\n",
       "  </thead>\n",
       "  <tbody>\n",
       "    <tr>\n",
       "      <th>1471</th>\n",
       "      <td>1962</td>\n",
       "      <td>CE</td>\n",
       "    </tr>\n",
       "    <tr>\n",
       "      <th>617</th>\n",
       "      <td>1996</td>\n",
       "      <td>CE</td>\n",
       "    </tr>\n",
       "    <tr>\n",
       "      <th>305</th>\n",
       "      <td>950</td>\n",
       "      <td>CE</td>\n",
       "    </tr>\n",
       "    <tr>\n",
       "      <th>1199</th>\n",
       "      <td>1720</td>\n",
       "      <td>CE</td>\n",
       "    </tr>\n",
       "    <tr>\n",
       "      <th>1256</th>\n",
       "      <td>NaN</td>\n",
       "      <td>None</td>\n",
       "    </tr>\n",
       "  </tbody>\n",
       "</table>\n",
       "</div>"
      ],
      "text/plain": [
       "     Year of Last Known Eruption Era of Last Known Eruption\n",
       "1471                        1962                         CE\n",
       "617                         1996                         CE\n",
       "305                          950                         CE\n",
       "1199                        1720                         CE\n",
       "1256                         NaN                       None"
      ]
     },
     "execution_count": 22,
     "metadata": {},
     "output_type": "execute_result"
    }
   ],
   "source": [
    "volcanos[['Year of Last Known Eruption', 'Era of Last Known Eruption']].sample(5)"
   ]
  },
  {
   "cell_type": "markdown",
   "id": "a2531549",
   "metadata": {
    "papermill": {
     "duration": 0.010709,
     "end_time": "2022-07-01T20:20:42.790252",
     "exception": false,
     "start_time": "2022-07-01T20:20:42.779543",
     "status": "completed"
    },
    "tags": []
   },
   "source": [
    "# (Optional) More practice\n",
    "\n",
    "If you're interested in graphing time series, [check out this tutorial](https://www.kaggle.com/residentmario/time-series-plotting-optional).\n",
    "\n",
    "You can also look into passing columns that you know have dates in them  the `parse_dates` argument in `read_csv`. (The documention [is here](https://pandas.pydata.org/pandas-docs/stable/generated/pandas.read_csv.html).) Do note that this method can be very slow, but depending on your needs it may sometimes be handy to use.\n",
    "\n",
    "# Keep going\n",
    "\n",
    "In the next lesson, learn how to [**work with character encodings**](https://www.kaggle.com/alexisbcook/character-encodings)."
   ]
  },
  {
   "cell_type": "markdown",
   "id": "14abc121",
   "metadata": {
    "papermill": {
     "duration": 0.009391,
     "end_time": "2022-07-01T20:20:42.809659",
     "exception": false,
     "start_time": "2022-07-01T20:20:42.800268",
     "status": "completed"
    },
    "tags": []
   },
   "source": [
    "---\n",
    "\n",
    "\n",
    "\n",
    "\n",
    "*Have questions or comments? Visit the [course discussion forum](https://www.kaggle.com/learn/data-cleaning/discussion) to chat with other learners.*"
   ]
  }
 ],
 "metadata": {
  "kernelspec": {
   "display_name": "Python 3",
   "language": "python",
   "name": "python3"
  },
  "language_info": {
   "codemirror_mode": {
    "name": "ipython",
    "version": 3
   },
   "file_extension": ".py",
   "mimetype": "text/x-python",
   "name": "python",
   "nbconvert_exporter": "python",
   "pygments_lexer": "ipython3",
   "version": "3.7.12"
  },
  "papermill": {
   "default_parameters": {},
   "duration": 15.983311,
   "end_time": "2022-07-01T20:20:43.845247",
   "environment_variables": {},
   "exception": null,
   "input_path": "__notebook__.ipynb",
   "output_path": "__notebook__.ipynb",
   "parameters": {},
   "start_time": "2022-07-01T20:20:27.861936",
   "version": "2.3.4"
  }
 },
 "nbformat": 4,
 "nbformat_minor": 5
}
