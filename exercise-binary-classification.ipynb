{
 "cells": [
  {
   "cell_type": "markdown",
   "id": "8f18355a",
   "metadata": {
    "papermill": {
     "duration": 0.004305,
     "end_time": "2022-08-05T20:02:26.846863",
     "exception": false,
     "start_time": "2022-08-05T20:02:26.842558",
     "status": "completed"
    },
    "tags": []
   },
   "source": [
    "**This notebook is an exercise in the [Intro to Deep Learning](https://www.kaggle.com/learn/intro-to-deep-learning) course.  You can reference the tutorial at [this link](https://www.kaggle.com/ryanholbrook/binary-classification).**\n",
    "\n",
    "---\n"
   ]
  },
  {
   "cell_type": "markdown",
   "id": "8ef012e4",
   "metadata": {
    "papermill": {
     "duration": 0.003056,
     "end_time": "2022-08-05T20:02:26.853505",
     "exception": false,
     "start_time": "2022-08-05T20:02:26.850449",
     "status": "completed"
    },
    "tags": []
   },
   "source": [
    "# Introduction #\n",
    "\n",
    "In this exercise, you'll build a model to predict hotel cancellations with a binary classifier."
   ]
  },
  {
   "cell_type": "code",
   "execution_count": 1,
   "id": "c2ac6ea4",
   "metadata": {
    "execution": {
     "iopub.execute_input": "2022-08-05T20:02:26.861939Z",
     "iopub.status.busy": "2022-08-05T20:02:26.861449Z",
     "iopub.status.idle": "2022-08-05T20:02:26.901988Z",
     "shell.execute_reply": "2022-08-05T20:02:26.901168Z"
    },
    "lines_to_next_cell": 0,
    "papermill": {
     "duration": 0.047657,
     "end_time": "2022-08-05T20:02:26.904400",
     "exception": false,
     "start_time": "2022-08-05T20:02:26.856743",
     "status": "completed"
    },
    "tags": []
   },
   "outputs": [],
   "source": [
    "# Setup plotting\n",
    "import matplotlib.pyplot as plt\n",
    "plt.style.use('seaborn-whitegrid')\n",
    "# Set Matplotlib defaults\n",
    "plt.rc('figure', autolayout=True)\n",
    "plt.rc('axes', labelweight='bold', labelsize='large',\n",
    "       titleweight='bold', titlesize=18, titlepad=10)\n",
    "plt.rc('animation', html='html5')\n",
    "\n",
    "# Setup feedback system\n",
    "from learntools.core import binder\n",
    "binder.bind(globals())\n",
    "from learntools.deep_learning_intro.ex6 import *"
   ]
  },
  {
   "cell_type": "markdown",
   "id": "c9e29fd9",
   "metadata": {
    "papermill": {
     "duration": 0.003018,
     "end_time": "2022-08-05T20:02:26.910695",
     "exception": false,
     "start_time": "2022-08-05T20:02:26.907677",
     "status": "completed"
    },
    "tags": []
   },
   "source": [
    "First, load the *Hotel Cancellations* dataset."
   ]
  },
  {
   "cell_type": "code",
   "execution_count": 2,
   "id": "04390db5",
   "metadata": {
    "execution": {
     "iopub.execute_input": "2022-08-05T20:02:26.918480Z",
     "iopub.status.busy": "2022-08-05T20:02:26.918220Z",
     "iopub.status.idle": "2022-08-05T20:02:29.104685Z",
     "shell.execute_reply": "2022-08-05T20:02:29.103579Z"
    },
    "lines_to_next_cell": 2,
    "papermill": {
     "duration": 2.192778,
     "end_time": "2022-08-05T20:02:29.107031",
     "exception": false,
     "start_time": "2022-08-05T20:02:26.914253",
     "status": "completed"
    },
    "tags": []
   },
   "outputs": [],
   "source": [
    "import pandas as pd\n",
    "\n",
    "from sklearn.model_selection import train_test_split\n",
    "from sklearn.preprocessing import StandardScaler, OneHotEncoder\n",
    "from sklearn.impute import SimpleImputer\n",
    "from sklearn.pipeline import make_pipeline\n",
    "from sklearn.compose import make_column_transformer\n",
    "\n",
    "hotel = pd.read_csv('../input/dl-course-data/hotel.csv')\n",
    "\n",
    "X = hotel.copy()\n",
    "y = X.pop('is_canceled')\n",
    "\n",
    "X['arrival_date_month'] = \\\n",
    "    X['arrival_date_month'].map(\n",
    "        {'January':1, 'February': 2, 'March':3,\n",
    "         'April':4, 'May':5, 'June':6, 'July':7,\n",
    "         'August':8, 'September':9, 'October':10,\n",
    "         'November':11, 'December':12}\n",
    "    )\n",
    "\n",
    "features_num = [\n",
    "    \"lead_time\", \"arrival_date_week_number\",\n",
    "    \"arrival_date_day_of_month\", \"stays_in_weekend_nights\",\n",
    "    \"stays_in_week_nights\", \"adults\", \"children\", \"babies\",\n",
    "    \"is_repeated_guest\", \"previous_cancellations\",\n",
    "    \"previous_bookings_not_canceled\", \"required_car_parking_spaces\",\n",
    "    \"total_of_special_requests\", \"adr\",\n",
    "]\n",
    "features_cat = [\n",
    "    \"hotel\", \"arrival_date_month\", \"meal\",\n",
    "    \"market_segment\", \"distribution_channel\",\n",
    "    \"reserved_room_type\", \"deposit_type\", \"customer_type\",\n",
    "]\n",
    "\n",
    "transformer_num = make_pipeline(\n",
    "    SimpleImputer(strategy=\"constant\"), # there are a few missing values\n",
    "    StandardScaler(),\n",
    ")\n",
    "transformer_cat = make_pipeline(\n",
    "    SimpleImputer(strategy=\"constant\", fill_value=\"NA\"),\n",
    "    OneHotEncoder(handle_unknown='ignore'),\n",
    ")\n",
    "\n",
    "preprocessor = make_column_transformer(\n",
    "    (transformer_num, features_num),\n",
    "    (transformer_cat, features_cat),\n",
    ")\n",
    "\n",
    "# stratify - make sure classes are evenlly represented across splits\n",
    "X_train, X_valid, y_train, y_valid = \\\n",
    "    train_test_split(X, y, stratify=y, train_size=0.75)\n",
    "\n",
    "X_train = preprocessor.fit_transform(X_train)\n",
    "X_valid = preprocessor.transform(X_valid)\n",
    "\n",
    "input_shape = [X_train.shape[1]]"
   ]
  },
  {
   "cell_type": "markdown",
   "id": "98b95b59",
   "metadata": {
    "papermill": {
     "duration": 0.003209,
     "end_time": "2022-08-05T20:02:29.113921",
     "exception": false,
     "start_time": "2022-08-05T20:02:29.110712",
     "status": "completed"
    },
    "tags": []
   },
   "source": [
    "# 1) Define Model #\n",
    "\n",
    "The model we'll use this time will have both batch normalization and dropout layers. To ease reading we've broken the diagram into blocks, but you can define it layer by layer as usual.\n",
    "\n",
    "Define a model with an architecture given by this diagram:\n",
    "\n",
    "<figure style=\"padding: 1em;\">\n",
    "<img src=\"https://i.imgur.com/V04o59Z.png\" width=\"400\" alt=\"Diagram of network architecture: BatchNorm, Dense, BatchNorm, Dropout, Dense, BatchNorm, Dropout, Dense.\">\n",
    "<figcaption style=\"textalign: center; font-style: italic\"><center>Diagram of a binary classifier.</center></figcaption>\n",
    "</figure>\n"
   ]
  },
  {
   "cell_type": "code",
   "execution_count": 3,
   "id": "163714ef",
   "metadata": {
    "execution": {
     "iopub.execute_input": "2022-08-05T20:02:29.122208Z",
     "iopub.status.busy": "2022-08-05T20:02:29.121373Z",
     "iopub.status.idle": "2022-08-05T20:02:37.072801Z",
     "shell.execute_reply": "2022-08-05T20:02:37.071474Z"
    },
    "lines_to_next_cell": 2,
    "papermill": {
     "duration": 7.957727,
     "end_time": "2022-08-05T20:02:37.074908",
     "exception": false,
     "start_time": "2022-08-05T20:02:29.117181",
     "status": "completed"
    },
    "tags": []
   },
   "outputs": [
    {
     "name": "stderr",
     "output_type": "stream",
     "text": [
      "2022-08-05 20:02:34.334029: I tensorflow/stream_executor/cuda/cuda_gpu_executor.cc:937] successful NUMA node read from SysFS had negative value (-1), but there must be at least one NUMA node, so returning NUMA node zero\n",
      "2022-08-05 20:02:34.447008: I tensorflow/stream_executor/cuda/cuda_gpu_executor.cc:937] successful NUMA node read from SysFS had negative value (-1), but there must be at least one NUMA node, so returning NUMA node zero\n",
      "2022-08-05 20:02:34.447830: I tensorflow/stream_executor/cuda/cuda_gpu_executor.cc:937] successful NUMA node read from SysFS had negative value (-1), but there must be at least one NUMA node, so returning NUMA node zero\n",
      "2022-08-05 20:02:34.450047: I tensorflow/core/platform/cpu_feature_guard.cc:142] This TensorFlow binary is optimized with oneAPI Deep Neural Network Library (oneDNN) to use the following CPU instructions in performance-critical operations:  AVX2 AVX512F FMA\n",
      "To enable them in other operations, rebuild TensorFlow with the appropriate compiler flags.\n",
      "2022-08-05 20:02:34.456168: I tensorflow/stream_executor/cuda/cuda_gpu_executor.cc:937] successful NUMA node read from SysFS had negative value (-1), but there must be at least one NUMA node, so returning NUMA node zero\n",
      "2022-08-05 20:02:34.456866: I tensorflow/stream_executor/cuda/cuda_gpu_executor.cc:937] successful NUMA node read from SysFS had negative value (-1), but there must be at least one NUMA node, so returning NUMA node zero\n",
      "2022-08-05 20:02:34.457567: I tensorflow/stream_executor/cuda/cuda_gpu_executor.cc:937] successful NUMA node read from SysFS had negative value (-1), but there must be at least one NUMA node, so returning NUMA node zero\n",
      "2022-08-05 20:02:36.624098: I tensorflow/stream_executor/cuda/cuda_gpu_executor.cc:937] successful NUMA node read from SysFS had negative value (-1), but there must be at least one NUMA node, so returning NUMA node zero\n",
      "2022-08-05 20:02:36.624940: I tensorflow/stream_executor/cuda/cuda_gpu_executor.cc:937] successful NUMA node read from SysFS had negative value (-1), but there must be at least one NUMA node, so returning NUMA node zero\n",
      "2022-08-05 20:02:36.625651: I tensorflow/stream_executor/cuda/cuda_gpu_executor.cc:937] successful NUMA node read from SysFS had negative value (-1), but there must be at least one NUMA node, so returning NUMA node zero\n",
      "2022-08-05 20:02:36.626251: I tensorflow/core/common_runtime/gpu/gpu_device.cc:1510] Created device /job:localhost/replica:0/task:0/device:GPU:0 with 15403 MB memory:  -> device: 0, name: Tesla P100-PCIE-16GB, pci bus id: 0000:00:04.0, compute capability: 6.0\n"
     ]
    },
    {
     "data": {
      "application/javascript": [
       "parent.postMessage({\"jupyterEvent\": \"custom.exercise_interaction\", \"data\": {\"outcomeType\": 1, \"valueTowardsCompletion\": 0.3333333333333333, \"interactionType\": 1, \"questionType\": 2, \"questionId\": \"1_Q1\", \"learnToolsVersion\": \"0.3.4\", \"failureMessage\": \"\", \"exceptionClass\": \"\", \"trace\": \"\"}}, \"*\")"
      ],
      "text/plain": [
       "<IPython.core.display.Javascript object>"
      ]
     },
     "metadata": {},
     "output_type": "display_data"
    },
    {
     "data": {
      "text/markdown": [
       "<span style=\"color:#33cc33\">Correct</span>"
      ],
      "text/plain": [
       "Correct"
      ]
     },
     "metadata": {},
     "output_type": "display_data"
    }
   ],
   "source": [
    "from tensorflow import keras\n",
    "from tensorflow.keras import layers\n",
    "\n",
    "# YOUR CODE HERE: define the model given in the diagram\n",
    "model = keras.Sequential([\n",
    "    layers.BatchNormalization(input_shape = input_shape),\n",
    "    layers.Dense(256, activation='relu'),\n",
    "    layers.BatchNormalization(),\n",
    "    layers.Dropout(0.3),\n",
    "    layers.Dense(256, activation='relu'),    \n",
    "    layers.BatchNormalization(),\n",
    "    layers.Dropout(0.3),\n",
    "    layers.Dense(1, activation='sigmoid'),\n",
    "])\n",
    "\n",
    "# Check your answer\n",
    "q_1.check()"
   ]
  },
  {
   "cell_type": "markdown",
   "id": "1eaf05b2",
   "metadata": {
    "papermill": {
     "duration": 0.003694,
     "end_time": "2022-08-05T20:02:37.082498",
     "exception": false,
     "start_time": "2022-08-05T20:02:37.078804",
     "status": "completed"
    },
    "tags": []
   },
   "source": [
    "# 2) Add Optimizer, Loss, and Metric #\n",
    "\n",
    "Now compile the model with the Adam optimizer and binary versions of the cross-entropy loss and accuracy metric."
   ]
  },
  {
   "cell_type": "code",
   "execution_count": 4,
   "id": "909fefbc",
   "metadata": {
    "execution": {
     "iopub.execute_input": "2022-08-05T20:02:37.091183Z",
     "iopub.status.busy": "2022-08-05T20:02:37.090861Z",
     "iopub.status.idle": "2022-08-05T20:02:37.106447Z",
     "shell.execute_reply": "2022-08-05T20:02:37.105411Z"
    },
    "lines_to_next_cell": 0,
    "papermill": {
     "duration": 0.02242,
     "end_time": "2022-08-05T20:02:37.108598",
     "exception": false,
     "start_time": "2022-08-05T20:02:37.086178",
     "status": "completed"
    },
    "tags": []
   },
   "outputs": [
    {
     "data": {
      "application/javascript": [
       "parent.postMessage({\"jupyterEvent\": \"custom.exercise_interaction\", \"data\": {\"outcomeType\": 1, \"valueTowardsCompletion\": 0.3333333333333333, \"interactionType\": 1, \"questionType\": 2, \"questionId\": \"2_Q2\", \"learnToolsVersion\": \"0.3.4\", \"failureMessage\": \"\", \"exceptionClass\": \"\", \"trace\": \"\"}}, \"*\")"
      ],
      "text/plain": [
       "<IPython.core.display.Javascript object>"
      ]
     },
     "metadata": {},
     "output_type": "display_data"
    },
    {
     "data": {
      "text/markdown": [
       "<span style=\"color:#33cc33\">Correct</span>"
      ],
      "text/plain": [
       "Correct"
      ]
     },
     "metadata": {},
     "output_type": "display_data"
    }
   ],
   "source": [
    "# YOUR CODE HERE\n",
    "model.compile(\n",
    "    optimizer='adam',\n",
    "    loss='binary_crossentropy',\n",
    "    metrics=['binary_accuracy'],\n",
    ")\n",
    "\n",
    "# Check your answer\n",
    "q_2.check()"
   ]
  },
  {
   "cell_type": "code",
   "execution_count": 5,
   "id": "113e8c87",
   "metadata": {
    "execution": {
     "iopub.execute_input": "2022-08-05T20:02:37.117543Z",
     "iopub.status.busy": "2022-08-05T20:02:37.116887Z",
     "iopub.status.idle": "2022-08-05T20:02:37.120845Z",
     "shell.execute_reply": "2022-08-05T20:02:37.119879Z"
    },
    "lines_to_next_cell": 0,
    "papermill": {
     "duration": 0.010436,
     "end_time": "2022-08-05T20:02:37.122789",
     "exception": false,
     "start_time": "2022-08-05T20:02:37.112353",
     "status": "completed"
    },
    "tags": []
   },
   "outputs": [],
   "source": [
    "# Lines below will give you a hint or solution code\n",
    "#q_2.hint()\n",
    "#q_2.solution()"
   ]
  },
  {
   "cell_type": "markdown",
   "id": "7f7e4a7b",
   "metadata": {
    "papermill": {
     "duration": 0.003697,
     "end_time": "2022-08-05T20:02:37.130327",
     "exception": false,
     "start_time": "2022-08-05T20:02:37.126630",
     "status": "completed"
    },
    "tags": []
   },
   "source": [
    "Finally, run this cell to train the model and view the learning curves. It may run for around 60 to 70 epochs, which could take a minute or two."
   ]
  },
  {
   "cell_type": "code",
   "execution_count": 6,
   "id": "c4a59ba4",
   "metadata": {
    "execution": {
     "iopub.execute_input": "2022-08-05T20:02:37.139650Z",
     "iopub.status.busy": "2022-08-05T20:02:37.138769Z",
     "iopub.status.idle": "2022-08-05T20:03:19.579120Z",
     "shell.execute_reply": "2022-08-05T20:03:19.578074Z"
    },
    "papermill": {
     "duration": 42.447075,
     "end_time": "2022-08-05T20:03:19.581262",
     "exception": false,
     "start_time": "2022-08-05T20:02:37.134187",
     "status": "completed"
    },
    "tags": []
   },
   "outputs": [
    {
     "name": "stderr",
     "output_type": "stream",
     "text": [
      "2022-08-05 20:02:37.264241: I tensorflow/compiler/mlir/mlir_graph_optimization_pass.cc:185] None of the MLIR Optimization Passes are enabled (registered 2)\n"
     ]
    },
    {
     "name": "stdout",
     "output_type": "stream",
     "text": [
      "Epoch 1/200\n",
      "175/175 [==============================] - 3s 6ms/step - loss: 0.4820 - binary_accuracy: 0.7728 - val_loss: 0.4335 - val_binary_accuracy: 0.8083\n",
      "Epoch 2/200\n",
      "175/175 [==============================] - 1s 4ms/step - loss: 0.4244 - binary_accuracy: 0.8008 - val_loss: 0.4031 - val_binary_accuracy: 0.8116\n",
      "Epoch 3/200\n",
      "175/175 [==============================] - 1s 4ms/step - loss: 0.4094 - binary_accuracy: 0.8086 - val_loss: 0.3972 - val_binary_accuracy: 0.8160\n",
      "Epoch 4/200\n",
      "175/175 [==============================] - 1s 4ms/step - loss: 0.4033 - binary_accuracy: 0.8116 - val_loss: 0.3903 - val_binary_accuracy: 0.8189\n",
      "Epoch 5/200\n",
      "175/175 [==============================] - 1s 4ms/step - loss: 0.3979 - binary_accuracy: 0.8157 - val_loss: 0.3851 - val_binary_accuracy: 0.8212\n",
      "Epoch 6/200\n",
      "175/175 [==============================] - 1s 4ms/step - loss: 0.3926 - binary_accuracy: 0.8177 - val_loss: 0.3817 - val_binary_accuracy: 0.8245\n",
      "Epoch 7/200\n",
      "175/175 [==============================] - 1s 5ms/step - loss: 0.3885 - binary_accuracy: 0.8170 - val_loss: 0.3792 - val_binary_accuracy: 0.8270\n",
      "Epoch 8/200\n",
      "175/175 [==============================] - 1s 4ms/step - loss: 0.3852 - binary_accuracy: 0.8210 - val_loss: 0.3781 - val_binary_accuracy: 0.8275\n",
      "Epoch 9/200\n",
      "175/175 [==============================] - 1s 5ms/step - loss: 0.3834 - binary_accuracy: 0.8227 - val_loss: 0.3760 - val_binary_accuracy: 0.8294\n",
      "Epoch 10/200\n",
      "175/175 [==============================] - 1s 4ms/step - loss: 0.3790 - binary_accuracy: 0.8244 - val_loss: 0.3715 - val_binary_accuracy: 0.8308\n",
      "Epoch 11/200\n",
      "175/175 [==============================] - 1s 4ms/step - loss: 0.3766 - binary_accuracy: 0.8262 - val_loss: 0.3701 - val_binary_accuracy: 0.8316\n",
      "Epoch 12/200\n",
      "175/175 [==============================] - 1s 4ms/step - loss: 0.3751 - binary_accuracy: 0.8270 - val_loss: 0.3679 - val_binary_accuracy: 0.8317\n",
      "Epoch 13/200\n",
      "175/175 [==============================] - 1s 4ms/step - loss: 0.3723 - binary_accuracy: 0.8280 - val_loss: 0.3659 - val_binary_accuracy: 0.8324\n",
      "Epoch 14/200\n",
      "175/175 [==============================] - 1s 5ms/step - loss: 0.3688 - binary_accuracy: 0.8289 - val_loss: 0.3659 - val_binary_accuracy: 0.8332\n",
      "Epoch 15/200\n",
      "175/175 [==============================] - 1s 5ms/step - loss: 0.3675 - binary_accuracy: 0.8303 - val_loss: 0.3634 - val_binary_accuracy: 0.8331\n",
      "Epoch 16/200\n",
      "175/175 [==============================] - 1s 4ms/step - loss: 0.3663 - binary_accuracy: 0.8304 - val_loss: 0.3615 - val_binary_accuracy: 0.8351\n",
      "Epoch 17/200\n",
      "175/175 [==============================] - 1s 4ms/step - loss: 0.3618 - binary_accuracy: 0.8331 - val_loss: 0.3611 - val_binary_accuracy: 0.8349\n",
      "Epoch 18/200\n",
      "175/175 [==============================] - 1s 4ms/step - loss: 0.3612 - binary_accuracy: 0.8324 - val_loss: 0.3632 - val_binary_accuracy: 0.8348\n",
      "Epoch 19/200\n",
      "175/175 [==============================] - 1s 4ms/step - loss: 0.3602 - binary_accuracy: 0.8338 - val_loss: 0.3576 - val_binary_accuracy: 0.8364\n",
      "Epoch 20/200\n",
      "175/175 [==============================] - 1s 5ms/step - loss: 0.3594 - binary_accuracy: 0.8335 - val_loss: 0.3568 - val_binary_accuracy: 0.8372\n",
      "Epoch 21/200\n",
      "175/175 [==============================] - 1s 5ms/step - loss: 0.3567 - binary_accuracy: 0.8356 - val_loss: 0.3584 - val_binary_accuracy: 0.8372\n",
      "Epoch 22/200\n",
      "175/175 [==============================] - 1s 7ms/step - loss: 0.3576 - binary_accuracy: 0.8343 - val_loss: 0.3571 - val_binary_accuracy: 0.8378\n",
      "Epoch 23/200\n",
      "175/175 [==============================] - 1s 4ms/step - loss: 0.3545 - binary_accuracy: 0.8360 - val_loss: 0.3580 - val_binary_accuracy: 0.8373\n",
      "Epoch 24/200\n",
      "175/175 [==============================] - 1s 4ms/step - loss: 0.3533 - binary_accuracy: 0.8365 - val_loss: 0.3559 - val_binary_accuracy: 0.8373\n",
      "Epoch 25/200\n",
      "175/175 [==============================] - 1s 5ms/step - loss: 0.3520 - binary_accuracy: 0.8374 - val_loss: 0.3583 - val_binary_accuracy: 0.8357\n",
      "Epoch 26/200\n",
      "175/175 [==============================] - 1s 4ms/step - loss: 0.3510 - binary_accuracy: 0.8390 - val_loss: 0.3531 - val_binary_accuracy: 0.8372\n",
      "Epoch 27/200\n",
      "175/175 [==============================] - 1s 5ms/step - loss: 0.3500 - binary_accuracy: 0.8382 - val_loss: 0.3523 - val_binary_accuracy: 0.8394\n",
      "Epoch 28/200\n",
      "175/175 [==============================] - 1s 6ms/step - loss: 0.3498 - binary_accuracy: 0.8375 - val_loss: 0.3537 - val_binary_accuracy: 0.8415\n",
      "Epoch 29/200\n",
      "175/175 [==============================] - 1s 4ms/step - loss: 0.3479 - binary_accuracy: 0.8388 - val_loss: 0.3516 - val_binary_accuracy: 0.8398\n",
      "Epoch 30/200\n",
      "175/175 [==============================] - 1s 4ms/step - loss: 0.3470 - binary_accuracy: 0.8400 - val_loss: 0.3529 - val_binary_accuracy: 0.8388\n",
      "Epoch 31/200\n",
      "175/175 [==============================] - 1s 4ms/step - loss: 0.3449 - binary_accuracy: 0.8404 - val_loss: 0.3554 - val_binary_accuracy: 0.8368\n",
      "Epoch 32/200\n",
      "175/175 [==============================] - 1s 4ms/step - loss: 0.3451 - binary_accuracy: 0.8407 - val_loss: 0.3527 - val_binary_accuracy: 0.8396\n",
      "Epoch 33/200\n",
      "175/175 [==============================] - 1s 5ms/step - loss: 0.3446 - binary_accuracy: 0.8413 - val_loss: 0.3497 - val_binary_accuracy: 0.8413\n",
      "Epoch 34/200\n",
      "175/175 [==============================] - 1s 4ms/step - loss: 0.3441 - binary_accuracy: 0.8399 - val_loss: 0.3508 - val_binary_accuracy: 0.8405\n",
      "Epoch 35/200\n",
      "175/175 [==============================] - 1s 5ms/step - loss: 0.3428 - binary_accuracy: 0.8414 - val_loss: 0.3496 - val_binary_accuracy: 0.8408\n",
      "Epoch 36/200\n",
      "175/175 [==============================] - 1s 5ms/step - loss: 0.3412 - binary_accuracy: 0.8433 - val_loss: 0.3516 - val_binary_accuracy: 0.8389\n",
      "Epoch 37/200\n",
      "175/175 [==============================] - 1s 4ms/step - loss: 0.3417 - binary_accuracy: 0.8425 - val_loss: 0.3498 - val_binary_accuracy: 0.8410\n",
      "Epoch 38/200\n",
      "175/175 [==============================] - 1s 4ms/step - loss: 0.3396 - binary_accuracy: 0.8437 - val_loss: 0.3485 - val_binary_accuracy: 0.8423\n",
      "Epoch 39/200\n",
      "175/175 [==============================] - 1s 5ms/step - loss: 0.3393 - binary_accuracy: 0.8438 - val_loss: 0.3494 - val_binary_accuracy: 0.8411\n",
      "Epoch 40/200\n",
      "175/175 [==============================] - 1s 4ms/step - loss: 0.3403 - binary_accuracy: 0.8424 - val_loss: 0.3499 - val_binary_accuracy: 0.8411\n",
      "Epoch 41/200\n",
      "175/175 [==============================] - 1s 4ms/step - loss: 0.3382 - binary_accuracy: 0.8443 - val_loss: 0.3500 - val_binary_accuracy: 0.8401\n",
      "Epoch 42/200\n",
      "175/175 [==============================] - 1s 6ms/step - loss: 0.3357 - binary_accuracy: 0.8448 - val_loss: 0.3485 - val_binary_accuracy: 0.8425\n",
      "Epoch 43/200\n",
      "175/175 [==============================] - 1s 4ms/step - loss: 0.3362 - binary_accuracy: 0.8460 - val_loss: 0.3496 - val_binary_accuracy: 0.8402\n"
     ]
    },
    {
     "data": {
      "text/plain": [
       "<AxesSubplot:title={'center':'Accuracy'}>"
      ]
     },
     "execution_count": 6,
     "metadata": {},
     "output_type": "execute_result"
    },
    {
     "data": {
      "image/png": "[encoded data removed]",
      "text/plain": [
       "<Figure size 432x288 with 1 Axes>"
      ]
     },
     "metadata": {},
     "output_type": "display_data"
    },
    {
     "data": {
      "image/png": "[encoded data removed]",
      "text/plain": [
       "<Figure size 432x288 with 1 Axes>"
      ]
     },
     "metadata": {},
     "output_type": "display_data"
    }
   ],
   "source": [
    "early_stopping = keras.callbacks.EarlyStopping(\n",
    "    patience=5,\n",
    "    min_delta=0.001,\n",
    "    restore_best_weights=True,\n",
    ")\n",
    "history = model.fit(\n",
    "    X_train, y_train,\n",
    "    validation_data=(X_valid, y_valid),\n",
    "    batch_size=512,\n",
    "    epochs=200,\n",
    "    callbacks=[early_stopping],\n",
    ")\n",
    "\n",
    "history_df = pd.DataFrame(history.history)\n",
    "history_df.loc[:, ['loss', 'val_loss']].plot(title=\"Cross-entropy\")\n",
    "history_df.loc[:, ['binary_accuracy', 'val_binary_accuracy']].plot(title=\"Accuracy\")"
   ]
  },
  {
   "cell_type": "markdown",
   "id": "d79d1c35",
   "metadata": {
    "papermill": {
     "duration": 0.035184,
     "end_time": "2022-08-05T20:03:19.652382",
     "exception": false,
     "start_time": "2022-08-05T20:03:19.617198",
     "status": "completed"
    },
    "tags": []
   },
   "source": [
    "# 3) Train and Evaluate #\n",
    "\n",
    "\n",
    "What do you think about the learning curves? Does it look like the model underfit or overfit? Was the cross-entropy loss a good stand-in for accuracy?"
   ]
  },
  {
   "cell_type": "markdown",
   "id": "5fb8da23",
   "metadata": {
    "papermill": {
     "duration": 0.035161,
     "end_time": "2022-08-05T20:03:19.722629",
     "exception": false,
     "start_time": "2022-08-05T20:03:19.687468",
     "status": "completed"
    },
    "tags": []
   },
   "source": [
    "The model seems to be tuned just right, it kept improving up until the last epoch. The cross-entropy loss function was a great stand-in for accuracy, since as it decreased the binary accuracy had indeed improved."
   ]
  },
  {
   "cell_type": "code",
   "execution_count": 7,
   "id": "a2f58e59",
   "metadata": {
    "execution": {
     "iopub.execute_input": "2022-08-05T20:03:19.796696Z",
     "iopub.status.busy": "2022-08-05T20:03:19.796343Z",
     "iopub.status.idle": "2022-08-05T20:03:19.804507Z",
     "shell.execute_reply": "2022-08-05T20:03:19.803579Z"
    },
    "papermill": {
     "duration": 0.04731,
     "end_time": "2022-08-05T20:03:19.806593",
     "exception": false,
     "start_time": "2022-08-05T20:03:19.759283",
     "status": "completed"
    },
    "tags": []
   },
   "outputs": [
    {
     "data": {
      "application/javascript": [
       "parent.postMessage({\"jupyterEvent\": \"custom.exercise_interaction\", \"data\": {\"outcomeType\": 1, \"valueTowardsCompletion\": 0.3333333333333333, \"interactionType\": 1, \"questionType\": 4, \"questionId\": \"3_Q3\", \"learnToolsVersion\": \"0.3.4\", \"failureMessage\": \"\", \"exceptionClass\": \"\", \"trace\": \"\"}}, \"*\")"
      ],
      "text/plain": [
       "<IPython.core.display.Javascript object>"
      ]
     },
     "metadata": {},
     "output_type": "display_data"
    },
    {
     "data": {
      "text/markdown": [
       "<span style=\"color:#33cc33\">Correct:</span> \n",
       "\n",
       "Though we can see the training loss continuing to fall, the early stopping callback prevented any overfitting. Moreover, the accuracy rose at the same rate as the cross-entropy fell, so it appears that minimizing cross-entropy was a good stand-in. All in all, it looks like this training was a success!"
      ],
      "text/plain": [
       "Correct: \n",
       "\n",
       "Though we can see the training loss continuing to fall, the early stopping callback prevented any overfitting. Moreover, the accuracy rose at the same rate as the cross-entropy fell, so it appears that minimizing cross-entropy was a good stand-in. All in all, it looks like this training was a success!"
      ]
     },
     "metadata": {},
     "output_type": "display_data"
    }
   ],
   "source": [
    "# View the solution (Run this cell to receive credit!)\n",
    "q_3.check()"
   ]
  },
  {
   "cell_type": "markdown",
   "id": "e1e2b424",
   "metadata": {
    "papermill": {
     "duration": 0.035531,
     "end_time": "2022-08-05T20:03:19.877477",
     "exception": false,
     "start_time": "2022-08-05T20:03:19.841946",
     "status": "completed"
    },
    "tags": []
   },
   "source": [
    "# Conclusion #\n",
    "\n",
    "Congratulations! You've completed Kaggle's *Introduction to Deep Learning* course!\n",
    "\n",
    "With your new skills you're ready to take on more advanced applications like computer vision and sentiment classification. What would you like to do next?\n",
    "\n",
    "Why not try one of our *Getting Started* competitions?\n",
    "\n",
    "- Classify images with TPUs in [**Petals to the Metal**](https://www.kaggle.com/c/tpu-getting-started)\n",
    "- Create art with GANs in [**I'm Something of a Painter Myself**](https://www.kaggle.com/c/gan-getting-started)\n",
    "- Classify Tweets in [**Real or Not? NLP with Disaster Tweets**](https://www.kaggle.com/c/nlp-getting-started)\n",
    "- Detect contradiction and entailment in [**Contradictory, My Dear Watson**](https://www.kaggle.com/c/contradictory-my-dear-watson)\n",
    "\n",
    "Until next time, Kagglers!"
   ]
  },
  {
   "cell_type": "markdown",
   "id": "6eed37df",
   "metadata": {
    "papermill": {
     "duration": 0.036692,
     "end_time": "2022-08-05T20:03:19.950059",
     "exception": false,
     "start_time": "2022-08-05T20:03:19.913367",
     "status": "completed"
    },
    "tags": []
   },
   "source": [
    "---\n",
    "\n",
    "\n",
    "\n",
    "\n",
    "*Have questions or comments? Visit the [course discussion forum](https://www.kaggle.com/learn/intro-to-deep-learning/discussion) to chat with other learners.*"
   ]
  }
 ],
 "metadata": {
  "kernelspec": {
   "display_name": "Python 3",
   "language": "python",
   "name": "python3"
  },
  "language_info": {
   "codemirror_mode": {
    "name": "ipython",
    "version": 3
   },
   "file_extension": ".py",
   "mimetype": "text/x-python",
   "name": "python",
   "nbconvert_exporter": "python",
   "pygments_lexer": "ipython3",
   "version": "3.7.12"
  },
  "papermill": {
   "default_parameters": {},
   "duration": 64.336253,
   "end_time": "2022-08-05T20:03:22.950749",
   "environment_variables": {},
   "exception": null,
   "input_path": "__notebook__.ipynb",
   "output_path": "__notebook__.ipynb",
   "parameters": {},
   "start_time": "2022-08-05T20:02:18.614496",
   "version": "2.3.4"
  }
 },
 "nbformat": 4,
 "nbformat_minor": 5
}
