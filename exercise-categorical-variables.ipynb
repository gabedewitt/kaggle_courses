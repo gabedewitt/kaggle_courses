{
 "cells": [
  {
   "cell_type": "markdown",
   "id": "978b79ff",
   "metadata": {
    "papermill": {
     "duration": 0.013256,
     "end_time": "2022-07-06T20:08:46.906982",
     "exception": false,
     "start_time": "2022-07-06T20:08:46.893726",
     "status": "completed"
    },
    "tags": []
   },
   "source": [
    "**This notebook is an exercise in the [Intermediate Machine Learning](https://www.kaggle.com/learn/intermediate-machine-learning) course.  You can reference the tutorial at [this link](https://www.kaggle.com/alexisbcook/categorical-variables).**\n",
    "\n",
    "---\n"
   ]
  },
  {
   "cell_type": "markdown",
   "id": "1be07d1a",
   "metadata": {
    "papermill": {
     "duration": 0.011288,
     "end_time": "2022-07-06T20:08:46.929485",
     "exception": false,
     "start_time": "2022-07-06T20:08:46.918197",
     "status": "completed"
    },
    "tags": []
   },
   "source": [
    "By encoding **categorical variables**, you'll obtain your best results thus far!\n",
    "\n",
    "# Setup\n",
    "\n",
    "The questions below will give you feedback on your work. Run the following cell to set up the feedback system."
   ]
  },
  {
   "cell_type": "code",
   "execution_count": 1,
   "id": "54041c52",
   "metadata": {
    "execution": {
     "iopub.execute_input": "2022-07-06T20:08:46.954975Z",
     "iopub.status.busy": "2022-07-06T20:08:46.953708Z",
     "iopub.status.idle": "2022-07-06T20:08:47.012532Z",
     "shell.execute_reply": "2022-07-06T20:08:47.011320Z"
    },
    "papermill": {
     "duration": 0.074665,
     "end_time": "2022-07-06T20:08:47.015240",
     "exception": false,
     "start_time": "2022-07-06T20:08:46.940575",
     "status": "completed"
    },
    "tags": []
   },
   "outputs": [
    {
     "name": "stdout",
     "output_type": "stream",
     "text": [
      "Setup Complete\n"
     ]
    }
   ],
   "source": [
    "# Set up code checking\n",
    "import os\n",
    "if not os.path.exists(\"../input/train.csv\"):\n",
    "    os.symlink(\"../input/home-data-for-ml-course/train.csv\", \"../input/train.csv\")  \n",
    "    os.symlink(\"../input/home-data-for-ml-course/test.csv\", \"../input/test.csv\") \n",
    "from learntools.core import binder\n",
    "binder.bind(globals())\n",
    "from learntools.ml_intermediate.ex3 import *\n",
    "print(\"Setup Complete\")"
   ]
  },
  {
   "cell_type": "markdown",
   "id": "8a08fe15",
   "metadata": {
    "papermill": {
     "duration": 0.010932,
     "end_time": "2022-07-06T20:08:47.037521",
     "exception": false,
     "start_time": "2022-07-06T20:08:47.026589",
     "status": "completed"
    },
    "tags": []
   },
   "source": [
    "In this exercise, you will work with data from the [Housing Prices Competition for Kaggle Learn Users](https://www.kaggle.com/c/home-data-for-ml-course). \n",
    "\n",
    "![Ames Housing dataset image](https://i.imgur.com/lTJVG4e.png)\n",
    "\n",
    "Run the next code cell without changes to load the training and validation sets in `X_train`, `X_valid`, `y_train`, and `y_valid`.  The test set is loaded in `X_test`."
   ]
  },
  {
   "cell_type": "code",
   "execution_count": 2,
   "id": "426b3597",
   "metadata": {
    "execution": {
     "iopub.execute_input": "2022-07-06T20:08:47.063291Z",
     "iopub.status.busy": "2022-07-06T20:08:47.062544Z",
     "iopub.status.idle": "2022-07-06T20:08:48.381301Z",
     "shell.execute_reply": "2022-07-06T20:08:48.380204Z"
    },
    "papermill": {
     "duration": 1.33487,
     "end_time": "2022-07-06T20:08:48.383878",
     "exception": false,
     "start_time": "2022-07-06T20:08:47.049008",
     "status": "completed"
    },
    "tags": []
   },
   "outputs": [],
   "source": [
    "import pandas as pd\n",
    "from sklearn.model_selection import train_test_split\n",
    "\n",
    "# Read the data\n",
    "X = pd.read_csv('../input/train.csv', index_col='Id') \n",
    "X_test = pd.read_csv('../input/test.csv', index_col='Id')\n",
    "\n",
    "# Remove rows with missing target, separate target from predictors\n",
    "X.dropna(axis=0, subset=['SalePrice'], inplace=True)\n",
    "y = X.SalePrice\n",
    "X.drop(['SalePrice'], axis=1, inplace=True)\n",
    "\n",
    "# To keep things simple, we'll drop columns with missing values\n",
    "cols_with_missing = [col for col in X.columns if X[col].isnull().any()] \n",
    "X.drop(cols_with_missing, axis=1, inplace=True)\n",
    "X_test.drop(cols_with_missing, axis=1, inplace=True)\n",
    "\n",
    "# Break off validation set from training data\n",
    "X_train, X_valid, y_train, y_valid = train_test_split(X, y,\n",
    "                                                      train_size=0.8, test_size=0.2,\n",
    "                                                      random_state=0)"
   ]
  },
  {
   "cell_type": "markdown",
   "id": "6cca0058",
   "metadata": {
    "papermill": {
     "duration": 0.011005,
     "end_time": "2022-07-06T20:08:48.406308",
     "exception": false,
     "start_time": "2022-07-06T20:08:48.395303",
     "status": "completed"
    },
    "tags": []
   },
   "source": [
    "Use the next code cell to print the first five rows of the data."
   ]
  },
  {
   "cell_type": "code",
   "execution_count": 3,
   "id": "b49ffe8f",
   "metadata": {
    "execution": {
     "iopub.execute_input": "2022-07-06T20:08:48.430373Z",
     "iopub.status.busy": "2022-07-06T20:08:48.430013Z",
     "iopub.status.idle": "2022-07-06T20:08:48.459572Z",
     "shell.execute_reply": "2022-07-06T20:08:48.458443Z"
    },
    "papermill": {
     "duration": 0.044257,
     "end_time": "2022-07-06T20:08:48.461939",
     "exception": false,
     "start_time": "2022-07-06T20:08:48.417682",
     "status": "completed"
    },
    "tags": []
   },
   "outputs": [
    {
     "data": {
      "text/html": [
       "<div>\n",
       "<style scoped>\n",
       "    .dataframe tbody tr th:only-of-type {\n",
       "        vertical-align: middle;\n",
       "    }\n",
       "\n",
       "    .dataframe tbody tr th {\n",
       "        vertical-align: top;\n",
       "    }\n",
       "\n",
       "    .dataframe thead th {\n",
       "        text-align: right;\n",
       "    }\n",
       "</style>\n",
       "<table border=\"1\" class=\"dataframe\">\n",
       "  <thead>\n",
       "    <tr style=\"text-align: right;\">\n",
       "      <th></th>\n",
       "      <th>MSSubClass</th>\n",
       "      <th>MSZoning</th>\n",
       "      <th>LotArea</th>\n",
       "      <th>Street</th>\n",
       "      <th>LotShape</th>\n",
       "      <th>LandContour</th>\n",
       "      <th>Utilities</th>\n",
       "      <th>LotConfig</th>\n",
       "      <th>LandSlope</th>\n",
       "      <th>Neighborhood</th>\n",
       "      <th>...</th>\n",
       "      <th>OpenPorchSF</th>\n",
       "      <th>EnclosedPorch</th>\n",
       "      <th>3SsnPorch</th>\n",
       "      <th>ScreenPorch</th>\n",
       "      <th>PoolArea</th>\n",
       "      <th>MiscVal</th>\n",
       "      <th>MoSold</th>\n",
       "      <th>YrSold</th>\n",
       "      <th>SaleType</th>\n",
       "      <th>SaleCondition</th>\n",
       "    </tr>\n",
       "    <tr>\n",
       "      <th>Id</th>\n",
       "      <th></th>\n",
       "      <th></th>\n",
       "      <th></th>\n",
       "      <th></th>\n",
       "      <th></th>\n",
       "      <th></th>\n",
       "      <th></th>\n",
       "      <th></th>\n",
       "      <th></th>\n",
       "      <th></th>\n",
       "      <th></th>\n",
       "      <th></th>\n",
       "      <th></th>\n",
       "      <th></th>\n",
       "      <th></th>\n",
       "      <th></th>\n",
       "      <th></th>\n",
       "      <th></th>\n",
       "      <th></th>\n",
       "      <th></th>\n",
       "      <th></th>\n",
       "    </tr>\n",
       "  </thead>\n",
       "  <tbody>\n",
       "    <tr>\n",
       "      <th>619</th>\n",
       "      <td>20</td>\n",
       "      <td>RL</td>\n",
       "      <td>11694</td>\n",
       "      <td>Pave</td>\n",
       "      <td>Reg</td>\n",
       "      <td>Lvl</td>\n",
       "      <td>AllPub</td>\n",
       "      <td>Inside</td>\n",
       "      <td>Gtl</td>\n",
       "      <td>NridgHt</td>\n",
       "      <td>...</td>\n",
       "      <td>108</td>\n",
       "      <td>0</td>\n",
       "      <td>0</td>\n",
       "      <td>260</td>\n",
       "      <td>0</td>\n",
       "      <td>0</td>\n",
       "      <td>7</td>\n",
       "      <td>2007</td>\n",
       "      <td>New</td>\n",
       "      <td>Partial</td>\n",
       "    </tr>\n",
       "    <tr>\n",
       "      <th>871</th>\n",
       "      <td>20</td>\n",
       "      <td>RL</td>\n",
       "      <td>6600</td>\n",
       "      <td>Pave</td>\n",
       "      <td>Reg</td>\n",
       "      <td>Lvl</td>\n",
       "      <td>AllPub</td>\n",
       "      <td>Inside</td>\n",
       "      <td>Gtl</td>\n",
       "      <td>NAmes</td>\n",
       "      <td>...</td>\n",
       "      <td>0</td>\n",
       "      <td>0</td>\n",
       "      <td>0</td>\n",
       "      <td>0</td>\n",
       "      <td>0</td>\n",
       "      <td>0</td>\n",
       "      <td>8</td>\n",
       "      <td>2009</td>\n",
       "      <td>WD</td>\n",
       "      <td>Normal</td>\n",
       "    </tr>\n",
       "    <tr>\n",
       "      <th>93</th>\n",
       "      <td>30</td>\n",
       "      <td>RL</td>\n",
       "      <td>13360</td>\n",
       "      <td>Pave</td>\n",
       "      <td>IR1</td>\n",
       "      <td>HLS</td>\n",
       "      <td>AllPub</td>\n",
       "      <td>Inside</td>\n",
       "      <td>Gtl</td>\n",
       "      <td>Crawfor</td>\n",
       "      <td>...</td>\n",
       "      <td>0</td>\n",
       "      <td>44</td>\n",
       "      <td>0</td>\n",
       "      <td>0</td>\n",
       "      <td>0</td>\n",
       "      <td>0</td>\n",
       "      <td>8</td>\n",
       "      <td>2009</td>\n",
       "      <td>WD</td>\n",
       "      <td>Normal</td>\n",
       "    </tr>\n",
       "    <tr>\n",
       "      <th>818</th>\n",
       "      <td>20</td>\n",
       "      <td>RL</td>\n",
       "      <td>13265</td>\n",
       "      <td>Pave</td>\n",
       "      <td>IR1</td>\n",
       "      <td>Lvl</td>\n",
       "      <td>AllPub</td>\n",
       "      <td>CulDSac</td>\n",
       "      <td>Gtl</td>\n",
       "      <td>Mitchel</td>\n",
       "      <td>...</td>\n",
       "      <td>59</td>\n",
       "      <td>0</td>\n",
       "      <td>0</td>\n",
       "      <td>0</td>\n",
       "      <td>0</td>\n",
       "      <td>0</td>\n",
       "      <td>7</td>\n",
       "      <td>2008</td>\n",
       "      <td>WD</td>\n",
       "      <td>Normal</td>\n",
       "    </tr>\n",
       "    <tr>\n",
       "      <th>303</th>\n",
       "      <td>20</td>\n",
       "      <td>RL</td>\n",
       "      <td>13704</td>\n",
       "      <td>Pave</td>\n",
       "      <td>IR1</td>\n",
       "      <td>Lvl</td>\n",
       "      <td>AllPub</td>\n",
       "      <td>Corner</td>\n",
       "      <td>Gtl</td>\n",
       "      <td>CollgCr</td>\n",
       "      <td>...</td>\n",
       "      <td>81</td>\n",
       "      <td>0</td>\n",
       "      <td>0</td>\n",
       "      <td>0</td>\n",
       "      <td>0</td>\n",
       "      <td>0</td>\n",
       "      <td>1</td>\n",
       "      <td>2006</td>\n",
       "      <td>WD</td>\n",
       "      <td>Normal</td>\n",
       "    </tr>\n",
       "  </tbody>\n",
       "</table>\n",
       "<p>5 rows × 60 columns</p>\n",
       "</div>"
      ],
      "text/plain": [
       "     MSSubClass MSZoning  LotArea Street LotShape LandContour Utilities  \\\n",
       "Id                                                                        \n",
       "619          20       RL    11694   Pave      Reg         Lvl    AllPub   \n",
       "871          20       RL     6600   Pave      Reg         Lvl    AllPub   \n",
       "93           30       RL    13360   Pave      IR1         HLS    AllPub   \n",
       "818          20       RL    13265   Pave      IR1         Lvl    AllPub   \n",
       "303          20       RL    13704   Pave      IR1         Lvl    AllPub   \n",
       "\n",
       "    LotConfig LandSlope Neighborhood  ... OpenPorchSF EnclosedPorch 3SsnPorch  \\\n",
       "Id                                    ...                                       \n",
       "619    Inside       Gtl      NridgHt  ...         108             0         0   \n",
       "871    Inside       Gtl        NAmes  ...           0             0         0   \n",
       "93     Inside       Gtl      Crawfor  ...           0            44         0   \n",
       "818   CulDSac       Gtl      Mitchel  ...          59             0         0   \n",
       "303    Corner       Gtl      CollgCr  ...          81             0         0   \n",
       "\n",
       "    ScreenPorch  PoolArea  MiscVal  MoSold  YrSold SaleType SaleCondition  \n",
       "Id                                                                         \n",
       "619         260         0        0       7    2007      New       Partial  \n",
       "871           0         0        0       8    2009       WD        Normal  \n",
       "93            0         0        0       8    2009       WD        Normal  \n",
       "818           0         0        0       7    2008       WD        Normal  \n",
       "303           0         0        0       1    2006       WD        Normal  \n",
       "\n",
       "[5 rows x 60 columns]"
      ]
     },
     "execution_count": 3,
     "metadata": {},
     "output_type": "execute_result"
    }
   ],
   "source": [
    "X_train.head()"
   ]
  },
  {
   "cell_type": "markdown",
   "id": "12f780e5",
   "metadata": {
    "papermill": {
     "duration": 0.011552,
     "end_time": "2022-07-06T20:08:48.485058",
     "exception": false,
     "start_time": "2022-07-06T20:08:48.473506",
     "status": "completed"
    },
    "tags": []
   },
   "source": [
    "Notice that the dataset contains both numerical and categorical variables.  You'll need to encode the categorical data before training a model.\n",
    "\n",
    "To compare different models, you'll use the same `score_dataset()` function from the tutorial.  This function reports the [mean absolute error](https://en.wikipedia.org/wiki/Mean_absolute_error) (MAE) from a random forest model."
   ]
  },
  {
   "cell_type": "code",
   "execution_count": 4,
   "id": "1ffd1768",
   "metadata": {
    "execution": {
     "iopub.execute_input": "2022-07-06T20:08:48.509983Z",
     "iopub.status.busy": "2022-07-06T20:08:48.509513Z",
     "iopub.status.idle": "2022-07-06T20:08:48.737835Z",
     "shell.execute_reply": "2022-07-06T20:08:48.736510Z"
    },
    "papermill": {
     "duration": 0.244053,
     "end_time": "2022-07-06T20:08:48.740546",
     "exception": false,
     "start_time": "2022-07-06T20:08:48.496493",
     "status": "completed"
    },
    "tags": []
   },
   "outputs": [],
   "source": [
    "from sklearn.ensemble import RandomForestRegressor\n",
    "from sklearn.metrics import mean_absolute_error\n",
    "\n",
    "# function for comparing different approaches\n",
    "def score_dataset(X_train, X_valid, y_train, y_valid):\n",
    "    model = RandomForestRegressor(n_estimators=100, random_state=0)\n",
    "    model.fit(X_train, y_train)\n",
    "    preds = model.predict(X_valid)\n",
    "    return mean_absolute_error(y_valid, preds)"
   ]
  },
  {
   "cell_type": "markdown",
   "id": "0c5239dd",
   "metadata": {
    "papermill": {
     "duration": 0.011959,
     "end_time": "2022-07-06T20:08:48.766311",
     "exception": false,
     "start_time": "2022-07-06T20:08:48.754352",
     "status": "completed"
    },
    "tags": []
   },
   "source": [
    "# Step 1: Drop columns with categorical data\n",
    "\n",
    "You'll get started with the most straightforward approach.  Use the code cell below to preprocess the data in `X_train` and `X_valid` to remove columns with categorical data.  Set the preprocessed DataFrames to `drop_X_train` and `drop_X_valid`, respectively.  "
   ]
  },
  {
   "cell_type": "code",
   "execution_count": 5,
   "id": "3724169a",
   "metadata": {
    "execution": {
     "iopub.execute_input": "2022-07-06T20:08:48.792002Z",
     "iopub.status.busy": "2022-07-06T20:08:48.791574Z",
     "iopub.status.idle": "2022-07-06T20:08:48.804628Z",
     "shell.execute_reply": "2022-07-06T20:08:48.803462Z"
    },
    "papermill": {
     "duration": 0.028462,
     "end_time": "2022-07-06T20:08:48.806602",
     "exception": false,
     "start_time": "2022-07-06T20:08:48.778140",
     "status": "completed"
    },
    "tags": []
   },
   "outputs": [
    {
     "data": {
      "application/javascript": [
       "parent.postMessage({\"jupyterEvent\": \"custom.exercise_interaction\", \"data\": {\"outcomeType\": 1, \"valueTowardsCompletion\": 0.5, \"interactionType\": 1, \"questionType\": 2, \"questionId\": \"1_Drop\", \"learnToolsVersion\": \"0.3.4\", \"failureMessage\": \"\", \"exceptionClass\": \"\", \"trace\": \"\"}}, \"*\")"
      ],
      "text/plain": [
       "<IPython.core.display.Javascript object>"
      ]
     },
     "metadata": {},
     "output_type": "display_data"
    },
    {
     "data": {
      "text/markdown": [
       "<span style=\"color:#33cc33\">Correct</span>"
      ],
      "text/plain": [
       "Correct"
      ]
     },
     "metadata": {},
     "output_type": "display_data"
    }
   ],
   "source": [
    "# Fill in the lines below: drop columns in training and validation data\n",
    "drop_X_train = X_train.select_dtypes(exclude=['object'])\n",
    "drop_X_valid = X_valid.select_dtypes(exclude=['object'])\n",
    "\n",
    "# Check your answers\n",
    "step_1.check()"
   ]
  },
  {
   "cell_type": "code",
   "execution_count": 6,
   "id": "9a60694e",
   "metadata": {
    "execution": {
     "iopub.execute_input": "2022-07-06T20:08:48.831960Z",
     "iopub.status.busy": "2022-07-06T20:08:48.831314Z",
     "iopub.status.idle": "2022-07-06T20:08:48.834829Z",
     "shell.execute_reply": "2022-07-06T20:08:48.834115Z"
    },
    "papermill": {
     "duration": 0.018636,
     "end_time": "2022-07-06T20:08:48.836821",
     "exception": false,
     "start_time": "2022-07-06T20:08:48.818185",
     "status": "completed"
    },
    "tags": []
   },
   "outputs": [],
   "source": [
    "# Lines below will give you a hint or solution code\n",
    "#step_1.hint()\n",
    "#step_1.solution()"
   ]
  },
  {
   "cell_type": "markdown",
   "id": "38859f49",
   "metadata": {
    "papermill": {
     "duration": 0.011439,
     "end_time": "2022-07-06T20:08:48.859991",
     "exception": false,
     "start_time": "2022-07-06T20:08:48.848552",
     "status": "completed"
    },
    "tags": []
   },
   "source": [
    "Run the next code cell to get the MAE for this approach."
   ]
  },
  {
   "cell_type": "code",
   "execution_count": 7,
   "id": "0d7caac6",
   "metadata": {
    "execution": {
     "iopub.execute_input": "2022-07-06T20:08:48.885801Z",
     "iopub.status.busy": "2022-07-06T20:08:48.885061Z",
     "iopub.status.idle": "2022-07-06T20:08:50.006831Z",
     "shell.execute_reply": "2022-07-06T20:08:50.005997Z"
    },
    "papermill": {
     "duration": 1.137179,
     "end_time": "2022-07-06T20:08:50.009112",
     "exception": false,
     "start_time": "2022-07-06T20:08:48.871933",
     "status": "completed"
    },
    "tags": []
   },
   "outputs": [
    {
     "name": "stdout",
     "output_type": "stream",
     "text": [
      "MAE from Approach 1 (Drop categorical variables):\n",
      "17837.82570776256\n"
     ]
    }
   ],
   "source": [
    "print(\"MAE from Approach 1 (Drop categorical variables):\")\n",
    "print(score_dataset(drop_X_train, drop_X_valid, y_train, y_valid))"
   ]
  },
  {
   "cell_type": "markdown",
   "id": "74e09956",
   "metadata": {
    "papermill": {
     "duration": 0.011542,
     "end_time": "2022-07-06T20:08:50.032609",
     "exception": false,
     "start_time": "2022-07-06T20:08:50.021067",
     "status": "completed"
    },
    "tags": []
   },
   "source": [
    "Before jumping into ordinal encoding, we'll investigate the dataset.  Specifically, we'll look at the `'Condition2'` column.  The code cell below prints the unique entries in both the training and validation sets."
   ]
  },
  {
   "cell_type": "code",
   "execution_count": 8,
   "id": "527007b1",
   "metadata": {
    "execution": {
     "iopub.execute_input": "2022-07-06T20:08:50.058271Z",
     "iopub.status.busy": "2022-07-06T20:08:50.057691Z",
     "iopub.status.idle": "2022-07-06T20:08:50.064160Z",
     "shell.execute_reply": "2022-07-06T20:08:50.062945Z"
    },
    "papermill": {
     "duration": 0.021814,
     "end_time": "2022-07-06T20:08:50.066164",
     "exception": false,
     "start_time": "2022-07-06T20:08:50.044350",
     "status": "completed"
    },
    "tags": []
   },
   "outputs": [
    {
     "name": "stdout",
     "output_type": "stream",
     "text": [
      "Unique values in 'Condition2' column in training data: ['Norm' 'PosA' 'Feedr' 'PosN' 'Artery' 'RRAe']\n",
      "\n",
      "Unique values in 'Condition2' column in validation data: ['Norm' 'RRAn' 'RRNn' 'Artery' 'Feedr' 'PosN']\n"
     ]
    }
   ],
   "source": [
    "print(\"Unique values in 'Condition2' column in training data:\", X_train['Condition2'].unique())\n",
    "print(\"\\nUnique values in 'Condition2' column in validation data:\", X_valid['Condition2'].unique())"
   ]
  },
  {
   "cell_type": "markdown",
   "id": "c123ba88",
   "metadata": {
    "papermill": {
     "duration": 0.011766,
     "end_time": "2022-07-06T20:08:50.090261",
     "exception": false,
     "start_time": "2022-07-06T20:08:50.078495",
     "status": "completed"
    },
    "tags": []
   },
   "source": [
    "# Step 2: Ordinal encoding\n",
    "\n",
    "### Part A\n",
    "\n",
    "If you now write code to: \n",
    "- fit an ordinal encoder to the training data, and then \n",
    "- use it to transform both the training and validation data, \n",
    "\n",
    "you'll get an error.  Can you see why this is the case?  (_You'll need  to use the above output to answer this question._)"
   ]
  },
  {
   "cell_type": "code",
   "execution_count": 9,
   "id": "c08791bc",
   "metadata": {
    "execution": {
     "iopub.execute_input": "2022-07-06T20:08:50.115937Z",
     "iopub.status.busy": "2022-07-06T20:08:50.115519Z",
     "iopub.status.idle": "2022-07-06T20:08:50.120533Z",
     "shell.execute_reply": "2022-07-06T20:08:50.119739Z"
    },
    "papermill": {
     "duration": 0.020484,
     "end_time": "2022-07-06T20:08:50.122650",
     "exception": false,
     "start_time": "2022-07-06T20:08:50.102166",
     "status": "completed"
    },
    "tags": []
   },
   "outputs": [],
   "source": [
    "s = (X_train.dtypes == 'object')\n",
    "object_cols = list(s[s].index)"
   ]
  },
  {
   "cell_type": "code",
   "execution_count": 10,
   "id": "38128f88",
   "metadata": {
    "execution": {
     "iopub.execute_input": "2022-07-06T20:08:50.148774Z",
     "iopub.status.busy": "2022-07-06T20:08:50.148208Z",
     "iopub.status.idle": "2022-07-06T20:08:50.163313Z",
     "shell.execute_reply": "2022-07-06T20:08:50.162388Z"
    },
    "papermill": {
     "duration": 0.03088,
     "end_time": "2022-07-06T20:08:50.165828",
     "exception": false,
     "start_time": "2022-07-06T20:08:50.134948",
     "status": "completed"
    },
    "tags": []
   },
   "outputs": [
    {
     "data": {
      "text/plain": [
       "OrdinalEncoder()"
      ]
     },
     "execution_count": 10,
     "metadata": {},
     "output_type": "execute_result"
    }
   ],
   "source": [
    "from sklearn.preprocessing import OrdinalEncoder\n",
    "\n",
    "label_X_train = X_train.copy()\n",
    "label_X_valid = X_valid.copy()\n",
    "\n",
    "ordinal_encoder = OrdinalEncoder()\n",
    "ordinal_encoder.fit(X_train[object_cols])\n",
    "\n",
    "#label_X_train[object_cols] = ordinal_encoder.transform(X_train[object_cols])\n",
    "#label_X_valid[object_cols] = ordinal_encoder.transform(X_valid[object_cols])"
   ]
  },
  {
   "cell_type": "markdown",
   "id": "475f8e6c",
   "metadata": {
    "papermill": {
     "duration": 0.011961,
     "end_time": "2022-07-06T20:08:50.189861",
     "exception": false,
     "start_time": "2022-07-06T20:08:50.177900",
     "status": "completed"
    },
    "tags": []
   },
   "source": [
    "The encoder found new categories that weren't in the training data."
   ]
  },
  {
   "cell_type": "code",
   "execution_count": 11,
   "id": "85734cda",
   "metadata": {
    "execution": {
     "iopub.execute_input": "2022-07-06T20:08:50.216054Z",
     "iopub.status.busy": "2022-07-06T20:08:50.215368Z",
     "iopub.status.idle": "2022-07-06T20:08:50.222455Z",
     "shell.execute_reply": "2022-07-06T20:08:50.221666Z"
    },
    "papermill": {
     "duration": 0.022403,
     "end_time": "2022-07-06T20:08:50.224410",
     "exception": false,
     "start_time": "2022-07-06T20:08:50.202007",
     "status": "completed"
    },
    "tags": []
   },
   "outputs": [
    {
     "data": {
      "application/javascript": [
       "parent.postMessage({\"jupyterEvent\": \"custom.exercise_interaction\", \"data\": {\"outcomeType\": 1, \"valueTowardsCompletion\": 0.5, \"interactionType\": 1, \"questionType\": 4, \"questionId\": \"2.1_LabelA\", \"learnToolsVersion\": \"0.3.4\", \"failureMessage\": \"\", \"exceptionClass\": \"\", \"trace\": \"\"}}, \"*\")"
      ],
      "text/plain": [
       "<IPython.core.display.Javascript object>"
      ]
     },
     "metadata": {},
     "output_type": "display_data"
    },
    {
     "data": {
      "text/markdown": [
       "<span style=\"color:#33cc33\">Correct:</span> \n",
       "\n",
       "Fitting an ordinal encoder to a column in the training data creates a corresponding integer-valued label for each unique value **that appears in the training data**. In the case that the validation data contains values that don't also appear in the training data, the encoder will throw an error, because these values won't have an integer assigned to them.  Notice that the `'Condition2'` column in the validation data contains the values `'RRAn'` and `'RRNn'`, but these don't appear in the training data -- thus, if we try to use an ordinal encoder with scikit-learn, the code will throw an error."
      ],
      "text/plain": [
       "Correct: \n",
       "\n",
       "Fitting an ordinal encoder to a column in the training data creates a corresponding integer-valued label for each unique value **that appears in the training data**. In the case that the validation data contains values that don't also appear in the training data, the encoder will throw an error, because these values won't have an integer assigned to them.  Notice that the `'Condition2'` column in the validation data contains the values `'RRAn'` and `'RRNn'`, but these don't appear in the training data -- thus, if we try to use an ordinal encoder with scikit-learn, the code will throw an error."
      ]
     },
     "metadata": {},
     "output_type": "display_data"
    }
   ],
   "source": [
    "# Check your answer (Run this code cell to receive credit!)\n",
    "step_2.a.check()"
   ]
  },
  {
   "cell_type": "code",
   "execution_count": 12,
   "id": "11d63c73",
   "metadata": {
    "execution": {
     "iopub.execute_input": "2022-07-06T20:08:50.251320Z",
     "iopub.status.busy": "2022-07-06T20:08:50.250647Z",
     "iopub.status.idle": "2022-07-06T20:08:50.254441Z",
     "shell.execute_reply": "2022-07-06T20:08:50.253725Z"
    },
    "papermill": {
     "duration": 0.019593,
     "end_time": "2022-07-06T20:08:50.256445",
     "exception": false,
     "start_time": "2022-07-06T20:08:50.236852",
     "status": "completed"
    },
    "tags": []
   },
   "outputs": [],
   "source": [
    "#step_2.a.hint()"
   ]
  },
  {
   "cell_type": "markdown",
   "id": "f554846e",
   "metadata": {
    "papermill": {
     "duration": 0.012059,
     "end_time": "2022-07-06T20:08:50.280996",
     "exception": false,
     "start_time": "2022-07-06T20:08:50.268937",
     "status": "completed"
    },
    "tags": []
   },
   "source": [
    "This is a common problem that you'll encounter with real-world data, and there are many approaches to fixing this issue.  For instance, you can write a custom ordinal encoder to deal with new categories.  The simplest approach, however, is to drop the problematic categorical columns.  \n",
    "\n",
    "Run the code cell below to save the problematic columns to a Python list `bad_label_cols`.  Likewise, columns that can be safely ordinal encoded are stored in `good_label_cols`."
   ]
  },
  {
   "cell_type": "code",
   "execution_count": 13,
   "id": "8a105349",
   "metadata": {
    "execution": {
     "iopub.execute_input": "2022-07-06T20:08:50.307594Z",
     "iopub.status.busy": "2022-07-06T20:08:50.306948Z",
     "iopub.status.idle": "2022-07-06T20:08:50.323522Z",
     "shell.execute_reply": "2022-07-06T20:08:50.322263Z"
    },
    "papermill": {
     "duration": 0.032399,
     "end_time": "2022-07-06T20:08:50.325667",
     "exception": false,
     "start_time": "2022-07-06T20:08:50.293268",
     "status": "completed"
    },
    "tags": []
   },
   "outputs": [
    {
     "name": "stdout",
     "output_type": "stream",
     "text": [
      "Categorical columns that will be ordinal encoded: ['MSZoning', 'Street', 'LotShape', 'LandContour', 'Utilities', 'LotConfig', 'LandSlope', 'Neighborhood', 'Condition1', 'BldgType', 'HouseStyle', 'RoofStyle', 'Exterior1st', 'Exterior2nd', 'ExterQual', 'ExterCond', 'Foundation', 'Heating', 'HeatingQC', 'CentralAir', 'KitchenQual', 'PavedDrive', 'SaleType', 'SaleCondition']\n",
      "\n",
      "Categorical columns that will be dropped from the dataset: ['Functional', 'RoofMatl', 'Condition2']\n"
     ]
    }
   ],
   "source": [
    "# Categorical columns in the training data\n",
    "object_cols = [col for col in X_train.columns if X_train[col].dtype == \"object\"]\n",
    "\n",
    "# Columns that can be safely ordinal encoded\n",
    "good_label_cols = [col for col in object_cols if \n",
    "                   set(X_valid[col]).issubset(set(X_train[col]))]\n",
    "        \n",
    "# Problematic columns that will be dropped from the dataset\n",
    "bad_label_cols = list(set(object_cols)-set(good_label_cols))\n",
    "        \n",
    "print('Categorical columns that will be ordinal encoded:', good_label_cols)\n",
    "print('\\nCategorical columns that will be dropped from the dataset:', bad_label_cols)"
   ]
  },
  {
   "cell_type": "markdown",
   "id": "1705d207",
   "metadata": {
    "papermill": {
     "duration": 0.012322,
     "end_time": "2022-07-06T20:08:50.350626",
     "exception": false,
     "start_time": "2022-07-06T20:08:50.338304",
     "status": "completed"
    },
    "tags": []
   },
   "source": [
    "### Part B\n",
    "\n",
    "Use the next code cell to ordinal encode the data in `X_train` and `X_valid`.  Set the preprocessed DataFrames to `label_X_train` and `label_X_valid`, respectively.  \n",
    "- We have provided code below to drop the categorical columns in `bad_label_cols` from the dataset. \n",
    "- You should ordinal encode the categorical columns in `good_label_cols`.  "
   ]
  },
  {
   "cell_type": "code",
   "execution_count": 14,
   "id": "1f8d7bad",
   "metadata": {
    "execution": {
     "iopub.execute_input": "2022-07-06T20:08:50.377610Z",
     "iopub.status.busy": "2022-07-06T20:08:50.376948Z",
     "iopub.status.idle": "2022-07-06T20:08:50.422583Z",
     "shell.execute_reply": "2022-07-06T20:08:50.421465Z"
    },
    "papermill": {
     "duration": 0.061584,
     "end_time": "2022-07-06T20:08:50.424689",
     "exception": false,
     "start_time": "2022-07-06T20:08:50.363105",
     "status": "completed"
    },
    "tags": []
   },
   "outputs": [
    {
     "data": {
      "application/javascript": [
       "parent.postMessage({\"jupyterEvent\": \"custom.exercise_interaction\", \"data\": {\"outcomeType\": 1, \"valueTowardsCompletion\": 0.5, \"interactionType\": 1, \"questionType\": 2, \"questionId\": \"2.2_LabelB\", \"learnToolsVersion\": \"0.3.4\", \"failureMessage\": \"\", \"exceptionClass\": \"\", \"trace\": \"\"}}, \"*\")"
      ],
      "text/plain": [
       "<IPython.core.display.Javascript object>"
      ]
     },
     "metadata": {},
     "output_type": "display_data"
    },
    {
     "data": {
      "text/markdown": [
       "<span style=\"color:#33cc33\">Correct</span>"
      ],
      "text/plain": [
       "Correct"
      ]
     },
     "metadata": {},
     "output_type": "display_data"
    }
   ],
   "source": [
    "from sklearn.preprocessing import OrdinalEncoder\n",
    "\n",
    "# Drop categorical columns that will not be encoded\n",
    "label_X_train = X_train.drop(bad_label_cols, axis=1)\n",
    "label_X_valid = X_valid.drop(bad_label_cols, axis=1)\n",
    "\n",
    "# Apply ordinal encoder \n",
    "ordinal_encoder.fit(label_X_train[good_label_cols]) # Your code here\n",
    "label_X_train[good_label_cols] = ordinal_encoder.transform(X_train[good_label_cols])\n",
    "label_X_valid[good_label_cols] = ordinal_encoder.transform(X_valid[good_label_cols])\n",
    "# Check your answer\n",
    "step_2.b.check()"
   ]
  },
  {
   "cell_type": "code",
   "execution_count": 15,
   "id": "a86119ae",
   "metadata": {
    "execution": {
     "iopub.execute_input": "2022-07-06T20:08:50.452338Z",
     "iopub.status.busy": "2022-07-06T20:08:50.451696Z",
     "iopub.status.idle": "2022-07-06T20:08:50.455485Z",
     "shell.execute_reply": "2022-07-06T20:08:50.454550Z"
    },
    "papermill": {
     "duration": 0.020069,
     "end_time": "2022-07-06T20:08:50.457587",
     "exception": false,
     "start_time": "2022-07-06T20:08:50.437518",
     "status": "completed"
    },
    "tags": []
   },
   "outputs": [],
   "source": [
    "# Lines below will give you a hint or solution code\n",
    "#step_2.b.hint()\n",
    "#step_2.b.solution()"
   ]
  },
  {
   "cell_type": "markdown",
   "id": "0839a4a3",
   "metadata": {
    "papermill": {
     "duration": 0.012601,
     "end_time": "2022-07-06T20:08:50.483106",
     "exception": false,
     "start_time": "2022-07-06T20:08:50.470505",
     "status": "completed"
    },
    "tags": []
   },
   "source": [
    "Run the next code cell to get the MAE for this approach."
   ]
  },
  {
   "cell_type": "code",
   "execution_count": 16,
   "id": "793064ed",
   "metadata": {
    "execution": {
     "iopub.execute_input": "2022-07-06T20:08:50.512217Z",
     "iopub.status.busy": "2022-07-06T20:08:50.510403Z",
     "iopub.status.idle": "2022-07-06T20:08:51.939138Z",
     "shell.execute_reply": "2022-07-06T20:08:51.937747Z"
    },
    "papermill": {
     "duration": 1.445499,
     "end_time": "2022-07-06T20:08:51.941603",
     "exception": false,
     "start_time": "2022-07-06T20:08:50.496104",
     "status": "completed"
    },
    "tags": []
   },
   "outputs": [
    {
     "name": "stdout",
     "output_type": "stream",
     "text": [
      "MAE from Approach 2 (Ordinal Encoding):\n",
      "17098.01649543379\n"
     ]
    }
   ],
   "source": [
    "print(\"MAE from Approach 2 (Ordinal Encoding):\") \n",
    "print(score_dataset(label_X_train, label_X_valid, y_train, y_valid))"
   ]
  },
  {
   "cell_type": "markdown",
   "id": "4452e7db",
   "metadata": {
    "papermill": {
     "duration": 0.013686,
     "end_time": "2022-07-06T20:08:51.968880",
     "exception": false,
     "start_time": "2022-07-06T20:08:51.955194",
     "status": "completed"
    },
    "tags": []
   },
   "source": [
    "So far, you've tried two different approaches to dealing with categorical variables.  And, you've seen that encoding categorical data yields better results than removing columns from the dataset.\n",
    "\n",
    "Soon, you'll try one-hot encoding.  Before then, there's one additional topic we need to cover.  Begin by running the next code cell without changes.  "
   ]
  },
  {
   "cell_type": "code",
   "execution_count": 17,
   "id": "590ee50a",
   "metadata": {
    "execution": {
     "iopub.execute_input": "2022-07-06T20:08:51.997043Z",
     "iopub.status.busy": "2022-07-06T20:08:51.996654Z",
     "iopub.status.idle": "2022-07-06T20:08:52.010189Z",
     "shell.execute_reply": "2022-07-06T20:08:52.009088Z"
    },
    "papermill": {
     "duration": 0.030554,
     "end_time": "2022-07-06T20:08:52.012603",
     "exception": false,
     "start_time": "2022-07-06T20:08:51.982049",
     "status": "completed"
    },
    "tags": []
   },
   "outputs": [
    {
     "data": {
      "text/plain": [
       "[('Street', 2),\n",
       " ('Utilities', 2),\n",
       " ('CentralAir', 2),\n",
       " ('LandSlope', 3),\n",
       " ('PavedDrive', 3),\n",
       " ('LotShape', 4),\n",
       " ('LandContour', 4),\n",
       " ('ExterQual', 4),\n",
       " ('KitchenQual', 4),\n",
       " ('MSZoning', 5),\n",
       " ('LotConfig', 5),\n",
       " ('BldgType', 5),\n",
       " ('ExterCond', 5),\n",
       " ('HeatingQC', 5),\n",
       " ('Condition2', 6),\n",
       " ('RoofStyle', 6),\n",
       " ('Foundation', 6),\n",
       " ('Heating', 6),\n",
       " ('Functional', 6),\n",
       " ('SaleCondition', 6),\n",
       " ('RoofMatl', 7),\n",
       " ('HouseStyle', 8),\n",
       " ('Condition1', 9),\n",
       " ('SaleType', 9),\n",
       " ('Exterior1st', 15),\n",
       " ('Exterior2nd', 16),\n",
       " ('Neighborhood', 25)]"
      ]
     },
     "execution_count": 17,
     "metadata": {},
     "output_type": "execute_result"
    }
   ],
   "source": [
    "# Get number of unique entries in each column with categorical data\n",
    "object_nunique = list(map(lambda col: X_train[col].nunique(), object_cols))\n",
    "d = dict(zip(object_cols, object_nunique))\n",
    "\n",
    "# Print number of unique entries by column, in ascending order\n",
    "sorted(d.items(), key=lambda x: x[1])"
   ]
  },
  {
   "cell_type": "markdown",
   "id": "b55205e8",
   "metadata": {
    "papermill": {
     "duration": 0.013414,
     "end_time": "2022-07-06T20:08:52.039536",
     "exception": false,
     "start_time": "2022-07-06T20:08:52.026122",
     "status": "completed"
    },
    "tags": []
   },
   "source": [
    "# Step 3: Investigating cardinality\n",
    "\n",
    "### Part A\n",
    "\n",
    "The output above shows, for each column with categorical data, the number of unique values in the column.  For instance, the `'Street'` column in the training data has two unique values: `'Grvl'` and `'Pave'`, corresponding to a gravel road and a paved road, respectively.\n",
    "\n",
    "We refer to the number of unique entries of a categorical variable as the **cardinality** of that categorical variable.  For instance, the `'Street'` variable has cardinality 2.\n",
    "\n",
    "Use the output above to answer the questions below."
   ]
  },
  {
   "cell_type": "code",
   "execution_count": 18,
   "id": "2a54dfbe",
   "metadata": {
    "execution": {
     "iopub.execute_input": "2022-07-06T20:08:52.067868Z",
     "iopub.status.busy": "2022-07-06T20:08:52.067478Z",
     "iopub.status.idle": "2022-07-06T20:08:52.077489Z",
     "shell.execute_reply": "2022-07-06T20:08:52.076428Z"
    },
    "papermill": {
     "duration": 0.02663,
     "end_time": "2022-07-06T20:08:52.079599",
     "exception": false,
     "start_time": "2022-07-06T20:08:52.052969",
     "status": "completed"
    },
    "tags": []
   },
   "outputs": [
    {
     "data": {
      "application/javascript": [
       "parent.postMessage({\"jupyterEvent\": \"custom.exercise_interaction\", \"data\": {\"outcomeType\": 1, \"valueTowardsCompletion\": 0.5, \"interactionType\": 1, \"questionType\": 1, \"questionId\": \"3.1_CardinalityA\", \"learnToolsVersion\": \"0.3.4\", \"failureMessage\": \"\", \"exceptionClass\": \"\", \"trace\": \"\"}}, \"*\")"
      ],
      "text/plain": [
       "<IPython.core.display.Javascript object>"
      ]
     },
     "metadata": {},
     "output_type": "display_data"
    },
    {
     "data": {
      "text/markdown": [
       "<span style=\"color:#33cc33\">Correct</span>"
      ],
      "text/plain": [
       "Correct"
      ]
     },
     "metadata": {},
     "output_type": "display_data"
    }
   ],
   "source": [
    "# Fill in the line below: How many categorical variables in the training data\n",
    "# have cardinality greater than 10?\n",
    "high_cardinality_numcols = len([key for key, value in d.items() if value > 10])\n",
    "\n",
    "# Fill in the line below: How many columns are needed to one-hot encode the \n",
    "# 'Neighborhood' variable in the training data?\n",
    "num_cols_neighborhood = d['Neighborhood']\n",
    "\n",
    "# Check your answers\n",
    "step_3.a.check()"
   ]
  },
  {
   "cell_type": "code",
   "execution_count": 19,
   "id": "188c0845",
   "metadata": {
    "execution": {
     "iopub.execute_input": "2022-07-06T20:08:52.108104Z",
     "iopub.status.busy": "2022-07-06T20:08:52.107696Z",
     "iopub.status.idle": "2022-07-06T20:08:52.112167Z",
     "shell.execute_reply": "2022-07-06T20:08:52.111092Z"
    },
    "papermill": {
     "duration": 0.021284,
     "end_time": "2022-07-06T20:08:52.114318",
     "exception": false,
     "start_time": "2022-07-06T20:08:52.093034",
     "status": "completed"
    },
    "tags": []
   },
   "outputs": [],
   "source": [
    "# Lines below will give you a hint or solution code\n",
    "#step_3.a.hint()\n",
    "#step_3.a.solution()"
   ]
  },
  {
   "cell_type": "markdown",
   "id": "defe9bc6",
   "metadata": {
    "papermill": {
     "duration": 0.013076,
     "end_time": "2022-07-06T20:08:52.141045",
     "exception": false,
     "start_time": "2022-07-06T20:08:52.127969",
     "status": "completed"
    },
    "tags": []
   },
   "source": [
    "### Part B\n",
    "\n",
    "For large datasets with many rows, one-hot encoding can greatly expand the size of the dataset.  For this reason, we typically will only one-hot encode columns with relatively low cardinality.  Then, high cardinality columns can either be dropped from the dataset, or we can use ordinal encoding.\n",
    "\n",
    "As an example, consider a dataset with 10,000 rows, and containing one categorical column with 100 unique entries.  \n",
    "- If this column is replaced with the corresponding one-hot encoding, how many entries are added to the dataset?  \n",
    "- If we instead replace the column with the ordinal encoding, how many entries are added?  \n",
    "\n",
    "Use your answers to fill in the lines below."
   ]
  },
  {
   "cell_type": "code",
   "execution_count": 20,
   "id": "0e13790d",
   "metadata": {
    "execution": {
     "iopub.execute_input": "2022-07-06T20:08:52.170244Z",
     "iopub.status.busy": "2022-07-06T20:08:52.169867Z",
     "iopub.status.idle": "2022-07-06T20:08:52.178091Z",
     "shell.execute_reply": "2022-07-06T20:08:52.177091Z"
    },
    "papermill": {
     "duration": 0.025832,
     "end_time": "2022-07-06T20:08:52.180195",
     "exception": false,
     "start_time": "2022-07-06T20:08:52.154363",
     "status": "completed"
    },
    "tags": []
   },
   "outputs": [
    {
     "data": {
      "application/javascript": [
       "parent.postMessage({\"jupyterEvent\": \"custom.exercise_interaction\", \"data\": {\"outcomeType\": 1, \"valueTowardsCompletion\": 0.5, \"interactionType\": 1, \"questionType\": 1, \"questionId\": \"3.2_CardinalityB\", \"learnToolsVersion\": \"0.3.4\", \"failureMessage\": \"\", \"exceptionClass\": \"\", \"trace\": \"\"}}, \"*\")"
      ],
      "text/plain": [
       "<IPython.core.display.Javascript object>"
      ]
     },
     "metadata": {},
     "output_type": "display_data"
    },
    {
     "data": {
      "text/markdown": [
       "<span style=\"color:#33cc33\">Correct</span>"
      ],
      "text/plain": [
       "Correct"
      ]
     },
     "metadata": {},
     "output_type": "display_data"
    }
   ],
   "source": [
    "# Fill in the line below: How many entries are added to the dataset by \n",
    "# replacing the column with a one-hot encoding?\n",
    "OH_entries_added = 99*10000\n",
    "\n",
    "# Fill in the line below: How many entries are added to the dataset by\n",
    "# replacing the column with an ordinal encoding?\n",
    "label_entries_added = 0\n",
    "\n",
    "# Check your answers\n",
    "step_3.b.check()"
   ]
  },
  {
   "cell_type": "code",
   "execution_count": 21,
   "id": "c23f21bb",
   "metadata": {
    "execution": {
     "iopub.execute_input": "2022-07-06T20:08:52.210316Z",
     "iopub.status.busy": "2022-07-06T20:08:52.209946Z",
     "iopub.status.idle": "2022-07-06T20:08:52.214075Z",
     "shell.execute_reply": "2022-07-06T20:08:52.213080Z"
    },
    "papermill": {
     "duration": 0.021192,
     "end_time": "2022-07-06T20:08:52.216162",
     "exception": false,
     "start_time": "2022-07-06T20:08:52.194970",
     "status": "completed"
    },
    "tags": []
   },
   "outputs": [],
   "source": [
    "# Lines below will give you a hint or solution code\n",
    "#step_3.b.hint()\n",
    "#step_3.b.solution()"
   ]
  },
  {
   "cell_type": "markdown",
   "id": "677da7cb",
   "metadata": {
    "papermill": {
     "duration": 0.01343,
     "end_time": "2022-07-06T20:08:52.243221",
     "exception": false,
     "start_time": "2022-07-06T20:08:52.229791",
     "status": "completed"
    },
    "tags": []
   },
   "source": [
    "Next, you'll experiment with one-hot encoding.  But, instead of encoding all of the categorical variables in the dataset, you'll only create a one-hot encoding for columns with cardinality less than 10.\n",
    "\n",
    "Run the code cell below without changes to set `low_cardinality_cols` to a Python list containing the columns that will be one-hot encoded.  Likewise, `high_cardinality_cols` contains a list of categorical columns that will be dropped from the dataset."
   ]
  },
  {
   "cell_type": "code",
   "execution_count": 22,
   "id": "59c720e0",
   "metadata": {
    "execution": {
     "iopub.execute_input": "2022-07-06T20:08:52.272317Z",
     "iopub.status.busy": "2022-07-06T20:08:52.271935Z",
     "iopub.status.idle": "2022-07-06T20:08:52.283984Z",
     "shell.execute_reply": "2022-07-06T20:08:52.282911Z"
    },
    "papermill": {
     "duration": 0.029226,
     "end_time": "2022-07-06T20:08:52.286161",
     "exception": false,
     "start_time": "2022-07-06T20:08:52.256935",
     "status": "completed"
    },
    "tags": []
   },
   "outputs": [
    {
     "name": "stdout",
     "output_type": "stream",
     "text": [
      "Categorical columns that will be one-hot encoded: ['MSZoning', 'Street', 'LotShape', 'LandContour', 'Utilities', 'LotConfig', 'LandSlope', 'Condition1', 'Condition2', 'BldgType', 'HouseStyle', 'RoofStyle', 'RoofMatl', 'ExterQual', 'ExterCond', 'Foundation', 'Heating', 'HeatingQC', 'CentralAir', 'KitchenQual', 'Functional', 'PavedDrive', 'SaleType', 'SaleCondition']\n",
      "\n",
      "Categorical columns that will be dropped from the dataset: ['Exterior2nd', 'Exterior1st', 'Neighborhood']\n"
     ]
    }
   ],
   "source": [
    "# Columns that will be one-hot encoded\n",
    "low_cardinality_cols = [col for col in object_cols if X_train[col].nunique() < 10]\n",
    "\n",
    "# Columns that will be dropped from the dataset\n",
    "high_cardinality_cols = list(set(object_cols)-set(low_cardinality_cols))\n",
    "\n",
    "print('Categorical columns that will be one-hot encoded:', low_cardinality_cols)\n",
    "print('\\nCategorical columns that will be dropped from the dataset:', high_cardinality_cols)"
   ]
  },
  {
   "cell_type": "markdown",
   "id": "f83aae59",
   "metadata": {
    "papermill": {
     "duration": 0.013372,
     "end_time": "2022-07-06T20:08:52.313223",
     "exception": false,
     "start_time": "2022-07-06T20:08:52.299851",
     "status": "completed"
    },
    "tags": []
   },
   "source": [
    "# Step 4: One-hot encoding\n",
    "\n",
    "Use the next code cell to one-hot encode the data in `X_train` and `X_valid`.  Set the preprocessed DataFrames to `OH_X_train` and `OH_X_valid`, respectively.  \n",
    "- The full list of categorical columns in the dataset can be found in the Python list `object_cols`.\n",
    "- You should only one-hot encode the categorical columns in `low_cardinality_cols`.  All other categorical columns should be dropped from the dataset. "
   ]
  },
  {
   "cell_type": "code",
   "execution_count": 23,
   "id": "67c1d52e",
   "metadata": {
    "execution": {
     "iopub.execute_input": "2022-07-06T20:08:52.342245Z",
     "iopub.status.busy": "2022-07-06T20:08:52.341863Z",
     "iopub.status.idle": "2022-07-06T20:08:52.387921Z",
     "shell.execute_reply": "2022-07-06T20:08:52.386829Z"
    },
    "papermill": {
     "duration": 0.063188,
     "end_time": "2022-07-06T20:08:52.390122",
     "exception": false,
     "start_time": "2022-07-06T20:08:52.326934",
     "status": "completed"
    },
    "tags": []
   },
   "outputs": [
    {
     "data": {
      "application/javascript": [
       "parent.postMessage({\"jupyterEvent\": \"custom.exercise_interaction\", \"data\": {\"outcomeType\": 1, \"valueTowardsCompletion\": 0.5, \"interactionType\": 1, \"questionType\": 2, \"questionId\": \"4_OneHot\", \"learnToolsVersion\": \"0.3.4\", \"failureMessage\": \"\", \"exceptionClass\": \"\", \"trace\": \"\"}}, \"*\")"
      ],
      "text/plain": [
       "<IPython.core.display.Javascript object>"
      ]
     },
     "metadata": {},
     "output_type": "display_data"
    },
    {
     "data": {
      "text/markdown": [
       "<span style=\"color:#33cc33\">Correct</span>"
      ],
      "text/plain": [
       "Correct"
      ]
     },
     "metadata": {},
     "output_type": "display_data"
    }
   ],
   "source": [
    "from sklearn.preprocessing import OneHotEncoder\n",
    "\n",
    "# Use as many lines of code as you need!\n",
    "\n",
    "OH_encoder = OneHotEncoder(handle_unknown='ignore', sparse=False)\n",
    "OH_cols_train = pd.DataFrame(OH_encoder.fit_transform(X_train[low_cardinality_cols]))\n",
    "OH_cols_valid = pd.DataFrame(OH_encoder.transform(X_valid[low_cardinality_cols]))\n",
    "\n",
    "OH_cols_train.index = X_train.index\n",
    "OH_cols_valid.index = X_valid.index\n",
    "\n",
    "num_X_train = X_train.drop(object_cols, axis=1)\n",
    "num_X_valid = X_valid.drop(object_cols, axis=1)\n",
    "\n",
    "\n",
    "OH_X_train = pd.concat([num_X_train, OH_cols_train], axis=1) # Your code here\n",
    "OH_X_valid = pd.concat([num_X_valid, OH_cols_valid], axis=1) # Your code here\n",
    "\n",
    "# Check your answer\n",
    "step_4.check()"
   ]
  },
  {
   "cell_type": "code",
   "execution_count": 24,
   "id": "c7d45d39",
   "metadata": {
    "execution": {
     "iopub.execute_input": "2022-07-06T20:08:52.420430Z",
     "iopub.status.busy": "2022-07-06T20:08:52.419405Z",
     "iopub.status.idle": "2022-07-06T20:08:52.424299Z",
     "shell.execute_reply": "2022-07-06T20:08:52.423481Z"
    },
    "papermill": {
     "duration": 0.02198,
     "end_time": "2022-07-06T20:08:52.426200",
     "exception": false,
     "start_time": "2022-07-06T20:08:52.404220",
     "status": "completed"
    },
    "tags": []
   },
   "outputs": [],
   "source": [
    "# Lines below will give you a hint or solution code\n",
    "#step_4.hint()\n",
    "#step_4.solution()"
   ]
  },
  {
   "cell_type": "markdown",
   "id": "21f0b4b4",
   "metadata": {
    "papermill": {
     "duration": 0.013795,
     "end_time": "2022-07-06T20:08:52.454235",
     "exception": false,
     "start_time": "2022-07-06T20:08:52.440440",
     "status": "completed"
    },
    "tags": []
   },
   "source": [
    "Run the next code cell to get the MAE for this approach."
   ]
  },
  {
   "cell_type": "code",
   "execution_count": 25,
   "id": "7781dbe0",
   "metadata": {
    "execution": {
     "iopub.execute_input": "2022-07-06T20:08:52.484439Z",
     "iopub.status.busy": "2022-07-06T20:08:52.483765Z",
     "iopub.status.idle": "2022-07-06T20:08:54.233875Z",
     "shell.execute_reply": "2022-07-06T20:08:54.232682Z"
    },
    "papermill": {
     "duration": 1.769206,
     "end_time": "2022-07-06T20:08:54.237448",
     "exception": false,
     "start_time": "2022-07-06T20:08:52.468242",
     "status": "completed"
    },
    "tags": []
   },
   "outputs": [
    {
     "name": "stdout",
     "output_type": "stream",
     "text": [
      "MAE from Approach 3 (One-Hot Encoding):\n"
     ]
    },
    {
     "name": "stderr",
     "output_type": "stream",
     "text": [
      "/opt/conda/lib/python3.7/site-packages/sklearn/utils/validation.py:1692: FutureWarning: Feature names only support names that are all strings. Got feature names with dtypes: ['int', 'str']. An error will be raised in 1.2.\n",
      "  FutureWarning,\n"
     ]
    },
    {
     "name": "stdout",
     "output_type": "stream",
     "text": [
      "17525.345719178084\n"
     ]
    },
    {
     "name": "stderr",
     "output_type": "stream",
     "text": [
      "/opt/conda/lib/python3.7/site-packages/sklearn/utils/validation.py:1692: FutureWarning: Feature names only support names that are all strings. Got feature names with dtypes: ['int', 'str']. An error will be raised in 1.2.\n",
      "  FutureWarning,\n"
     ]
    }
   ],
   "source": [
    "print(\"MAE from Approach 3 (One-Hot Encoding):\") \n",
    "print(score_dataset(OH_X_train, OH_X_valid, y_train, y_valid))"
   ]
  },
  {
   "cell_type": "markdown",
   "id": "cc925360",
   "metadata": {
    "papermill": {
     "duration": 0.014438,
     "end_time": "2022-07-06T20:08:54.266484",
     "exception": false,
     "start_time": "2022-07-06T20:08:54.252046",
     "status": "completed"
    },
    "tags": []
   },
   "source": [
    "# Generate test predictions and submit your results\n",
    "\n",
    "After you complete Step 4, if you'd like to use what you've learned to submit your results to the leaderboard, you'll need to preprocess the test data before generating predictions.\n",
    "\n",
    "**This step is completely optional, and you do not need to submit results to the leaderboard to successfully complete the exercise.**\n",
    "\n",
    "Check out the previous exercise if you need help with remembering how to [join the competition](https://www.kaggle.com/c/home-data-for-ml-course) or save your results to CSV.  Once you have generated a file with your results, follow the instructions below:\n",
    "1. Begin by clicking on the **Save Version** button in the top right corner of the window.  This will generate a pop-up window.  \n",
    "2. Ensure that the **Save and Run All** option is selected, and then click on the **Save** button.\n",
    "3. This generates a window in the bottom left corner of the notebook.  After it has finished running, click on the number to the right of the **Save Version** button.  This pulls up a list of versions on the right of the screen.  Click on the ellipsis **(...)** to the right of the most recent version, and select **Open in Viewer**.  This brings you into view mode of the same page. You will need to scroll down to get back to these instructions.\n",
    "4. Click on the **Output** tab on the right of the screen.  Then, click on the file you would like to submit, and click on the **Submit** button to submit your results to the leaderboard.\n",
    "\n",
    "You have now successfully submitted to the competition!\n",
    "\n",
    "If you want to keep working to improve your performance, select the **Edit** button in the top right of the screen. Then you can change your code and repeat the process. There's a lot of room to improve, and you will climb up the leaderboard as you work.\n"
   ]
  },
  {
   "cell_type": "code",
   "execution_count": 26,
   "id": "26327fde",
   "metadata": {
    "execution": {
     "iopub.execute_input": "2022-07-06T20:08:54.297542Z",
     "iopub.status.busy": "2022-07-06T20:08:54.297176Z",
     "iopub.status.idle": "2022-07-06T20:08:56.122818Z",
     "shell.execute_reply": "2022-07-06T20:08:56.121607Z"
    },
    "papermill": {
     "duration": 1.843685,
     "end_time": "2022-07-06T20:08:56.124850",
     "exception": false,
     "start_time": "2022-07-06T20:08:54.281165",
     "status": "completed"
    },
    "tags": []
   },
   "outputs": [
    {
     "name": "stderr",
     "output_type": "stream",
     "text": [
      "/opt/conda/lib/python3.7/site-packages/sklearn/utils/validation.py:1692: FutureWarning: Feature names only support names that are all strings. Got feature names with dtypes: ['int', 'str']. An error will be raised in 1.2.\n",
      "  FutureWarning,\n",
      "/opt/conda/lib/python3.7/site-packages/sklearn/utils/validation.py:1692: FutureWarning: Feature names only support names that are all strings. Got feature names with dtypes: ['int', 'str']. An error will be raised in 1.2.\n",
      "  FutureWarning,\n"
     ]
    },
    {
     "name": "stdout",
     "output_type": "stream",
     "text": [
      "File created\n"
     ]
    },
    {
     "name": "stderr",
     "output_type": "stream",
     "text": [
      "/opt/conda/lib/python3.7/site-packages/sklearn/utils/validation.py:1692: FutureWarning: Feature names only support names that are all strings. Got feature names with dtypes: ['int', 'str']. An error will be raised in 1.2.\n",
      "  FutureWarning,\n"
     ]
    }
   ],
   "source": [
    "# (Optional) Your code here\n",
    "from sklearn.impute import SimpleImputer\n",
    "my_imputer = SimpleImputer(strategy = 'median')\n",
    "my_imputer.fit(OH_X_train)\n",
    "\n",
    "\n",
    "model = RandomForestRegressor(n_estimators=100, random_state=0)\n",
    "model.fit(OH_X_train, y_train)\n",
    "\n",
    "OH_cols_test = pd.DataFrame(OH_encoder.transform(X_test[low_cardinality_cols]))\n",
    "OH_cols_test.index = X_test.index\n",
    "\n",
    "num_X_test = X_test.drop(object_cols, axis=1)\n",
    "\n",
    "OH_X_test = pd.concat([num_X_test.reset_index(drop = True), OH_cols_test.reset_index(drop = True)], axis = 1)\n",
    "OH_X_test = pd.DataFrame(my_imputer.transform(OH_X_test))\n",
    "\n",
    "preds_test = model.predict(OH_X_test)\n",
    "\n",
    "output = pd.DataFrame({'Id': OH_X_test.index,\n",
    "                       'SalePrice': preds_test})\n",
    "output.to_csv('submission.csv', index=False)\n",
    "print('File created')"
   ]
  },
  {
   "cell_type": "code",
   "execution_count": 27,
   "id": "67764d50",
   "metadata": {
    "execution": {
     "iopub.execute_input": "2022-07-06T20:08:56.155838Z",
     "iopub.status.busy": "2022-07-06T20:08:56.155422Z",
     "iopub.status.idle": "2022-07-06T20:08:56.162539Z",
     "shell.execute_reply": "2022-07-06T20:08:56.161472Z"
    },
    "papermill": {
     "duration": 0.025229,
     "end_time": "2022-07-06T20:08:56.164710",
     "exception": false,
     "start_time": "2022-07-06T20:08:56.139481",
     "status": "completed"
    },
    "tags": []
   },
   "outputs": [
    {
     "data": {
      "text/plain": [
       "1459"
      ]
     },
     "execution_count": 27,
     "metadata": {},
     "output_type": "execute_result"
    }
   ],
   "source": [
    "len(output)"
   ]
  },
  {
   "cell_type": "markdown",
   "id": "40a6e496",
   "metadata": {
    "papermill": {
     "duration": 0.014659,
     "end_time": "2022-07-06T20:08:56.194457",
     "exception": false,
     "start_time": "2022-07-06T20:08:56.179798",
     "status": "completed"
    },
    "tags": []
   },
   "source": [
    "# Keep going\n",
    "\n",
    "With missing value handling and categorical encoding, your modeling process is getting complex. This complexity gets worse when you want to save your model to use in the future. The key to managing this complexity is something called **pipelines**. \n",
    "\n",
    "**[Learn to use pipelines](https://www.kaggle.com/alexisbcook/pipelines)** to preprocess datasets with categorical variables, missing values and any other messiness your data throws at you."
   ]
  },
  {
   "cell_type": "markdown",
   "id": "97d28c48",
   "metadata": {
    "papermill": {
     "duration": 0.014637,
     "end_time": "2022-07-06T20:08:56.224167",
     "exception": false,
     "start_time": "2022-07-06T20:08:56.209530",
     "status": "completed"
    },
    "tags": []
   },
   "source": [
    "---\n",
    "\n",
    "\n",
    "\n",
    "\n",
    "*Have questions or comments? Visit the [course discussion forum](https://www.kaggle.com/learn/intermediate-machine-learning/discussion) to chat with other learners.*"
   ]
  }
 ],
 "metadata": {
  "kernelspec": {
   "display_name": "Python 3",
   "language": "python",
   "name": "python3"
  },
  "language_info": {
   "codemirror_mode": {
    "name": "ipython",
    "version": 3
   },
   "file_extension": ".py",
   "mimetype": "text/x-python",
   "name": "python",
   "nbconvert_exporter": "python",
   "pygments_lexer": "ipython3",
   "version": "3.7.12"
  },
  "papermill": {
   "default_parameters": {},
   "duration": 20.013251,
   "end_time": "2022-07-06T20:08:56.960302",
   "environment_variables": {},
   "exception": null,
   "input_path": "__notebook__.ipynb",
   "output_path": "__notebook__.ipynb",
   "parameters": {},
   "start_time": "2022-07-06T20:08:36.947051",
   "version": "2.3.4"
  }
 },
 "nbformat": 4,
 "nbformat_minor": 5
}
