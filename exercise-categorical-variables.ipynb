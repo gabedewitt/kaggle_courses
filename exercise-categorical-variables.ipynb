{
 "cells": [
  {
   "cell_type": "markdown",
   "id": "321a73d6",
   "metadata": {
    "papermill": {
     "duration": 0.012042,
     "end_time": "2022-07-06T19:28:50.394382",
     "exception": false,
     "start_time": "2022-07-06T19:28:50.382340",
     "status": "completed"
    },
    "tags": []
   },
   "source": [
    "**This notebook is an exercise in the [Intermediate Machine Learning](https://www.kaggle.com/learn/intermediate-machine-learning) course.  You can reference the tutorial at [this link](https://www.kaggle.com/alexisbcook/categorical-variables).**\n",
    "\n",
    "---\n"
   ]
  },
  {
   "cell_type": "markdown",
   "id": "4f5aad15",
   "metadata": {
    "papermill": {
     "duration": 0.011081,
     "end_time": "2022-07-06T19:28:50.416759",
     "exception": false,
     "start_time": "2022-07-06T19:28:50.405678",
     "status": "completed"
    },
    "tags": []
   },
   "source": [
    "By encoding **categorical variables**, you'll obtain your best results thus far!\n",
    "\n",
    "# Setup\n",
    "\n",
    "The questions below will give you feedback on your work. Run the following cell to set up the feedback system."
   ]
  },
  {
   "cell_type": "code",
   "execution_count": 1,
   "id": "c35e6124",
   "metadata": {
    "execution": {
     "iopub.execute_input": "2022-07-06T19:28:50.441320Z",
     "iopub.status.busy": "2022-07-06T19:28:50.440720Z",
     "iopub.status.idle": "2022-07-06T19:28:50.501990Z",
     "shell.execute_reply": "2022-07-06T19:28:50.501129Z"
    },
    "papermill": {
     "duration": 0.078026,
     "end_time": "2022-07-06T19:28:50.505721",
     "exception": false,
     "start_time": "2022-07-06T19:28:50.427695",
     "status": "completed"
    },
    "tags": []
   },
   "outputs": [
    {
     "name": "stdout",
     "output_type": "stream",
     "text": [
      "Setup Complete\n"
     ]
    }
   ],
   "source": [
    "# Set up code checking\n",
    "import os\n",
    "if not os.path.exists(\"../input/train.csv\"):\n",
    "    os.symlink(\"../input/home-data-for-ml-course/train.csv\", \"../input/train.csv\")  \n",
    "    os.symlink(\"../input/home-data-for-ml-course/test.csv\", \"../input/test.csv\") \n",
    "from learntools.core import binder\n",
    "binder.bind(globals())\n",
    "from learntools.ml_intermediate.ex3 import *\n",
    "print(\"Setup Complete\")"
   ]
  },
  {
   "cell_type": "markdown",
   "id": "2820e2c5",
   "metadata": {
    "papermill": {
     "duration": 0.010786,
     "end_time": "2022-07-06T19:28:50.528710",
     "exception": false,
     "start_time": "2022-07-06T19:28:50.517924",
     "status": "completed"
    },
    "tags": []
   },
   "source": [
    "In this exercise, you will work with data from the [Housing Prices Competition for Kaggle Learn Users](https://www.kaggle.com/c/home-data-for-ml-course). \n",
    "\n",
    "![Ames Housing dataset image](https://i.imgur.com/lTJVG4e.png)\n",
    "\n",
    "Run the next code cell without changes to load the training and validation sets in `X_train`, `X_valid`, `y_train`, and `y_valid`.  The test set is loaded in `X_test`."
   ]
  },
  {
   "cell_type": "code",
   "execution_count": 2,
   "id": "0881cd72",
   "metadata": {
    "execution": {
     "iopub.execute_input": "2022-07-06T19:28:50.554030Z",
     "iopub.status.busy": "2022-07-06T19:28:50.553621Z",
     "iopub.status.idle": "2022-07-06T19:28:51.779698Z",
     "shell.execute_reply": "2022-07-06T19:28:51.778490Z"
    },
    "papermill": {
     "duration": 1.242417,
     "end_time": "2022-07-06T19:28:51.782663",
     "exception": false,
     "start_time": "2022-07-06T19:28:50.540246",
     "status": "completed"
    },
    "tags": []
   },
   "outputs": [],
   "source": [
    "import pandas as pd\n",
    "from sklearn.model_selection import train_test_split\n",
    "\n",
    "# Read the data\n",
    "X = pd.read_csv('../input/train.csv', index_col='Id') \n",
    "X_test = pd.read_csv('../input/test.csv', index_col='Id')\n",
    "\n",
    "# Remove rows with missing target, separate target from predictors\n",
    "X.dropna(axis=0, subset=['SalePrice'], inplace=True)\n",
    "y = X.SalePrice\n",
    "X.drop(['SalePrice'], axis=1, inplace=True)\n",
    "\n",
    "# To keep things simple, we'll drop columns with missing values\n",
    "cols_with_missing = [col for col in X.columns if X[col].isnull().any()] \n",
    "X.drop(cols_with_missing, axis=1, inplace=True)\n",
    "X_test.drop(cols_with_missing, axis=1, inplace=True)\n",
    "\n",
    "# Break off validation set from training data\n",
    "X_train, X_valid, y_train, y_valid = train_test_split(X, y,\n",
    "                                                      train_size=0.8, test_size=0.2,\n",
    "                                                      random_state=0)"
   ]
  },
  {
   "cell_type": "markdown",
   "id": "286ed8a9",
   "metadata": {
    "papermill": {
     "duration": 0.0106,
     "end_time": "2022-07-06T19:28:51.804491",
     "exception": false,
     "start_time": "2022-07-06T19:28:51.793891",
     "status": "completed"
    },
    "tags": []
   },
   "source": [
    "Use the next code cell to print the first five rows of the data."
   ]
  },
  {
   "cell_type": "code",
   "execution_count": 3,
   "id": "ec1c018f",
   "metadata": {
    "execution": {
     "iopub.execute_input": "2022-07-06T19:28:51.828401Z",
     "iopub.status.busy": "2022-07-06T19:28:51.827684Z",
     "iopub.status.idle": "2022-07-06T19:28:51.858011Z",
     "shell.execute_reply": "2022-07-06T19:28:51.856755Z"
    },
    "papermill": {
     "duration": 0.045438,
     "end_time": "2022-07-06T19:28:51.860724",
     "exception": false,
     "start_time": "2022-07-06T19:28:51.815286",
     "status": "completed"
    },
    "tags": []
   },
   "outputs": [
    {
     "data": {
      "text/html": [
       "<div>\n",
       "<style scoped>\n",
       "    .dataframe tbody tr th:only-of-type {\n",
       "        vertical-align: middle;\n",
       "    }\n",
       "\n",
       "    .dataframe tbody tr th {\n",
       "        vertical-align: top;\n",
       "    }\n",
       "\n",
       "    .dataframe thead th {\n",
       "        text-align: right;\n",
       "    }\n",
       "</style>\n",
       "<table border=\"1\" class=\"dataframe\">\n",
       "  <thead>\n",
       "    <tr style=\"text-align: right;\">\n",
       "      <th></th>\n",
       "      <th>MSSubClass</th>\n",
       "      <th>MSZoning</th>\n",
       "      <th>LotArea</th>\n",
       "      <th>Street</th>\n",
       "      <th>LotShape</th>\n",
       "      <th>LandContour</th>\n",
       "      <th>Utilities</th>\n",
       "      <th>LotConfig</th>\n",
       "      <th>LandSlope</th>\n",
       "      <th>Neighborhood</th>\n",
       "      <th>...</th>\n",
       "      <th>OpenPorchSF</th>\n",
       "      <th>EnclosedPorch</th>\n",
       "      <th>3SsnPorch</th>\n",
       "      <th>ScreenPorch</th>\n",
       "      <th>PoolArea</th>\n",
       "      <th>MiscVal</th>\n",
       "      <th>MoSold</th>\n",
       "      <th>YrSold</th>\n",
       "      <th>SaleType</th>\n",
       "      <th>SaleCondition</th>\n",
       "    </tr>\n",
       "    <tr>\n",
       "      <th>Id</th>\n",
       "      <th></th>\n",
       "      <th></th>\n",
       "      <th></th>\n",
       "      <th></th>\n",
       "      <th></th>\n",
       "      <th></th>\n",
       "      <th></th>\n",
       "      <th></th>\n",
       "      <th></th>\n",
       "      <th></th>\n",
       "      <th></th>\n",
       "      <th></th>\n",
       "      <th></th>\n",
       "      <th></th>\n",
       "      <th></th>\n",
       "      <th></th>\n",
       "      <th></th>\n",
       "      <th></th>\n",
       "      <th></th>\n",
       "      <th></th>\n",
       "      <th></th>\n",
       "    </tr>\n",
       "  </thead>\n",
       "  <tbody>\n",
       "    <tr>\n",
       "      <th>619</th>\n",
       "      <td>20</td>\n",
       "      <td>RL</td>\n",
       "      <td>11694</td>\n",
       "      <td>Pave</td>\n",
       "      <td>Reg</td>\n",
       "      <td>Lvl</td>\n",
       "      <td>AllPub</td>\n",
       "      <td>Inside</td>\n",
       "      <td>Gtl</td>\n",
       "      <td>NridgHt</td>\n",
       "      <td>...</td>\n",
       "      <td>108</td>\n",
       "      <td>0</td>\n",
       "      <td>0</td>\n",
       "      <td>260</td>\n",
       "      <td>0</td>\n",
       "      <td>0</td>\n",
       "      <td>7</td>\n",
       "      <td>2007</td>\n",
       "      <td>New</td>\n",
       "      <td>Partial</td>\n",
       "    </tr>\n",
       "    <tr>\n",
       "      <th>871</th>\n",
       "      <td>20</td>\n",
       "      <td>RL</td>\n",
       "      <td>6600</td>\n",
       "      <td>Pave</td>\n",
       "      <td>Reg</td>\n",
       "      <td>Lvl</td>\n",
       "      <td>AllPub</td>\n",
       "      <td>Inside</td>\n",
       "      <td>Gtl</td>\n",
       "      <td>NAmes</td>\n",
       "      <td>...</td>\n",
       "      <td>0</td>\n",
       "      <td>0</td>\n",
       "      <td>0</td>\n",
       "      <td>0</td>\n",
       "      <td>0</td>\n",
       "      <td>0</td>\n",
       "      <td>8</td>\n",
       "      <td>2009</td>\n",
       "      <td>WD</td>\n",
       "      <td>Normal</td>\n",
       "    </tr>\n",
       "    <tr>\n",
       "      <th>93</th>\n",
       "      <td>30</td>\n",
       "      <td>RL</td>\n",
       "      <td>13360</td>\n",
       "      <td>Pave</td>\n",
       "      <td>IR1</td>\n",
       "      <td>HLS</td>\n",
       "      <td>AllPub</td>\n",
       "      <td>Inside</td>\n",
       "      <td>Gtl</td>\n",
       "      <td>Crawfor</td>\n",
       "      <td>...</td>\n",
       "      <td>0</td>\n",
       "      <td>44</td>\n",
       "      <td>0</td>\n",
       "      <td>0</td>\n",
       "      <td>0</td>\n",
       "      <td>0</td>\n",
       "      <td>8</td>\n",
       "      <td>2009</td>\n",
       "      <td>WD</td>\n",
       "      <td>Normal</td>\n",
       "    </tr>\n",
       "    <tr>\n",
       "      <th>818</th>\n",
       "      <td>20</td>\n",
       "      <td>RL</td>\n",
       "      <td>13265</td>\n",
       "      <td>Pave</td>\n",
       "      <td>IR1</td>\n",
       "      <td>Lvl</td>\n",
       "      <td>AllPub</td>\n",
       "      <td>CulDSac</td>\n",
       "      <td>Gtl</td>\n",
       "      <td>Mitchel</td>\n",
       "      <td>...</td>\n",
       "      <td>59</td>\n",
       "      <td>0</td>\n",
       "      <td>0</td>\n",
       "      <td>0</td>\n",
       "      <td>0</td>\n",
       "      <td>0</td>\n",
       "      <td>7</td>\n",
       "      <td>2008</td>\n",
       "      <td>WD</td>\n",
       "      <td>Normal</td>\n",
       "    </tr>\n",
       "    <tr>\n",
       "      <th>303</th>\n",
       "      <td>20</td>\n",
       "      <td>RL</td>\n",
       "      <td>13704</td>\n",
       "      <td>Pave</td>\n",
       "      <td>IR1</td>\n",
       "      <td>Lvl</td>\n",
       "      <td>AllPub</td>\n",
       "      <td>Corner</td>\n",
       "      <td>Gtl</td>\n",
       "      <td>CollgCr</td>\n",
       "      <td>...</td>\n",
       "      <td>81</td>\n",
       "      <td>0</td>\n",
       "      <td>0</td>\n",
       "      <td>0</td>\n",
       "      <td>0</td>\n",
       "      <td>0</td>\n",
       "      <td>1</td>\n",
       "      <td>2006</td>\n",
       "      <td>WD</td>\n",
       "      <td>Normal</td>\n",
       "    </tr>\n",
       "  </tbody>\n",
       "</table>\n",
       "<p>5 rows × 60 columns</p>\n",
       "</div>"
      ],
      "text/plain": [
       "     MSSubClass MSZoning  LotArea Street LotShape LandContour Utilities  \\\n",
       "Id                                                                        \n",
       "619          20       RL    11694   Pave      Reg         Lvl    AllPub   \n",
       "871          20       RL     6600   Pave      Reg         Lvl    AllPub   \n",
       "93           30       RL    13360   Pave      IR1         HLS    AllPub   \n",
       "818          20       RL    13265   Pave      IR1         Lvl    AllPub   \n",
       "303          20       RL    13704   Pave      IR1         Lvl    AllPub   \n",
       "\n",
       "    LotConfig LandSlope Neighborhood  ... OpenPorchSF EnclosedPorch 3SsnPorch  \\\n",
       "Id                                    ...                                       \n",
       "619    Inside       Gtl      NridgHt  ...         108             0         0   \n",
       "871    Inside       Gtl        NAmes  ...           0             0         0   \n",
       "93     Inside       Gtl      Crawfor  ...           0            44         0   \n",
       "818   CulDSac       Gtl      Mitchel  ...          59             0         0   \n",
       "303    Corner       Gtl      CollgCr  ...          81             0         0   \n",
       "\n",
       "    ScreenPorch  PoolArea  MiscVal  MoSold  YrSold SaleType SaleCondition  \n",
       "Id                                                                         \n",
       "619         260         0        0       7    2007      New       Partial  \n",
       "871           0         0        0       8    2009       WD        Normal  \n",
       "93            0         0        0       8    2009       WD        Normal  \n",
       "818           0         0        0       7    2008       WD        Normal  \n",
       "303           0         0        0       1    2006       WD        Normal  \n",
       "\n",
       "[5 rows x 60 columns]"
      ]
     },
     "execution_count": 3,
     "metadata": {},
     "output_type": "execute_result"
    }
   ],
   "source": [
    "X_train.head()"
   ]
  },
  {
   "cell_type": "markdown",
   "id": "360bb710",
   "metadata": {
    "papermill": {
     "duration": 0.011142,
     "end_time": "2022-07-06T19:28:51.883136",
     "exception": false,
     "start_time": "2022-07-06T19:28:51.871994",
     "status": "completed"
    },
    "tags": []
   },
   "source": [
    "Notice that the dataset contains both numerical and categorical variables.  You'll need to encode the categorical data before training a model.\n",
    "\n",
    "To compare different models, you'll use the same `score_dataset()` function from the tutorial.  This function reports the [mean absolute error](https://en.wikipedia.org/wiki/Mean_absolute_error) (MAE) from a random forest model."
   ]
  },
  {
   "cell_type": "code",
   "execution_count": 4,
   "id": "dbc6d808",
   "metadata": {
    "execution": {
     "iopub.execute_input": "2022-07-06T19:28:51.907181Z",
     "iopub.status.busy": "2022-07-06T19:28:51.906770Z",
     "iopub.status.idle": "2022-07-06T19:28:52.122147Z",
     "shell.execute_reply": "2022-07-06T19:28:52.121228Z"
    },
    "papermill": {
     "duration": 0.230188,
     "end_time": "2022-07-06T19:28:52.124502",
     "exception": false,
     "start_time": "2022-07-06T19:28:51.894314",
     "status": "completed"
    },
    "tags": []
   },
   "outputs": [],
   "source": [
    "from sklearn.ensemble import RandomForestRegressor\n",
    "from sklearn.metrics import mean_absolute_error\n",
    "\n",
    "# function for comparing different approaches\n",
    "def score_dataset(X_train, X_valid, y_train, y_valid):\n",
    "    model = RandomForestRegressor(n_estimators=100, random_state=0)\n",
    "    model.fit(X_train, y_train)\n",
    "    preds = model.predict(X_valid)\n",
    "    return mean_absolute_error(y_valid, preds)"
   ]
  },
  {
   "cell_type": "markdown",
   "id": "e35dfd00",
   "metadata": {
    "papermill": {
     "duration": 0.011714,
     "end_time": "2022-07-06T19:28:52.149139",
     "exception": false,
     "start_time": "2022-07-06T19:28:52.137425",
     "status": "completed"
    },
    "tags": []
   },
   "source": [
    "# Step 1: Drop columns with categorical data\n",
    "\n",
    "You'll get started with the most straightforward approach.  Use the code cell below to preprocess the data in `X_train` and `X_valid` to remove columns with categorical data.  Set the preprocessed DataFrames to `drop_X_train` and `drop_X_valid`, respectively.  "
   ]
  },
  {
   "cell_type": "code",
   "execution_count": 5,
   "id": "c15fd891",
   "metadata": {
    "execution": {
     "iopub.execute_input": "2022-07-06T19:28:52.174141Z",
     "iopub.status.busy": "2022-07-06T19:28:52.173470Z",
     "iopub.status.idle": "2022-07-06T19:28:52.185368Z",
     "shell.execute_reply": "2022-07-06T19:28:52.184441Z"
    },
    "papermill": {
     "duration": 0.026826,
     "end_time": "2022-07-06T19:28:52.187361",
     "exception": false,
     "start_time": "2022-07-06T19:28:52.160535",
     "status": "completed"
    },
    "tags": []
   },
   "outputs": [
    {
     "data": {
      "application/javascript": [
       "parent.postMessage({\"jupyterEvent\": \"custom.exercise_interaction\", \"data\": {\"outcomeType\": 1, \"valueTowardsCompletion\": 0.5, \"interactionType\": 1, \"questionType\": 2, \"questionId\": \"1_Drop\", \"learnToolsVersion\": \"0.3.4\", \"failureMessage\": \"\", \"exceptionClass\": \"\", \"trace\": \"\"}}, \"*\")"
      ],
      "text/plain": [
       "<IPython.core.display.Javascript object>"
      ]
     },
     "metadata": {},
     "output_type": "display_data"
    },
    {
     "data": {
      "text/markdown": [
       "<span style=\"color:#33cc33\">Correct</span>"
      ],
      "text/plain": [
       "Correct"
      ]
     },
     "metadata": {},
     "output_type": "display_data"
    }
   ],
   "source": [
    "# Fill in the lines below: drop columns in training and validation data\n",
    "drop_X_train = X_train.select_dtypes(exclude=['object'])\n",
    "drop_X_valid = X_valid.select_dtypes(exclude=['object'])\n",
    "\n",
    "# Check your answers\n",
    "step_1.check()"
   ]
  },
  {
   "cell_type": "code",
   "execution_count": 6,
   "id": "2a69d4a9",
   "metadata": {
    "execution": {
     "iopub.execute_input": "2022-07-06T19:28:52.212484Z",
     "iopub.status.busy": "2022-07-06T19:28:52.212075Z",
     "iopub.status.idle": "2022-07-06T19:28:52.216501Z",
     "shell.execute_reply": "2022-07-06T19:28:52.215365Z"
    },
    "papermill": {
     "duration": 0.019911,
     "end_time": "2022-07-06T19:28:52.218659",
     "exception": false,
     "start_time": "2022-07-06T19:28:52.198748",
     "status": "completed"
    },
    "tags": []
   },
   "outputs": [],
   "source": [
    "# Lines below will give you a hint or solution code\n",
    "#step_1.hint()\n",
    "#step_1.solution()"
   ]
  },
  {
   "cell_type": "markdown",
   "id": "267e7bdf",
   "metadata": {
    "papermill": {
     "duration": 0.011547,
     "end_time": "2022-07-06T19:28:52.242216",
     "exception": false,
     "start_time": "2022-07-06T19:28:52.230669",
     "status": "completed"
    },
    "tags": []
   },
   "source": [
    "Run the next code cell to get the MAE for this approach."
   ]
  },
  {
   "cell_type": "code",
   "execution_count": 7,
   "id": "db2f3155",
   "metadata": {
    "execution": {
     "iopub.execute_input": "2022-07-06T19:28:52.267105Z",
     "iopub.status.busy": "2022-07-06T19:28:52.266718Z",
     "iopub.status.idle": "2022-07-06T19:28:53.377623Z",
     "shell.execute_reply": "2022-07-06T19:28:53.376361Z"
    },
    "papermill": {
     "duration": 1.126413,
     "end_time": "2022-07-06T19:28:53.380270",
     "exception": false,
     "start_time": "2022-07-06T19:28:52.253857",
     "status": "completed"
    },
    "tags": []
   },
   "outputs": [
    {
     "name": "stdout",
     "output_type": "stream",
     "text": [
      "MAE from Approach 1 (Drop categorical variables):\n",
      "17837.82570776256\n"
     ]
    }
   ],
   "source": [
    "print(\"MAE from Approach 1 (Drop categorical variables):\")\n",
    "print(score_dataset(drop_X_train, drop_X_valid, y_train, y_valid))"
   ]
  },
  {
   "cell_type": "markdown",
   "id": "4314d735",
   "metadata": {
    "papermill": {
     "duration": 0.011733,
     "end_time": "2022-07-06T19:28:53.404860",
     "exception": false,
     "start_time": "2022-07-06T19:28:53.393127",
     "status": "completed"
    },
    "tags": []
   },
   "source": [
    "Before jumping into ordinal encoding, we'll investigate the dataset.  Specifically, we'll look at the `'Condition2'` column.  The code cell below prints the unique entries in both the training and validation sets."
   ]
  },
  {
   "cell_type": "code",
   "execution_count": 8,
   "id": "fb37bfcc",
   "metadata": {
    "execution": {
     "iopub.execute_input": "2022-07-06T19:28:53.431152Z",
     "iopub.status.busy": "2022-07-06T19:28:53.430774Z",
     "iopub.status.idle": "2022-07-06T19:28:53.437829Z",
     "shell.execute_reply": "2022-07-06T19:28:53.436348Z"
    },
    "papermill": {
     "duration": 0.023727,
     "end_time": "2022-07-06T19:28:53.440984",
     "exception": false,
     "start_time": "2022-07-06T19:28:53.417257",
     "status": "completed"
    },
    "tags": []
   },
   "outputs": [
    {
     "name": "stdout",
     "output_type": "stream",
     "text": [
      "Unique values in 'Condition2' column in training data: ['Norm' 'PosA' 'Feedr' 'PosN' 'Artery' 'RRAe']\n",
      "\n",
      "Unique values in 'Condition2' column in validation data: ['Norm' 'RRAn' 'RRNn' 'Artery' 'Feedr' 'PosN']\n"
     ]
    }
   ],
   "source": [
    "print(\"Unique values in 'Condition2' column in training data:\", X_train['Condition2'].unique())\n",
    "print(\"\\nUnique values in 'Condition2' column in validation data:\", X_valid['Condition2'].unique())"
   ]
  },
  {
   "cell_type": "markdown",
   "id": "b81b3fe9",
   "metadata": {
    "papermill": {
     "duration": 0.011868,
     "end_time": "2022-07-06T19:28:53.465571",
     "exception": false,
     "start_time": "2022-07-06T19:28:53.453703",
     "status": "completed"
    },
    "tags": []
   },
   "source": [
    "# Step 2: Ordinal encoding\n",
    "\n",
    "### Part A\n",
    "\n",
    "If you now write code to: \n",
    "- fit an ordinal encoder to the training data, and then \n",
    "- use it to transform both the training and validation data, \n",
    "\n",
    "you'll get an error.  Can you see why this is the case?  (_You'll need  to use the above output to answer this question._)"
   ]
  },
  {
   "cell_type": "code",
   "execution_count": 9,
   "id": "c48071af",
   "metadata": {
    "execution": {
     "iopub.execute_input": "2022-07-06T19:28:53.490988Z",
     "iopub.status.busy": "2022-07-06T19:28:53.490563Z",
     "iopub.status.idle": "2022-07-06T19:28:53.495740Z",
     "shell.execute_reply": "2022-07-06T19:28:53.494971Z"
    },
    "papermill": {
     "duration": 0.020319,
     "end_time": "2022-07-06T19:28:53.497691",
     "exception": false,
     "start_time": "2022-07-06T19:28:53.477372",
     "status": "completed"
    },
    "tags": []
   },
   "outputs": [],
   "source": [
    "s = (X_train.dtypes == 'object')\n",
    "object_cols = list(s[s].index)"
   ]
  },
  {
   "cell_type": "code",
   "execution_count": 10,
   "id": "bd22080e",
   "metadata": {
    "execution": {
     "iopub.execute_input": "2022-07-06T19:28:53.523259Z",
     "iopub.status.busy": "2022-07-06T19:28:53.522341Z",
     "iopub.status.idle": "2022-07-06T19:28:53.538495Z",
     "shell.execute_reply": "2022-07-06T19:28:53.537640Z"
    },
    "papermill": {
     "duration": 0.03099,
     "end_time": "2022-07-06T19:28:53.540369",
     "exception": false,
     "start_time": "2022-07-06T19:28:53.509379",
     "status": "completed"
    },
    "tags": []
   },
   "outputs": [
    {
     "data": {
      "text/plain": [
       "OrdinalEncoder()"
      ]
     },
     "execution_count": 10,
     "metadata": {},
     "output_type": "execute_result"
    }
   ],
   "source": [
    "from sklearn.preprocessing import OrdinalEncoder\n",
    "\n",
    "label_X_train = X_train.copy()\n",
    "label_X_valid = X_valid.copy()\n",
    "\n",
    "ordinal_encoder = OrdinalEncoder()\n",
    "ordinal_encoder.fit(X_train[object_cols])\n",
    "\n",
    "#label_X_train[object_cols] = ordinal_encoder.transform(X_train[object_cols])\n",
    "#label_X_valid[object_cols] = ordinal_encoder.transform(X_valid[object_cols])"
   ]
  },
  {
   "cell_type": "markdown",
   "id": "18271580",
   "metadata": {
    "papermill": {
     "duration": 0.01179,
     "end_time": "2022-07-06T19:28:53.564564",
     "exception": false,
     "start_time": "2022-07-06T19:28:53.552774",
     "status": "completed"
    },
    "tags": []
   },
   "source": [
    "The encoder found new categories that weren't in the training data."
   ]
  },
  {
   "cell_type": "code",
   "execution_count": 11,
   "id": "02bd37ee",
   "metadata": {
    "execution": {
     "iopub.execute_input": "2022-07-06T19:28:53.590681Z",
     "iopub.status.busy": "2022-07-06T19:28:53.589986Z",
     "iopub.status.idle": "2022-07-06T19:28:53.599361Z",
     "shell.execute_reply": "2022-07-06T19:28:53.598259Z"
    },
    "papermill": {
     "duration": 0.025004,
     "end_time": "2022-07-06T19:28:53.601393",
     "exception": false,
     "start_time": "2022-07-06T19:28:53.576389",
     "status": "completed"
    },
    "tags": []
   },
   "outputs": [
    {
     "data": {
      "application/javascript": [
       "parent.postMessage({\"jupyterEvent\": \"custom.exercise_interaction\", \"data\": {\"outcomeType\": 1, \"valueTowardsCompletion\": 0.5, \"interactionType\": 1, \"questionType\": 4, \"questionId\": \"2.1_LabelA\", \"learnToolsVersion\": \"0.3.4\", \"failureMessage\": \"\", \"exceptionClass\": \"\", \"trace\": \"\"}}, \"*\")"
      ],
      "text/plain": [
       "<IPython.core.display.Javascript object>"
      ]
     },
     "metadata": {},
     "output_type": "display_data"
    },
    {
     "data": {
      "text/markdown": [
       "<span style=\"color:#33cc33\">Correct:</span> \n",
       "\n",
       "Fitting an ordinal encoder to a column in the training data creates a corresponding integer-valued label for each unique value **that appears in the training data**. In the case that the validation data contains values that don't also appear in the training data, the encoder will throw an error, because these values won't have an integer assigned to them.  Notice that the `'Condition2'` column in the validation data contains the values `'RRAn'` and `'RRNn'`, but these don't appear in the training data -- thus, if we try to use an ordinal encoder with scikit-learn, the code will throw an error."
      ],
      "text/plain": [
       "Correct: \n",
       "\n",
       "Fitting an ordinal encoder to a column in the training data creates a corresponding integer-valued label for each unique value **that appears in the training data**. In the case that the validation data contains values that don't also appear in the training data, the encoder will throw an error, because these values won't have an integer assigned to them.  Notice that the `'Condition2'` column in the validation data contains the values `'RRAn'` and `'RRNn'`, but these don't appear in the training data -- thus, if we try to use an ordinal encoder with scikit-learn, the code will throw an error."
      ]
     },
     "metadata": {},
     "output_type": "display_data"
    }
   ],
   "source": [
    "# Check your answer (Run this code cell to receive credit!)\n",
    "step_2.a.check()"
   ]
  },
  {
   "cell_type": "code",
   "execution_count": 12,
   "id": "e705c197",
   "metadata": {
    "execution": {
     "iopub.execute_input": "2022-07-06T19:28:53.627588Z",
     "iopub.status.busy": "2022-07-06T19:28:53.626993Z",
     "iopub.status.idle": "2022-07-06T19:28:53.631453Z",
     "shell.execute_reply": "2022-07-06T19:28:53.630727Z"
    },
    "papermill": {
     "duration": 0.019924,
     "end_time": "2022-07-06T19:28:53.633456",
     "exception": false,
     "start_time": "2022-07-06T19:28:53.613532",
     "status": "completed"
    },
    "tags": []
   },
   "outputs": [],
   "source": [
    "#step_2.a.hint()"
   ]
  },
  {
   "cell_type": "markdown",
   "id": "1e27d85e",
   "metadata": {
    "papermill": {
     "duration": 0.011881,
     "end_time": "2022-07-06T19:28:53.657664",
     "exception": false,
     "start_time": "2022-07-06T19:28:53.645783",
     "status": "completed"
    },
    "tags": []
   },
   "source": [
    "This is a common problem that you'll encounter with real-world data, and there are many approaches to fixing this issue.  For instance, you can write a custom ordinal encoder to deal with new categories.  The simplest approach, however, is to drop the problematic categorical columns.  \n",
    "\n",
    "Run the code cell below to save the problematic columns to a Python list `bad_label_cols`.  Likewise, columns that can be safely ordinal encoded are stored in `good_label_cols`."
   ]
  },
  {
   "cell_type": "code",
   "execution_count": 13,
   "id": "0fd21b7e",
   "metadata": {
    "execution": {
     "iopub.execute_input": "2022-07-06T19:28:53.684008Z",
     "iopub.status.busy": "2022-07-06T19:28:53.683619Z",
     "iopub.status.idle": "2022-07-06T19:28:53.700431Z",
     "shell.execute_reply": "2022-07-06T19:28:53.698881Z"
    },
    "papermill": {
     "duration": 0.03287,
     "end_time": "2022-07-06T19:28:53.702729",
     "exception": false,
     "start_time": "2022-07-06T19:28:53.669859",
     "status": "completed"
    },
    "tags": []
   },
   "outputs": [
    {
     "name": "stdout",
     "output_type": "stream",
     "text": [
      "Categorical columns that will be ordinal encoded: ['MSZoning', 'Street', 'LotShape', 'LandContour', 'Utilities', 'LotConfig', 'LandSlope', 'Neighborhood', 'Condition1', 'BldgType', 'HouseStyle', 'RoofStyle', 'Exterior1st', 'Exterior2nd', 'ExterQual', 'ExterCond', 'Foundation', 'Heating', 'HeatingQC', 'CentralAir', 'KitchenQual', 'PavedDrive', 'SaleType', 'SaleCondition']\n",
      "\n",
      "Categorical columns that will be dropped from the dataset: ['Condition2', 'RoofMatl', 'Functional']\n"
     ]
    }
   ],
   "source": [
    "# Categorical columns in the training data\n",
    "object_cols = [col for col in X_train.columns if X_train[col].dtype == \"object\"]\n",
    "\n",
    "# Columns that can be safely ordinal encoded\n",
    "good_label_cols = [col for col in object_cols if \n",
    "                   set(X_valid[col]).issubset(set(X_train[col]))]\n",
    "        \n",
    "# Problematic columns that will be dropped from the dataset\n",
    "bad_label_cols = list(set(object_cols)-set(good_label_cols))\n",
    "        \n",
    "print('Categorical columns that will be ordinal encoded:', good_label_cols)\n",
    "print('\\nCategorical columns that will be dropped from the dataset:', bad_label_cols)"
   ]
  },
  {
   "cell_type": "markdown",
   "id": "0fecd06e",
   "metadata": {
    "papermill": {
     "duration": 0.012065,
     "end_time": "2022-07-06T19:28:53.727515",
     "exception": false,
     "start_time": "2022-07-06T19:28:53.715450",
     "status": "completed"
    },
    "tags": []
   },
   "source": [
    "### Part B\n",
    "\n",
    "Use the next code cell to ordinal encode the data in `X_train` and `X_valid`.  Set the preprocessed DataFrames to `label_X_train` and `label_X_valid`, respectively.  \n",
    "- We have provided code below to drop the categorical columns in `bad_label_cols` from the dataset. \n",
    "- You should ordinal encode the categorical columns in `good_label_cols`.  "
   ]
  },
  {
   "cell_type": "code",
   "execution_count": 14,
   "id": "48229dac",
   "metadata": {
    "execution": {
     "iopub.execute_input": "2022-07-06T19:28:53.753927Z",
     "iopub.status.busy": "2022-07-06T19:28:53.753564Z",
     "iopub.status.idle": "2022-07-06T19:28:53.798702Z",
     "shell.execute_reply": "2022-07-06T19:28:53.797916Z"
    },
    "papermill": {
     "duration": 0.060708,
     "end_time": "2022-07-06T19:28:53.800620",
     "exception": false,
     "start_time": "2022-07-06T19:28:53.739912",
     "status": "completed"
    },
    "tags": []
   },
   "outputs": [
    {
     "data": {
      "application/javascript": [
       "parent.postMessage({\"jupyterEvent\": \"custom.exercise_interaction\", \"data\": {\"outcomeType\": 1, \"valueTowardsCompletion\": 0.5, \"interactionType\": 1, \"questionType\": 2, \"questionId\": \"2.2_LabelB\", \"learnToolsVersion\": \"0.3.4\", \"failureMessage\": \"\", \"exceptionClass\": \"\", \"trace\": \"\"}}, \"*\")"
      ],
      "text/plain": [
       "<IPython.core.display.Javascript object>"
      ]
     },
     "metadata": {},
     "output_type": "display_data"
    },
    {
     "data": {
      "text/markdown": [
       "<span style=\"color:#33cc33\">Correct</span>"
      ],
      "text/plain": [
       "Correct"
      ]
     },
     "metadata": {},
     "output_type": "display_data"
    }
   ],
   "source": [
    "from sklearn.preprocessing import OrdinalEncoder\n",
    "\n",
    "# Drop categorical columns that will not be encoded\n",
    "label_X_train = X_train.drop(bad_label_cols, axis=1)\n",
    "label_X_valid = X_valid.drop(bad_label_cols, axis=1)\n",
    "\n",
    "# Apply ordinal encoder \n",
    "ordinal_encoder.fit(label_X_train[good_label_cols]) # Your code here\n",
    "label_X_train[good_label_cols] = ordinal_encoder.transform(X_train[good_label_cols])\n",
    "label_X_valid[good_label_cols] = ordinal_encoder.transform(X_valid[good_label_cols])\n",
    "# Check your answer\n",
    "step_2.b.check()"
   ]
  },
  {
   "cell_type": "code",
   "execution_count": 15,
   "id": "dc098976",
   "metadata": {
    "execution": {
     "iopub.execute_input": "2022-07-06T19:28:53.828106Z",
     "iopub.status.busy": "2022-07-06T19:28:53.827131Z",
     "iopub.status.idle": "2022-07-06T19:28:53.831762Z",
     "shell.execute_reply": "2022-07-06T19:28:53.830994Z"
    },
    "papermill": {
     "duration": 0.020644,
     "end_time": "2022-07-06T19:28:53.833868",
     "exception": false,
     "start_time": "2022-07-06T19:28:53.813224",
     "status": "completed"
    },
    "tags": []
   },
   "outputs": [],
   "source": [
    "# Lines below will give you a hint or solution code\n",
    "#step_2.b.hint()\n",
    "#step_2.b.solution()"
   ]
  },
  {
   "cell_type": "markdown",
   "id": "c9384817",
   "metadata": {
    "papermill": {
     "duration": 0.01271,
     "end_time": "2022-07-06T19:28:53.859340",
     "exception": false,
     "start_time": "2022-07-06T19:28:53.846630",
     "status": "completed"
    },
    "tags": []
   },
   "source": [
    "Run the next code cell to get the MAE for this approach."
   ]
  },
  {
   "cell_type": "code",
   "execution_count": 16,
   "id": "84ba99ff",
   "metadata": {
    "execution": {
     "iopub.execute_input": "2022-07-06T19:28:53.887111Z",
     "iopub.status.busy": "2022-07-06T19:28:53.886419Z",
     "iopub.status.idle": "2022-07-06T19:28:55.301748Z",
     "shell.execute_reply": "2022-07-06T19:28:55.300333Z"
    },
    "papermill": {
     "duration": 1.432974,
     "end_time": "2022-07-06T19:28:55.305134",
     "exception": false,
     "start_time": "2022-07-06T19:28:53.872160",
     "status": "completed"
    },
    "tags": []
   },
   "outputs": [
    {
     "name": "stdout",
     "output_type": "stream",
     "text": [
      "MAE from Approach 2 (Ordinal Encoding):\n",
      "17098.01649543379\n"
     ]
    }
   ],
   "source": [
    "print(\"MAE from Approach 2 (Ordinal Encoding):\") \n",
    "print(score_dataset(label_X_train, label_X_valid, y_train, y_valid))"
   ]
  },
  {
   "cell_type": "markdown",
   "id": "50035dd2",
   "metadata": {
    "papermill": {
     "duration": 0.012567,
     "end_time": "2022-07-06T19:28:55.330986",
     "exception": false,
     "start_time": "2022-07-06T19:28:55.318419",
     "status": "completed"
    },
    "tags": []
   },
   "source": [
    "So far, you've tried two different approaches to dealing with categorical variables.  And, you've seen that encoding categorical data yields better results than removing columns from the dataset.\n",
    "\n",
    "Soon, you'll try one-hot encoding.  Before then, there's one additional topic we need to cover.  Begin by running the next code cell without changes.  "
   ]
  },
  {
   "cell_type": "code",
   "execution_count": 17,
   "id": "be6ef069",
   "metadata": {
    "execution": {
     "iopub.execute_input": "2022-07-06T19:28:55.358118Z",
     "iopub.status.busy": "2022-07-06T19:28:55.357729Z",
     "iopub.status.idle": "2022-07-06T19:28:55.373253Z",
     "shell.execute_reply": "2022-07-06T19:28:55.372174Z"
    },
    "papermill": {
     "duration": 0.031662,
     "end_time": "2022-07-06T19:28:55.375395",
     "exception": false,
     "start_time": "2022-07-06T19:28:55.343733",
     "status": "completed"
    },
    "tags": []
   },
   "outputs": [
    {
     "data": {
      "text/plain": [
       "[('Street', 2),\n",
       " ('Utilities', 2),\n",
       " ('CentralAir', 2),\n",
       " ('LandSlope', 3),\n",
       " ('PavedDrive', 3),\n",
       " ('LotShape', 4),\n",
       " ('LandContour', 4),\n",
       " ('ExterQual', 4),\n",
       " ('KitchenQual', 4),\n",
       " ('MSZoning', 5),\n",
       " ('LotConfig', 5),\n",
       " ('BldgType', 5),\n",
       " ('ExterCond', 5),\n",
       " ('HeatingQC', 5),\n",
       " ('Condition2', 6),\n",
       " ('RoofStyle', 6),\n",
       " ('Foundation', 6),\n",
       " ('Heating', 6),\n",
       " ('Functional', 6),\n",
       " ('SaleCondition', 6),\n",
       " ('RoofMatl', 7),\n",
       " ('HouseStyle', 8),\n",
       " ('Condition1', 9),\n",
       " ('SaleType', 9),\n",
       " ('Exterior1st', 15),\n",
       " ('Exterior2nd', 16),\n",
       " ('Neighborhood', 25)]"
      ]
     },
     "execution_count": 17,
     "metadata": {},
     "output_type": "execute_result"
    }
   ],
   "source": [
    "# Get number of unique entries in each column with categorical data\n",
    "object_nunique = list(map(lambda col: X_train[col].nunique(), object_cols))\n",
    "d = dict(zip(object_cols, object_nunique))\n",
    "\n",
    "# Print number of unique entries by column, in ascending order\n",
    "sorted(d.items(), key=lambda x: x[1])"
   ]
  },
  {
   "cell_type": "markdown",
   "id": "b3ee1c27",
   "metadata": {
    "papermill": {
     "duration": 0.01305,
     "end_time": "2022-07-06T19:28:55.401602",
     "exception": false,
     "start_time": "2022-07-06T19:28:55.388552",
     "status": "completed"
    },
    "tags": []
   },
   "source": [
    "# Step 3: Investigating cardinality\n",
    "\n",
    "### Part A\n",
    "\n",
    "The output above shows, for each column with categorical data, the number of unique values in the column.  For instance, the `'Street'` column in the training data has two unique values: `'Grvl'` and `'Pave'`, corresponding to a gravel road and a paved road, respectively.\n",
    "\n",
    "We refer to the number of unique entries of a categorical variable as the **cardinality** of that categorical variable.  For instance, the `'Street'` variable has cardinality 2.\n",
    "\n",
    "Use the output above to answer the questions below."
   ]
  },
  {
   "cell_type": "code",
   "execution_count": 18,
   "id": "337b7ed7",
   "metadata": {
    "execution": {
     "iopub.execute_input": "2022-07-06T19:28:55.430233Z",
     "iopub.status.busy": "2022-07-06T19:28:55.429160Z",
     "iopub.status.idle": "2022-07-06T19:28:55.439582Z",
     "shell.execute_reply": "2022-07-06T19:28:55.438517Z"
    },
    "papermill": {
     "duration": 0.026984,
     "end_time": "2022-07-06T19:28:55.441794",
     "exception": false,
     "start_time": "2022-07-06T19:28:55.414810",
     "status": "completed"
    },
    "tags": []
   },
   "outputs": [
    {
     "data": {
      "application/javascript": [
       "parent.postMessage({\"jupyterEvent\": \"custom.exercise_interaction\", \"data\": {\"outcomeType\": 1, \"valueTowardsCompletion\": 0.5, \"interactionType\": 1, \"questionType\": 1, \"questionId\": \"3.1_CardinalityA\", \"learnToolsVersion\": \"0.3.4\", \"failureMessage\": \"\", \"exceptionClass\": \"\", \"trace\": \"\"}}, \"*\")"
      ],
      "text/plain": [
       "<IPython.core.display.Javascript object>"
      ]
     },
     "metadata": {},
     "output_type": "display_data"
    },
    {
     "data": {
      "text/markdown": [
       "<span style=\"color:#33cc33\">Correct</span>"
      ],
      "text/plain": [
       "Correct"
      ]
     },
     "metadata": {},
     "output_type": "display_data"
    }
   ],
   "source": [
    "# Fill in the line below: How many categorical variables in the training data\n",
    "# have cardinality greater than 10?\n",
    "high_cardinality_numcols = len([key for key, value in d.items() if value > 10])\n",
    "\n",
    "# Fill in the line below: How many columns are needed to one-hot encode the \n",
    "# 'Neighborhood' variable in the training data?\n",
    "num_cols_neighborhood = d['Neighborhood']\n",
    "\n",
    "# Check your answers\n",
    "step_3.a.check()"
   ]
  },
  {
   "cell_type": "code",
   "execution_count": 19,
   "id": "17901677",
   "metadata": {
    "execution": {
     "iopub.execute_input": "2022-07-06T19:28:55.470038Z",
     "iopub.status.busy": "2022-07-06T19:28:55.469644Z",
     "iopub.status.idle": "2022-07-06T19:28:55.474101Z",
     "shell.execute_reply": "2022-07-06T19:28:55.472994Z"
    },
    "papermill": {
     "duration": 0.021055,
     "end_time": "2022-07-06T19:28:55.476265",
     "exception": false,
     "start_time": "2022-07-06T19:28:55.455210",
     "status": "completed"
    },
    "tags": []
   },
   "outputs": [],
   "source": [
    "# Lines below will give you a hint or solution code\n",
    "#step_3.a.hint()\n",
    "#step_3.a.solution()"
   ]
  },
  {
   "cell_type": "markdown",
   "id": "9feb3468",
   "metadata": {
    "papermill": {
     "duration": 0.013131,
     "end_time": "2022-07-06T19:28:55.503016",
     "exception": false,
     "start_time": "2022-07-06T19:28:55.489885",
     "status": "completed"
    },
    "tags": []
   },
   "source": [
    "### Part B\n",
    "\n",
    "For large datasets with many rows, one-hot encoding can greatly expand the size of the dataset.  For this reason, we typically will only one-hot encode columns with relatively low cardinality.  Then, high cardinality columns can either be dropped from the dataset, or we can use ordinal encoding.\n",
    "\n",
    "As an example, consider a dataset with 10,000 rows, and containing one categorical column with 100 unique entries.  \n",
    "- If this column is replaced with the corresponding one-hot encoding, how many entries are added to the dataset?  \n",
    "- If we instead replace the column with the ordinal encoding, how many entries are added?  \n",
    "\n",
    "Use your answers to fill in the lines below."
   ]
  },
  {
   "cell_type": "code",
   "execution_count": 20,
   "id": "3495bc62",
   "metadata": {
    "execution": {
     "iopub.execute_input": "2022-07-06T19:28:55.531458Z",
     "iopub.status.busy": "2022-07-06T19:28:55.530793Z",
     "iopub.status.idle": "2022-07-06T19:28:55.540663Z",
     "shell.execute_reply": "2022-07-06T19:28:55.539897Z"
    },
    "papermill": {
     "duration": 0.026307,
     "end_time": "2022-07-06T19:28:55.542655",
     "exception": false,
     "start_time": "2022-07-06T19:28:55.516348",
     "status": "completed"
    },
    "tags": []
   },
   "outputs": [
    {
     "data": {
      "application/javascript": [
       "parent.postMessage({\"jupyterEvent\": \"custom.exercise_interaction\", \"data\": {\"outcomeType\": 1, \"valueTowardsCompletion\": 0.5, \"interactionType\": 1, \"questionType\": 1, \"questionId\": \"3.2_CardinalityB\", \"learnToolsVersion\": \"0.3.4\", \"failureMessage\": \"\", \"exceptionClass\": \"\", \"trace\": \"\"}}, \"*\")"
      ],
      "text/plain": [
       "<IPython.core.display.Javascript object>"
      ]
     },
     "metadata": {},
     "output_type": "display_data"
    },
    {
     "data": {
      "text/markdown": [
       "<span style=\"color:#33cc33\">Correct</span>"
      ],
      "text/plain": [
       "Correct"
      ]
     },
     "metadata": {},
     "output_type": "display_data"
    }
   ],
   "source": [
    "# Fill in the line below: How many entries are added to the dataset by \n",
    "# replacing the column with a one-hot encoding?\n",
    "OH_entries_added = 99*10000\n",
    "\n",
    "# Fill in the line below: How many entries are added to the dataset by\n",
    "# replacing the column with an ordinal encoding?\n",
    "label_entries_added = 0\n",
    "\n",
    "# Check your answers\n",
    "step_3.b.check()"
   ]
  },
  {
   "cell_type": "code",
   "execution_count": 21,
   "id": "d2a01061",
   "metadata": {
    "execution": {
     "iopub.execute_input": "2022-07-06T19:28:55.572425Z",
     "iopub.status.busy": "2022-07-06T19:28:55.571488Z",
     "iopub.status.idle": "2022-07-06T19:28:55.575692Z",
     "shell.execute_reply": "2022-07-06T19:28:55.574988Z"
    },
    "papermill": {
     "duration": 0.021289,
     "end_time": "2022-07-06T19:28:55.577990",
     "exception": false,
     "start_time": "2022-07-06T19:28:55.556701",
     "status": "completed"
    },
    "tags": []
   },
   "outputs": [],
   "source": [
    "# Lines below will give you a hint or solution code\n",
    "#step_3.b.hint()\n",
    "#step_3.b.solution()"
   ]
  },
  {
   "cell_type": "markdown",
   "id": "d254540f",
   "metadata": {
    "papermill": {
     "duration": 0.013415,
     "end_time": "2022-07-06T19:28:55.605087",
     "exception": false,
     "start_time": "2022-07-06T19:28:55.591672",
     "status": "completed"
    },
    "tags": []
   },
   "source": [
    "Next, you'll experiment with one-hot encoding.  But, instead of encoding all of the categorical variables in the dataset, you'll only create a one-hot encoding for columns with cardinality less than 10.\n",
    "\n",
    "Run the code cell below without changes to set `low_cardinality_cols` to a Python list containing the columns that will be one-hot encoded.  Likewise, `high_cardinality_cols` contains a list of categorical columns that will be dropped from the dataset."
   ]
  },
  {
   "cell_type": "code",
   "execution_count": 22,
   "id": "f3027c06",
   "metadata": {
    "execution": {
     "iopub.execute_input": "2022-07-06T19:28:55.634422Z",
     "iopub.status.busy": "2022-07-06T19:28:55.633483Z",
     "iopub.status.idle": "2022-07-06T19:28:55.645551Z",
     "shell.execute_reply": "2022-07-06T19:28:55.644249Z"
    },
    "papermill": {
     "duration": 0.029957,
     "end_time": "2022-07-06T19:28:55.648577",
     "exception": false,
     "start_time": "2022-07-06T19:28:55.618620",
     "status": "completed"
    },
    "tags": []
   },
   "outputs": [
    {
     "name": "stdout",
     "output_type": "stream",
     "text": [
      "Categorical columns that will be one-hot encoded: ['MSZoning', 'Street', 'LotShape', 'LandContour', 'Utilities', 'LotConfig', 'LandSlope', 'Condition1', 'Condition2', 'BldgType', 'HouseStyle', 'RoofStyle', 'RoofMatl', 'ExterQual', 'ExterCond', 'Foundation', 'Heating', 'HeatingQC', 'CentralAir', 'KitchenQual', 'Functional', 'PavedDrive', 'SaleType', 'SaleCondition']\n",
      "\n",
      "Categorical columns that will be dropped from the dataset: ['Exterior2nd', 'Exterior1st', 'Neighborhood']\n"
     ]
    }
   ],
   "source": [
    "# Columns that will be one-hot encoded\n",
    "low_cardinality_cols = [col for col in object_cols if X_train[col].nunique() < 10]\n",
    "\n",
    "# Columns that will be dropped from the dataset\n",
    "high_cardinality_cols = list(set(object_cols)-set(low_cardinality_cols))\n",
    "\n",
    "print('Categorical columns that will be one-hot encoded:', low_cardinality_cols)\n",
    "print('\\nCategorical columns that will be dropped from the dataset:', high_cardinality_cols)"
   ]
  },
  {
   "cell_type": "markdown",
   "id": "c02c68cb",
   "metadata": {
    "papermill": {
     "duration": 0.013325,
     "end_time": "2022-07-06T19:28:55.675974",
     "exception": false,
     "start_time": "2022-07-06T19:28:55.662649",
     "status": "completed"
    },
    "tags": []
   },
   "source": [
    "# Step 4: One-hot encoding\n",
    "\n",
    "Use the next code cell to one-hot encode the data in `X_train` and `X_valid`.  Set the preprocessed DataFrames to `OH_X_train` and `OH_X_valid`, respectively.  \n",
    "- The full list of categorical columns in the dataset can be found in the Python list `object_cols`.\n",
    "- You should only one-hot encode the categorical columns in `low_cardinality_cols`.  All other categorical columns should be dropped from the dataset. "
   ]
  },
  {
   "cell_type": "code",
   "execution_count": 23,
   "id": "53dcf262",
   "metadata": {
    "execution": {
     "iopub.execute_input": "2022-07-06T19:28:55.705340Z",
     "iopub.status.busy": "2022-07-06T19:28:55.704689Z",
     "iopub.status.idle": "2022-07-06T19:28:55.747252Z",
     "shell.execute_reply": "2022-07-06T19:28:55.746105Z"
    },
    "papermill": {
     "duration": 0.059674,
     "end_time": "2022-07-06T19:28:55.749279",
     "exception": false,
     "start_time": "2022-07-06T19:28:55.689605",
     "status": "completed"
    },
    "tags": []
   },
   "outputs": [
    {
     "data": {
      "application/javascript": [
       "parent.postMessage({\"jupyterEvent\": \"custom.exercise_interaction\", \"data\": {\"outcomeType\": 1, \"valueTowardsCompletion\": 0.5, \"interactionType\": 1, \"questionType\": 2, \"questionId\": \"4_OneHot\", \"learnToolsVersion\": \"0.3.4\", \"failureMessage\": \"\", \"exceptionClass\": \"\", \"trace\": \"\"}}, \"*\")"
      ],
      "text/plain": [
       "<IPython.core.display.Javascript object>"
      ]
     },
     "metadata": {},
     "output_type": "display_data"
    },
    {
     "data": {
      "text/markdown": [
       "<span style=\"color:#33cc33\">Correct</span>"
      ],
      "text/plain": [
       "Correct"
      ]
     },
     "metadata": {},
     "output_type": "display_data"
    }
   ],
   "source": [
    "from sklearn.preprocessing import OneHotEncoder\n",
    "\n",
    "# Use as many lines of code as you need!\n",
    "\n",
    "OH_encoder = OneHotEncoder(handle_unknown='ignore', sparse=False)\n",
    "OH_cols_train = pd.DataFrame(OH_encoder.fit_transform(X_train[low_cardinality_cols]))\n",
    "OH_cols_valid = pd.DataFrame(OH_encoder.transform(X_valid[low_cardinality_cols]))\n",
    "\n",
    "OH_cols_train.index = X_train.index\n",
    "OH_cols_valid.index = X_valid.index\n",
    "\n",
    "num_X_train = X_train.drop(object_cols, axis=1)\n",
    "num_X_valid = X_valid.drop(object_cols, axis=1)\n",
    "\n",
    "\n",
    "OH_X_train = pd.concat([num_X_train, OH_cols_train], axis=1) # Your code here\n",
    "OH_X_valid = pd.concat([num_X_valid, OH_cols_valid], axis=1) # Your code here\n",
    "\n",
    "# Check your answer\n",
    "step_4.check()"
   ]
  },
  {
   "cell_type": "code",
   "execution_count": 24,
   "id": "8c3a4409",
   "metadata": {
    "execution": {
     "iopub.execute_input": "2022-07-06T19:28:55.779678Z",
     "iopub.status.busy": "2022-07-06T19:28:55.778532Z",
     "iopub.status.idle": "2022-07-06T19:28:55.783054Z",
     "shell.execute_reply": "2022-07-06T19:28:55.782203Z"
    },
    "papermill": {
     "duration": 0.021696,
     "end_time": "2022-07-06T19:28:55.785038",
     "exception": false,
     "start_time": "2022-07-06T19:28:55.763342",
     "status": "completed"
    },
    "tags": []
   },
   "outputs": [],
   "source": [
    "# Lines below will give you a hint or solution code\n",
    "#step_4.hint()\n",
    "#step_4.solution()"
   ]
  },
  {
   "cell_type": "markdown",
   "id": "736da980",
   "metadata": {
    "papermill": {
     "duration": 0.013861,
     "end_time": "2022-07-06T19:28:55.812952",
     "exception": false,
     "start_time": "2022-07-06T19:28:55.799091",
     "status": "completed"
    },
    "tags": []
   },
   "source": [
    "Run the next code cell to get the MAE for this approach."
   ]
  },
  {
   "cell_type": "code",
   "execution_count": 25,
   "id": "da10f77b",
   "metadata": {
    "execution": {
     "iopub.execute_input": "2022-07-06T19:28:55.843167Z",
     "iopub.status.busy": "2022-07-06T19:28:55.842445Z",
     "iopub.status.idle": "2022-07-06T19:28:57.602967Z",
     "shell.execute_reply": "2022-07-06T19:28:57.601915Z"
    },
    "papermill": {
     "duration": 1.778912,
     "end_time": "2022-07-06T19:28:57.605810",
     "exception": false,
     "start_time": "2022-07-06T19:28:55.826898",
     "status": "completed"
    },
    "tags": []
   },
   "outputs": [
    {
     "name": "stdout",
     "output_type": "stream",
     "text": [
      "MAE from Approach 3 (One-Hot Encoding):\n"
     ]
    },
    {
     "name": "stderr",
     "output_type": "stream",
     "text": [
      "/opt/conda/lib/python3.7/site-packages/sklearn/utils/validation.py:1692: FutureWarning: Feature names only support names that are all strings. Got feature names with dtypes: ['int', 'str']. An error will be raised in 1.2.\n",
      "  FutureWarning,\n"
     ]
    },
    {
     "name": "stdout",
     "output_type": "stream",
     "text": [
      "17525.345719178084\n"
     ]
    },
    {
     "name": "stderr",
     "output_type": "stream",
     "text": [
      "/opt/conda/lib/python3.7/site-packages/sklearn/utils/validation.py:1692: FutureWarning: Feature names only support names that are all strings. Got feature names with dtypes: ['int', 'str']. An error will be raised in 1.2.\n",
      "  FutureWarning,\n"
     ]
    }
   ],
   "source": [
    "print(\"MAE from Approach 3 (One-Hot Encoding):\") \n",
    "print(score_dataset(OH_X_train, OH_X_valid, y_train, y_valid))"
   ]
  },
  {
   "cell_type": "markdown",
   "id": "0e33d3f0",
   "metadata": {
    "papermill": {
     "duration": 0.014201,
     "end_time": "2022-07-06T19:28:57.635248",
     "exception": false,
     "start_time": "2022-07-06T19:28:57.621047",
     "status": "completed"
    },
    "tags": []
   },
   "source": [
    "# Generate test predictions and submit your results\n",
    "\n",
    "After you complete Step 4, if you'd like to use what you've learned to submit your results to the leaderboard, you'll need to preprocess the test data before generating predictions.\n",
    "\n",
    "**This step is completely optional, and you do not need to submit results to the leaderboard to successfully complete the exercise.**\n",
    "\n",
    "Check out the previous exercise if you need help with remembering how to [join the competition](https://www.kaggle.com/c/home-data-for-ml-course) or save your results to CSV.  Once you have generated a file with your results, follow the instructions below:\n",
    "1. Begin by clicking on the **Save Version** button in the top right corner of the window.  This will generate a pop-up window.  \n",
    "2. Ensure that the **Save and Run All** option is selected, and then click on the **Save** button.\n",
    "3. This generates a window in the bottom left corner of the notebook.  After it has finished running, click on the number to the right of the **Save Version** button.  This pulls up a list of versions on the right of the screen.  Click on the ellipsis **(...)** to the right of the most recent version, and select **Open in Viewer**.  This brings you into view mode of the same page. You will need to scroll down to get back to these instructions.\n",
    "4. Click on the **Output** tab on the right of the screen.  Then, click on the file you would like to submit, and click on the **Submit** button to submit your results to the leaderboard.\n",
    "\n",
    "You have now successfully submitted to the competition!\n",
    "\n",
    "If you want to keep working to improve your performance, select the **Edit** button in the top right of the screen. Then you can change your code and repeat the process. There's a lot of room to improve, and you will climb up the leaderboard as you work.\n"
   ]
  },
  {
   "cell_type": "code",
   "execution_count": 26,
   "id": "16bc6041",
   "metadata": {
    "execution": {
     "iopub.execute_input": "2022-07-06T19:28:57.666036Z",
     "iopub.status.busy": "2022-07-06T19:28:57.665599Z",
     "iopub.status.idle": "2022-07-06T19:28:59.454572Z",
     "shell.execute_reply": "2022-07-06T19:28:59.453094Z"
    },
    "papermill": {
     "duration": 1.808538,
     "end_time": "2022-07-06T19:28:59.458728",
     "exception": false,
     "start_time": "2022-07-06T19:28:57.650190",
     "status": "completed"
    },
    "tags": []
   },
   "outputs": [
    {
     "name": "stderr",
     "output_type": "stream",
     "text": [
      "/opt/conda/lib/python3.7/site-packages/sklearn/utils/validation.py:1692: FutureWarning: Feature names only support names that are all strings. Got feature names with dtypes: ['int', 'str']. An error will be raised in 1.2.\n",
      "  FutureWarning,\n"
     ]
    },
    {
     "name": "stdout",
     "output_type": "stream",
     "text": [
      "File created\n"
     ]
    },
    {
     "name": "stderr",
     "output_type": "stream",
     "text": [
      "/opt/conda/lib/python3.7/site-packages/sklearn/utils/validation.py:1692: FutureWarning: Feature names only support names that are all strings. Got feature names with dtypes: ['int', 'str']. An error will be raised in 1.2.\n",
      "  FutureWarning,\n"
     ]
    }
   ],
   "source": [
    "# (Optional) Your code here\n",
    "model = RandomForestRegressor(n_estimators=100, random_state=0)\n",
    "model.fit(OH_X_train, y_train)\n",
    "preds_test = model.predict(OH_X_valid)\n",
    "\n",
    "OH_cols_test = pd.DataFrame(OH_encoder.transform(X_test[low_cardinality_cols]))\n",
    "OH_cols_test.index = X_test.index\n",
    "num_X_test = X_test.drop(object_cols, axis=1)\n",
    "OH_X_test = pd.concat([num_X_valid, OH_cols_valid], axis=1)\n",
    "\n",
    "output = pd.DataFrame({'Id': OH_X_test.index,\n",
    "                       'SalePrice': preds_test})\n",
    "output.to_csv('submission.csv', index=False)\n",
    "print('File created')"
   ]
  },
  {
   "cell_type": "markdown",
   "id": "c2614123",
   "metadata": {
    "papermill": {
     "duration": 0.016325,
     "end_time": "2022-07-06T19:28:59.494161",
     "exception": false,
     "start_time": "2022-07-06T19:28:59.477836",
     "status": "completed"
    },
    "tags": []
   },
   "source": [
    "# Keep going\n",
    "\n",
    "With missing value handling and categorical encoding, your modeling process is getting complex. This complexity gets worse when you want to save your model to use in the future. The key to managing this complexity is something called **pipelines**. \n",
    "\n",
    "**[Learn to use pipelines](https://www.kaggle.com/alexisbcook/pipelines)** to preprocess datasets with categorical variables, missing values and any other messiness your data throws at you."
   ]
  },
  {
   "cell_type": "markdown",
   "id": "78b6f98f",
   "metadata": {
    "papermill": {
     "duration": 0.014686,
     "end_time": "2022-07-06T19:28:59.524030",
     "exception": false,
     "start_time": "2022-07-06T19:28:59.509344",
     "status": "completed"
    },
    "tags": []
   },
   "source": [
    "---\n",
    "\n",
    "\n",
    "\n",
    "\n",
    "*Have questions or comments? Visit the [course discussion forum](https://www.kaggle.com/learn/intermediate-machine-learning/discussion) to chat with other learners.*"
   ]
  }
 ],
 "metadata": {
  "kernelspec": {
   "display_name": "Python 3",
   "language": "python",
   "name": "python3"
  },
  "language_info": {
   "codemirror_mode": {
    "name": "ipython",
    "version": 3
   },
   "file_extension": ".py",
   "mimetype": "text/x-python",
   "name": "python",
   "nbconvert_exporter": "python",
   "pygments_lexer": "ipython3",
   "version": "3.7.12"
  },
  "papermill": {
   "default_parameters": {},
   "duration": 20.453528,
   "end_time": "2022-07-06T19:29:00.259642",
   "environment_variables": {},
   "exception": null,
   "input_path": "__notebook__.ipynb",
   "output_path": "__notebook__.ipynb",
   "parameters": {},
   "start_time": "2022-07-06T19:28:39.806114",
   "version": "2.3.4"
  }
 },
 "nbformat": 4,
 "nbformat_minor": 5
}
