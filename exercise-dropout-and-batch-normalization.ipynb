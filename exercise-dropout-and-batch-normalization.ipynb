{
 "cells": [
  {
   "cell_type": "markdown",
   "id": "abe96059",
   "metadata": {
    "papermill": {
     "duration": 0.005898,
     "end_time": "2022-08-02T22:08:12.371596",
     "exception": false,
     "start_time": "2022-08-02T22:08:12.365698",
     "status": "completed"
    },
    "tags": []
   },
   "source": [
    "**This notebook is an exercise in the [Intro to Deep Learning](https://www.kaggle.com/learn/intro-to-deep-learning) course.  You can reference the tutorial at [this link](https://www.kaggle.com/ryanholbrook/dropout-and-batch-normalization).**\n",
    "\n",
    "---\n"
   ]
  },
  {
   "cell_type": "markdown",
   "id": "de7536d0",
   "metadata": {
    "papermill": {
     "duration": 0.004401,
     "end_time": "2022-08-02T22:08:12.380750",
     "exception": false,
     "start_time": "2022-08-02T22:08:12.376349",
     "status": "completed"
    },
    "tags": []
   },
   "source": [
    "# Introduction #\n",
    "\n",
    "In this exercise, you'll add dropout to the *Spotify* model from Exercise 4 and see how batch normalization can let you successfully train models on difficult datasets.\n",
    "\n",
    "Run the next cell to get started!"
   ]
  },
  {
   "cell_type": "code",
   "execution_count": 1,
   "id": "0782d44a",
   "metadata": {
    "execution": {
     "iopub.execute_input": "2022-08-02T22:08:12.391921Z",
     "iopub.status.busy": "2022-08-02T22:08:12.391320Z",
     "iopub.status.idle": "2022-08-02T22:08:12.430744Z",
     "shell.execute_reply": "2022-08-02T22:08:12.429874Z"
    },
    "papermill": {
     "duration": 0.047544,
     "end_time": "2022-08-02T22:08:12.432880",
     "exception": false,
     "start_time": "2022-08-02T22:08:12.385336",
     "status": "completed"
    },
    "tags": []
   },
   "outputs": [],
   "source": [
    "# Setup plotting\n",
    "import matplotlib.pyplot as plt\n",
    "plt.style.use('seaborn-whitegrid')\n",
    "# Set Matplotlib defaults\n",
    "plt.rc('figure', autolayout=True)\n",
    "plt.rc('axes', labelweight='bold', labelsize='large',\n",
    "       titleweight='bold', titlesize=18, titlepad=10)\n",
    "plt.rc('animation', html='html5')\n",
    "\n",
    "# Setup feedback system\n",
    "from learntools.core import binder\n",
    "binder.bind(globals())\n",
    "from learntools.deep_learning_intro.ex5 import *"
   ]
  },
  {
   "cell_type": "markdown",
   "id": "cf141ef0",
   "metadata": {
    "papermill": {
     "duration": 0.004489,
     "end_time": "2022-08-02T22:08:12.442423",
     "exception": false,
     "start_time": "2022-08-02T22:08:12.437934",
     "status": "completed"
    },
    "tags": []
   },
   "source": [
    "First load the *Spotify* dataset."
   ]
  },
  {
   "cell_type": "code",
   "execution_count": 2,
   "id": "df2c41e7",
   "metadata": {
    "execution": {
     "iopub.execute_input": "2022-08-02T22:08:12.453019Z",
     "iopub.status.busy": "2022-08-02T22:08:12.452453Z",
     "iopub.status.idle": "2022-08-02T22:08:19.298724Z",
     "shell.execute_reply": "2022-08-02T22:08:19.297660Z"
    },
    "papermill": {
     "duration": 6.854708,
     "end_time": "2022-08-02T22:08:19.301694",
     "exception": false,
     "start_time": "2022-08-02T22:08:12.446986",
     "status": "completed"
    },
    "tags": []
   },
   "outputs": [
    {
     "name": "stdout",
     "output_type": "stream",
     "text": [
      "Input shape: [18]\n"
     ]
    }
   ],
   "source": [
    "import pandas as pd\n",
    "from sklearn.preprocessing import StandardScaler, OneHotEncoder\n",
    "from sklearn.compose import make_column_transformer\n",
    "from sklearn.model_selection import GroupShuffleSplit\n",
    "\n",
    "from tensorflow import keras\n",
    "from tensorflow.keras import layers\n",
    "from tensorflow.keras import callbacks\n",
    "\n",
    "spotify = pd.read_csv('../input/dl-course-data/spotify.csv')\n",
    "\n",
    "X = spotify.copy().dropna()\n",
    "y = X.pop('track_popularity')\n",
    "artists = X['track_artist']\n",
    "\n",
    "features_num = ['danceability', 'energy', 'key', 'loudness', 'mode',\n",
    "                'speechiness', 'acousticness', 'instrumentalness',\n",
    "                'liveness', 'valence', 'tempo', 'duration_ms']\n",
    "features_cat = ['playlist_genre']\n",
    "\n",
    "preprocessor = make_column_transformer(\n",
    "    (StandardScaler(), features_num),\n",
    "    (OneHotEncoder(), features_cat),\n",
    ")\n",
    "\n",
    "def group_split(X, y, group, train_size=0.75):\n",
    "    splitter = GroupShuffleSplit(train_size=train_size)\n",
    "    train, test = next(splitter.split(X, y, groups=group))\n",
    "    return (X.iloc[train], X.iloc[test], y.iloc[train], y.iloc[test])\n",
    "\n",
    "X_train, X_valid, y_train, y_valid = group_split(X, y, artists)\n",
    "\n",
    "X_train = preprocessor.fit_transform(X_train)\n",
    "X_valid = preprocessor.transform(X_valid)\n",
    "y_train = y_train / 100\n",
    "y_valid = y_valid / 100\n",
    "\n",
    "input_shape = [X_train.shape[1]]\n",
    "print(\"Input shape: {}\".format(input_shape))"
   ]
  },
  {
   "cell_type": "markdown",
   "id": "6ff6edc7",
   "metadata": {
    "papermill": {
     "duration": 0.004559,
     "end_time": "2022-08-02T22:08:19.312089",
     "exception": false,
     "start_time": "2022-08-02T22:08:19.307530",
     "status": "completed"
    },
    "tags": []
   },
   "source": [
    "# 1) Add Dropout to Spotify Model\n",
    "\n",
    "Here is the last model from Exercise 4. Add two dropout layers, one after the `Dense` layer with 128 units, and one after the `Dense` layer with 64 units. Set the dropout rate on both to `0.3`."
   ]
  },
  {
   "cell_type": "code",
   "execution_count": 3,
   "id": "b354390b",
   "metadata": {
    "execution": {
     "iopub.execute_input": "2022-08-02T22:08:19.323238Z",
     "iopub.status.busy": "2022-08-02T22:08:19.322353Z",
     "iopub.status.idle": "2022-08-02T22:08:22.165492Z",
     "shell.execute_reply": "2022-08-02T22:08:22.164406Z"
    },
    "lines_to_next_cell": 2,
    "papermill": {
     "duration": 2.850678,
     "end_time": "2022-08-02T22:08:22.167470",
     "exception": false,
     "start_time": "2022-08-02T22:08:19.316792",
     "status": "completed"
    },
    "tags": []
   },
   "outputs": [
    {
     "name": "stderr",
     "output_type": "stream",
     "text": [
      "2022-08-02 22:08:19.420553: I tensorflow/stream_executor/cuda/cuda_gpu_executor.cc:937] successful NUMA node read from SysFS had negative value (-1), but there must be at least one NUMA node, so returning NUMA node zero\n",
      "2022-08-02 22:08:19.532201: I tensorflow/stream_executor/cuda/cuda_gpu_executor.cc:937] successful NUMA node read from SysFS had negative value (-1), but there must be at least one NUMA node, so returning NUMA node zero\n",
      "2022-08-02 22:08:19.533025: I tensorflow/stream_executor/cuda/cuda_gpu_executor.cc:937] successful NUMA node read from SysFS had negative value (-1), but there must be at least one NUMA node, so returning NUMA node zero\n",
      "2022-08-02 22:08:19.534269: I tensorflow/core/platform/cpu_feature_guard.cc:142] This TensorFlow binary is optimized with oneAPI Deep Neural Network Library (oneDNN) to use the following CPU instructions in performance-critical operations:  AVX2 AVX512F FMA\n",
      "To enable them in other operations, rebuild TensorFlow with the appropriate compiler flags.\n",
      "2022-08-02 22:08:19.534604: I tensorflow/stream_executor/cuda/cuda_gpu_executor.cc:937] successful NUMA node read from SysFS had negative value (-1), but there must be at least one NUMA node, so returning NUMA node zero\n",
      "2022-08-02 22:08:19.535306: I tensorflow/stream_executor/cuda/cuda_gpu_executor.cc:937] successful NUMA node read from SysFS had negative value (-1), but there must be at least one NUMA node, so returning NUMA node zero\n",
      "2022-08-02 22:08:19.535993: I tensorflow/stream_executor/cuda/cuda_gpu_executor.cc:937] successful NUMA node read from SysFS had negative value (-1), but there must be at least one NUMA node, so returning NUMA node zero\n",
      "2022-08-02 22:08:21.750492: I tensorflow/stream_executor/cuda/cuda_gpu_executor.cc:937] successful NUMA node read from SysFS had negative value (-1), but there must be at least one NUMA node, so returning NUMA node zero\n",
      "2022-08-02 22:08:21.751345: I tensorflow/stream_executor/cuda/cuda_gpu_executor.cc:937] successful NUMA node read from SysFS had negative value (-1), but there must be at least one NUMA node, so returning NUMA node zero\n",
      "2022-08-02 22:08:21.752089: I tensorflow/stream_executor/cuda/cuda_gpu_executor.cc:937] successful NUMA node read from SysFS had negative value (-1), but there must be at least one NUMA node, so returning NUMA node zero\n",
      "2022-08-02 22:08:21.752716: I tensorflow/core/common_runtime/gpu/gpu_device.cc:1510] Created device /job:localhost/replica:0/task:0/device:GPU:0 with 15403 MB memory:  -> device: 0, name: Tesla P100-PCIE-16GB, pci bus id: 0000:00:04.0, compute capability: 6.0\n"
     ]
    },
    {
     "data": {
      "application/javascript": [
       "parent.postMessage({\"jupyterEvent\": \"custom.exercise_interaction\", \"data\": {\"outcomeType\": 1, \"valueTowardsCompletion\": 0.25, \"interactionType\": 1, \"questionType\": 2, \"questionId\": \"1_Q1\", \"learnToolsVersion\": \"0.3.4\", \"failureMessage\": \"\", \"exceptionClass\": \"\", \"trace\": \"\"}}, \"*\")"
      ],
      "text/plain": [
       "<IPython.core.display.Javascript object>"
      ]
     },
     "metadata": {},
     "output_type": "display_data"
    },
    {
     "data": {
      "text/markdown": [
       "<span style=\"color:#33cc33\">Correct</span>"
      ],
      "text/plain": [
       "Correct"
      ]
     },
     "metadata": {},
     "output_type": "display_data"
    }
   ],
   "source": [
    "# YOUR CODE HERE: Add two 30% dropout layers, one after 128 and one after 64\n",
    "model = keras.Sequential([\n",
    "    layers.Dense(128, activation='relu', input_shape=input_shape),\n",
    "    layers.Dropout(0.3),\n",
    "    layers.Dense(64, activation='relu'),\n",
    "    layers.Dropout(0.3),\n",
    "    layers.Dense(1)\n",
    "])\n",
    "\n",
    "# Check your answer\n",
    "q_1.check()"
   ]
  },
  {
   "cell_type": "code",
   "execution_count": 4,
   "id": "9193d90b",
   "metadata": {
    "execution": {
     "iopub.execute_input": "2022-08-02T22:08:22.180436Z",
     "iopub.status.busy": "2022-08-02T22:08:22.179034Z",
     "iopub.status.idle": "2022-08-02T22:08:22.184146Z",
     "shell.execute_reply": "2022-08-02T22:08:22.183314Z"
    },
    "papermill": {
     "duration": 0.013188,
     "end_time": "2022-08-02T22:08:22.186188",
     "exception": false,
     "start_time": "2022-08-02T22:08:22.173000",
     "status": "completed"
    },
    "tags": []
   },
   "outputs": [],
   "source": [
    "# Lines below will give you a hint or solution code\n",
    "#q_1.hint()\n",
    "#q_1.solution()"
   ]
  },
  {
   "cell_type": "markdown",
   "id": "d9bf73b3",
   "metadata": {
    "papermill": {
     "duration": 0.004911,
     "end_time": "2022-08-02T22:08:22.196220",
     "exception": false,
     "start_time": "2022-08-02T22:08:22.191309",
     "status": "completed"
    },
    "tags": []
   },
   "source": [
    "Now run this next cell to train the model see the effect of adding dropout."
   ]
  },
  {
   "cell_type": "code",
   "execution_count": 5,
   "id": "08e7705e",
   "metadata": {
    "execution": {
     "iopub.execute_input": "2022-08-02T22:08:22.208833Z",
     "iopub.status.busy": "2022-08-02T22:08:22.207235Z",
     "iopub.status.idle": "2022-08-02T22:08:33.208334Z",
     "shell.execute_reply": "2022-08-02T22:08:33.207431Z"
    },
    "papermill": {
     "duration": 11.009117,
     "end_time": "2022-08-02T22:08:33.210469",
     "exception": false,
     "start_time": "2022-08-02T22:08:22.201352",
     "status": "completed"
    },
    "tags": []
   },
   "outputs": [
    {
     "name": "stderr",
     "output_type": "stream",
     "text": [
      "2022-08-02 22:08:22.292798: I tensorflow/compiler/mlir/mlir_graph_optimization_pass.cc:185] None of the MLIR Optimization Passes are enabled (registered 2)\n"
     ]
    },
    {
     "name": "stdout",
     "output_type": "stream",
     "text": [
      "Minimum Validation Loss: 0.1965\n"
     ]
    },
    {
     "data": {
      "image/png": "[encoded data removed]",
      "text/plain": [
       "<Figure size 432x288 with 1 Axes>"
      ]
     },
     "metadata": {},
     "output_type": "display_data"
    }
   ],
   "source": [
    "model.compile(\n",
    "    optimizer='adam',\n",
    "    loss='mae',\n",
    ")\n",
    "history = model.fit(\n",
    "    X_train, y_train,\n",
    "    validation_data=(X_valid, y_valid),\n",
    "    batch_size=512,\n",
    "    epochs=50,\n",
    "    verbose=0,\n",
    ")\n",
    "history_df = pd.DataFrame(history.history)\n",
    "history_df.loc[:, ['loss', 'val_loss']].plot()\n",
    "print(\"Minimum Validation Loss: {:0.4f}\".format(history_df['val_loss'].min()))"
   ]
  },
  {
   "cell_type": "markdown",
   "id": "d0306672",
   "metadata": {
    "papermill": {
     "duration": 0.005434,
     "end_time": "2022-08-02T22:08:33.221682",
     "exception": false,
     "start_time": "2022-08-02T22:08:33.216248",
     "status": "completed"
    },
    "tags": []
   },
   "source": [
    "# 2) Evaluate Dropout\n",
    "\n",
    "Recall from Exercise 4 that this model tended to overfit the data around epoch 5. Did adding dropout seem to help prevent overfitting this time?"
   ]
  },
  {
   "cell_type": "markdown",
   "id": "d4787ebc",
   "metadata": {
    "papermill": {
     "duration": 0.005361,
     "end_time": "2022-08-02T22:08:33.233712",
     "exception": false,
     "start_time": "2022-08-02T22:08:33.228351",
     "status": "completed"
    },
    "tags": []
   },
   "source": [
    "Adding it definetly helped, but the model is now underfitting as it seems by looking at the graph."
   ]
  },
  {
   "cell_type": "code",
   "execution_count": 6,
   "id": "ba95ead7",
   "metadata": {
    "execution": {
     "iopub.execute_input": "2022-08-02T22:08:33.245888Z",
     "iopub.status.busy": "2022-08-02T22:08:33.245592Z",
     "iopub.status.idle": "2022-08-02T22:08:33.253778Z",
     "shell.execute_reply": "2022-08-02T22:08:33.252718Z"
    },
    "papermill": {
     "duration": 0.017911,
     "end_time": "2022-08-02T22:08:33.257103",
     "exception": false,
     "start_time": "2022-08-02T22:08:33.239192",
     "status": "completed"
    },
    "tags": []
   },
   "outputs": [
    {
     "data": {
      "application/javascript": [
       "parent.postMessage({\"jupyterEvent\": \"custom.exercise_interaction\", \"data\": {\"outcomeType\": 1, \"valueTowardsCompletion\": 0.25, \"interactionType\": 1, \"questionType\": 4, \"questionId\": \"2_Q2\", \"learnToolsVersion\": \"0.3.4\", \"failureMessage\": \"\", \"exceptionClass\": \"\", \"trace\": \"\"}}, \"*\")"
      ],
      "text/plain": [
       "<IPython.core.display.Javascript object>"
      ]
     },
     "metadata": {},
     "output_type": "display_data"
    },
    {
     "data": {
      "text/markdown": [
       "<span style=\"color:#33cc33\">Correct:</span> \n",
       "\n",
       "\n",
       "From the learning curves, you can see that the validation loss remains near a constant minimum even though the training loss continues to decrease. So we can see that adding dropout did prevent overfitting this time. Moreover, by making it harder for the network to fit spurious patterns, dropout may have encouraged the network to seek out more of the true patterns, possibly improving the validation loss some as well).\n"
      ],
      "text/plain": [
       "Correct: \n",
       "\n",
       "\n",
       "From the learning curves, you can see that the validation loss remains near a constant minimum even though the training loss continues to decrease. So we can see that adding dropout did prevent overfitting this time. Moreover, by making it harder for the network to fit spurious patterns, dropout may have encouraged the network to seek out more of the true patterns, possibly improving the validation loss some as well)."
      ]
     },
     "metadata": {},
     "output_type": "display_data"
    }
   ],
   "source": [
    "# View the solution (Run this cell to receive credit!)\n",
    "q_2.check()"
   ]
  },
  {
   "cell_type": "markdown",
   "id": "bbc6dd82",
   "metadata": {
    "papermill": {
     "duration": 0.005441,
     "end_time": "2022-08-02T22:08:33.268205",
     "exception": false,
     "start_time": "2022-08-02T22:08:33.262764",
     "status": "completed"
    },
    "tags": []
   },
   "source": [
    "Now, we'll switch topics to explore how batch normalization can fix problems in training.\n",
    "\n",
    "Load the *Concrete* dataset. We won't do any standardization this time. This will make the effect of batch normalization much more apparent."
   ]
  },
  {
   "cell_type": "code",
   "execution_count": 7,
   "id": "a730cf52",
   "metadata": {
    "execution": {
     "iopub.execute_input": "2022-08-02T22:08:33.280425Z",
     "iopub.status.busy": "2022-08-02T22:08:33.280162Z",
     "iopub.status.idle": "2022-08-02T22:08:33.297210Z",
     "shell.execute_reply": "2022-08-02T22:08:33.296385Z"
    },
    "papermill": {
     "duration": 0.02569,
     "end_time": "2022-08-02T22:08:33.299470",
     "exception": false,
     "start_time": "2022-08-02T22:08:33.273780",
     "status": "completed"
    },
    "tags": []
   },
   "outputs": [],
   "source": [
    "import pandas as pd\n",
    "\n",
    "concrete = pd.read_csv('../input/dl-course-data/concrete.csv')\n",
    "df = concrete.copy()\n",
    "\n",
    "df_train = df.sample(frac=0.7, random_state=0)\n",
    "df_valid = df.drop(df_train.index)\n",
    "\n",
    "X_train = df_train.drop('CompressiveStrength', axis=1)\n",
    "X_valid = df_valid.drop('CompressiveStrength', axis=1)\n",
    "y_train = df_train['CompressiveStrength']\n",
    "y_valid = df_valid['CompressiveStrength']\n",
    "\n",
    "input_shape = [X_train.shape[1]]"
   ]
  },
  {
   "cell_type": "markdown",
   "id": "1e34aba4",
   "metadata": {
    "papermill": {
     "duration": 0.005378,
     "end_time": "2022-08-02T22:08:33.310993",
     "exception": false,
     "start_time": "2022-08-02T22:08:33.305615",
     "status": "completed"
    },
    "tags": []
   },
   "source": [
    "Run the following cell to train the network on the unstandardized *Concrete* data."
   ]
  },
  {
   "cell_type": "code",
   "execution_count": 8,
   "id": "bc49d845",
   "metadata": {
    "execution": {
     "iopub.execute_input": "2022-08-02T22:08:33.323427Z",
     "iopub.status.busy": "2022-08-02T22:08:33.323155Z",
     "iopub.status.idle": "2022-08-02T22:08:38.987086Z",
     "shell.execute_reply": "2022-08-02T22:08:38.986036Z"
    },
    "papermill": {
     "duration": 5.672519,
     "end_time": "2022-08-02T22:08:38.989170",
     "exception": false,
     "start_time": "2022-08-02T22:08:33.316651",
     "status": "completed"
    },
    "tags": []
   },
   "outputs": [
    {
     "name": "stdout",
     "output_type": "stream",
     "text": [
      "Minimum Validation Loss: nan\n"
     ]
    },
    {
     "data": {
      "image/png": "[encoded data removed]",
      "text/plain": [
       "<Figure size 432x288 with 1 Axes>"
      ]
     },
     "metadata": {},
     "output_type": "display_data"
    }
   ],
   "source": [
    "model = keras.Sequential([\n",
    "    layers.Dense(512, activation='relu', input_shape=input_shape),\n",
    "    layers.Dense(512, activation='relu'),    \n",
    "    layers.Dense(512, activation='relu'),\n",
    "    layers.Dense(1),\n",
    "])\n",
    "model.compile(\n",
    "    optimizer='sgd', # SGD is more sensitive to differences of scale\n",
    "    loss='mae',\n",
    "    metrics=['mae'],\n",
    ")\n",
    "history = model.fit(\n",
    "    X_train, y_train,\n",
    "    validation_data=(X_valid, y_valid),\n",
    "    batch_size=64,\n",
    "    epochs=100,\n",
    "    verbose=0,\n",
    ")\n",
    "\n",
    "history_df = pd.DataFrame(history.history)\n",
    "history_df.loc[0:, ['loss', 'val_loss']].plot()\n",
    "print((\"Minimum Validation Loss: {:0.4f}\").format(history_df['val_loss'].min()))"
   ]
  },
  {
   "cell_type": "markdown",
   "id": "096bf665",
   "metadata": {
    "papermill": {
     "duration": 0.006333,
     "end_time": "2022-08-02T22:08:39.001754",
     "exception": false,
     "start_time": "2022-08-02T22:08:38.995421",
     "status": "completed"
    },
    "tags": []
   },
   "source": [
    "Did you end up with a blank graph? Trying to train this network on this dataset will usually fail. Even when it does converge (due to a lucky weight initialization), it tends to converge to a very large number.\n",
    "\n",
    "# 3) Add Batch Normalization Layers\n",
    "\n",
    "Batch normalization can help correct problems like this.\n",
    "\n",
    "Add four `BatchNormalization` layers, one before each of the dense layers. (Remember to move the `input_shape` argument to the new first layer.)"
   ]
  },
  {
   "cell_type": "code",
   "execution_count": 9,
   "id": "f1796417",
   "metadata": {
    "execution": {
     "iopub.execute_input": "2022-08-02T22:08:39.015206Z",
     "iopub.status.busy": "2022-08-02T22:08:39.014425Z",
     "iopub.status.idle": "2022-08-02T22:08:39.035223Z",
     "shell.execute_reply": "2022-08-02T22:08:39.034374Z"
    },
    "lines_to_next_cell": 0,
    "papermill": {
     "duration": 0.029593,
     "end_time": "2022-08-02T22:08:39.037122",
     "exception": false,
     "start_time": "2022-08-02T22:08:39.007529",
     "status": "completed"
    },
    "tags": []
   },
   "outputs": [
    {
     "data": {
      "application/javascript": [
       "parent.postMessage({\"jupyterEvent\": \"custom.exercise_interaction\", \"data\": {\"outcomeType\": 1, \"valueTowardsCompletion\": 0.25, \"interactionType\": 1, \"questionType\": 2, \"questionId\": \"3_Q3\", \"learnToolsVersion\": \"0.3.4\", \"failureMessage\": \"\", \"exceptionClass\": \"\", \"trace\": \"\"}}, \"*\")"
      ],
      "text/plain": [
       "<IPython.core.display.Javascript object>"
      ]
     },
     "metadata": {},
     "output_type": "display_data"
    },
    {
     "data": {
      "text/markdown": [
       "<span style=\"color:#33cc33\">Correct</span>"
      ],
      "text/plain": [
       "Correct"
      ]
     },
     "metadata": {},
     "output_type": "display_data"
    }
   ],
   "source": [
    "# YOUR CODE HERE: Add a BatchNormalization layer before each Dense layer\n",
    "model = keras.Sequential([\n",
    "    layers.BatchNormalization(),\n",
    "    layers.Dense(512, activation='relu', input_shape=input_shape),\n",
    "    layers.BatchNormalization(),\n",
    "    layers.Dense(512, activation='relu'),\n",
    "    layers.BatchNormalization(),\n",
    "    layers.Dense(512, activation='relu'),\n",
    "    layers.BatchNormalization(),\n",
    "    layers.Dense(1),\n",
    "])\n",
    "\n",
    "# Check your answer\n",
    "q_3.check()"
   ]
  },
  {
   "cell_type": "code",
   "execution_count": 10,
   "id": "4e55d866",
   "metadata": {
    "execution": {
     "iopub.execute_input": "2022-08-02T22:08:39.050198Z",
     "iopub.status.busy": "2022-08-02T22:08:39.049929Z",
     "iopub.status.idle": "2022-08-02T22:08:39.054999Z",
     "shell.execute_reply": "2022-08-02T22:08:39.054171Z"
    },
    "papermill": {
     "duration": 0.013852,
     "end_time": "2022-08-02T22:08:39.056955",
     "exception": false,
     "start_time": "2022-08-02T22:08:39.043103",
     "status": "completed"
    },
    "tags": []
   },
   "outputs": [],
   "source": [
    "# Lines below will give you a hint or solution code\n",
    "#q_3.hint()\n",
    "#q_3.solution()"
   ]
  },
  {
   "cell_type": "markdown",
   "id": "1e19467e",
   "metadata": {
    "papermill": {
     "duration": 0.005857,
     "end_time": "2022-08-02T22:08:39.068789",
     "exception": false,
     "start_time": "2022-08-02T22:08:39.062932",
     "status": "completed"
    },
    "tags": []
   },
   "source": [
    "Run the next cell to see if batch normalization will let us train the model."
   ]
  },
  {
   "cell_type": "code",
   "execution_count": 11,
   "id": "91ba1868",
   "metadata": {
    "execution": {
     "iopub.execute_input": "2022-08-02T22:08:39.082378Z",
     "iopub.status.busy": "2022-08-02T22:08:39.082086Z",
     "iopub.status.idle": "2022-08-02T22:08:46.677510Z",
     "shell.execute_reply": "2022-08-02T22:08:46.676546Z"
    },
    "papermill": {
     "duration": 7.604487,
     "end_time": "2022-08-02T22:08:46.679591",
     "exception": false,
     "start_time": "2022-08-02T22:08:39.075104",
     "status": "completed"
    },
    "tags": []
   },
   "outputs": [
    {
     "name": "stdout",
     "output_type": "stream",
     "text": [
      "Minimum Validation Loss: 3.6734\n"
     ]
    },
    {
     "data": {
      "image/png": "[encoded data removed]",
      "text/plain": [
       "<Figure size 432x288 with 1 Axes>"
      ]
     },
     "metadata": {},
     "output_type": "display_data"
    }
   ],
   "source": [
    "model.compile(\n",
    "    optimizer='sgd',\n",
    "    loss='mae',\n",
    "    metrics=['mae'],\n",
    ")\n",
    "EPOCHS = 100\n",
    "history = model.fit(\n",
    "    X_train, y_train,\n",
    "    validation_data=(X_valid, y_valid),\n",
    "    batch_size=64,\n",
    "    epochs=EPOCHS,\n",
    "    verbose=0,\n",
    ")\n",
    "\n",
    "history_df = pd.DataFrame(history.history)\n",
    "history_df.loc[0:, ['loss', 'val_loss']].plot()\n",
    "print((\"Minimum Validation Loss: {:0.4f}\").format(history_df['val_loss'].min()))"
   ]
  },
  {
   "cell_type": "markdown",
   "id": "79a7d51c",
   "metadata": {
    "papermill": {
     "duration": 0.006646,
     "end_time": "2022-08-02T22:08:46.693096",
     "exception": false,
     "start_time": "2022-08-02T22:08:46.686450",
     "status": "completed"
    },
    "tags": []
   },
   "source": [
    "# 4) Evaluate Batch Normalization\n",
    "\n",
    "Did adding batch normalization help?"
   ]
  },
  {
   "cell_type": "markdown",
   "id": "1ac2574f",
   "metadata": {
    "papermill": {
     "duration": 0.006197,
     "end_time": "2022-08-02T22:08:46.705708",
     "exception": false,
     "start_time": "2022-08-02T22:08:46.699511",
     "status": "completed"
    },
    "tags": []
   },
   "source": [
    "Yes, it did help, now the model actually converges, although the validation loss is a little noisy, but it might be due to the original data."
   ]
  },
  {
   "cell_type": "code",
   "execution_count": 12,
   "id": "b82379d0",
   "metadata": {
    "execution": {
     "iopub.execute_input": "2022-08-02T22:08:46.720697Z",
     "iopub.status.busy": "2022-08-02T22:08:46.719766Z",
     "iopub.status.idle": "2022-08-02T22:08:46.729401Z",
     "shell.execute_reply": "2022-08-02T22:08:46.728469Z"
    },
    "lines_to_next_cell": 0,
    "papermill": {
     "duration": 0.019307,
     "end_time": "2022-08-02T22:08:46.731431",
     "exception": false,
     "start_time": "2022-08-02T22:08:46.712124",
     "status": "completed"
    },
    "tags": []
   },
   "outputs": [
    {
     "data": {
      "application/javascript": [
       "parent.postMessage({\"jupyterEvent\": \"custom.exercise_interaction\", \"data\": {\"outcomeType\": 1, \"valueTowardsCompletion\": 0.25, \"interactionType\": 1, \"questionType\": 4, \"questionId\": \"4_Q4\", \"learnToolsVersion\": \"0.3.4\", \"failureMessage\": \"\", \"exceptionClass\": \"\", \"trace\": \"\"}}, \"*\")"
      ],
      "text/plain": [
       "<IPython.core.display.Javascript object>"
      ]
     },
     "metadata": {},
     "output_type": "display_data"
    },
    {
     "data": {
      "text/markdown": [
       "<span style=\"color:#33cc33\">Correct:</span> \n",
       "\n",
       "\n",
       "You can see that adding batch normalization was a big improvement on the first attempt! By adaptively scaling the data as it passes through the network, batch normalization can let you train models on difficult datasets.\n"
      ],
      "text/plain": [
       "Correct: \n",
       "\n",
       "\n",
       "You can see that adding batch normalization was a big improvement on the first attempt! By adaptively scaling the data as it passes through the network, batch normalization can let you train models on difficult datasets."
      ]
     },
     "metadata": {},
     "output_type": "display_data"
    }
   ],
   "source": [
    "# View the solution (Run this cell to receive credit!)\n",
    "q_4.check()"
   ]
  },
  {
   "cell_type": "markdown",
   "id": "846cf777",
   "metadata": {
    "papermill": {
     "duration": 0.00644,
     "end_time": "2022-08-02T22:08:46.744442",
     "exception": false,
     "start_time": "2022-08-02T22:08:46.738002",
     "status": "completed"
    },
    "tags": []
   },
   "source": [
    "# Keep Going #\n",
    "\n",
    "[**Create neural networks**](https://www.kaggle.com/ryanholbrook/binary-classification) for binary classification."
   ]
  },
  {
   "cell_type": "markdown",
   "id": "8c225ffe",
   "metadata": {
    "papermill": {
     "duration": 0.006523,
     "end_time": "2022-08-02T22:08:46.757536",
     "exception": false,
     "start_time": "2022-08-02T22:08:46.751013",
     "status": "completed"
    },
    "tags": []
   },
   "source": [
    "---\n",
    "\n",
    "\n",
    "\n",
    "\n",
    "*Have questions or comments? Visit the [course discussion forum](https://www.kaggle.com/learn/intro-to-deep-learning/discussion) to chat with other learners.*"
   ]
  }
 ],
 "metadata": {
  "kernelspec": {
   "display_name": "Python 3",
   "language": "python",
   "name": "python3"
  },
  "language_info": {
   "codemirror_mode": {
    "name": "ipython",
    "version": 3
   },
   "file_extension": ".py",
   "mimetype": "text/x-python",
   "name": "python",
   "nbconvert_exporter": "python",
   "pygments_lexer": "ipython3",
   "version": "3.7.12"
  },
  "papermill": {
   "default_parameters": {},
   "duration": 45.296547,
   "end_time": "2022-08-02T22:08:50.025855",
   "environment_variables": {},
   "exception": null,
   "input_path": "__notebook__.ipynb",
   "output_path": "__notebook__.ipynb",
   "parameters": {},
   "start_time": "2022-08-02T22:08:04.729308",
   "version": "2.3.4"
  }
 },
 "nbformat": 4,
 "nbformat_minor": 5
}
