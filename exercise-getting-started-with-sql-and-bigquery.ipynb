{
 "cells": [
  {
   "cell_type": "markdown",
   "id": "23203e68",
   "metadata": {
    "papermill": {
     "duration": 0.007671,
     "end_time": "2022-07-11T18:08:58.290781",
     "exception": false,
     "start_time": "2022-07-11T18:08:58.283110",
     "status": "completed"
    },
    "tags": []
   },
   "source": [
    "**This notebook is an exercise in the [SQL](https://www.kaggle.com/learn/intro-to-sql) course.  You can reference the tutorial at [this link](https://www.kaggle.com/dansbecker/getting-started-with-sql-and-bigquery).**\n",
    "\n",
    "---\n"
   ]
  },
  {
   "cell_type": "markdown",
   "id": "6d5b1124",
   "metadata": {
    "papermill": {
     "duration": 0.006378,
     "end_time": "2022-07-11T18:08:58.304320",
     "exception": false,
     "start_time": "2022-07-11T18:08:58.297942",
     "status": "completed"
    },
    "tags": []
   },
   "source": [
    "# Introduction\n",
    "\n",
    "The first test of your new data exploration skills uses data describing crime in the city of Chicago.\n",
    "\n",
    "Before you get started, run the following cell. It sets up the automated feedback system to review your answers."
   ]
  },
  {
   "cell_type": "code",
   "execution_count": 1,
   "id": "54558cf3",
   "metadata": {
    "execution": {
     "iopub.execute_input": "2022-07-11T18:08:58.319870Z",
     "iopub.status.busy": "2022-07-11T18:08:58.319397Z",
     "iopub.status.idle": "2022-07-11T18:08:59.170296Z",
     "shell.execute_reply": "2022-07-11T18:08:59.169179Z"
    },
    "papermill": {
     "duration": 0.861869,
     "end_time": "2022-07-11T18:08:59.172906",
     "exception": false,
     "start_time": "2022-07-11T18:08:58.311037",
     "status": "completed"
    },
    "tags": []
   },
   "outputs": [
    {
     "name": "stdout",
     "output_type": "stream",
     "text": [
      "Using Kaggle's public dataset BigQuery integration.\n",
      "Setup Complete\n"
     ]
    }
   ],
   "source": [
    "# Set up feedack system\n",
    "from learntools.core import binder\n",
    "binder.bind(globals())\n",
    "from learntools.sql.ex1 import *\n",
    "print(\"Setup Complete\")"
   ]
  },
  {
   "cell_type": "markdown",
   "id": "eb425413",
   "metadata": {
    "papermill": {
     "duration": 0.006617,
     "end_time": "2022-07-11T18:08:59.186713",
     "exception": false,
     "start_time": "2022-07-11T18:08:59.180096",
     "status": "completed"
    },
    "tags": []
   },
   "source": [
    "Use the next code cell to fetch the dataset."
   ]
  },
  {
   "cell_type": "code",
   "execution_count": 2,
   "id": "1a261dc6",
   "metadata": {
    "execution": {
     "iopub.execute_input": "2022-07-11T18:08:59.203034Z",
     "iopub.status.busy": "2022-07-11T18:08:59.202622Z",
     "iopub.status.idle": "2022-07-11T18:08:59.577526Z",
     "shell.execute_reply": "2022-07-11T18:08:59.576275Z"
    },
    "papermill": {
     "duration": 0.386449,
     "end_time": "2022-07-11T18:08:59.580432",
     "exception": false,
     "start_time": "2022-07-11T18:08:59.193983",
     "status": "completed"
    },
    "tags": []
   },
   "outputs": [
    {
     "name": "stdout",
     "output_type": "stream",
     "text": [
      "Using Kaggle's public dataset BigQuery integration.\n"
     ]
    }
   ],
   "source": [
    "from google.cloud import bigquery\n",
    "\n",
    "# Create a \"Client\" object\n",
    "client = bigquery.Client()\n",
    "\n",
    "# Construct a reference to the \"chicago_crime\" dataset\n",
    "dataset_ref = client.dataset(\"chicago_crime\", project=\"bigquery-public-data\")\n",
    "\n",
    "# API request - fetch the dataset\n",
    "dataset = client.get_dataset(dataset_ref)"
   ]
  },
  {
   "cell_type": "markdown",
   "id": "c33c84c5",
   "metadata": {
    "papermill": {
     "duration": 0.006542,
     "end_time": "2022-07-11T18:08:59.593898",
     "exception": false,
     "start_time": "2022-07-11T18:08:59.587356",
     "status": "completed"
    },
    "tags": []
   },
   "source": [
    "# Exercises\n",
    "\n",
    "### 1) Count tables in the dataset\n",
    "\n",
    "How many tables are in the Chicago Crime dataset?"
   ]
  },
  {
   "cell_type": "code",
   "execution_count": 3,
   "id": "3d30248d",
   "metadata": {
    "execution": {
     "iopub.execute_input": "2022-07-11T18:08:59.610008Z",
     "iopub.status.busy": "2022-07-11T18:08:59.608991Z",
     "iopub.status.idle": "2022-07-11T18:08:59.854992Z",
     "shell.execute_reply": "2022-07-11T18:08:59.853855Z"
    },
    "papermill": {
     "duration": 0.256829,
     "end_time": "2022-07-11T18:08:59.857699",
     "exception": false,
     "start_time": "2022-07-11T18:08:59.600870",
     "status": "completed"
    },
    "tags": []
   },
   "outputs": [],
   "source": [
    "# Write the code you need here to figure out the answer\n",
    "tables = list(client.list_tables(dataset))"
   ]
  },
  {
   "cell_type": "code",
   "execution_count": 4,
   "id": "dbd84943",
   "metadata": {
    "execution": {
     "iopub.execute_input": "2022-07-11T18:08:59.873877Z",
     "iopub.status.busy": "2022-07-11T18:08:59.873157Z",
     "iopub.status.idle": "2022-07-11T18:08:59.878542Z",
     "shell.execute_reply": "2022-07-11T18:08:59.877215Z"
    },
    "papermill": {
     "duration": 0.016518,
     "end_time": "2022-07-11T18:08:59.881202",
     "exception": false,
     "start_time": "2022-07-11T18:08:59.864684",
     "status": "completed"
    },
    "tags": []
   },
   "outputs": [
    {
     "name": "stdout",
     "output_type": "stream",
     "text": [
      "crime\n"
     ]
    }
   ],
   "source": [
    "for table in tables:  \n",
    "    print(table.table_id)"
   ]
  },
  {
   "cell_type": "code",
   "execution_count": 5,
   "id": "9b39d8e5",
   "metadata": {
    "execution": {
     "iopub.execute_input": "2022-07-11T18:08:59.898204Z",
     "iopub.status.busy": "2022-07-11T18:08:59.897446Z",
     "iopub.status.idle": "2022-07-11T18:08:59.909196Z",
     "shell.execute_reply": "2022-07-11T18:08:59.908120Z"
    },
    "papermill": {
     "duration": 0.0226,
     "end_time": "2022-07-11T18:08:59.911414",
     "exception": false,
     "start_time": "2022-07-11T18:08:59.888814",
     "status": "completed"
    },
    "tags": []
   },
   "outputs": [
    {
     "data": {
      "application/javascript": [
       "parent.postMessage({\"jupyterEvent\": \"custom.exercise_interaction\", \"data\": {\"outcomeType\": 1, \"valueTowardsCompletion\": 0.3333333333333333, \"interactionType\": 1, \"questionType\": 1, \"questionId\": \"1_CountTables\", \"learnToolsVersion\": \"0.3.4\", \"failureMessage\": \"\", \"exceptionClass\": \"\", \"trace\": \"\"}}, \"*\")"
      ],
      "text/plain": [
       "<IPython.core.display.Javascript object>"
      ]
     },
     "metadata": {},
     "output_type": "display_data"
    },
    {
     "data": {
      "text/markdown": [
       "<span style=\"color:#33cc33\">Correct</span>"
      ],
      "text/plain": [
       "Correct"
      ]
     },
     "metadata": {},
     "output_type": "display_data"
    }
   ],
   "source": [
    "num_tables = len(tables)  # Store the answer as num_tables and then run this cell\n",
    "\n",
    "# Check your answer\n",
    "q_1.check()"
   ]
  },
  {
   "cell_type": "markdown",
   "id": "084155ed",
   "metadata": {
    "papermill": {
     "duration": 0.006955,
     "end_time": "2022-07-11T18:08:59.925767",
     "exception": false,
     "start_time": "2022-07-11T18:08:59.918812",
     "status": "completed"
    },
    "tags": []
   },
   "source": [
    "For a hint or the solution, uncomment the appropriate line below."
   ]
  },
  {
   "cell_type": "code",
   "execution_count": 6,
   "id": "912c26b5",
   "metadata": {
    "execution": {
     "iopub.execute_input": "2022-07-11T18:08:59.942432Z",
     "iopub.status.busy": "2022-07-11T18:08:59.941519Z",
     "iopub.status.idle": "2022-07-11T18:08:59.946049Z",
     "shell.execute_reply": "2022-07-11T18:08:59.945110Z"
    },
    "papermill": {
     "duration": 0.015298,
     "end_time": "2022-07-11T18:08:59.948359",
     "exception": false,
     "start_time": "2022-07-11T18:08:59.933061",
     "status": "completed"
    },
    "tags": []
   },
   "outputs": [],
   "source": [
    "#q_1.hint()\n",
    "#q_1.solution()"
   ]
  },
  {
   "cell_type": "markdown",
   "id": "931d7880",
   "metadata": {
    "papermill": {
     "duration": 0.007208,
     "end_time": "2022-07-11T18:08:59.963191",
     "exception": false,
     "start_time": "2022-07-11T18:08:59.955983",
     "status": "completed"
    },
    "tags": []
   },
   "source": [
    "### 2) Explore the table schema\n",
    "\n",
    "How many columns in the `crime` table have `TIMESTAMP` data?"
   ]
  },
  {
   "cell_type": "code",
   "execution_count": 7,
   "id": "f95a0b2d",
   "metadata": {
    "execution": {
     "iopub.execute_input": "2022-07-11T18:08:59.980954Z",
     "iopub.status.busy": "2022-07-11T18:08:59.979983Z",
     "iopub.status.idle": "2022-07-11T18:09:01.045639Z",
     "shell.execute_reply": "2022-07-11T18:09:01.044703Z"
    },
    "papermill": {
     "duration": 1.077657,
     "end_time": "2022-07-11T18:09:01.048210",
     "exception": false,
     "start_time": "2022-07-11T18:08:59.970553",
     "status": "completed"
    },
    "tags": []
   },
   "outputs": [
    {
     "name": "stderr",
     "output_type": "stream",
     "text": [
      "/opt/conda/lib/python3.7/site-packages/ipykernel_launcher.py:2: UserWarning: Cannot use bqstorage_client if max_results is set, reverting to fetching data with the tabledata.list endpoint.\n",
      "  \n"
     ]
    },
    {
     "data": {
      "text/html": [
       "<div>\n",
       "<style scoped>\n",
       "    .dataframe tbody tr th:only-of-type {\n",
       "        vertical-align: middle;\n",
       "    }\n",
       "\n",
       "    .dataframe tbody tr th {\n",
       "        vertical-align: top;\n",
       "    }\n",
       "\n",
       "    .dataframe thead th {\n",
       "        text-align: right;\n",
       "    }\n",
       "</style>\n",
       "<table border=\"1\" class=\"dataframe\">\n",
       "  <thead>\n",
       "    <tr style=\"text-align: right;\">\n",
       "      <th></th>\n",
       "      <th>unique_key</th>\n",
       "      <th>case_number</th>\n",
       "      <th>date</th>\n",
       "      <th>block</th>\n",
       "      <th>iucr</th>\n",
       "      <th>primary_type</th>\n",
       "      <th>description</th>\n",
       "      <th>location_description</th>\n",
       "      <th>arrest</th>\n",
       "      <th>domestic</th>\n",
       "      <th>...</th>\n",
       "      <th>ward</th>\n",
       "      <th>community_area</th>\n",
       "      <th>fbi_code</th>\n",
       "      <th>x_coordinate</th>\n",
       "      <th>y_coordinate</th>\n",
       "      <th>year</th>\n",
       "      <th>updated_on</th>\n",
       "      <th>latitude</th>\n",
       "      <th>longitude</th>\n",
       "      <th>location</th>\n",
       "    </tr>\n",
       "  </thead>\n",
       "  <tbody>\n",
       "    <tr>\n",
       "      <th>0</th>\n",
       "      <td>4353338</td>\n",
       "      <td>HL649098</td>\n",
       "      <td>2005-09-24 08:00:00+00:00</td>\n",
       "      <td>086XX S STONY ISLAND AVE</td>\n",
       "      <td>1152</td>\n",
       "      <td>DECEPTIVE PRACTICE</td>\n",
       "      <td>ILLEGAL USE CASH CARD</td>\n",
       "      <td>ATM (AUTOMATIC TELLER MACHINE)</td>\n",
       "      <td>False</td>\n",
       "      <td>False</td>\n",
       "      <td>...</td>\n",
       "      <td>8</td>\n",
       "      <td>45</td>\n",
       "      <td>11</td>\n",
       "      <td>1188315.0</td>\n",
       "      <td>1847809.0</td>\n",
       "      <td>2005</td>\n",
       "      <td>2018-02-10 03:50:01+00:00</td>\n",
       "      <td>41.737463</td>\n",
       "      <td>-87.585645</td>\n",
       "      <td>(41.737462708, -87.585645433)</td>\n",
       "    </tr>\n",
       "    <tr>\n",
       "      <th>1</th>\n",
       "      <td>4548285</td>\n",
       "      <td>HM137414</td>\n",
       "      <td>2006-01-20 04:00:00+00:00</td>\n",
       "      <td>101XX S WESTERN AVE</td>\n",
       "      <td>0930</td>\n",
       "      <td>MOTOR VEHICLE THEFT</td>\n",
       "      <td>THEFT/RECOVERY: AUTOMOBILE</td>\n",
       "      <td>PARKING LOT/GARAGE(NON.RESID.)</td>\n",
       "      <td>False</td>\n",
       "      <td>False</td>\n",
       "      <td>...</td>\n",
       "      <td>19</td>\n",
       "      <td>72</td>\n",
       "      <td>07</td>\n",
       "      <td>1162176.0</td>\n",
       "      <td>1837281.0</td>\n",
       "      <td>2006</td>\n",
       "      <td>2018-02-28 03:56:25+00:00</td>\n",
       "      <td>41.709155</td>\n",
       "      <td>-87.681703</td>\n",
       "      <td>(41.709155421, -87.68170349)</td>\n",
       "    </tr>\n",
       "    <tr>\n",
       "      <th>2</th>\n",
       "      <td>4498566</td>\n",
       "      <td>HL801732</td>\n",
       "      <td>2005-11-07 10:00:00+00:00</td>\n",
       "      <td>060XX N PULASKI RD</td>\n",
       "      <td>1110</td>\n",
       "      <td>DECEPTIVE PRACTICE</td>\n",
       "      <td>BOGUS CHECK</td>\n",
       "      <td>COMMERCIAL / BUSINESS OFFICE</td>\n",
       "      <td>False</td>\n",
       "      <td>False</td>\n",
       "      <td>...</td>\n",
       "      <td>39</td>\n",
       "      <td>13</td>\n",
       "      <td>11</td>\n",
       "      <td>1148575.0</td>\n",
       "      <td>1939967.0</td>\n",
       "      <td>2005</td>\n",
       "      <td>2018-02-28 03:56:25+00:00</td>\n",
       "      <td>41.991211</td>\n",
       "      <td>-87.728865</td>\n",
       "      <td>(41.991210571, -87.728865482)</td>\n",
       "    </tr>\n",
       "    <tr>\n",
       "      <th>3</th>\n",
       "      <td>9570723</td>\n",
       "      <td>HX221357</td>\n",
       "      <td>2014-04-12 07:57:00+00:00</td>\n",
       "      <td>060XX S KNOX AVE</td>\n",
       "      <td>0520</td>\n",
       "      <td>ASSAULT</td>\n",
       "      <td>AGGRAVATED:KNIFE/CUTTING INSTR</td>\n",
       "      <td>RESIDENCE</td>\n",
       "      <td>False</td>\n",
       "      <td>False</td>\n",
       "      <td>...</td>\n",
       "      <td>13</td>\n",
       "      <td>64</td>\n",
       "      <td>04A</td>\n",
       "      <td>1146408.0</td>\n",
       "      <td>1864086.0</td>\n",
       "      <td>2014</td>\n",
       "      <td>2018-02-10 03:50:01+00:00</td>\n",
       "      <td>41.783026</td>\n",
       "      <td>-87.738770</td>\n",
       "      <td>(41.783026158, -87.738770231)</td>\n",
       "    </tr>\n",
       "    <tr>\n",
       "      <th>4</th>\n",
       "      <td>9464278</td>\n",
       "      <td>HX116715</td>\n",
       "      <td>2014-01-15 07:00:00+00:00</td>\n",
       "      <td>003XX W GARFIELD BLVD</td>\n",
       "      <td>1210</td>\n",
       "      <td>DECEPTIVE PRACTICE</td>\n",
       "      <td>THEFT OF LABOR/SERVICES</td>\n",
       "      <td>GAS STATION</td>\n",
       "      <td>False</td>\n",
       "      <td>False</td>\n",
       "      <td>...</td>\n",
       "      <td>3</td>\n",
       "      <td>37</td>\n",
       "      <td>11</td>\n",
       "      <td>1175139.0</td>\n",
       "      <td>1868487.0</td>\n",
       "      <td>2014</td>\n",
       "      <td>2016-02-04 06:33:39+00:00</td>\n",
       "      <td>41.794510</td>\n",
       "      <td>-87.633302</td>\n",
       "      <td>(41.794509508, -87.633301738)</td>\n",
       "    </tr>\n",
       "  </tbody>\n",
       "</table>\n",
       "<p>5 rows × 22 columns</p>\n",
       "</div>"
      ],
      "text/plain": [
       "   unique_key case_number                      date                     block  \\\n",
       "0     4353338    HL649098 2005-09-24 08:00:00+00:00  086XX S STONY ISLAND AVE   \n",
       "1     4548285    HM137414 2006-01-20 04:00:00+00:00       101XX S WESTERN AVE   \n",
       "2     4498566    HL801732 2005-11-07 10:00:00+00:00        060XX N PULASKI RD   \n",
       "3     9570723    HX221357 2014-04-12 07:57:00+00:00          060XX S KNOX AVE   \n",
       "4     9464278    HX116715 2014-01-15 07:00:00+00:00     003XX W GARFIELD BLVD   \n",
       "\n",
       "   iucr         primary_type                     description  \\\n",
       "0  1152   DECEPTIVE PRACTICE           ILLEGAL USE CASH CARD   \n",
       "1  0930  MOTOR VEHICLE THEFT      THEFT/RECOVERY: AUTOMOBILE   \n",
       "2  1110   DECEPTIVE PRACTICE                     BOGUS CHECK   \n",
       "3  0520              ASSAULT  AGGRAVATED:KNIFE/CUTTING INSTR   \n",
       "4  1210   DECEPTIVE PRACTICE         THEFT OF LABOR/SERVICES   \n",
       "\n",
       "             location_description  arrest  domestic  ...  ward  \\\n",
       "0  ATM (AUTOMATIC TELLER MACHINE)   False     False  ...     8   \n",
       "1  PARKING LOT/GARAGE(NON.RESID.)   False     False  ...    19   \n",
       "2    COMMERCIAL / BUSINESS OFFICE   False     False  ...    39   \n",
       "3                       RESIDENCE   False     False  ...    13   \n",
       "4                     GAS STATION   False     False  ...     3   \n",
       "\n",
       "   community_area  fbi_code  x_coordinate y_coordinate  year  \\\n",
       "0              45        11     1188315.0    1847809.0  2005   \n",
       "1              72        07     1162176.0    1837281.0  2006   \n",
       "2              13        11     1148575.0    1939967.0  2005   \n",
       "3              64       04A     1146408.0    1864086.0  2014   \n",
       "4              37        11     1175139.0    1868487.0  2014   \n",
       "\n",
       "                 updated_on   latitude  longitude  \\\n",
       "0 2018-02-10 03:50:01+00:00  41.737463 -87.585645   \n",
       "1 2018-02-28 03:56:25+00:00  41.709155 -87.681703   \n",
       "2 2018-02-28 03:56:25+00:00  41.991211 -87.728865   \n",
       "3 2018-02-10 03:50:01+00:00  41.783026 -87.738770   \n",
       "4 2016-02-04 06:33:39+00:00  41.794510 -87.633302   \n",
       "\n",
       "                        location  \n",
       "0  (41.737462708, -87.585645433)  \n",
       "1   (41.709155421, -87.68170349)  \n",
       "2  (41.991210571, -87.728865482)  \n",
       "3  (41.783026158, -87.738770231)  \n",
       "4  (41.794509508, -87.633301738)  \n",
       "\n",
       "[5 rows x 22 columns]"
      ]
     },
     "execution_count": 7,
     "metadata": {},
     "output_type": "execute_result"
    }
   ],
   "source": [
    "# Write the code to figure out the answer\n",
    "client.list_rows(table, max_results=5).to_dataframe()"
   ]
  },
  {
   "cell_type": "code",
   "execution_count": 8,
   "id": "29200c6c",
   "metadata": {
    "execution": {
     "iopub.execute_input": "2022-07-11T18:09:01.066839Z",
     "iopub.status.busy": "2022-07-11T18:09:01.066063Z",
     "iopub.status.idle": "2022-07-11T18:09:01.074111Z",
     "shell.execute_reply": "2022-07-11T18:09:01.072943Z"
    },
    "papermill": {
     "duration": 0.020025,
     "end_time": "2022-07-11T18:09:01.076534",
     "exception": false,
     "start_time": "2022-07-11T18:09:01.056509",
     "status": "completed"
    },
    "tags": []
   },
   "outputs": [
    {
     "data": {
      "application/javascript": [
       "parent.postMessage({\"jupyterEvent\": \"custom.exercise_interaction\", \"data\": {\"outcomeType\": 1, \"valueTowardsCompletion\": 0.3333333333333333, \"interactionType\": 1, \"questionType\": 1, \"questionId\": \"2_CountTimestampFields\", \"learnToolsVersion\": \"0.3.4\", \"failureMessage\": \"\", \"exceptionClass\": \"\", \"trace\": \"\"}}, \"*\")"
      ],
      "text/plain": [
       "<IPython.core.display.Javascript object>"
      ]
     },
     "metadata": {},
     "output_type": "display_data"
    },
    {
     "data": {
      "text/markdown": [
       "<span style=\"color:#33cc33\">Correct</span>"
      ],
      "text/plain": [
       "Correct"
      ]
     },
     "metadata": {},
     "output_type": "display_data"
    }
   ],
   "source": [
    "num_timestamp_fields = 2 # Put your answer here\n",
    "\n",
    "# Check your answer\n",
    "q_2.check()"
   ]
  },
  {
   "cell_type": "markdown",
   "id": "c46212b5",
   "metadata": {
    "papermill": {
     "duration": 0.007941,
     "end_time": "2022-07-11T18:09:01.092673",
     "exception": false,
     "start_time": "2022-07-11T18:09:01.084732",
     "status": "completed"
    },
    "tags": []
   },
   "source": [
    "For a hint or the solution, uncomment the appropriate line below."
   ]
  },
  {
   "cell_type": "code",
   "execution_count": 9,
   "id": "dd90c1ed",
   "metadata": {
    "execution": {
     "iopub.execute_input": "2022-07-11T18:09:01.112640Z",
     "iopub.status.busy": "2022-07-11T18:09:01.112166Z",
     "iopub.status.idle": "2022-07-11T18:09:01.121302Z",
     "shell.execute_reply": "2022-07-11T18:09:01.120084Z"
    },
    "papermill": {
     "duration": 0.021613,
     "end_time": "2022-07-11T18:09:01.123617",
     "exception": false,
     "start_time": "2022-07-11T18:09:01.102004",
     "status": "completed"
    },
    "tags": []
   },
   "outputs": [
    {
     "data": {
      "application/javascript": [
       "parent.postMessage({\"jupyterEvent\": \"custom.exercise_interaction\", \"data\": {\"interactionType\": 3, \"questionType\": 1, \"questionId\": \"2_CountTimestampFields\", \"learnToolsVersion\": \"0.3.4\", \"valueTowardsCompletion\": 0.0, \"failureMessage\": \"\", \"exceptionClass\": \"\", \"trace\": \"\", \"outcomeType\": 4}}, \"*\")"
      ],
      "text/plain": [
       "<IPython.core.display.Javascript object>"
      ]
     },
     "metadata": {},
     "output_type": "display_data"
    },
    {
     "data": {
      "text/markdown": [
       "<span style=\"color:#33cc99\">Solution:</span> \n",
       "```python\n",
       "\n",
       "# Construct a reference to the \"crime\" table\n",
       "table_ref = dataset_ref.table(\"crime\")\n",
       "\n",
       "# API request - fetch the table\n",
       "table = client.get_table(table_ref)\n",
       "\n",
       "# Print information on all the columns in the \"crime\" table in the \"chicago_crime\" dataset\n",
       "print(table.schema)\n",
       "\n",
       "num_timestamp_fields = 2\n",
       "\n",
       "```"
      ],
      "text/plain": [
       "Solution: \n",
       "```python\n",
       "\n",
       "# Construct a reference to the \"crime\" table\n",
       "table_ref = dataset_ref.table(\"crime\")\n",
       "\n",
       "# API request - fetch the table\n",
       "table = client.get_table(table_ref)\n",
       "\n",
       "# Print information on all the columns in the \"crime\" table in the \"chicago_crime\" dataset\n",
       "print(table.schema)\n",
       "\n",
       "num_timestamp_fields = 2\n",
       "\n",
       "```"
      ]
     },
     "metadata": {},
     "output_type": "display_data"
    }
   ],
   "source": [
    "#q_2.hint()\n",
    "q_2.solution()"
   ]
  },
  {
   "cell_type": "markdown",
   "id": "8a84f3dc",
   "metadata": {
    "papermill": {
     "duration": 0.008214,
     "end_time": "2022-07-11T18:09:01.140387",
     "exception": false,
     "start_time": "2022-07-11T18:09:01.132173",
     "status": "completed"
    },
    "tags": []
   },
   "source": [
    "### 3) Create a crime map\n",
    "\n",
    "If you wanted to create a map with a dot at the location of each crime, what are the names of the two fields you likely need to pull out of the `crime` table to plot the crimes on a map?"
   ]
  },
  {
   "cell_type": "code",
   "execution_count": 10,
   "id": "a33f3d43",
   "metadata": {
    "execution": {
     "iopub.execute_input": "2022-07-11T18:09:01.159067Z",
     "iopub.status.busy": "2022-07-11T18:09:01.158633Z",
     "iopub.status.idle": "2022-07-11T18:09:01.163791Z",
     "shell.execute_reply": "2022-07-11T18:09:01.162588Z"
    },
    "papermill": {
     "duration": 0.017361,
     "end_time": "2022-07-11T18:09:01.166206",
     "exception": false,
     "start_time": "2022-07-11T18:09:01.148845",
     "status": "completed"
    },
    "tags": []
   },
   "outputs": [],
   "source": [
    "# Write the code here to explore the data so you can find the answer"
   ]
  },
  {
   "cell_type": "code",
   "execution_count": 11,
   "id": "686016d6",
   "metadata": {
    "execution": {
     "iopub.execute_input": "2022-07-11T18:09:01.185680Z",
     "iopub.status.busy": "2022-07-11T18:09:01.185269Z",
     "iopub.status.idle": "2022-07-11T18:09:01.195294Z",
     "shell.execute_reply": "2022-07-11T18:09:01.194114Z"
    },
    "papermill": {
     "duration": 0.022593,
     "end_time": "2022-07-11T18:09:01.197786",
     "exception": false,
     "start_time": "2022-07-11T18:09:01.175193",
     "status": "completed"
    },
    "tags": []
   },
   "outputs": [
    {
     "data": {
      "application/javascript": [
       "parent.postMessage({\"jupyterEvent\": \"custom.exercise_interaction\", \"data\": {\"outcomeType\": 1, \"valueTowardsCompletion\": 0.3333333333333333, \"interactionType\": 1, \"questionType\": 2, \"questionId\": \"3_IdentifyFieldsForPlotting\", \"learnToolsVersion\": \"0.3.4\", \"failureMessage\": \"\", \"exceptionClass\": \"\", \"trace\": \"\"}}, \"*\")"
      ],
      "text/plain": [
       "<IPython.core.display.Javascript object>"
      ]
     },
     "metadata": {},
     "output_type": "display_data"
    },
    {
     "data": {
      "text/markdown": [
       "<span style=\"color:#33cc33\">Correct</span>"
      ],
      "text/plain": [
       "Correct"
      ]
     },
     "metadata": {},
     "output_type": "display_data"
    }
   ],
   "source": [
    "fields_for_plotting = ['latitude', 'longitude'] # Put your answers here\n",
    "\n",
    "# Check your answer\n",
    "q_3.check()"
   ]
  },
  {
   "cell_type": "markdown",
   "id": "1b781e4a",
   "metadata": {
    "papermill": {
     "duration": 0.008494,
     "end_time": "2022-07-11T18:09:01.215337",
     "exception": false,
     "start_time": "2022-07-11T18:09:01.206843",
     "status": "completed"
    },
    "tags": []
   },
   "source": [
    "For a hint or the solution, uncomment the appropriate line below."
   ]
  },
  {
   "cell_type": "code",
   "execution_count": 12,
   "id": "3a3135d9",
   "metadata": {
    "execution": {
     "iopub.execute_input": "2022-07-11T18:09:01.235205Z",
     "iopub.status.busy": "2022-07-11T18:09:01.234734Z",
     "iopub.status.idle": "2022-07-11T18:09:01.239403Z",
     "shell.execute_reply": "2022-07-11T18:09:01.238203Z"
    },
    "papermill": {
     "duration": 0.017659,
     "end_time": "2022-07-11T18:09:01.241786",
     "exception": false,
     "start_time": "2022-07-11T18:09:01.224127",
     "status": "completed"
    },
    "tags": []
   },
   "outputs": [],
   "source": [
    "#q_3.hint()\n",
    "#q_3.solution()"
   ]
  },
  {
   "cell_type": "markdown",
   "id": "d0083fe6",
   "metadata": {
    "papermill": {
     "duration": 0.009466,
     "end_time": "2022-07-11T18:09:01.261216",
     "exception": false,
     "start_time": "2022-07-11T18:09:01.251750",
     "status": "completed"
    },
    "tags": []
   },
   "source": [
    "Thinking about the question above, there are a few columns that appear to have geographic data. Look at a few values (with the `list_rows()` command) to see if you can determine their relationship.  Two columns will still be hard to interpret. But it should be obvious how the `location` column relates to `latitude` and `longitude`."
   ]
  },
  {
   "cell_type": "code",
   "execution_count": 13,
   "id": "39990753",
   "metadata": {
    "execution": {
     "iopub.execute_input": "2022-07-11T18:09:01.283525Z",
     "iopub.status.busy": "2022-07-11T18:09:01.282896Z",
     "iopub.status.idle": "2022-07-11T18:09:01.526359Z",
     "shell.execute_reply": "2022-07-11T18:09:01.524946Z"
    },
    "papermill": {
     "duration": 0.25754,
     "end_time": "2022-07-11T18:09:01.529254",
     "exception": false,
     "start_time": "2022-07-11T18:09:01.271714",
     "status": "completed"
    },
    "tags": []
   },
   "outputs": [],
   "source": [
    "# Construct a reference to the \"crime\" table\n",
    "table_ref = dataset_ref.table(\"crime\")\n",
    "\n",
    "# API request - fetch the table\n",
    "table = client.get_table(table_ref)"
   ]
  },
  {
   "cell_type": "code",
   "execution_count": 14,
   "id": "56d28a88",
   "metadata": {
    "execution": {
     "iopub.execute_input": "2022-07-11T18:09:01.550268Z",
     "iopub.status.busy": "2022-07-11T18:09:01.549806Z",
     "iopub.status.idle": "2022-07-11T18:09:01.559018Z",
     "shell.execute_reply": "2022-07-11T18:09:01.557441Z"
    },
    "papermill": {
     "duration": 0.022724,
     "end_time": "2022-07-11T18:09:01.561538",
     "exception": false,
     "start_time": "2022-07-11T18:09:01.538814",
     "status": "completed"
    },
    "tags": []
   },
   "outputs": [
    {
     "data": {
      "text/plain": [
       "[SchemaField('unique_key', 'INTEGER', 'REQUIRED', None, (), None),\n",
       " SchemaField('case_number', 'STRING', 'NULLABLE', None, (), None),\n",
       " SchemaField('date', 'TIMESTAMP', 'NULLABLE', None, (), None),\n",
       " SchemaField('block', 'STRING', 'NULLABLE', None, (), None),\n",
       " SchemaField('iucr', 'STRING', 'NULLABLE', None, (), None),\n",
       " SchemaField('primary_type', 'STRING', 'NULLABLE', None, (), None),\n",
       " SchemaField('description', 'STRING', 'NULLABLE', None, (), None),\n",
       " SchemaField('location_description', 'STRING', 'NULLABLE', None, (), None),\n",
       " SchemaField('arrest', 'BOOLEAN', 'NULLABLE', None, (), None),\n",
       " SchemaField('domestic', 'BOOLEAN', 'NULLABLE', None, (), None),\n",
       " SchemaField('beat', 'INTEGER', 'NULLABLE', None, (), None),\n",
       " SchemaField('district', 'INTEGER', 'NULLABLE', None, (), None),\n",
       " SchemaField('ward', 'INTEGER', 'NULLABLE', None, (), None),\n",
       " SchemaField('community_area', 'INTEGER', 'NULLABLE', None, (), None),\n",
       " SchemaField('fbi_code', 'STRING', 'NULLABLE', None, (), None),\n",
       " SchemaField('x_coordinate', 'FLOAT', 'NULLABLE', None, (), None),\n",
       " SchemaField('y_coordinate', 'FLOAT', 'NULLABLE', None, (), None),\n",
       " SchemaField('year', 'INTEGER', 'NULLABLE', None, (), None),\n",
       " SchemaField('updated_on', 'TIMESTAMP', 'NULLABLE', None, (), None),\n",
       " SchemaField('latitude', 'FLOAT', 'NULLABLE', None, (), None),\n",
       " SchemaField('longitude', 'FLOAT', 'NULLABLE', None, (), None),\n",
       " SchemaField('location', 'STRING', 'NULLABLE', None, (), None)]"
      ]
     },
     "execution_count": 14,
     "metadata": {},
     "output_type": "execute_result"
    }
   ],
   "source": [
    "table.schema"
   ]
  },
  {
   "cell_type": "code",
   "execution_count": 15,
   "id": "50d2f1f0",
   "metadata": {
    "execution": {
     "iopub.execute_input": "2022-07-11T18:09:01.582494Z",
     "iopub.status.busy": "2022-07-11T18:09:01.582071Z",
     "iopub.status.idle": "2022-07-11T18:09:02.206895Z",
     "shell.execute_reply": "2022-07-11T18:09:02.205778Z"
    },
    "papermill": {
     "duration": 0.638388,
     "end_time": "2022-07-11T18:09:02.209638",
     "exception": false,
     "start_time": "2022-07-11T18:09:01.571250",
     "status": "completed"
    },
    "tags": []
   },
   "outputs": [
    {
     "name": "stderr",
     "output_type": "stream",
     "text": [
      "/opt/conda/lib/python3.7/site-packages/ipykernel_launcher.py:2: UserWarning: Cannot use bqstorage_client if max_results is set, reverting to fetching data with the tabledata.list endpoint.\n",
      "  \n"
     ]
    },
    {
     "data": {
      "text/html": [
       "<div>\n",
       "<style scoped>\n",
       "    .dataframe tbody tr th:only-of-type {\n",
       "        vertical-align: middle;\n",
       "    }\n",
       "\n",
       "    .dataframe tbody tr th {\n",
       "        vertical-align: top;\n",
       "    }\n",
       "\n",
       "    .dataframe thead th {\n",
       "        text-align: right;\n",
       "    }\n",
       "</style>\n",
       "<table border=\"1\" class=\"dataframe\">\n",
       "  <thead>\n",
       "    <tr style=\"text-align: right;\">\n",
       "      <th></th>\n",
       "      <th>latitude</th>\n",
       "      <th>longitude</th>\n",
       "    </tr>\n",
       "  </thead>\n",
       "  <tbody>\n",
       "    <tr>\n",
       "      <th>0</th>\n",
       "      <td>41.737463</td>\n",
       "      <td>-87.585645</td>\n",
       "    </tr>\n",
       "    <tr>\n",
       "      <th>1</th>\n",
       "      <td>41.709155</td>\n",
       "      <td>-87.681703</td>\n",
       "    </tr>\n",
       "    <tr>\n",
       "      <th>2</th>\n",
       "      <td>41.991211</td>\n",
       "      <td>-87.728865</td>\n",
       "    </tr>\n",
       "    <tr>\n",
       "      <th>3</th>\n",
       "      <td>41.783026</td>\n",
       "      <td>-87.738770</td>\n",
       "    </tr>\n",
       "    <tr>\n",
       "      <th>4</th>\n",
       "      <td>41.794510</td>\n",
       "      <td>-87.633302</td>\n",
       "    </tr>\n",
       "    <tr>\n",
       "      <th>5</th>\n",
       "      <td>41.992606</td>\n",
       "      <td>-87.799455</td>\n",
       "    </tr>\n",
       "    <tr>\n",
       "      <th>6</th>\n",
       "      <td>41.651572</td>\n",
       "      <td>-87.603416</td>\n",
       "    </tr>\n",
       "    <tr>\n",
       "      <th>7</th>\n",
       "      <td>41.982119</td>\n",
       "      <td>-87.708837</td>\n",
       "    </tr>\n",
       "    <tr>\n",
       "      <th>8</th>\n",
       "      <td>41.712860</td>\n",
       "      <td>-87.592465</td>\n",
       "    </tr>\n",
       "    <tr>\n",
       "      <th>9</th>\n",
       "      <td>41.739253</td>\n",
       "      <td>-87.587904</td>\n",
       "    </tr>\n",
       "    <tr>\n",
       "      <th>10</th>\n",
       "      <td>41.707462</td>\n",
       "      <td>-87.605330</td>\n",
       "    </tr>\n",
       "    <tr>\n",
       "      <th>11</th>\n",
       "      <td>41.742028</td>\n",
       "      <td>-87.582863</td>\n",
       "    </tr>\n",
       "    <tr>\n",
       "      <th>12</th>\n",
       "      <td>41.782586</td>\n",
       "      <td>-87.789996</td>\n",
       "    </tr>\n",
       "    <tr>\n",
       "      <th>13</th>\n",
       "      <td>41.974406</td>\n",
       "      <td>-87.719639</td>\n",
       "    </tr>\n",
       "    <tr>\n",
       "      <th>14</th>\n",
       "      <td>41.719518</td>\n",
       "      <td>-87.537155</td>\n",
       "    </tr>\n",
       "    <tr>\n",
       "      <th>15</th>\n",
       "      <td>41.830890</td>\n",
       "      <td>-87.635503</td>\n",
       "    </tr>\n",
       "    <tr>\n",
       "      <th>16</th>\n",
       "      <td>41.852868</td>\n",
       "      <td>-87.630915</td>\n",
       "    </tr>\n",
       "    <tr>\n",
       "      <th>17</th>\n",
       "      <td>41.703910</td>\n",
       "      <td>-87.537703</td>\n",
       "    </tr>\n",
       "    <tr>\n",
       "      <th>18</th>\n",
       "      <td>41.707253</td>\n",
       "      <td>-87.586439</td>\n",
       "    </tr>\n",
       "    <tr>\n",
       "      <th>19</th>\n",
       "      <td>41.688218</td>\n",
       "      <td>-87.537358</td>\n",
       "    </tr>\n",
       "  </tbody>\n",
       "</table>\n",
       "</div>"
      ],
      "text/plain": [
       "     latitude  longitude\n",
       "0   41.737463 -87.585645\n",
       "1   41.709155 -87.681703\n",
       "2   41.991211 -87.728865\n",
       "3   41.783026 -87.738770\n",
       "4   41.794510 -87.633302\n",
       "5   41.992606 -87.799455\n",
       "6   41.651572 -87.603416\n",
       "7   41.982119 -87.708837\n",
       "8   41.712860 -87.592465\n",
       "9   41.739253 -87.587904\n",
       "10  41.707462 -87.605330\n",
       "11  41.742028 -87.582863\n",
       "12  41.782586 -87.789996\n",
       "13  41.974406 -87.719639\n",
       "14  41.719518 -87.537155\n",
       "15  41.830890 -87.635503\n",
       "16  41.852868 -87.630915\n",
       "17  41.703910 -87.537703\n",
       "18  41.707253 -87.586439\n",
       "19  41.688218 -87.537358"
      ]
     },
     "execution_count": 15,
     "metadata": {},
     "output_type": "execute_result"
    }
   ],
   "source": [
    "# Scratch space for your code\n",
    "client.list_rows(table, selected_fields=table.schema[-3:-1], max_results=20).to_dataframe()"
   ]
  },
  {
   "cell_type": "markdown",
   "id": "323952d0",
   "metadata": {
    "papermill": {
     "duration": 0.008997,
     "end_time": "2022-07-11T18:09:02.228186",
     "exception": false,
     "start_time": "2022-07-11T18:09:02.219189",
     "status": "completed"
    },
    "tags": []
   },
   "source": [
    "# Keep going\n",
    "\n",
    "You've looked at the schema, but you haven't yet done anything exciting with the data itself. Things get more interesting when you get to the data, so keep going to **[write your first SQL query](https://www.kaggle.com/dansbecker/select-from-where).**"
   ]
  },
  {
   "cell_type": "markdown",
   "id": "8a6debbe",
   "metadata": {
    "papermill": {
     "duration": 0.008781,
     "end_time": "2022-07-11T18:09:02.246230",
     "exception": false,
     "start_time": "2022-07-11T18:09:02.237449",
     "status": "completed"
    },
    "tags": []
   },
   "source": [
    "---\n",
    "\n",
    "\n",
    "\n",
    "\n",
    "*Have questions or comments? Visit the [course discussion forum](https://www.kaggle.com/learn/intro-to-sql/discussion) to chat with other learners.*"
   ]
  }
 ],
 "metadata": {
  "kernelspec": {
   "display_name": "Python 3",
   "language": "python",
   "name": "python3"
  },
  "language_info": {
   "codemirror_mode": {
    "name": "ipython",
    "version": 3
   },
   "file_extension": ".py",
   "mimetype": "text/x-python",
   "name": "python",
   "nbconvert_exporter": "python",
   "pygments_lexer": "ipython3",
   "version": "3.7.12"
  },
  "papermill": {
   "default_parameters": {},
   "duration": 15.587774,
   "end_time": "2022-07-11T18:09:02.980308",
   "environment_variables": {},
   "exception": null,
   "input_path": "__notebook__.ipynb",
   "output_path": "__notebook__.ipynb",
   "parameters": {},
   "start_time": "2022-07-11T18:08:47.392534",
   "version": "2.3.4"
  }
 },
 "nbformat": 4,
 "nbformat_minor": 5
}
