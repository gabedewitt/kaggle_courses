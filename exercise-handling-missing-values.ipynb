{
 "cells": [
  {
   "cell_type": "markdown",
   "id": "1e509a2e",
   "metadata": {
    "papermill": {
     "duration": 0.009319,
     "end_time": "2022-06-30T19:41:19.388174",
     "exception": false,
     "start_time": "2022-06-30T19:41:19.378855",
     "status": "completed"
    },
    "tags": []
   },
   "source": [
    "**This notebook is an exercise in the [Data Cleaning](https://www.kaggle.com/learn/data-cleaning) course.  You can reference the tutorial at [this link](https://www.kaggle.com/alexisbcook/handling-missing-values).**\n",
    "\n",
    "---\n"
   ]
  },
  {
   "cell_type": "markdown",
   "id": "bbdd25b9",
   "metadata": {
    "papermill": {
     "duration": 0.007945,
     "end_time": "2022-06-30T19:41:19.404376",
     "exception": false,
     "start_time": "2022-06-30T19:41:19.396431",
     "status": "completed"
    },
    "tags": []
   },
   "source": [
    "In this exercise, you'll apply what you learned in the **Handling missing values** tutorial.\n",
    "\n",
    "# Setup\n",
    "\n",
    "The questions below will give you feedback on your work. Run the following cell to set up the feedback system."
   ]
  },
  {
   "cell_type": "code",
   "execution_count": 1,
   "id": "8ad4d698",
   "metadata": {
    "execution": {
     "iopub.execute_input": "2022-06-30T19:41:19.422687Z",
     "iopub.status.busy": "2022-06-30T19:41:19.422043Z",
     "iopub.status.idle": "2022-06-30T19:41:24.474408Z",
     "shell.execute_reply": "2022-06-30T19:41:24.472933Z"
    },
    "papermill": {
     "duration": 5.064652,
     "end_time": "2022-06-30T19:41:24.477066",
     "exception": false,
     "start_time": "2022-06-30T19:41:19.412414",
     "status": "completed"
    },
    "tags": []
   },
   "outputs": [
    {
     "name": "stderr",
     "output_type": "stream",
     "text": [
      "/opt/conda/lib/python3.7/site-packages/ipykernel_launcher.py:3: DtypeWarning: Columns (22,32) have mixed types.Specify dtype option on import or set low_memory=False.\n",
      "  This is separate from the ipykernel package so we can avoid doing imports until\n"
     ]
    },
    {
     "name": "stdout",
     "output_type": "stream",
     "text": [
      "Setup Complete\n"
     ]
    }
   ],
   "source": [
    "from learntools.core import binder\n",
    "binder.bind(globals())\n",
    "from learntools.data_cleaning.ex1 import *\n",
    "print(\"Setup Complete\")"
   ]
  },
  {
   "cell_type": "markdown",
   "id": "05a5b21d",
   "metadata": {
    "papermill": {
     "duration": 0.007962,
     "end_time": "2022-06-30T19:41:24.493498",
     "exception": false,
     "start_time": "2022-06-30T19:41:24.485536",
     "status": "completed"
    },
    "tags": []
   },
   "source": [
    "# 1) Take a first look at the data\n",
    "\n",
    "Run the next code cell to load in the libraries and dataset you'll use to complete the exercise."
   ]
  },
  {
   "cell_type": "code",
   "execution_count": 2,
   "id": "2a5a5beb",
   "metadata": {
    "execution": {
     "iopub.execute_input": "2022-06-30T19:41:24.511899Z",
     "iopub.status.busy": "2022-06-30T19:41:24.510892Z",
     "iopub.status.idle": "2022-06-30T19:41:26.250437Z",
     "shell.execute_reply": "2022-06-30T19:41:26.249194Z"
    },
    "papermill": {
     "duration": 1.751438,
     "end_time": "2022-06-30T19:41:26.253028",
     "exception": false,
     "start_time": "2022-06-30T19:41:24.501590",
     "status": "completed"
    },
    "tags": []
   },
   "outputs": [
    {
     "name": "stderr",
     "output_type": "stream",
     "text": [
      "/opt/conda/lib/python3.7/site-packages/IPython/core/interactiveshell.py:3552: DtypeWarning: Columns (22,32) have mixed types.Specify dtype option on import or set low_memory=False.\n",
      "  exec(code_obj, self.user_global_ns, self.user_ns)\n"
     ]
    }
   ],
   "source": [
    "# modules we'll use\n",
    "import pandas as pd\n",
    "import numpy as np\n",
    "\n",
    "# read in all our data\n",
    "sf_permits = pd.read_csv(\"../input/building-permit-applications-data/Building_Permits.csv\")\n",
    "\n",
    "# set seed for reproducibility\n",
    "np.random.seed(0) "
   ]
  },
  {
   "cell_type": "markdown",
   "id": "8519b6f9",
   "metadata": {
    "papermill": {
     "duration": 0.008068,
     "end_time": "2022-06-30T19:41:26.269317",
     "exception": false,
     "start_time": "2022-06-30T19:41:26.261249",
     "status": "completed"
    },
    "tags": []
   },
   "source": [
    "Use the code cell below to print the first five rows of the `sf_permits` DataFrame."
   ]
  },
  {
   "cell_type": "code",
   "execution_count": 3,
   "id": "ce8f6dbf",
   "metadata": {
    "execution": {
     "iopub.execute_input": "2022-06-30T19:41:26.287678Z",
     "iopub.status.busy": "2022-06-30T19:41:26.287266Z",
     "iopub.status.idle": "2022-06-30T19:41:26.323937Z",
     "shell.execute_reply": "2022-06-30T19:41:26.322776Z"
    },
    "papermill": {
     "duration": 0.0489,
     "end_time": "2022-06-30T19:41:26.326508",
     "exception": false,
     "start_time": "2022-06-30T19:41:26.277608",
     "status": "completed"
    },
    "tags": []
   },
   "outputs": [
    {
     "data": {
      "text/html": [
       "<div>\n",
       "<style scoped>\n",
       "    .dataframe tbody tr th:only-of-type {\n",
       "        vertical-align: middle;\n",
       "    }\n",
       "\n",
       "    .dataframe tbody tr th {\n",
       "        vertical-align: top;\n",
       "    }\n",
       "\n",
       "    .dataframe thead th {\n",
       "        text-align: right;\n",
       "    }\n",
       "</style>\n",
       "<table border=\"1\" class=\"dataframe\">\n",
       "  <thead>\n",
       "    <tr style=\"text-align: right;\">\n",
       "      <th></th>\n",
       "      <th>Permit Number</th>\n",
       "      <th>Permit Type</th>\n",
       "      <th>Permit Type Definition</th>\n",
       "      <th>Permit Creation Date</th>\n",
       "      <th>Block</th>\n",
       "      <th>Lot</th>\n",
       "      <th>Street Number</th>\n",
       "      <th>Street Number Suffix</th>\n",
       "      <th>Street Name</th>\n",
       "      <th>Street Suffix</th>\n",
       "      <th>...</th>\n",
       "      <th>Existing Construction Type</th>\n",
       "      <th>Existing Construction Type Description</th>\n",
       "      <th>Proposed Construction Type</th>\n",
       "      <th>Proposed Construction Type Description</th>\n",
       "      <th>Site Permit</th>\n",
       "      <th>Supervisor District</th>\n",
       "      <th>Neighborhoods - Analysis Boundaries</th>\n",
       "      <th>Zipcode</th>\n",
       "      <th>Location</th>\n",
       "      <th>Record ID</th>\n",
       "    </tr>\n",
       "  </thead>\n",
       "  <tbody>\n",
       "    <tr>\n",
       "      <th>0</th>\n",
       "      <td>201505065519</td>\n",
       "      <td>4</td>\n",
       "      <td>sign - erect</td>\n",
       "      <td>05/06/2015</td>\n",
       "      <td>0326</td>\n",
       "      <td>023</td>\n",
       "      <td>140</td>\n",
       "      <td>NaN</td>\n",
       "      <td>Ellis</td>\n",
       "      <td>St</td>\n",
       "      <td>...</td>\n",
       "      <td>3.0</td>\n",
       "      <td>constr type 3</td>\n",
       "      <td>NaN</td>\n",
       "      <td>NaN</td>\n",
       "      <td>NaN</td>\n",
       "      <td>3.0</td>\n",
       "      <td>Tenderloin</td>\n",
       "      <td>94102.0</td>\n",
       "      <td>(37.785719256680785, -122.40852313194863)</td>\n",
       "      <td>1380611233945</td>\n",
       "    </tr>\n",
       "    <tr>\n",
       "      <th>1</th>\n",
       "      <td>201604195146</td>\n",
       "      <td>4</td>\n",
       "      <td>sign - erect</td>\n",
       "      <td>04/19/2016</td>\n",
       "      <td>0306</td>\n",
       "      <td>007</td>\n",
       "      <td>440</td>\n",
       "      <td>NaN</td>\n",
       "      <td>Geary</td>\n",
       "      <td>St</td>\n",
       "      <td>...</td>\n",
       "      <td>3.0</td>\n",
       "      <td>constr type 3</td>\n",
       "      <td>NaN</td>\n",
       "      <td>NaN</td>\n",
       "      <td>NaN</td>\n",
       "      <td>3.0</td>\n",
       "      <td>Tenderloin</td>\n",
       "      <td>94102.0</td>\n",
       "      <td>(37.78733980600732, -122.41063199757738)</td>\n",
       "      <td>1420164406718</td>\n",
       "    </tr>\n",
       "    <tr>\n",
       "      <th>2</th>\n",
       "      <td>201605278609</td>\n",
       "      <td>3</td>\n",
       "      <td>additions alterations or repairs</td>\n",
       "      <td>05/27/2016</td>\n",
       "      <td>0595</td>\n",
       "      <td>203</td>\n",
       "      <td>1647</td>\n",
       "      <td>NaN</td>\n",
       "      <td>Pacific</td>\n",
       "      <td>Av</td>\n",
       "      <td>...</td>\n",
       "      <td>1.0</td>\n",
       "      <td>constr type 1</td>\n",
       "      <td>1.0</td>\n",
       "      <td>constr type 1</td>\n",
       "      <td>NaN</td>\n",
       "      <td>3.0</td>\n",
       "      <td>Russian Hill</td>\n",
       "      <td>94109.0</td>\n",
       "      <td>(37.7946573324287, -122.42232562979227)</td>\n",
       "      <td>1424856504716</td>\n",
       "    </tr>\n",
       "    <tr>\n",
       "      <th>3</th>\n",
       "      <td>201611072166</td>\n",
       "      <td>8</td>\n",
       "      <td>otc alterations permit</td>\n",
       "      <td>11/07/2016</td>\n",
       "      <td>0156</td>\n",
       "      <td>011</td>\n",
       "      <td>1230</td>\n",
       "      <td>NaN</td>\n",
       "      <td>Pacific</td>\n",
       "      <td>Av</td>\n",
       "      <td>...</td>\n",
       "      <td>5.0</td>\n",
       "      <td>wood frame (5)</td>\n",
       "      <td>5.0</td>\n",
       "      <td>wood frame (5)</td>\n",
       "      <td>NaN</td>\n",
       "      <td>3.0</td>\n",
       "      <td>Nob Hill</td>\n",
       "      <td>94109.0</td>\n",
       "      <td>(37.79595867909168, -122.41557405519474)</td>\n",
       "      <td>1443574295566</td>\n",
       "    </tr>\n",
       "    <tr>\n",
       "      <th>4</th>\n",
       "      <td>201611283529</td>\n",
       "      <td>6</td>\n",
       "      <td>demolitions</td>\n",
       "      <td>11/28/2016</td>\n",
       "      <td>0342</td>\n",
       "      <td>001</td>\n",
       "      <td>950</td>\n",
       "      <td>NaN</td>\n",
       "      <td>Market</td>\n",
       "      <td>St</td>\n",
       "      <td>...</td>\n",
       "      <td>3.0</td>\n",
       "      <td>constr type 3</td>\n",
       "      <td>NaN</td>\n",
       "      <td>NaN</td>\n",
       "      <td>NaN</td>\n",
       "      <td>6.0</td>\n",
       "      <td>Tenderloin</td>\n",
       "      <td>94102.0</td>\n",
       "      <td>(37.78315261897309, -122.40950883997789)</td>\n",
       "      <td>144548169992</td>\n",
       "    </tr>\n",
       "  </tbody>\n",
       "</table>\n",
       "<p>5 rows × 43 columns</p>\n",
       "</div>"
      ],
      "text/plain": [
       "  Permit Number  Permit Type            Permit Type Definition  \\\n",
       "0  201505065519            4                      sign - erect   \n",
       "1  201604195146            4                      sign - erect   \n",
       "2  201605278609            3  additions alterations or repairs   \n",
       "3  201611072166            8            otc alterations permit   \n",
       "4  201611283529            6                       demolitions   \n",
       "\n",
       "  Permit Creation Date Block  Lot  Street Number Street Number Suffix  \\\n",
       "0           05/06/2015  0326  023            140                  NaN   \n",
       "1           04/19/2016  0306  007            440                  NaN   \n",
       "2           05/27/2016  0595  203           1647                  NaN   \n",
       "3           11/07/2016  0156  011           1230                  NaN   \n",
       "4           11/28/2016  0342  001            950                  NaN   \n",
       "\n",
       "  Street Name Street Suffix  ...  Existing Construction Type  \\\n",
       "0       Ellis            St  ...                         3.0   \n",
       "1       Geary            St  ...                         3.0   \n",
       "2     Pacific            Av  ...                         1.0   \n",
       "3     Pacific            Av  ...                         5.0   \n",
       "4      Market            St  ...                         3.0   \n",
       "\n",
       "  Existing Construction Type Description Proposed Construction Type  \\\n",
       "0                          constr type 3                        NaN   \n",
       "1                          constr type 3                        NaN   \n",
       "2                          constr type 1                        1.0   \n",
       "3                         wood frame (5)                        5.0   \n",
       "4                          constr type 3                        NaN   \n",
       "\n",
       "  Proposed Construction Type Description Site Permit Supervisor District  \\\n",
       "0                                    NaN         NaN                 3.0   \n",
       "1                                    NaN         NaN                 3.0   \n",
       "2                          constr type 1         NaN                 3.0   \n",
       "3                         wood frame (5)         NaN                 3.0   \n",
       "4                                    NaN         NaN                 6.0   \n",
       "\n",
       "  Neighborhoods - Analysis Boundaries  Zipcode  \\\n",
       "0                          Tenderloin  94102.0   \n",
       "1                          Tenderloin  94102.0   \n",
       "2                        Russian Hill  94109.0   \n",
       "3                            Nob Hill  94109.0   \n",
       "4                          Tenderloin  94102.0   \n",
       "\n",
       "                                    Location      Record ID  \n",
       "0  (37.785719256680785, -122.40852313194863)  1380611233945  \n",
       "1   (37.78733980600732, -122.41063199757738)  1420164406718  \n",
       "2    (37.7946573324287, -122.42232562979227)  1424856504716  \n",
       "3   (37.79595867909168, -122.41557405519474)  1443574295566  \n",
       "4   (37.78315261897309, -122.40950883997789)   144548169992  \n",
       "\n",
       "[5 rows x 43 columns]"
      ]
     },
     "execution_count": 3,
     "metadata": {},
     "output_type": "execute_result"
    }
   ],
   "source": [
    "# TODO: Your code here!\n",
    "sf_permits.head(5)"
   ]
  },
  {
   "cell_type": "markdown",
   "id": "03e41bd9",
   "metadata": {
    "papermill": {
     "duration": 0.008526,
     "end_time": "2022-06-30T19:41:26.343777",
     "exception": false,
     "start_time": "2022-06-30T19:41:26.335251",
     "status": "completed"
    },
    "tags": []
   },
   "source": [
    "Does the dataset have any missing values?  Once you have an answer, run the code cell below to get credit for your work."
   ]
  },
  {
   "cell_type": "code",
   "execution_count": 4,
   "id": "e265e085",
   "metadata": {
    "execution": {
     "iopub.execute_input": "2022-06-30T19:41:26.363562Z",
     "iopub.status.busy": "2022-06-30T19:41:26.362609Z",
     "iopub.status.idle": "2022-06-30T19:41:26.861906Z",
     "shell.execute_reply": "2022-06-30T19:41:26.860652Z"
    },
    "papermill": {
     "duration": 0.512463,
     "end_time": "2022-06-30T19:41:26.865133",
     "exception": false,
     "start_time": "2022-06-30T19:41:26.352670",
     "status": "completed"
    },
    "tags": []
   },
   "outputs": [
    {
     "data": {
      "text/plain": [
       "TIDF Compliance                           198898\n",
       "Voluntary Soft-Story Retrofit             198865\n",
       "Unit Suffix                               196939\n",
       "Street Number Suffix                      196684\n",
       "Site Permit                               193541\n",
       "Structural Notification                   191978\n",
       "Fire Only Permit                          180073\n",
       "Unit                                      169421\n",
       "Completed Date                            101709\n",
       "Permit Expiration Date                     51880\n",
       "Existing Units                             51538\n",
       "Proposed Units                             50911\n",
       "Existing Construction Type Description     43366\n",
       "Existing Construction Type                 43366\n",
       "Proposed Construction Type                 43162\n",
       "Proposed Construction Type Description     43162\n",
       "Number of Proposed Stories                 42868\n",
       "Number of Existing Stories                 42784\n",
       "Proposed Use                               42439\n",
       "Existing Use                               41114\n",
       "Estimated Cost                             38066\n",
       "Plansets                                   37309\n",
       "First Construction Document Date           14946\n",
       "Issued Date                                14940\n",
       "Revised Cost                                6066\n",
       "Street Suffix                               2768\n",
       "Neighborhoods - Analysis Boundaries         1725\n",
       "Supervisor District                         1717\n",
       "Zipcode                                     1716\n",
       "Location                                    1700\n",
       "Description                                  290\n",
       "Permit Number                                  0\n",
       "Permit Type                                    0\n",
       "Filed Date                                     0\n",
       "Current Status Date                            0\n",
       "Current Status                                 0\n",
       "Street Name                                    0\n",
       "Street Number                                  0\n",
       "Lot                                            0\n",
       "Block                                          0\n",
       "Permit Creation Date                           0\n",
       "Permit Type Definition                         0\n",
       "Record ID                                      0\n",
       "dtype: int64"
      ]
     },
     "execution_count": 4,
     "metadata": {},
     "output_type": "execute_result"
    }
   ],
   "source": [
    "missing_values_count = sf_permits.isnull().sum()\n",
    "missing_values_count.sort_values(ascending = False)"
   ]
  },
  {
   "cell_type": "markdown",
   "id": "0b14e3ad",
   "metadata": {
    "papermill": {
     "duration": 0.008571,
     "end_time": "2022-06-30T19:41:26.883305",
     "exception": false,
     "start_time": "2022-06-30T19:41:26.874734",
     "status": "completed"
    },
    "tags": []
   },
   "source": [
    "Yes, it seems that there are a lot of missing values."
   ]
  },
  {
   "cell_type": "code",
   "execution_count": 5,
   "id": "bdd1912d",
   "metadata": {
    "execution": {
     "iopub.execute_input": "2022-06-30T19:41:26.903374Z",
     "iopub.status.busy": "2022-06-30T19:41:26.902727Z",
     "iopub.status.idle": "2022-06-30T19:41:26.912576Z",
     "shell.execute_reply": "2022-06-30T19:41:26.911528Z"
    },
    "papermill": {
     "duration": 0.022293,
     "end_time": "2022-06-30T19:41:26.914671",
     "exception": false,
     "start_time": "2022-06-30T19:41:26.892378",
     "status": "completed"
    },
    "tags": []
   },
   "outputs": [
    {
     "data": {
      "application/javascript": [
       "parent.postMessage({\"jupyterEvent\": \"custom.exercise_interaction\", \"data\": {\"outcomeType\": 1, \"valueTowardsCompletion\": 0.16666666666666666, \"interactionType\": 1, \"questionType\": 4, \"questionId\": \"1_TakeFirstLook\", \"learnToolsVersion\": \"0.3.4\", \"failureMessage\": \"\", \"exceptionClass\": \"\", \"trace\": \"\"}}, \"*\")"
      ],
      "text/plain": [
       "<IPython.core.display.Javascript object>"
      ]
     },
     "metadata": {},
     "output_type": "display_data"
    },
    {
     "data": {
      "text/markdown": [
       "<span style=\"color:#33cc33\">Correct:</span> \n",
       "\n",
       "The first five rows of the data does show that several columns have missing values.  You can see this in the \"Street Number Suffix\", \"Proposed Construction Type\" and \"Site Permit\" columns, among others."
      ],
      "text/plain": [
       "Correct: \n",
       "\n",
       "The first five rows of the data does show that several columns have missing values.  You can see this in the \"Street Number Suffix\", \"Proposed Construction Type\" and \"Site Permit\" columns, among others."
      ]
     },
     "metadata": {},
     "output_type": "display_data"
    }
   ],
   "source": [
    "# Check your answer (Run this code cell to receive credit!)\n",
    "q1.check()"
   ]
  },
  {
   "cell_type": "code",
   "execution_count": 6,
   "id": "f856e65c",
   "metadata": {
    "execution": {
     "iopub.execute_input": "2022-06-30T19:41:26.935950Z",
     "iopub.status.busy": "2022-06-30T19:41:26.934746Z",
     "iopub.status.idle": "2022-06-30T19:41:26.939847Z",
     "shell.execute_reply": "2022-06-30T19:41:26.939027Z"
    },
    "papermill": {
     "duration": 0.017913,
     "end_time": "2022-06-30T19:41:26.942090",
     "exception": false,
     "start_time": "2022-06-30T19:41:26.924177",
     "status": "completed"
    },
    "tags": []
   },
   "outputs": [],
   "source": [
    "# Line below will give you a hint\n",
    "#q1.hint()"
   ]
  },
  {
   "cell_type": "markdown",
   "id": "7a360452",
   "metadata": {
    "papermill": {
     "duration": 0.009575,
     "end_time": "2022-06-30T19:41:26.961182",
     "exception": false,
     "start_time": "2022-06-30T19:41:26.951607",
     "status": "completed"
    },
    "tags": []
   },
   "source": [
    "# 2) How many missing data points do we have?\n",
    "\n",
    "What percentage of the values in the dataset are missing?  Your answer should be a number between 0 and 100.  (If 1/4 of the values in the dataset are missing, the answer is 25.)"
   ]
  },
  {
   "cell_type": "code",
   "execution_count": 7,
   "id": "7f1140c7",
   "metadata": {
    "execution": {
     "iopub.execute_input": "2022-06-30T19:41:26.982403Z",
     "iopub.status.busy": "2022-06-30T19:41:26.981675Z",
     "iopub.status.idle": "2022-06-30T19:41:26.989672Z",
     "shell.execute_reply": "2022-06-30T19:41:26.988936Z"
    },
    "papermill": {
     "duration": 0.020961,
     "end_time": "2022-06-30T19:41:26.991645",
     "exception": false,
     "start_time": "2022-06-30T19:41:26.970684",
     "status": "completed"
    },
    "tags": []
   },
   "outputs": [
    {
     "data": {
      "application/javascript": [
       "parent.postMessage({\"jupyterEvent\": \"custom.exercise_interaction\", \"data\": {\"outcomeType\": 1, \"valueTowardsCompletion\": 0.16666666666666666, \"interactionType\": 1, \"questionType\": 1, \"questionId\": \"2_PercentMissingValues\", \"learnToolsVersion\": \"0.3.4\", \"failureMessage\": \"\", \"exceptionClass\": \"\", \"trace\": \"\"}}, \"*\")"
      ],
      "text/plain": [
       "<IPython.core.display.Javascript object>"
      ]
     },
     "metadata": {},
     "output_type": "display_data"
    },
    {
     "data": {
      "text/markdown": [
       "<span style=\"color:#33cc33\">Correct</span>"
      ],
      "text/plain": [
       "Correct"
      ]
     },
     "metadata": {},
     "output_type": "display_data"
    }
   ],
   "source": [
    "# TODO: Your code here!\n",
    "percent_missing = missing_values_count.sum() / np.product(sf_permits.shape)*100\n",
    "\n",
    "# Check your answer\n",
    "q2.check()"
   ]
  },
  {
   "cell_type": "code",
   "execution_count": 8,
   "id": "31336178",
   "metadata": {
    "execution": {
     "iopub.execute_input": "2022-06-30T19:41:27.013777Z",
     "iopub.status.busy": "2022-06-30T19:41:27.013067Z",
     "iopub.status.idle": "2022-06-30T19:41:27.016995Z",
     "shell.execute_reply": "2022-06-30T19:41:27.016231Z"
    },
    "papermill": {
     "duration": 0.017205,
     "end_time": "2022-06-30T19:41:27.019035",
     "exception": false,
     "start_time": "2022-06-30T19:41:27.001830",
     "status": "completed"
    },
    "tags": []
   },
   "outputs": [],
   "source": [
    "# Lines below will give you a hint or solution code\n",
    "#q2.hint()\n",
    "#q2.solution()"
   ]
  },
  {
   "cell_type": "markdown",
   "id": "78660905",
   "metadata": {
    "papermill": {
     "duration": 0.0091,
     "end_time": "2022-06-30T19:41:27.037683",
     "exception": false,
     "start_time": "2022-06-30T19:41:27.028583",
     "status": "completed"
    },
    "tags": []
   },
   "source": [
    "# 3) Figure out why the data is missing\n",
    "\n",
    "Look at the columns **\"Street Number Suffix\"** and **\"Zipcode\"** from the [San Francisco Building Permits dataset](https://www.kaggle.com/aparnashastry/building-permit-applications-data). Both of these contain missing values. \n",
    "- Which, if either, are missing because they don't exist? \n",
    "- Which, if either, are missing because they weren't recorded?  \n",
    "\n",
    "Once you have an answer, run the code cell below."
   ]
  },
  {
   "cell_type": "code",
   "execution_count": 9,
   "id": "a7aba32f",
   "metadata": {
    "execution": {
     "iopub.execute_input": "2022-06-30T19:41:27.058538Z",
     "iopub.status.busy": "2022-06-30T19:41:27.057843Z",
     "iopub.status.idle": "2022-06-30T19:41:27.076378Z",
     "shell.execute_reply": "2022-06-30T19:41:27.075604Z"
    },
    "papermill": {
     "duration": 0.031405,
     "end_time": "2022-06-30T19:41:27.078445",
     "exception": false,
     "start_time": "2022-06-30T19:41:27.047040",
     "status": "completed"
    },
    "tags": []
   },
   "outputs": [
    {
     "data": {
      "text/html": [
       "<div>\n",
       "<style scoped>\n",
       "    .dataframe tbody tr th:only-of-type {\n",
       "        vertical-align: middle;\n",
       "    }\n",
       "\n",
       "    .dataframe tbody tr th {\n",
       "        vertical-align: top;\n",
       "    }\n",
       "\n",
       "    .dataframe thead th {\n",
       "        text-align: right;\n",
       "    }\n",
       "</style>\n",
       "<table border=\"1\" class=\"dataframe\">\n",
       "  <thead>\n",
       "    <tr style=\"text-align: right;\">\n",
       "      <th></th>\n",
       "      <th>Street Number Suffix</th>\n",
       "      <th>Zipcode</th>\n",
       "    </tr>\n",
       "  </thead>\n",
       "  <tbody>\n",
       "    <tr>\n",
       "      <th>0</th>\n",
       "      <td>NaN</td>\n",
       "      <td>94102.0</td>\n",
       "    </tr>\n",
       "    <tr>\n",
       "      <th>1</th>\n",
       "      <td>NaN</td>\n",
       "      <td>94102.0</td>\n",
       "    </tr>\n",
       "    <tr>\n",
       "      <th>2</th>\n",
       "      <td>NaN</td>\n",
       "      <td>94109.0</td>\n",
       "    </tr>\n",
       "    <tr>\n",
       "      <th>3</th>\n",
       "      <td>NaN</td>\n",
       "      <td>94109.0</td>\n",
       "    </tr>\n",
       "    <tr>\n",
       "      <th>4</th>\n",
       "      <td>NaN</td>\n",
       "      <td>94102.0</td>\n",
       "    </tr>\n",
       "    <tr>\n",
       "      <th>...</th>\n",
       "      <td>...</td>\n",
       "      <td>...</td>\n",
       "    </tr>\n",
       "    <tr>\n",
       "      <th>198895</th>\n",
       "      <td>NaN</td>\n",
       "      <td>NaN</td>\n",
       "    </tr>\n",
       "    <tr>\n",
       "      <th>198896</th>\n",
       "      <td>NaN</td>\n",
       "      <td>NaN</td>\n",
       "    </tr>\n",
       "    <tr>\n",
       "      <th>198897</th>\n",
       "      <td>NaN</td>\n",
       "      <td>NaN</td>\n",
       "    </tr>\n",
       "    <tr>\n",
       "      <th>198898</th>\n",
       "      <td>NaN</td>\n",
       "      <td>NaN</td>\n",
       "    </tr>\n",
       "    <tr>\n",
       "      <th>198899</th>\n",
       "      <td>NaN</td>\n",
       "      <td>NaN</td>\n",
       "    </tr>\n",
       "  </tbody>\n",
       "</table>\n",
       "<p>198900 rows × 2 columns</p>\n",
       "</div>"
      ],
      "text/plain": [
       "       Street Number Suffix  Zipcode\n",
       "0                       NaN  94102.0\n",
       "1                       NaN  94102.0\n",
       "2                       NaN  94109.0\n",
       "3                       NaN  94109.0\n",
       "4                       NaN  94102.0\n",
       "...                     ...      ...\n",
       "198895                  NaN      NaN\n",
       "198896                  NaN      NaN\n",
       "198897                  NaN      NaN\n",
       "198898                  NaN      NaN\n",
       "198899                  NaN      NaN\n",
       "\n",
       "[198900 rows x 2 columns]"
      ]
     },
     "execution_count": 9,
     "metadata": {},
     "output_type": "execute_result"
    }
   ],
   "source": [
    "sf_permits[[\"Street Number Suffix\", \"Zipcode\"]]"
   ]
  },
  {
   "cell_type": "markdown",
   "id": "adf93ecb",
   "metadata": {
    "papermill": {
     "duration": 0.00946,
     "end_time": "2022-06-30T19:41:27.097844",
     "exception": false,
     "start_time": "2022-06-30T19:41:27.088384",
     "status": "completed"
    },
    "tags": []
   },
   "source": [
    "Since not every street number has a suffix, but every single address must have a zipcode; one can assume that the suffixes are missing because they don't exist, whereas the zipcodes are missing thanks to not being recorded on the database."
   ]
  },
  {
   "cell_type": "code",
   "execution_count": 10,
   "id": "6359eb86",
   "metadata": {
    "execution": {
     "iopub.execute_input": "2022-06-30T19:41:27.119439Z",
     "iopub.status.busy": "2022-06-30T19:41:27.118755Z",
     "iopub.status.idle": "2022-06-30T19:41:27.126599Z",
     "shell.execute_reply": "2022-06-30T19:41:27.125476Z"
    },
    "papermill": {
     "duration": 0.021551,
     "end_time": "2022-06-30T19:41:27.129140",
     "exception": false,
     "start_time": "2022-06-30T19:41:27.107589",
     "status": "completed"
    },
    "tags": []
   },
   "outputs": [
    {
     "data": {
      "application/javascript": [
       "parent.postMessage({\"jupyterEvent\": \"custom.exercise_interaction\", \"data\": {\"outcomeType\": 1, \"valueTowardsCompletion\": 0.16666666666666666, \"interactionType\": 1, \"questionType\": 4, \"questionId\": \"3_WhyDataMissing\", \"learnToolsVersion\": \"0.3.4\", \"failureMessage\": \"\", \"exceptionClass\": \"\", \"trace\": \"\"}}, \"*\")"
      ],
      "text/plain": [
       "<IPython.core.display.Javascript object>"
      ]
     },
     "metadata": {},
     "output_type": "display_data"
    },
    {
     "data": {
      "text/markdown": [
       "<span style=\"color:#33cc33\">Correct:</span> \n",
       "\n",
       "If a value in the \"Street Number Suffix\" column is missing, it is likely because it does not exist. If a value in the \"Zipcode\" column is missing, it was not recorded."
      ],
      "text/plain": [
       "Correct: \n",
       "\n",
       "If a value in the \"Street Number Suffix\" column is missing, it is likely because it does not exist. If a value in the \"Zipcode\" column is missing, it was not recorded."
      ]
     },
     "metadata": {},
     "output_type": "display_data"
    }
   ],
   "source": [
    "# Check your answer (Run this code cell to receive credit!)\n",
    "q3.check()"
   ]
  },
  {
   "cell_type": "code",
   "execution_count": 11,
   "id": "4b708824",
   "metadata": {
    "execution": {
     "iopub.execute_input": "2022-06-30T19:41:27.151385Z",
     "iopub.status.busy": "2022-06-30T19:41:27.150917Z",
     "iopub.status.idle": "2022-06-30T19:41:27.155445Z",
     "shell.execute_reply": "2022-06-30T19:41:27.154245Z"
    },
    "papermill": {
     "duration": 0.018572,
     "end_time": "2022-06-30T19:41:27.157718",
     "exception": false,
     "start_time": "2022-06-30T19:41:27.139146",
     "status": "completed"
    },
    "tags": []
   },
   "outputs": [],
   "source": [
    "# Line below will give you a hint\n",
    "#q3.hint()"
   ]
  },
  {
   "cell_type": "markdown",
   "id": "7f67afdc",
   "metadata": {
    "papermill": {
     "duration": 0.009838,
     "end_time": "2022-06-30T19:41:27.177877",
     "exception": false,
     "start_time": "2022-06-30T19:41:27.168039",
     "status": "completed"
    },
    "tags": []
   },
   "source": [
    "# 4) Drop missing values: rows\n",
    "\n",
    "If you removed all of the rows of `sf_permits` with missing values, how many rows are left?\n",
    "\n",
    "**Note**: Do not change the value of `sf_permits` when checking this.  "
   ]
  },
  {
   "cell_type": "code",
   "execution_count": 12,
   "id": "eb96280f",
   "metadata": {
    "execution": {
     "iopub.execute_input": "2022-06-30T19:41:27.200334Z",
     "iopub.status.busy": "2022-06-30T19:41:27.199493Z",
     "iopub.status.idle": "2022-06-30T19:41:27.708459Z",
     "shell.execute_reply": "2022-06-30T19:41:27.707199Z"
    },
    "papermill": {
     "duration": 0.522879,
     "end_time": "2022-06-30T19:41:27.710884",
     "exception": false,
     "start_time": "2022-06-30T19:41:27.188005",
     "status": "completed"
    },
    "tags": []
   },
   "outputs": [
    {
     "data": {
      "text/html": [
       "<div>\n",
       "<style scoped>\n",
       "    .dataframe tbody tr th:only-of-type {\n",
       "        vertical-align: middle;\n",
       "    }\n",
       "\n",
       "    .dataframe tbody tr th {\n",
       "        vertical-align: top;\n",
       "    }\n",
       "\n",
       "    .dataframe thead th {\n",
       "        text-align: right;\n",
       "    }\n",
       "</style>\n",
       "<table border=\"1\" class=\"dataframe\">\n",
       "  <thead>\n",
       "    <tr style=\"text-align: right;\">\n",
       "      <th></th>\n",
       "      <th>Permit Number</th>\n",
       "      <th>Permit Type</th>\n",
       "      <th>Permit Type Definition</th>\n",
       "      <th>Permit Creation Date</th>\n",
       "      <th>Block</th>\n",
       "      <th>Lot</th>\n",
       "      <th>Street Number</th>\n",
       "      <th>Street Number Suffix</th>\n",
       "      <th>Street Name</th>\n",
       "      <th>Street Suffix</th>\n",
       "      <th>...</th>\n",
       "      <th>Existing Construction Type</th>\n",
       "      <th>Existing Construction Type Description</th>\n",
       "      <th>Proposed Construction Type</th>\n",
       "      <th>Proposed Construction Type Description</th>\n",
       "      <th>Site Permit</th>\n",
       "      <th>Supervisor District</th>\n",
       "      <th>Neighborhoods - Analysis Boundaries</th>\n",
       "      <th>Zipcode</th>\n",
       "      <th>Location</th>\n",
       "      <th>Record ID</th>\n",
       "    </tr>\n",
       "  </thead>\n",
       "  <tbody>\n",
       "  </tbody>\n",
       "</table>\n",
       "<p>0 rows × 43 columns</p>\n",
       "</div>"
      ],
      "text/plain": [
       "Empty DataFrame\n",
       "Columns: [Permit Number, Permit Type, Permit Type Definition, Permit Creation Date, Block, Lot, Street Number, Street Number Suffix, Street Name, Street Suffix, Unit, Unit Suffix, Description, Current Status, Current Status Date, Filed Date, Issued Date, Completed Date, First Construction Document Date, Structural Notification, Number of Existing Stories, Number of Proposed Stories, Voluntary Soft-Story Retrofit, Fire Only Permit, Permit Expiration Date, Estimated Cost, Revised Cost, Existing Use, Existing Units, Proposed Use, Proposed Units, Plansets, TIDF Compliance, Existing Construction Type, Existing Construction Type Description, Proposed Construction Type, Proposed Construction Type Description, Site Permit, Supervisor District, Neighborhoods - Analysis Boundaries, Zipcode, Location, Record ID]\n",
       "Index: []\n",
       "\n",
       "[0 rows x 43 columns]"
      ]
     },
     "execution_count": 12,
     "metadata": {},
     "output_type": "execute_result"
    }
   ],
   "source": [
    "# TODO: Your code here!\n",
    "sf_permits.dropna()"
   ]
  },
  {
   "cell_type": "markdown",
   "id": "2252df40",
   "metadata": {
    "papermill": {
     "duration": 0.010346,
     "end_time": "2022-06-30T19:41:27.731720",
     "exception": false,
     "start_time": "2022-06-30T19:41:27.721374",
     "status": "completed"
    },
    "tags": []
   },
   "source": [
    "No rows remain."
   ]
  },
  {
   "cell_type": "markdown",
   "id": "f196f60b",
   "metadata": {
    "papermill": {
     "duration": 0.010192,
     "end_time": "2022-06-30T19:41:27.752538",
     "exception": false,
     "start_time": "2022-06-30T19:41:27.742346",
     "status": "completed"
    },
    "tags": []
   },
   "source": [
    "Once you have an answer, run the code cell below."
   ]
  },
  {
   "cell_type": "code",
   "execution_count": 13,
   "id": "b69c03c8",
   "metadata": {
    "execution": {
     "iopub.execute_input": "2022-06-30T19:41:27.775552Z",
     "iopub.status.busy": "2022-06-30T19:41:27.774988Z",
     "iopub.status.idle": "2022-06-30T19:41:27.783884Z",
     "shell.execute_reply": "2022-06-30T19:41:27.782776Z"
    },
    "papermill": {
     "duration": 0.022974,
     "end_time": "2022-06-30T19:41:27.786040",
     "exception": false,
     "start_time": "2022-06-30T19:41:27.763066",
     "status": "completed"
    },
    "tags": []
   },
   "outputs": [
    {
     "data": {
      "application/javascript": [
       "parent.postMessage({\"jupyterEvent\": \"custom.exercise_interaction\", \"data\": {\"outcomeType\": 1, \"valueTowardsCompletion\": 0.16666666666666666, \"interactionType\": 1, \"questionType\": 4, \"questionId\": \"4_DropMissingRows\", \"learnToolsVersion\": \"0.3.4\", \"failureMessage\": \"\", \"exceptionClass\": \"\", \"trace\": \"\"}}, \"*\")"
      ],
      "text/plain": [
       "<IPython.core.display.Javascript object>"
      ]
     },
     "metadata": {},
     "output_type": "display_data"
    },
    {
     "data": {
      "text/markdown": [
       "<span style=\"color:#33cc33\">Correct:</span> \n",
       "\n",
       "There are no rows remaining in the dataset!"
      ],
      "text/plain": [
       "Correct: \n",
       "\n",
       "There are no rows remaining in the dataset!"
      ]
     },
     "metadata": {},
     "output_type": "display_data"
    }
   ],
   "source": [
    "# Check your answer (Run this code cell to receive credit!)\n",
    "q4.check()"
   ]
  },
  {
   "cell_type": "code",
   "execution_count": 14,
   "id": "6acb8378",
   "metadata": {
    "execution": {
     "iopub.execute_input": "2022-06-30T19:41:27.809313Z",
     "iopub.status.busy": "2022-06-30T19:41:27.808920Z",
     "iopub.status.idle": "2022-06-30T19:41:27.813459Z",
     "shell.execute_reply": "2022-06-30T19:41:27.812203Z"
    },
    "papermill": {
     "duration": 0.018935,
     "end_time": "2022-06-30T19:41:27.815751",
     "exception": false,
     "start_time": "2022-06-30T19:41:27.796816",
     "status": "completed"
    },
    "tags": []
   },
   "outputs": [],
   "source": [
    "# Line below will give you a hint\n",
    "#q4.hint()"
   ]
  },
  {
   "cell_type": "markdown",
   "id": "fe0ce184",
   "metadata": {
    "papermill": {
     "duration": 0.010383,
     "end_time": "2022-06-30T19:41:27.836955",
     "exception": false,
     "start_time": "2022-06-30T19:41:27.826572",
     "status": "completed"
    },
    "tags": []
   },
   "source": [
    "# 5) Drop missing values: columns\n",
    "\n",
    "Now try removing all the columns with empty values.  \n",
    "- Create a new DataFrame called `sf_permits_with_na_dropped` that has all of the columns with empty values removed.  \n",
    "- How many columns were removed from the original `sf_permits` DataFrame? Use this number to set the value of the `dropped_columns` variable below."
   ]
  },
  {
   "cell_type": "code",
   "execution_count": 15,
   "id": "f86ad2f6",
   "metadata": {
    "execution": {
     "iopub.execute_input": "2022-06-30T19:41:27.860530Z",
     "iopub.status.busy": "2022-06-30T19:41:27.860157Z",
     "iopub.status.idle": "2022-06-30T19:41:28.376999Z",
     "shell.execute_reply": "2022-06-30T19:41:28.375826Z"
    },
    "papermill": {
     "duration": 0.53188,
     "end_time": "2022-06-30T19:41:28.379767",
     "exception": false,
     "start_time": "2022-06-30T19:41:27.847887",
     "status": "completed"
    },
    "tags": []
   },
   "outputs": [
    {
     "data": {
      "application/javascript": [
       "parent.postMessage({\"jupyterEvent\": \"custom.exercise_interaction\", \"data\": {\"outcomeType\": 1, \"valueTowardsCompletion\": 0.16666666666666666, \"interactionType\": 1, \"questionType\": 1, \"questionId\": \"5_DropMissingCols\", \"learnToolsVersion\": \"0.3.4\", \"failureMessage\": \"\", \"exceptionClass\": \"\", \"trace\": \"\"}}, \"*\")"
      ],
      "text/plain": [
       "<IPython.core.display.Javascript object>"
      ]
     },
     "metadata": {},
     "output_type": "display_data"
    },
    {
     "data": {
      "text/markdown": [
       "<span style=\"color:#33cc33\">Correct</span>"
      ],
      "text/plain": [
       "Correct"
      ]
     },
     "metadata": {},
     "output_type": "display_data"
    }
   ],
   "source": [
    "# TODO: Your code here\n",
    "sf_permits_with_na_dropped = sf_permits.dropna(axis = 1)\n",
    "\n",
    "dropped_columns = sf_permits.shape[1] - sf_permits_with_na_dropped.shape[1]\n",
    "\n",
    "# Check your answer\n",
    "q5.check()"
   ]
  },
  {
   "cell_type": "code",
   "execution_count": 16,
   "id": "d30e4c02",
   "metadata": {
    "execution": {
     "iopub.execute_input": "2022-06-30T19:41:28.405145Z",
     "iopub.status.busy": "2022-06-30T19:41:28.404071Z",
     "iopub.status.idle": "2022-06-30T19:41:28.410102Z",
     "shell.execute_reply": "2022-06-30T19:41:28.409224Z"
    },
    "papermill": {
     "duration": 0.021393,
     "end_time": "2022-06-30T19:41:28.412554",
     "exception": false,
     "start_time": "2022-06-30T19:41:28.391161",
     "status": "completed"
    },
    "tags": []
   },
   "outputs": [],
   "source": [
    "# Lines below will give you a hint or solution code\n",
    "#q5.hint()\n",
    "#q5.solution()"
   ]
  },
  {
   "cell_type": "markdown",
   "id": "c0524a64",
   "metadata": {
    "papermill": {
     "duration": 0.01086,
     "end_time": "2022-06-30T19:41:28.434560",
     "exception": false,
     "start_time": "2022-06-30T19:41:28.423700",
     "status": "completed"
    },
    "tags": []
   },
   "source": [
    "# 6) Fill in missing values automatically\n",
    "\n",
    "Try replacing all the NaN's in the `sf_permits` data with the one that comes directly after it and then replacing any remaining NaN's with 0.  Set the result to a new DataFrame `sf_permits_with_na_imputed`."
   ]
  },
  {
   "cell_type": "code",
   "execution_count": 17,
   "id": "07ad2c5e",
   "metadata": {
    "execution": {
     "iopub.execute_input": "2022-06-30T19:41:28.458755Z",
     "iopub.status.busy": "2022-06-30T19:41:28.458388Z",
     "iopub.status.idle": "2022-06-30T19:41:28.465068Z",
     "shell.execute_reply": "2022-06-30T19:41:28.463768Z"
    },
    "papermill": {
     "duration": 0.022545,
     "end_time": "2022-06-30T19:41:28.468317",
     "exception": false,
     "start_time": "2022-06-30T19:41:28.445772",
     "status": "completed"
    },
    "tags": []
   },
   "outputs": [
    {
     "name": "stdout",
     "output_type": "stream",
     "text": [
      "Help on function fillna in module pandas.core.frame:\n",
      "\n",
      "fillna(self, value: 'object | ArrayLike | None' = None, method: 'FillnaOptions | None' = None, axis: 'Axis | None' = None, inplace: 'bool' = False, limit=None, downcast=None) -> 'DataFrame | None'\n",
      "    Fill NA/NaN values using the specified method.\n",
      "    \n",
      "    Parameters\n",
      "    ----------\n",
      "    value : scalar, dict, Series, or DataFrame\n",
      "        Value to use to fill holes (e.g. 0), alternately a\n",
      "        dict/Series/DataFrame of values specifying which value to use for\n",
      "        each index (for a Series) or column (for a DataFrame).  Values not\n",
      "        in the dict/Series/DataFrame will not be filled. This value cannot\n",
      "        be a list.\n",
      "    method : {'backfill', 'bfill', 'pad', 'ffill', None}, default None\n",
      "        Method to use for filling holes in reindexed Series\n",
      "        pad / ffill: propagate last valid observation forward to next valid\n",
      "        backfill / bfill: use next valid observation to fill gap.\n",
      "    axis : {0 or 'index', 1 or 'columns'}\n",
      "        Axis along which to fill missing values.\n",
      "    inplace : bool, default False\n",
      "        If True, fill in-place. Note: this will modify any\n",
      "        other views on this object (e.g., a no-copy slice for a column in a\n",
      "        DataFrame).\n",
      "    limit : int, default None\n",
      "        If method is specified, this is the maximum number of consecutive\n",
      "        NaN values to forward/backward fill. In other words, if there is\n",
      "        a gap with more than this number of consecutive NaNs, it will only\n",
      "        be partially filled. If method is not specified, this is the\n",
      "        maximum number of entries along the entire axis where NaNs will be\n",
      "        filled. Must be greater than 0 if not None.\n",
      "    downcast : dict, default is None\n",
      "        A dict of item->dtype of what to downcast if possible,\n",
      "        or the string 'infer' which will try to downcast to an appropriate\n",
      "        equal type (e.g. float64 to int64 if possible).\n",
      "    \n",
      "    Returns\n",
      "    -------\n",
      "    DataFrame or None\n",
      "        Object with missing values filled or None if ``inplace=True``.\n",
      "    \n",
      "    See Also\n",
      "    --------\n",
      "    interpolate : Fill NaN values using interpolation.\n",
      "    reindex : Conform object to new index.\n",
      "    asfreq : Convert TimeSeries to specified frequency.\n",
      "    \n",
      "    Examples\n",
      "    --------\n",
      "    >>> df = pd.DataFrame([[np.nan, 2, np.nan, 0],\n",
      "    ...                    [3, 4, np.nan, 1],\n",
      "    ...                    [np.nan, np.nan, np.nan, 5],\n",
      "    ...                    [np.nan, 3, np.nan, 4]],\n",
      "    ...                   columns=list(\"ABCD\"))\n",
      "    >>> df\n",
      "         A    B   C  D\n",
      "    0  NaN  2.0 NaN  0\n",
      "    1  3.0  4.0 NaN  1\n",
      "    2  NaN  NaN NaN  5\n",
      "    3  NaN  3.0 NaN  4\n",
      "    \n",
      "    Replace all NaN elements with 0s.\n",
      "    \n",
      "    >>> df.fillna(0)\n",
      "        A   B   C   D\n",
      "    0   0.0 2.0 0.0 0\n",
      "    1   3.0 4.0 0.0 1\n",
      "    2   0.0 0.0 0.0 5\n",
      "    3   0.0 3.0 0.0 4\n",
      "    \n",
      "    We can also propagate non-null values forward or backward.\n",
      "    \n",
      "    >>> df.fillna(method=\"ffill\")\n",
      "        A   B   C   D\n",
      "    0   NaN 2.0 NaN 0\n",
      "    1   3.0 4.0 NaN 1\n",
      "    2   3.0 4.0 NaN 5\n",
      "    3   3.0 3.0 NaN 4\n",
      "    \n",
      "    Replace all NaN elements in column 'A', 'B', 'C', and 'D', with 0, 1,\n",
      "    2, and 3 respectively.\n",
      "    \n",
      "    >>> values = {\"A\": 0, \"B\": 1, \"C\": 2, \"D\": 3}\n",
      "    >>> df.fillna(value=values)\n",
      "        A   B   C   D\n",
      "    0   0.0 2.0 2.0 0\n",
      "    1   3.0 4.0 2.0 1\n",
      "    2   0.0 1.0 2.0 5\n",
      "    3   0.0 3.0 2.0 4\n",
      "    \n",
      "    Only replace the first NaN element.\n",
      "    \n",
      "    >>> df.fillna(value=values, limit=1)\n",
      "        A   B   C   D\n",
      "    0   0.0 2.0 2.0 0\n",
      "    1   3.0 4.0 NaN 1\n",
      "    2   NaN 1.0 NaN 5\n",
      "    3   NaN 3.0 NaN 4\n",
      "    \n",
      "    When filling using a DataFrame, replacement happens along\n",
      "    the same column names and same indices\n",
      "    \n",
      "    >>> df2 = pd.DataFrame(np.zeros((4, 4)), columns=list(\"ABCE\"))\n",
      "    >>> df.fillna(df2)\n",
      "        A   B   C   D\n",
      "    0   0.0 2.0 0.0 0\n",
      "    1   3.0 4.0 0.0 1\n",
      "    2   0.0 0.0 0.0 5\n",
      "    3   0.0 3.0 0.0 4\n",
      "\n"
     ]
    }
   ],
   "source": [
    "help(pd.DataFrame.fillna)"
   ]
  },
  {
   "cell_type": "code",
   "execution_count": 18,
   "id": "f6057d01",
   "metadata": {
    "execution": {
     "iopub.execute_input": "2022-06-30T19:41:28.493282Z",
     "iopub.status.busy": "2022-06-30T19:41:28.492861Z",
     "iopub.status.idle": "2022-06-30T19:41:29.096040Z",
     "shell.execute_reply": "2022-06-30T19:41:29.094802Z"
    },
    "papermill": {
     "duration": 0.618175,
     "end_time": "2022-06-30T19:41:29.098418",
     "exception": false,
     "start_time": "2022-06-30T19:41:28.480243",
     "status": "completed"
    },
    "tags": []
   },
   "outputs": [
    {
     "data": {
      "application/javascript": [
       "parent.postMessage({\"jupyterEvent\": \"custom.exercise_interaction\", \"data\": {\"outcomeType\": 1, \"valueTowardsCompletion\": 0.16666666666666666, \"interactionType\": 1, \"questionType\": 1, \"questionId\": \"6_ImputeAutomatically\", \"learnToolsVersion\": \"0.3.4\", \"failureMessage\": \"\", \"exceptionClass\": \"\", \"trace\": \"\"}}, \"*\")"
      ],
      "text/plain": [
       "<IPython.core.display.Javascript object>"
      ]
     },
     "metadata": {},
     "output_type": "display_data"
    },
    {
     "data": {
      "text/markdown": [
       "<span style=\"color:#33cc33\">Correct</span>"
      ],
      "text/plain": [
       "Correct"
      ]
     },
     "metadata": {},
     "output_type": "display_data"
    }
   ],
   "source": [
    "# TODO: Your code here\n",
    "sf_permits_with_na_imputed = sf_permits.fillna(method = \"bfill\")\n",
    "\n",
    "# Check your answer\n",
    "q6.check()"
   ]
  },
  {
   "cell_type": "code",
   "execution_count": 19,
   "id": "af70ebc5",
   "metadata": {
    "execution": {
     "iopub.execute_input": "2022-06-30T19:41:29.123354Z",
     "iopub.status.busy": "2022-06-30T19:41:29.122951Z",
     "iopub.status.idle": "2022-06-30T19:41:29.127688Z",
     "shell.execute_reply": "2022-06-30T19:41:29.126582Z"
    },
    "papermill": {
     "duration": 0.020099,
     "end_time": "2022-06-30T19:41:29.130113",
     "exception": false,
     "start_time": "2022-06-30T19:41:29.110014",
     "status": "completed"
    },
    "tags": []
   },
   "outputs": [],
   "source": [
    "# Lines below will give you a hint or solution code\n",
    "#q6.hint()\n",
    "#q6.solution()"
   ]
  },
  {
   "cell_type": "markdown",
   "id": "731184b9",
   "metadata": {
    "papermill": {
     "duration": 0.012164,
     "end_time": "2022-06-30T19:41:29.154390",
     "exception": false,
     "start_time": "2022-06-30T19:41:29.142226",
     "status": "completed"
    },
    "tags": []
   },
   "source": [
    "# More practice\n",
    "\n",
    "If you're looking for more practice handling missing values:\n",
    "\n",
    "* Check out [this noteboook](https://www.kaggle.com/alexisbcook/missing-values) on handling missing values using scikit-learn's imputer. \n",
    "* Look back at the \"Zipcode\" column in the `sf_permits` dataset, which has some missing values. How would you go about figuring out what the actual zipcode of each address should be? (You might try using another dataset. You can search for datasets about San Fransisco on the [Datasets listing](https://www.kaggle.com/datasets).) \n",
    "\n",
    "# Keep going\n",
    "\n",
    "In the next lesson, learn how to [**apply scaling and normalization**](https://www.kaggle.com/alexisbcook/scaling-and-normalization) to transform your data."
   ]
  },
  {
   "cell_type": "markdown",
   "id": "c3ea6100",
   "metadata": {
    "papermill": {
     "duration": 0.014058,
     "end_time": "2022-06-30T19:41:29.181004",
     "exception": false,
     "start_time": "2022-06-30T19:41:29.166946",
     "status": "completed"
    },
    "tags": []
   },
   "source": [
    "---\n",
    "\n",
    "\n",
    "\n",
    "\n",
    "*Have questions or comments? Visit the [course discussion forum](https://www.kaggle.com/learn/data-cleaning/discussion) to chat with other learners.*"
   ]
  }
 ],
 "metadata": {
  "kernelspec": {
   "display_name": "Python 3",
   "language": "python",
   "name": "python3"
  },
  "language_info": {
   "codemirror_mode": {
    "name": "ipython",
    "version": 3
   },
   "file_extension": ".py",
   "mimetype": "text/x-python",
   "name": "python",
   "nbconvert_exporter": "python",
   "pygments_lexer": "ipython3",
   "version": "3.7.12"
  },
  "papermill": {
   "default_parameters": {},
   "duration": 20.728239,
   "end_time": "2022-06-30T19:41:30.017280",
   "environment_variables": {},
   "exception": null,
   "input_path": "__notebook__.ipynb",
   "output_path": "__notebook__.ipynb",
   "parameters": {},
   "start_time": "2022-06-30T19:41:09.289041",
   "version": "2.3.4"
  }
 },
 "nbformat": 4,
 "nbformat_minor": 5
}
