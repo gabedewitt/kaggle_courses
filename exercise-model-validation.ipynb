{
 "cells": [
  {
   "cell_type": "markdown",
   "id": "f55f57b9",
   "metadata": {
    "papermill": {
     "duration": 0.006648,
     "end_time": "2022-07-05T18:27:14.878052",
     "exception": false,
     "start_time": "2022-07-05T18:27:14.871404",
     "status": "completed"
    },
    "tags": []
   },
   "source": [
    "**This notebook is an exercise in the [Introduction to Machine Learning](https://www.kaggle.com/learn/intro-to-machine-learning) course.  You can reference the tutorial at [this link](https://www.kaggle.com/dansbecker/model-validation).**\n",
    "\n",
    "---\n"
   ]
  },
  {
   "cell_type": "markdown",
   "id": "9788c007",
   "metadata": {
    "papermill": {
     "duration": 0.005395,
     "end_time": "2022-07-05T18:27:14.889408",
     "exception": false,
     "start_time": "2022-07-05T18:27:14.884013",
     "status": "completed"
    },
    "tags": []
   },
   "source": [
    "## Recap\n",
    "You've built a model. In this exercise you will test how good your model is.\n",
    "\n",
    "Run the cell below to set up your coding environment where the previous exercise left off."
   ]
  },
  {
   "cell_type": "code",
   "execution_count": 1,
   "id": "5c98d3ff",
   "metadata": {
    "execution": {
     "iopub.execute_input": "2022-07-05T18:27:14.903072Z",
     "iopub.status.busy": "2022-07-05T18:27:14.902554Z",
     "iopub.status.idle": "2022-07-05T18:27:16.509683Z",
     "shell.execute_reply": "2022-07-05T18:27:16.508487Z"
    },
    "papermill": {
     "duration": 1.617641,
     "end_time": "2022-07-05T18:27:16.512749",
     "exception": false,
     "start_time": "2022-07-05T18:27:14.895108",
     "status": "completed"
    },
    "tags": []
   },
   "outputs": [
    {
     "name": "stdout",
     "output_type": "stream",
     "text": [
      "First in-sample predictions: [208500. 181500. 223500. 140000. 250000.]\n",
      "Actual target values for those homes: [208500, 181500, 223500, 140000, 250000]\n",
      "Setup Complete\n"
     ]
    }
   ],
   "source": [
    "# Code you have previously used to load data\n",
    "import pandas as pd\n",
    "from sklearn.tree import DecisionTreeRegressor\n",
    "\n",
    "# Path of the file to read\n",
    "iowa_file_path = '../input/home-data-for-ml-course/train.csv'\n",
    "\n",
    "home_data = pd.read_csv(iowa_file_path)\n",
    "y = home_data.SalePrice\n",
    "feature_columns = ['LotArea', 'YearBuilt', '1stFlrSF', '2ndFlrSF', 'FullBath', 'BedroomAbvGr', 'TotRmsAbvGrd']\n",
    "X = home_data[feature_columns]\n",
    "\n",
    "# Specify Model\n",
    "iowa_model = DecisionTreeRegressor()\n",
    "# Fit Model\n",
    "iowa_model.fit(X, y)\n",
    "\n",
    "print(\"First in-sample predictions:\", iowa_model.predict(X.head()))\n",
    "print(\"Actual target values for those homes:\", y.head().tolist())\n",
    "\n",
    "# Set up code checking\n",
    "from learntools.core import binder\n",
    "binder.bind(globals())\n",
    "from learntools.machine_learning.ex4 import *\n",
    "print(\"Setup Complete\")"
   ]
  },
  {
   "cell_type": "markdown",
   "id": "d9c70760",
   "metadata": {
    "papermill": {
     "duration": 0.005647,
     "end_time": "2022-07-05T18:27:16.524737",
     "exception": false,
     "start_time": "2022-07-05T18:27:16.519090",
     "status": "completed"
    },
    "tags": []
   },
   "source": [
    "# Exercises\n",
    "\n",
    "## Step 1: Split Your Data\n",
    "Use the `train_test_split` function to split up your data.\n",
    "\n",
    "Give it the argument `random_state=1` so the `check` functions know what to expect when verifying your code.\n",
    "\n",
    "Recall, your features are loaded in the DataFrame **X** and your target is loaded in **y**.\n"
   ]
  },
  {
   "cell_type": "code",
   "execution_count": 2,
   "id": "c7a6c4a4",
   "metadata": {
    "execution": {
     "iopub.execute_input": "2022-07-05T18:27:16.540088Z",
     "iopub.status.busy": "2022-07-05T18:27:16.539359Z",
     "iopub.status.idle": "2022-07-05T18:27:16.557681Z",
     "shell.execute_reply": "2022-07-05T18:27:16.556830Z"
    },
    "papermill": {
     "duration": 0.02928,
     "end_time": "2022-07-05T18:27:16.559956",
     "exception": false,
     "start_time": "2022-07-05T18:27:16.530676",
     "status": "completed"
    },
    "tags": []
   },
   "outputs": [
    {
     "data": {
      "application/javascript": [
       "parent.postMessage({\"jupyterEvent\": \"custom.exercise_interaction\", \"data\": {\"outcomeType\": 1, \"valueTowardsCompletion\": 0.25, \"interactionType\": 1, \"questionType\": 2, \"questionId\": \"1_SplitData\", \"learnToolsVersion\": \"0.3.4\", \"failureMessage\": \"\", \"exceptionClass\": \"\", \"trace\": \"\"}}, \"*\")"
      ],
      "text/plain": [
       "<IPython.core.display.Javascript object>"
      ]
     },
     "metadata": {},
     "output_type": "display_data"
    },
    {
     "data": {
      "text/markdown": [
       "<span style=\"color:#33cc33\">Correct</span>"
      ],
      "text/plain": [
       "Correct"
      ]
     },
     "metadata": {},
     "output_type": "display_data"
    }
   ],
   "source": [
    "# Import the train_test_split function and uncomment\n",
    "from sklearn.model_selection import train_test_split\n",
    "\n",
    "# fill in and uncomment\n",
    "train_X, val_X, train_y, val_y = train_test_split(X,y, random_state = 1)\n",
    "\n",
    "# Check your answer\n",
    "step_1.check()"
   ]
  },
  {
   "cell_type": "code",
   "execution_count": 3,
   "id": "965b0394",
   "metadata": {
    "execution": {
     "iopub.execute_input": "2022-07-05T18:27:16.575898Z",
     "iopub.status.busy": "2022-07-05T18:27:16.575057Z",
     "iopub.status.idle": "2022-07-05T18:27:16.579487Z",
     "shell.execute_reply": "2022-07-05T18:27:16.578615Z"
    },
    "papermill": {
     "duration": 0.015263,
     "end_time": "2022-07-05T18:27:16.581831",
     "exception": false,
     "start_time": "2022-07-05T18:27:16.566568",
     "status": "completed"
    },
    "tags": []
   },
   "outputs": [],
   "source": [
    "# The lines below will show you a hint or the solution.\n",
    "# step_1.hint() \n",
    "# step_1.solution()\n"
   ]
  },
  {
   "cell_type": "markdown",
   "id": "951449d5",
   "metadata": {
    "papermill": {
     "duration": 0.004787,
     "end_time": "2022-07-05T18:27:16.591092",
     "exception": false,
     "start_time": "2022-07-05T18:27:16.586305",
     "status": "completed"
    },
    "tags": []
   },
   "source": [
    "## Step 2: Specify and Fit the Model\n",
    "\n",
    "Create a `DecisionTreeRegressor` model and fit it to the relevant data.\n",
    "Set `random_state` to 1 again when creating the model."
   ]
  },
  {
   "cell_type": "code",
   "execution_count": 4,
   "id": "4b84a65d",
   "metadata": {
    "execution": {
     "iopub.execute_input": "2022-07-05T18:27:16.601631Z",
     "iopub.status.busy": "2022-07-05T18:27:16.600912Z",
     "iopub.status.idle": "2022-07-05T18:27:16.632841Z",
     "shell.execute_reply": "2022-07-05T18:27:16.631312Z"
    },
    "papermill": {
     "duration": 0.041022,
     "end_time": "2022-07-05T18:27:16.636300",
     "exception": false,
     "start_time": "2022-07-05T18:27:16.595278",
     "status": "completed"
    },
    "tags": []
   },
   "outputs": [
    {
     "name": "stdout",
     "output_type": "stream",
     "text": [
      "[186500. 184000. 130000.  92000. 164500. 220000. 335000. 144152. 215000.\n",
      " 262000.]\n",
      "[186500. 184000. 130000.  92000. 164500. 220000. 335000. 144152. 215000.\n",
      " 262000.]\n"
     ]
    },
    {
     "data": {
      "application/javascript": [
       "parent.postMessage({\"jupyterEvent\": \"custom.exercise_interaction\", \"data\": {\"outcomeType\": 1, \"valueTowardsCompletion\": 0.25, \"interactionType\": 1, \"questionType\": 2, \"questionId\": \"2_FitModelWithTrain\", \"learnToolsVersion\": \"0.3.4\", \"failureMessage\": \"\", \"exceptionClass\": \"\", \"trace\": \"\"}}, \"*\")"
      ],
      "text/plain": [
       "<IPython.core.display.Javascript object>"
      ]
     },
     "metadata": {},
     "output_type": "display_data"
    },
    {
     "data": {
      "text/markdown": [
       "<span style=\"color:#33cc33\">Correct</span>"
      ],
      "text/plain": [
       "Correct"
      ]
     },
     "metadata": {},
     "output_type": "display_data"
    }
   ],
   "source": [
    "# You imported DecisionTreeRegressor in your last exercise\n",
    "# and that code has been copied to the setup code above. So, no need to\n",
    "# import it again\n",
    "\n",
    "# Specify the model\n",
    "iowa_model = DecisionTreeRegressor(random_state = 1)\n",
    "\n",
    "# Fit iowa_model with the training data.\n",
    "iowa_model.fit(train_X, train_y)\n",
    "\n",
    "# Check your answer\n",
    "step_2.check()"
   ]
  },
  {
   "cell_type": "code",
   "execution_count": 5,
   "id": "2b84e270",
   "metadata": {
    "execution": {
     "iopub.execute_input": "2022-07-05T18:27:16.653593Z",
     "iopub.status.busy": "2022-07-05T18:27:16.653126Z",
     "iopub.status.idle": "2022-07-05T18:27:16.658337Z",
     "shell.execute_reply": "2022-07-05T18:27:16.657063Z"
    },
    "papermill": {
     "duration": 0.017323,
     "end_time": "2022-07-05T18:27:16.661072",
     "exception": false,
     "start_time": "2022-07-05T18:27:16.643749",
     "status": "completed"
    },
    "tags": []
   },
   "outputs": [],
   "source": [
    "# step_2.hint()\n",
    "# step_2.solution()"
   ]
  },
  {
   "cell_type": "markdown",
   "id": "67770153",
   "metadata": {
    "papermill": {
     "duration": 0.006669,
     "end_time": "2022-07-05T18:27:16.674946",
     "exception": false,
     "start_time": "2022-07-05T18:27:16.668277",
     "status": "completed"
    },
    "tags": []
   },
   "source": [
    "## Step 3: Make Predictions with Validation data\n"
   ]
  },
  {
   "cell_type": "code",
   "execution_count": 6,
   "id": "008244ea",
   "metadata": {
    "execution": {
     "iopub.execute_input": "2022-07-05T18:27:16.690886Z",
     "iopub.status.busy": "2022-07-05T18:27:16.690426Z",
     "iopub.status.idle": "2022-07-05T18:27:16.701699Z",
     "shell.execute_reply": "2022-07-05T18:27:16.700930Z"
    },
    "papermill": {
     "duration": 0.022221,
     "end_time": "2022-07-05T18:27:16.704034",
     "exception": false,
     "start_time": "2022-07-05T18:27:16.681813",
     "status": "completed"
    },
    "tags": []
   },
   "outputs": [
    {
     "data": {
      "application/javascript": [
       "parent.postMessage({\"jupyterEvent\": \"custom.exercise_interaction\", \"data\": {\"outcomeType\": 1, \"valueTowardsCompletion\": 0.25, \"interactionType\": 1, \"questionType\": 2, \"questionId\": \"3_ValPreds\", \"learnToolsVersion\": \"0.3.4\", \"failureMessage\": \"\", \"exceptionClass\": \"\", \"trace\": \"\"}}, \"*\")"
      ],
      "text/plain": [
       "<IPython.core.display.Javascript object>"
      ]
     },
     "metadata": {},
     "output_type": "display_data"
    },
    {
     "data": {
      "text/markdown": [
       "<span style=\"color:#33cc33\">Correct</span>"
      ],
      "text/plain": [
       "Correct"
      ]
     },
     "metadata": {},
     "output_type": "display_data"
    }
   ],
   "source": [
    "# Predict with all validation observations\n",
    "val_predictions = iowa_model.predict(val_X)\n",
    "\n",
    "# Check your answer\n",
    "step_3.check()"
   ]
  },
  {
   "cell_type": "code",
   "execution_count": 7,
   "id": "01407274",
   "metadata": {
    "execution": {
     "iopub.execute_input": "2022-07-05T18:27:16.720446Z",
     "iopub.status.busy": "2022-07-05T18:27:16.720009Z",
     "iopub.status.idle": "2022-07-05T18:27:16.724148Z",
     "shell.execute_reply": "2022-07-05T18:27:16.723276Z"
    },
    "papermill": {
     "duration": 0.015065,
     "end_time": "2022-07-05T18:27:16.726312",
     "exception": false,
     "start_time": "2022-07-05T18:27:16.711247",
     "status": "completed"
    },
    "tags": []
   },
   "outputs": [],
   "source": [
    "# step_3.hint()\n",
    "# step_3.solution()"
   ]
  },
  {
   "cell_type": "markdown",
   "id": "5d7e3246",
   "metadata": {
    "papermill": {
     "duration": 0.007783,
     "end_time": "2022-07-05T18:27:16.742353",
     "exception": false,
     "start_time": "2022-07-05T18:27:16.734570",
     "status": "completed"
    },
    "tags": []
   },
   "source": [
    "Inspect your predictions and actual values from validation data."
   ]
  },
  {
   "cell_type": "code",
   "execution_count": 8,
   "id": "8b6e5663",
   "metadata": {
    "execution": {
     "iopub.execute_input": "2022-07-05T18:27:16.760257Z",
     "iopub.status.busy": "2022-07-05T18:27:16.759755Z",
     "iopub.status.idle": "2022-07-05T18:27:16.768491Z",
     "shell.execute_reply": "2022-07-05T18:27:16.767308Z"
    },
    "papermill": {
     "duration": 0.021242,
     "end_time": "2022-07-05T18:27:16.771433",
     "exception": false,
     "start_time": "2022-07-05T18:27:16.750191",
     "status": "completed"
    },
    "tags": []
   },
   "outputs": [
    {
     "name": "stdout",
     "output_type": "stream",
     "text": [
      "First in-sample predictions: [186500. 184000. 130000.  92000. 164500.]\n",
      "Actual target values for those homes: [231500, 179500, 122000, 84500, 142000]\n"
     ]
    }
   ],
   "source": [
    "# print the top few validation predictions\n",
    "print(\"First in-sample predictions:\", iowa_model.predict(val_X.head()))\n",
    "# print the top few actual prices from validation data\n",
    "print(\"Actual target values for those homes:\",val_y.head().to_list())"
   ]
  },
  {
   "cell_type": "markdown",
   "id": "719a9704",
   "metadata": {
    "papermill": {
     "duration": 0.007276,
     "end_time": "2022-07-05T18:27:16.786486",
     "exception": false,
     "start_time": "2022-07-05T18:27:16.779210",
     "status": "completed"
    },
    "tags": []
   },
   "source": [
    "What do you notice that is different from what you saw with in-sample predictions (which are printed after the top code cell in this page).\n",
    "\n",
    "Do you remember why validation predictions differ from in-sample (or training) predictions? This is an important idea from the last lesson.\n",
    "\n",
    "## Step 4: Calculate the Mean Absolute Error in Validation Data\n"
   ]
  },
  {
   "cell_type": "code",
   "execution_count": 9,
   "id": "9d1901c7",
   "metadata": {
    "execution": {
     "iopub.execute_input": "2022-07-05T18:27:16.803695Z",
     "iopub.status.busy": "2022-07-05T18:27:16.803322Z",
     "iopub.status.idle": "2022-07-05T18:27:16.814177Z",
     "shell.execute_reply": "2022-07-05T18:27:16.813019Z"
    },
    "papermill": {
     "duration": 0.023144,
     "end_time": "2022-07-05T18:27:16.817694",
     "exception": false,
     "start_time": "2022-07-05T18:27:16.794550",
     "status": "completed"
    },
    "tags": []
   },
   "outputs": [
    {
     "name": "stdout",
     "output_type": "stream",
     "text": [
      "29652.931506849316\n"
     ]
    },
    {
     "data": {
      "application/javascript": [
       "parent.postMessage({\"jupyterEvent\": \"custom.exercise_interaction\", \"data\": {\"outcomeType\": 1, \"valueTowardsCompletion\": 0.25, \"interactionType\": 1, \"questionType\": 1, \"questionId\": \"4_MAE\", \"learnToolsVersion\": \"0.3.4\", \"failureMessage\": \"\", \"exceptionClass\": \"\", \"trace\": \"\"}}, \"*\")"
      ],
      "text/plain": [
       "<IPython.core.display.Javascript object>"
      ]
     },
     "metadata": {},
     "output_type": "display_data"
    },
    {
     "data": {
      "text/markdown": [
       "<span style=\"color:#33cc33\">Correct</span>"
      ],
      "text/plain": [
       "Correct"
      ]
     },
     "metadata": {},
     "output_type": "display_data"
    }
   ],
   "source": [
    "from sklearn.metrics import mean_absolute_error\n",
    "val_mae = mean_absolute_error(val_y, val_predictions)\n",
    "\n",
    "# uncomment following line to see the validation_mae\n",
    "print(val_mae)\n",
    "\n",
    "# Check your answer\n",
    "step_4.check()"
   ]
  },
  {
   "cell_type": "code",
   "execution_count": 10,
   "id": "98236e0a",
   "metadata": {
    "execution": {
     "iopub.execute_input": "2022-07-05T18:27:16.836249Z",
     "iopub.status.busy": "2022-07-05T18:27:16.835872Z",
     "iopub.status.idle": "2022-07-05T18:27:16.841616Z",
     "shell.execute_reply": "2022-07-05T18:27:16.840001Z"
    },
    "papermill": {
     "duration": 0.018244,
     "end_time": "2022-07-05T18:27:16.844689",
     "exception": false,
     "start_time": "2022-07-05T18:27:16.826445",
     "status": "completed"
    },
    "tags": []
   },
   "outputs": [],
   "source": [
    "# step_4.hint()\n",
    "# step_4.solution()"
   ]
  },
  {
   "cell_type": "markdown",
   "id": "6bb323e5",
   "metadata": {
    "papermill": {
     "duration": 0.007483,
     "end_time": "2022-07-05T18:27:16.860334",
     "exception": false,
     "start_time": "2022-07-05T18:27:16.852851",
     "status": "completed"
    },
    "tags": []
   },
   "source": [
    "Is that MAE good?  There isn't a general rule for what values are good that applies across applications. But you'll see how to use (and improve) this number in the next step.\n",
    "\n",
    "# Keep Going\n",
    "\n",
    "You are ready for **[Underfitting and Overfitting](https://www.kaggle.com/dansbecker/underfitting-and-overfitting).**\n"
   ]
  },
  {
   "cell_type": "markdown",
   "id": "78c6a91d",
   "metadata": {
    "papermill": {
     "duration": 0.007618,
     "end_time": "2022-07-05T18:27:16.876008",
     "exception": false,
     "start_time": "2022-07-05T18:27:16.868390",
     "status": "completed"
    },
    "tags": []
   },
   "source": [
    "---\n",
    "\n",
    "\n",
    "\n",
    "\n",
    "*Have questions or comments? Visit the [course discussion forum](https://www.kaggle.com/learn/intro-to-machine-learning/discussion) to chat with other learners.*"
   ]
  }
 ],
 "metadata": {
  "kernelspec": {
   "display_name": "Python 3",
   "language": "python",
   "name": "python3"
  },
  "language_info": {
   "codemirror_mode": {
    "name": "ipython",
    "version": 3
   },
   "file_extension": ".py",
   "mimetype": "text/x-python",
   "name": "python",
   "nbconvert_exporter": "python",
   "pygments_lexer": "ipython3",
   "version": "3.7.12"
  },
  "papermill": {
   "default_parameters": {},
   "duration": 16.082201,
   "end_time": "2022-07-05T18:27:18.008187",
   "environment_variables": {},
   "exception": null,
   "input_path": "__notebook__.ipynb",
   "output_path": "__notebook__.ipynb",
   "parameters": {},
   "start_time": "2022-07-05T18:27:01.925986",
   "version": "2.3.4"
  }
 },
 "nbformat": 4,
 "nbformat_minor": 5
}
