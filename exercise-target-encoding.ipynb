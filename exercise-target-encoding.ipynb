{
 "cells": [
  {
   "cell_type": "markdown",
   "id": "a8359d2b",
   "metadata": {
    "papermill": {
     "duration": 0.008555,
     "end_time": "2022-06-29T20:27:18.253844",
     "exception": false,
     "start_time": "2022-06-29T20:27:18.245289",
     "status": "completed"
    },
    "tags": []
   },
   "source": [
    "**This notebook is an exercise in the [Feature Engineering](https://www.kaggle.com/learn/feature-engineering) course.  You can reference the tutorial at [this link](https://www.kaggle.com/ryanholbrook/target-encoding).**\n",
    "\n",
    "---\n"
   ]
  },
  {
   "cell_type": "markdown",
   "id": "1290f240",
   "metadata": {
    "papermill": {
     "duration": 0.00701,
     "end_time": "2022-06-29T20:27:18.268340",
     "exception": false,
     "start_time": "2022-06-29T20:27:18.261330",
     "status": "completed"
    },
    "tags": []
   },
   "source": [
    "# Introduction #\n",
    "\n",
    "In this exercise, you'll apply target encoding to features in the [*Ames*](https://www.kaggle.com/c/house-prices-advanced-regression-techniques/data) dataset.\n",
    "\n",
    "Run this cell to set everything up!"
   ]
  },
  {
   "cell_type": "code",
   "execution_count": 1,
   "id": "7ac43886",
   "metadata": {
    "execution": {
     "iopub.execute_input": "2022-06-29T20:27:18.285629Z",
     "iopub.status.busy": "2022-06-29T20:27:18.284828Z",
     "iopub.status.idle": "2022-06-29T20:27:20.165560Z",
     "shell.execute_reply": "2022-06-29T20:27:20.164177Z"
    },
    "papermill": {
     "duration": 1.893307,
     "end_time": "2022-06-29T20:27:20.168903",
     "exception": false,
     "start_time": "2022-06-29T20:27:18.275596",
     "status": "completed"
    },
    "tags": []
   },
   "outputs": [],
   "source": [
    "# Setup feedback system\n",
    "from learntools.core import binder\n",
    "binder.bind(globals())\n",
    "from learntools.feature_engineering_new.ex6 import *\n",
    "\n",
    "import matplotlib.pyplot as plt\n",
    "import numpy as np\n",
    "import pandas as pd\n",
    "import seaborn as sns\n",
    "import warnings\n",
    "from category_encoders import MEstimateEncoder\n",
    "from sklearn.model_selection import cross_val_score\n",
    "from xgboost import XGBRegressor\n",
    "\n",
    "# Set Matplotlib defaults\n",
    "plt.style.use(\"seaborn-whitegrid\")\n",
    "plt.rc(\"figure\", autolayout=True)\n",
    "plt.rc(\n",
    "    \"axes\",\n",
    "    labelweight=\"bold\",\n",
    "    labelsize=\"large\",\n",
    "    titleweight=\"bold\",\n",
    "    titlesize=14,\n",
    "    titlepad=10,\n",
    ")\n",
    "warnings.filterwarnings('ignore')\n",
    "\n",
    "\n",
    "def score_dataset(X, y, model=XGBRegressor()):\n",
    "    # Label encoding for categoricals\n",
    "    for colname in X.select_dtypes([\"category\", \"object\"]):\n",
    "        X[colname], _ = X[colname].factorize()\n",
    "    # Metric for Housing competition is RMSLE (Root Mean Squared Log Error)\n",
    "    score = cross_val_score(\n",
    "        model, X, y, cv=5, scoring=\"neg_mean_squared_log_error\",\n",
    "    )\n",
    "    score = -1 * score.mean()\n",
    "    score = np.sqrt(score)\n",
    "    return score\n",
    "\n",
    "\n",
    "df = pd.read_csv(\"../input/fe-course-data/ames.csv\")"
   ]
  },
  {
   "cell_type": "markdown",
   "id": "3fc198b4",
   "metadata": {
    "papermill": {
     "duration": 0.007887,
     "end_time": "2022-06-29T20:27:20.184549",
     "exception": false,
     "start_time": "2022-06-29T20:27:20.176662",
     "status": "completed"
    },
    "tags": []
   },
   "source": [
    "-------------------------------------------------------------------------------\n",
    "\n",
    "First you'll need to choose which features you want to apply a target encoding to. Categorical features with a large number of categories are often good candidates. Run this cell to see how many categories each categorical feature in the *Ames* dataset has."
   ]
  },
  {
   "cell_type": "code",
   "execution_count": 2,
   "id": "b1fdbf1f",
   "metadata": {
    "execution": {
     "iopub.execute_input": "2022-06-29T20:27:20.201779Z",
     "iopub.status.busy": "2022-06-29T20:27:20.201353Z",
     "iopub.status.idle": "2022-06-29T20:27:20.239793Z",
     "shell.execute_reply": "2022-06-29T20:27:20.238659Z"
    },
    "papermill": {
     "duration": 0.050634,
     "end_time": "2022-06-29T20:27:20.242811",
     "exception": false,
     "start_time": "2022-06-29T20:27:20.192177",
     "status": "completed"
    },
    "tags": []
   },
   "outputs": [
    {
     "data": {
      "text/plain": [
       "MSSubClass       16\n",
       "MSZoning          7\n",
       "Street            2\n",
       "Alley             3\n",
       "LotShape          4\n",
       "LandContour       4\n",
       "Utilities         3\n",
       "LotConfig         5\n",
       "LandSlope         3\n",
       "Neighborhood     28\n",
       "Condition1        9\n",
       "Condition2        8\n",
       "BldgType          5\n",
       "HouseStyle        8\n",
       "OverallQual      10\n",
       "OverallCond       9\n",
       "RoofStyle         6\n",
       "RoofMatl          8\n",
       "Exterior1st      16\n",
       "Exterior2nd      17\n",
       "MasVnrType        5\n",
       "ExterQual         4\n",
       "ExterCond         5\n",
       "Foundation        6\n",
       "BsmtQual          6\n",
       "BsmtCond          6\n",
       "BsmtExposure      5\n",
       "BsmtFinType1      7\n",
       "BsmtFinType2      7\n",
       "Heating           6\n",
       "HeatingQC         5\n",
       "CentralAir        2\n",
       "Electrical        6\n",
       "KitchenQual       5\n",
       "Functional        8\n",
       "FireplaceQu       6\n",
       "GarageType        7\n",
       "GarageFinish      4\n",
       "GarageQual        6\n",
       "GarageCond        6\n",
       "PavedDrive        3\n",
       "PoolQC            5\n",
       "Fence             5\n",
       "MiscFeature       6\n",
       "SaleType         10\n",
       "SaleCondition     6\n",
       "dtype: int64"
      ]
     },
     "execution_count": 2,
     "metadata": {},
     "output_type": "execute_result"
    }
   ],
   "source": [
    "df.select_dtypes([\"object\"]).nunique()"
   ]
  },
  {
   "cell_type": "markdown",
   "id": "5ff2494e",
   "metadata": {
    "papermill": {
     "duration": 0.00736,
     "end_time": "2022-06-29T20:27:20.258974",
     "exception": false,
     "start_time": "2022-06-29T20:27:20.251614",
     "status": "completed"
    },
    "tags": []
   },
   "source": [
    "We talked about how the M-estimate encoding uses smoothing to improve estimates for rare categories. To see how many times a category occurs in the dataset, you can use the `value_counts` method. This cell shows the counts for `SaleType`, but you might want to consider others as well."
   ]
  },
  {
   "cell_type": "code",
   "execution_count": 3,
   "id": "c567faa5",
   "metadata": {
    "execution": {
     "iopub.execute_input": "2022-06-29T20:27:20.276139Z",
     "iopub.status.busy": "2022-06-29T20:27:20.275503Z",
     "iopub.status.idle": "2022-06-29T20:27:20.287306Z",
     "shell.execute_reply": "2022-06-29T20:27:20.286136Z"
    },
    "papermill": {
     "duration": 0.023459,
     "end_time": "2022-06-29T20:27:20.289885",
     "exception": false,
     "start_time": "2022-06-29T20:27:20.266426",
     "status": "completed"
    },
    "tags": []
   },
   "outputs": [
    {
     "data": {
      "text/plain": [
       "WD       2536\n",
       "New       239\n",
       "COD        87\n",
       "ConLD      26\n",
       "CWD        12\n",
       "ConLI       9\n",
       "ConLw       8\n",
       "Oth         7\n",
       "Con         5\n",
       "VWD         1\n",
       "Name: SaleType, dtype: int64"
      ]
     },
     "execution_count": 3,
     "metadata": {},
     "output_type": "execute_result"
    }
   ],
   "source": [
    "df[\"SaleType\"].value_counts()"
   ]
  },
  {
   "cell_type": "markdown",
   "id": "f94a66a6",
   "metadata": {
    "papermill": {
     "duration": 0.007641,
     "end_time": "2022-06-29T20:27:20.305417",
     "exception": false,
     "start_time": "2022-06-29T20:27:20.297776",
     "status": "completed"
    },
    "tags": []
   },
   "source": [
    "# 1) Choose Features for Encoding\n",
    "\n",
    "Which features did you identify for target encoding? After you've thought about your answer, run the next cell for some discussion."
   ]
  },
  {
   "cell_type": "markdown",
   "id": "e1440073",
   "metadata": {
    "papermill": {
     "duration": 0.007786,
     "end_time": "2022-06-29T20:27:20.321108",
     "exception": false,
     "start_time": "2022-06-29T20:27:20.313322",
     "status": "completed"
    },
    "tags": []
   },
   "source": [
    "Neighborhood, Exterior2nd, Exterior1st, MSSubClass, OverallQual and SaleType."
   ]
  },
  {
   "cell_type": "code",
   "execution_count": 4,
   "id": "d743f8d9",
   "metadata": {
    "execution": {
     "iopub.execute_input": "2022-06-29T20:27:20.338438Z",
     "iopub.status.busy": "2022-06-29T20:27:20.338049Z",
     "iopub.status.idle": "2022-06-29T20:27:20.347757Z",
     "shell.execute_reply": "2022-06-29T20:27:20.346549Z"
    },
    "papermill": {
     "duration": 0.0213,
     "end_time": "2022-06-29T20:27:20.350266",
     "exception": false,
     "start_time": "2022-06-29T20:27:20.328966",
     "status": "completed"
    },
    "tags": []
   },
   "outputs": [
    {
     "data": {
      "application/javascript": [
       "parent.postMessage({\"jupyterEvent\": \"custom.exercise_interaction\", \"data\": {\"outcomeType\": 1, \"valueTowardsCompletion\": 0.3333333333333333, \"interactionType\": 1, \"questionType\": 4, \"questionId\": \"1_Q1\", \"learnToolsVersion\": \"0.3.4\", \"failureMessage\": \"\", \"exceptionClass\": \"\", \"trace\": \"\"}}, \"*\")"
      ],
      "text/plain": [
       "<IPython.core.display.Javascript object>"
      ]
     },
     "metadata": {},
     "output_type": "display_data"
    },
    {
     "data": {
      "text/markdown": [
       "<span style=\"color:#33cc33\">Correct:</span> \n",
       "\n",
       " The `Neighborhood` feature looks promising. It has the most categories of any feature, and several categories are rare. Others that could be worth considering are `SaleType`, `MSSubClass`, `Exterior1st`, `Exterior2nd`. In fact, almost any of the nominal features would be worth trying because of the prevalence of rare categories."
      ],
      "text/plain": [
       "Correct: \n",
       "\n",
       " The `Neighborhood` feature looks promising. It has the most categories of any feature, and several categories are rare. Others that could be worth considering are `SaleType`, `MSSubClass`, `Exterior1st`, `Exterior2nd`. In fact, almost any of the nominal features would be worth trying because of the prevalence of rare categories."
      ]
     },
     "metadata": {},
     "output_type": "display_data"
    }
   ],
   "source": [
    "# View the solution (Run this cell to receive credit!)\n",
    "q_1.check()"
   ]
  },
  {
   "cell_type": "markdown",
   "id": "3f1a7211",
   "metadata": {
    "papermill": {
     "duration": 0.007856,
     "end_time": "2022-06-29T20:27:20.366193",
     "exception": false,
     "start_time": "2022-06-29T20:27:20.358337",
     "status": "completed"
    },
    "tags": []
   },
   "source": [
    "-------------------------------------------------------------------------------\n",
    "\n",
    "Now you'll apply a target encoding to your choice of feature. As we discussed in the tutorial, to avoid overfitting, we need to fit the encoder on data heldout from the training set. Run this cell to create the encoding and training splits:"
   ]
  },
  {
   "cell_type": "code",
   "execution_count": 5,
   "id": "d5dbd157",
   "metadata": {
    "execution": {
     "iopub.execute_input": "2022-06-29T20:27:20.383931Z",
     "iopub.status.busy": "2022-06-29T20:27:20.383511Z",
     "iopub.status.idle": "2022-06-29T20:27:20.397390Z",
     "shell.execute_reply": "2022-06-29T20:27:20.396365Z"
    },
    "lines_to_next_cell": 2,
    "papermill": {
     "duration": 0.025962,
     "end_time": "2022-06-29T20:27:20.400024",
     "exception": false,
     "start_time": "2022-06-29T20:27:20.374062",
     "status": "completed"
    },
    "tags": []
   },
   "outputs": [],
   "source": [
    "# Encoding split\n",
    "X_encode = df.sample(frac=0.20, random_state=0)\n",
    "y_encode = X_encode.pop(\"SalePrice\")\n",
    "\n",
    "# Training split\n",
    "X_pretrain = df.drop(X_encode.index)\n",
    "y_train = X_pretrain.pop(\"SalePrice\")"
   ]
  },
  {
   "cell_type": "markdown",
   "id": "7635b301",
   "metadata": {
    "papermill": {
     "duration": 0.007678,
     "end_time": "2022-06-29T20:27:20.416004",
     "exception": false,
     "start_time": "2022-06-29T20:27:20.408326",
     "status": "completed"
    },
    "tags": []
   },
   "source": [
    "# 2) Apply M-Estimate Encoding\n",
    "\n",
    "Apply a target encoding to your choice of categorical features. Also choose a value for the smoothing parameter `m` (any value is okay for a correct answer)."
   ]
  },
  {
   "cell_type": "code",
   "execution_count": 6,
   "id": "1866968e",
   "metadata": {
    "execution": {
     "iopub.execute_input": "2022-06-29T20:27:20.433874Z",
     "iopub.status.busy": "2022-06-29T20:27:20.433462Z",
     "iopub.status.idle": "2022-06-29T20:27:20.517738Z",
     "shell.execute_reply": "2022-06-29T20:27:20.516874Z"
    },
    "lines_to_next_cell": 0,
    "papermill": {
     "duration": 0.095687,
     "end_time": "2022-06-29T20:27:20.519950",
     "exception": false,
     "start_time": "2022-06-29T20:27:20.424263",
     "status": "completed"
    },
    "tags": []
   },
   "outputs": [
    {
     "data": {
      "application/javascript": [
       "parent.postMessage({\"jupyterEvent\": \"custom.exercise_interaction\", \"data\": {\"outcomeType\": 1, \"valueTowardsCompletion\": 0.3333333333333333, \"interactionType\": 1, \"questionType\": 2, \"questionId\": \"2_Q2\", \"learnToolsVersion\": \"0.3.4\", \"failureMessage\": \"\", \"exceptionClass\": \"\", \"trace\": \"\"}}, \"*\")"
      ],
      "text/plain": [
       "<IPython.core.display.Javascript object>"
      ]
     },
     "metadata": {},
     "output_type": "display_data"
    },
    {
     "data": {
      "text/markdown": [
       "<span style=\"color:#33cc33\">Correct</span>"
      ],
      "text/plain": [
       "Correct"
      ]
     },
     "metadata": {},
     "output_type": "display_data"
    }
   ],
   "source": [
    "# YOUR CODE HERE: Create the MEstimateEncoder\n",
    "# Choose a set of features to encode and a value for m\n",
    "encoder = MEstimateEncoder(cols=[\"Neighborhood\"], m=6.0)\n",
    "\n",
    "\n",
    "# Fit the encoder on the encoding split\n",
    "encoder.fit(X_encode,y_encode)\n",
    "\n",
    "# Encode the training split\n",
    "X_train = encoder.transform(X_pretrain, y_train)\n",
    "\n",
    "\n",
    "# Check your answer\n",
    "q_2.check()"
   ]
  },
  {
   "cell_type": "code",
   "execution_count": 7,
   "id": "e6125323",
   "metadata": {
    "execution": {
     "iopub.execute_input": "2022-06-29T20:27:20.540406Z",
     "iopub.status.busy": "2022-06-29T20:27:20.539636Z",
     "iopub.status.idle": "2022-06-29T20:27:20.543751Z",
     "shell.execute_reply": "2022-06-29T20:27:20.542837Z"
    },
    "lines_to_next_cell": 0,
    "papermill": {
     "duration": 0.01737,
     "end_time": "2022-06-29T20:27:20.546215",
     "exception": false,
     "start_time": "2022-06-29T20:27:20.528845",
     "status": "completed"
    },
    "tags": []
   },
   "outputs": [],
   "source": [
    "# Lines below will give you a hint or solution code\n",
    "#q_2.hint()\n",
    "#q_2.solution()"
   ]
  },
  {
   "cell_type": "markdown",
   "id": "3c42a297",
   "metadata": {
    "papermill": {
     "duration": 0.009251,
     "end_time": "2022-06-29T20:27:20.565388",
     "exception": false,
     "start_time": "2022-06-29T20:27:20.556137",
     "status": "completed"
    },
    "tags": []
   },
   "source": [
    "If you'd like to see how the encoded feature compares to the target, you can run this cell:"
   ]
  },
  {
   "cell_type": "code",
   "execution_count": 8,
   "id": "eb672d29",
   "metadata": {
    "execution": {
     "iopub.execute_input": "2022-06-29T20:27:20.584464Z",
     "iopub.status.busy": "2022-06-29T20:27:20.583673Z",
     "iopub.status.idle": "2022-06-29T20:27:20.953142Z",
     "shell.execute_reply": "2022-06-29T20:27:20.951980Z"
    },
    "papermill": {
     "duration": 0.382231,
     "end_time": "2022-06-29T20:27:20.956002",
     "exception": false,
     "start_time": "2022-06-29T20:27:20.573771",
     "status": "completed"
    },
    "tags": []
   },
   "outputs": [
    {
     "data": {
      "image/png": "[encoded data removed]",
      "text/plain": [
       "<Figure size 540x360 with 1 Axes>"
      ]
     },
     "metadata": {},
     "output_type": "display_data"
    }
   ],
   "source": [
    "feature = encoder.cols\n",
    "\n",
    "plt.figure(dpi=90)\n",
    "ax = sns.distplot(y_train, kde=True, hist=False)\n",
    "ax = sns.distplot(X_train[feature], color='r', ax=ax, hist=True, kde=False, norm_hist=True)\n",
    "ax.set_xlabel(\"SalePrice\");"
   ]
  },
  {
   "cell_type": "markdown",
   "id": "62843244",
   "metadata": {
    "papermill": {
     "duration": 0.008269,
     "end_time": "2022-06-29T20:27:20.973246",
     "exception": false,
     "start_time": "2022-06-29T20:27:20.964977",
     "status": "completed"
    },
    "tags": []
   },
   "source": [
    "From the distribution plots, does it seem like the encoding is informative?\n",
    "\n",
    "And this cell will show you the score of the encoded set compared to the original set:"
   ]
  },
  {
   "cell_type": "code",
   "execution_count": 9,
   "id": "e183470e",
   "metadata": {
    "execution": {
     "iopub.execute_input": "2022-06-29T20:27:20.992780Z",
     "iopub.status.busy": "2022-06-29T20:27:20.992062Z",
     "iopub.status.idle": "2022-06-29T20:27:28.726032Z",
     "shell.execute_reply": "2022-06-29T20:27:28.724190Z"
    },
    "papermill": {
     "duration": 7.747505,
     "end_time": "2022-06-29T20:27:28.729324",
     "exception": false,
     "start_time": "2022-06-29T20:27:20.981819",
     "status": "completed"
    },
    "tags": []
   },
   "outputs": [
    {
     "name": "stdout",
     "output_type": "stream",
     "text": [
      "Baseline Score: 0.1428 RMSLE\n",
      "Score with Encoding: 0.1398 RMSLE\n"
     ]
    }
   ],
   "source": [
    "X = df.copy()\n",
    "y = X.pop(\"SalePrice\")\n",
    "score_base = score_dataset(X, y)\n",
    "score_new = score_dataset(X_train, y_train)\n",
    "\n",
    "print(f\"Baseline Score: {score_base:.4f} RMSLE\")\n",
    "print(f\"Score with Encoding: {score_new:.4f} RMSLE\")"
   ]
  },
  {
   "cell_type": "markdown",
   "id": "34e2ea0b",
   "metadata": {
    "papermill": {
     "duration": 0.008738,
     "end_time": "2022-06-29T20:27:28.748153",
     "exception": false,
     "start_time": "2022-06-29T20:27:28.739415",
     "status": "completed"
    },
    "tags": []
   },
   "source": [
    "Do you think that target encoding was worthwhile in this case? Depending on which feature or features you chose, you may have ended up with a score significantly worse than the baseline. In that case, it's likely the extra information gained by the encoding couldn't make up for the loss of data used for the encoding."
   ]
  },
  {
   "cell_type": "markdown",
   "id": "298e0af6",
   "metadata": {
    "papermill": {
     "duration": 0.008467,
     "end_time": "2022-06-29T20:27:28.765543",
     "exception": false,
     "start_time": "2022-06-29T20:27:28.757076",
     "status": "completed"
    },
    "tags": []
   },
   "source": [
    "-------------------------------------------------------------------------------\n",
    "\n",
    "In this question, you'll explore the problem of overfitting with target encodings. This will illustrate this importance of training fitting target encoders on data held-out from the training set.\n",
    "\n",
    "So let's see what happens when we fit the encoder and the model on the *same* dataset. To emphasize how dramatic the overfitting can be, we'll mean-encode a feature that should have no relationship with `SalePrice`, a count: `0, 1, 2, 3, 4, 5, ...`."
   ]
  },
  {
   "cell_type": "code",
   "execution_count": 10,
   "id": "4dbf4ff5",
   "metadata": {
    "execution": {
     "iopub.execute_input": "2022-06-29T20:27:28.785537Z",
     "iopub.status.busy": "2022-06-29T20:27:28.785170Z",
     "iopub.status.idle": "2022-06-29T20:27:32.992026Z",
     "shell.execute_reply": "2022-06-29T20:27:32.991018Z"
    },
    "papermill": {
     "duration": 4.220019,
     "end_time": "2022-06-29T20:27:32.994883",
     "exception": false,
     "start_time": "2022-06-29T20:27:28.774864",
     "status": "completed"
    },
    "tags": []
   },
   "outputs": [
    {
     "name": "stdout",
     "output_type": "stream",
     "text": [
      "Score: 0.0303 RMSLE\n"
     ]
    }
   ],
   "source": [
    "# Try experimenting with the smoothing parameter m\n",
    "# Try 0, 1, 5, 50\n",
    "m = 50.0\n",
    "\n",
    "X = df.copy()\n",
    "y = X.pop('SalePrice')\n",
    "\n",
    "# Create an uninformative feature\n",
    "X[\"Count\"] = range(len(X))\n",
    "X[\"Count\"][1] = 0  # actually need one duplicate value to circumvent error-checking in MEstimateEncoder\n",
    "\n",
    "# fit and transform on the same dataset\n",
    "encoder = MEstimateEncoder(cols=\"Count\", m=m)\n",
    "X = encoder.fit_transform(X, y)\n",
    "\n",
    "# Results\n",
    "score =  score_dataset(X, y)\n",
    "print(f\"Score: {score:.4f} RMSLE\")"
   ]
  },
  {
   "cell_type": "markdown",
   "id": "e1fea316",
   "metadata": {
    "papermill": {
     "duration": 0.008543,
     "end_time": "2022-06-29T20:27:33.015167",
     "exception": false,
     "start_time": "2022-06-29T20:27:33.006624",
     "status": "completed"
    },
    "tags": []
   },
   "source": [
    "Almost a perfect score!"
   ]
  },
  {
   "cell_type": "code",
   "execution_count": 11,
   "id": "dce724ff",
   "metadata": {
    "execution": {
     "iopub.execute_input": "2022-06-29T20:27:33.035266Z",
     "iopub.status.busy": "2022-06-29T20:27:33.034190Z",
     "iopub.status.idle": "2022-06-29T20:27:33.396307Z",
     "shell.execute_reply": "2022-06-29T20:27:33.395132Z"
    },
    "papermill": {
     "duration": 0.374716,
     "end_time": "2022-06-29T20:27:33.398766",
     "exception": false,
     "start_time": "2022-06-29T20:27:33.024050",
     "status": "completed"
    },
    "tags": []
   },
   "outputs": [
    {
     "data": {
      "image/png": "[encoded data removed]",
      "text/plain": [
       "<Figure size 540x360 with 1 Axes>"
      ]
     },
     "metadata": {},
     "output_type": "display_data"
    }
   ],
   "source": [
    "plt.figure(dpi=90)\n",
    "ax = sns.distplot(y, kde=True, hist=False)\n",
    "ax = sns.distplot(X[\"Count\"], color='r', ax=ax, hist=True, kde=False, norm_hist=True)\n",
    "ax.set_xlabel(\"SalePrice\");"
   ]
  },
  {
   "cell_type": "markdown",
   "id": "c334123a",
   "metadata": {
    "papermill": {
     "duration": 0.008838,
     "end_time": "2022-06-29T20:27:33.416731",
     "exception": false,
     "start_time": "2022-06-29T20:27:33.407893",
     "status": "completed"
    },
    "tags": []
   },
   "source": [
    "And the distributions are almost exactly the same, too.\n",
    "\n",
    "# 3) Overfitting with Target Encoders\n",
    "\n",
    "Based on your understanding of how mean-encoding works, can you explain how XGBoost was able to get an almost a perfect fit after mean-encoding the count feature?"
   ]
  },
  {
   "cell_type": "markdown",
   "id": "9c88ecfa",
   "metadata": {
    "papermill": {
     "duration": 0.008706,
     "end_time": "2022-06-29T20:27:33.434385",
     "exception": false,
     "start_time": "2022-06-29T20:27:33.425679",
     "status": "completed"
    },
    "tags": []
   },
   "source": [
    "The score was calculated by using the same set used for training and since Count has only unique values, by using the mean encoding a new feature is created that correlates to the value of SalePrice."
   ]
  },
  {
   "cell_type": "code",
   "execution_count": 12,
   "id": "6403dc6d",
   "metadata": {
    "execution": {
     "iopub.execute_input": "2022-06-29T20:27:33.454066Z",
     "iopub.status.busy": "2022-06-29T20:27:33.453668Z",
     "iopub.status.idle": "2022-06-29T20:27:33.463384Z",
     "shell.execute_reply": "2022-06-29T20:27:33.462245Z"
    },
    "lines_to_next_cell": 0,
    "papermill": {
     "duration": 0.022164,
     "end_time": "2022-06-29T20:27:33.465624",
     "exception": false,
     "start_time": "2022-06-29T20:27:33.443460",
     "status": "completed"
    },
    "tags": []
   },
   "outputs": [
    {
     "data": {
      "application/javascript": [
       "parent.postMessage({\"jupyterEvent\": \"custom.exercise_interaction\", \"data\": {\"outcomeType\": 1, \"valueTowardsCompletion\": 0.3333333333333333, \"interactionType\": 1, \"questionType\": 4, \"questionId\": \"3_Q3\", \"learnToolsVersion\": \"0.3.4\", \"failureMessage\": \"\", \"exceptionClass\": \"\", \"trace\": \"\"}}, \"*\")"
      ],
      "text/plain": [
       "<IPython.core.display.Javascript object>"
      ]
     },
     "metadata": {},
     "output_type": "display_data"
    },
    {
     "data": {
      "text/markdown": [
       "<span style=\"color:#33cc33\">Correct:</span> \n",
       "\n",
       "\n",
       "Since `Count` never has any duplicate values, the mean-encoded `Count` is essentially an exact copy of the target. In other words, mean-encoding turned a completely meaningless feature into a perfect feature.\n",
       "\n",
       "Now, the only reason this worked is because we trained XGBoost on the same set we used to train the encoder. If we had used a hold-out set instead, none of this \"fake\" encoding would have transferred to the training data.\n",
       "\n",
       "The lesson is that when using a target encoder it's very important to use separate data sets for training the encoder and training the model. Otherwise the results can be very disappointing!\n"
      ],
      "text/plain": [
       "Correct: \n",
       "\n",
       "\n",
       "Since `Count` never has any duplicate values, the mean-encoded `Count` is essentially an exact copy of the target. In other words, mean-encoding turned a completely meaningless feature into a perfect feature.\n",
       "\n",
       "Now, the only reason this worked is because we trained XGBoost on the same set we used to train the encoder. If we had used a hold-out set instead, none of this \"fake\" encoding would have transferred to the training data.\n",
       "\n",
       "The lesson is that when using a target encoder it's very important to use separate data sets for training the encoder and training the model. Otherwise the results can be very disappointing!"
      ]
     },
     "metadata": {},
     "output_type": "display_data"
    }
   ],
   "source": [
    "# View the solution (Run this cell to receive credit!)\n",
    "q_3.check()"
   ]
  },
  {
   "cell_type": "code",
   "execution_count": 13,
   "id": "e4643a2c",
   "metadata": {
    "execution": {
     "iopub.execute_input": "2022-06-29T20:27:33.486219Z",
     "iopub.status.busy": "2022-06-29T20:27:33.485507Z",
     "iopub.status.idle": "2022-06-29T20:27:33.489672Z",
     "shell.execute_reply": "2022-06-29T20:27:33.488803Z"
    },
    "papermill": {
     "duration": 0.017125,
     "end_time": "2022-06-29T20:27:33.492024",
     "exception": false,
     "start_time": "2022-06-29T20:27:33.474899",
     "status": "completed"
    },
    "tags": []
   },
   "outputs": [],
   "source": [
    "# Uncomment this if you'd like a hint before seeing the answer\n",
    "#q_3.hint()"
   ]
  },
  {
   "cell_type": "markdown",
   "id": "9c05f014",
   "metadata": {
    "papermill": {
     "duration": 0.00932,
     "end_time": "2022-06-29T20:27:33.510648",
     "exception": false,
     "start_time": "2022-06-29T20:27:33.501328",
     "status": "completed"
    },
    "tags": []
   },
   "source": [
    "# The End #\n",
    "\n",
    "That's it for *Feature Engineering*! We hope you enjoyed your time with us.\n",
    "\n",
    "Now, are you ready to try out your new skills? Now would be a great time to join our [Housing Prices](https://www.kaggle.com/c/house-prices-advanced-regression-techniques) Getting Started competition. We've even prepared a [Bonus Lesson](https://www.kaggle.com/ryanholbrook/feature-engineering-for-house-prices) that collects all the work we've done together into a starter notebook.\n",
    "\n",
    "# References #\n",
    "Here are some great resources you might like to consult for more information. They all played a part in shaping this course:\n",
    "- *The Art of Feature Engineering*, a book by Pablo Duboue.\n",
    "- *An Empirical Analysis of Feature Engineering for Predictive Modeling*, an article by Jeff Heaton.\n",
    "- *Feature Engineering for Machine Learning*, a book by Alice Zheng and Amanda Casari. The tutorial on clustering was inspired by this excellent book.\n",
    "- *Feature Engineering and Selection*, a book by Max Kuhn and Kjell Johnson."
   ]
  },
  {
   "cell_type": "markdown",
   "id": "e2016a08",
   "metadata": {
    "papermill": {
     "duration": 0.009071,
     "end_time": "2022-06-29T20:27:33.529081",
     "exception": false,
     "start_time": "2022-06-29T20:27:33.520010",
     "status": "completed"
    },
    "tags": []
   },
   "source": [
    "---\n",
    "\n",
    "\n",
    "\n",
    "\n",
    "*Have questions or comments? Visit the [course discussion forum](https://www.kaggle.com/learn/feature-engineering/discussion) to chat with other learners.*"
   ]
  }
 ],
 "metadata": {
  "kernelspec": {
   "display_name": "Python 3",
   "language": "python",
   "name": "python3"
  },
  "language_info": {
   "codemirror_mode": {
    "name": "ipython",
    "version": 3
   },
   "file_extension": ".py",
   "mimetype": "text/x-python",
   "name": "python",
   "nbconvert_exporter": "python",
   "pygments_lexer": "ipython3",
   "version": "3.7.12"
  },
  "papermill": {
   "default_parameters": {},
   "duration": 26.785402,
   "end_time": "2022-06-29T20:27:34.260308",
   "environment_variables": {},
   "exception": null,
   "input_path": "__notebook__.ipynb",
   "output_path": "__notebook__.ipynb",
   "parameters": {},
   "start_time": "2022-06-29T20:27:07.474906",
   "version": "2.3.4"
  }
 },
 "nbformat": 4,
 "nbformat_minor": 5
}
