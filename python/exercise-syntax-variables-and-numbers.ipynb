{
 "cells": [
  {
   "cell_type": "markdown",
   "id": "62eaed42",
   "metadata": {
    "papermill": {
     "duration": 0.009295,
     "end_time": "2022-06-23T21:57:50.821871",
     "exception": false,
     "start_time": "2022-06-23T21:57:50.812576",
     "status": "completed"
    },
    "tags": []
   },
   "source": [
    "**This notebook is an exercise in the [Python](https://www.kaggle.com/learn/python) course.  You can reference the tutorial at [this link](https://www.kaggle.com/colinmorris/hello-python).**\n",
    "\n",
    "---\n"
   ]
  },
  {
   "cell_type": "markdown",
   "id": "41616ca0",
   "metadata": {
    "papermill": {
     "duration": 0.007508,
     "end_time": "2022-06-23T21:57:50.837656",
     "exception": false,
     "start_time": "2022-06-23T21:57:50.830148",
     "status": "completed"
    },
    "tags": []
   },
   "source": [
    "Welcome to your first set of Python coding problems.  If this is your first time using Kaggle Notebooks, welcome! \n",
    "\n",
    "Notebooks are composed of blocks (called \"cells\") of text and code. Each of these is editable, though you'll mainly be editing the code cells to answer some questions.\n",
    "\n",
    "To get started, try running the code cell below (by pressing the ► button, or clicking on the cell and pressing ctrl+enter on your keyboard)."
   ]
  },
  {
   "cell_type": "code",
   "execution_count": 1,
   "id": "8d07d666",
   "metadata": {
    "execution": {
     "iopub.execute_input": "2022-06-23T21:57:50.857572Z",
     "iopub.status.busy": "2022-06-23T21:57:50.856017Z",
     "iopub.status.idle": "2022-06-23T21:57:50.875056Z",
     "shell.execute_reply": "2022-06-23T21:57:50.873543Z"
    },
    "papermill": {
     "duration": 0.033339,
     "end_time": "2022-06-23T21:57:50.879179",
     "exception": false,
     "start_time": "2022-06-23T21:57:50.845840",
     "status": "completed"
    },
    "tags": []
   },
   "outputs": [
    {
     "name": "stdout",
     "output_type": "stream",
     "text": [
      "You've successfully run some Python code\n",
      "Congratulations!\n"
     ]
    }
   ],
   "source": [
    "print(\"You've successfully run some Python code\")\n",
    "print(\"Congratulations!\")"
   ]
  },
  {
   "cell_type": "markdown",
   "id": "ad77ed9c",
   "metadata": {
    "papermill": {
     "duration": 0.008705,
     "end_time": "2022-06-23T21:57:50.897272",
     "exception": false,
     "start_time": "2022-06-23T21:57:50.888567",
     "status": "completed"
    },
    "tags": []
   },
   "source": [
    "Try adding another line of code in the cell above and re-running it. \n",
    "\n",
    "Now let's get a little fancier:  Add a new code cell by clicking on an existing code cell, hitting the escape key, and then hitting the `a` or `b` key.  The `a` key will add a cell above the current cell, and `b` adds a cell below.\n",
    "\n",
    "Great! Now you know how to use Notebooks.\n",
    "\n",
    "Each hands-on exercise starts by setting up our feedback and code checking mechanism. Run the code cell below to do that. Then you'll be ready to move on to question 0."
   ]
  },
  {
   "cell_type": "code",
   "execution_count": 2,
   "id": "e2867347",
   "metadata": {
    "_kg_hide-input": true,
    "_kg_hide-output": true,
    "execution": {
     "iopub.execute_input": "2022-06-23T21:57:50.917409Z",
     "iopub.status.busy": "2022-06-23T21:57:50.916660Z",
     "iopub.status.idle": "2022-06-23T21:57:50.973215Z",
     "shell.execute_reply": "2022-06-23T21:57:50.972393Z"
    },
    "papermill": {
     "duration": 0.069838,
     "end_time": "2022-06-23T21:57:50.976295",
     "exception": false,
     "start_time": "2022-06-23T21:57:50.906457",
     "status": "completed"
    },
    "tags": []
   },
   "outputs": [
    {
     "name": "stdout",
     "output_type": "stream",
     "text": [
      "Setup complete! You're ready to start question 0.\n"
     ]
    }
   ],
   "source": [
    "from learntools.core import binder; binder.bind(globals())\n",
    "from learntools.python.ex1 import *\n",
    "print(\"Setup complete! You're ready to start question 0.\")"
   ]
  },
  {
   "cell_type": "markdown",
   "id": "155bec27",
   "metadata": {
    "papermill": {
     "duration": 0.008156,
     "end_time": "2022-06-23T21:57:50.993369",
     "exception": false,
     "start_time": "2022-06-23T21:57:50.985213",
     "status": "completed"
    },
    "tags": []
   },
   "source": [
    "# 0.\n",
    "\n",
    "*This is a silly question intended as an introduction to the format we use for hands-on exercises throughout all Kaggle courses.*\n",
    "\n",
    "**What is your favorite color? **\n",
    "\n",
    "To complete this question, create a variable called `color` in the cell below with an appropriate value. The function call `q0.check()` (which we've already provided in the cell below) will check your answer."
   ]
  },
  {
   "cell_type": "code",
   "execution_count": 3,
   "id": "6a601113",
   "metadata": {
    "execution": {
     "iopub.execute_input": "2022-06-23T21:57:51.014082Z",
     "iopub.status.busy": "2022-06-23T21:57:51.013650Z",
     "iopub.status.idle": "2022-06-23T21:57:51.024622Z",
     "shell.execute_reply": "2022-06-23T21:57:51.023829Z"
    },
    "papermill": {
     "duration": 0.025284,
     "end_time": "2022-06-23T21:57:51.027295",
     "exception": false,
     "start_time": "2022-06-23T21:57:51.002011",
     "status": "completed"
    },
    "tags": []
   },
   "outputs": [
    {
     "data": {
      "application/javascript": [
       "parent.postMessage({\"jupyterEvent\": \"custom.exercise_interaction\", \"data\": {\"outcomeType\": 1, \"valueTowardsCompletion\": 0.25, \"interactionType\": 1, \"questionType\": 2, \"questionId\": \"0_ExerciseFormatTutorial\", \"learnToolsVersion\": \"0.3.4\", \"failureMessage\": \"\", \"exceptionClass\": \"\", \"trace\": \"\"}}, \"*\")"
      ],
      "text/plain": [
       "<IPython.core.display.Javascript object>"
      ]
     },
     "metadata": {},
     "output_type": "display_data"
    },
    {
     "data": {
      "text/markdown": [
       "<span style=\"color:#33cc33\">Correct:</span> What?! You got it right without needing a hint or anything? Drats. Well hey, you should still continue to the next step to get some practice asking for a hint and checking solutions. (Even though you obviously don't need any help here.)"
      ],
      "text/plain": [
       "Correct: What?! You got it right without needing a hint or anything? Drats. Well hey, you should still continue to the next step to get some practice asking for a hint and checking solutions. (Even though you obviously don't need any help here.)"
      ]
     },
     "metadata": {},
     "output_type": "display_data"
    }
   ],
   "source": [
    "# create a variable called color with an appropriate value on the line below\n",
    "# (Remember, strings in Python must be enclosed in 'single' or \"double\" quotes)\n",
    "____\n",
    "color = 'blue'\n",
    "# Check your answer\n",
    "q0.check()"
   ]
  },
  {
   "cell_type": "markdown",
   "id": "d871bf0f",
   "metadata": {
    "papermill": {
     "duration": 0.007954,
     "end_time": "2022-06-23T21:57:51.043500",
     "exception": false,
     "start_time": "2022-06-23T21:57:51.035546",
     "status": "completed"
    },
    "tags": []
   },
   "source": [
    "Didn't get the right answer? How do you not even know your own favorite color?!\n",
    "\n",
    "Delete the `#` in the line below to make one of the lines run. You can choose between getting a hint or the full answer by choosing which line to remove the `#` from. \n",
    "\n",
    "Removing the `#` is called uncommenting, because it changes that line from a \"comment\" which Python doesn't run to code, which Python does run."
   ]
  },
  {
   "cell_type": "code",
   "execution_count": 4,
   "id": "e0f98141",
   "metadata": {
    "execution": {
     "iopub.execute_input": "2022-06-23T21:57:51.063093Z",
     "iopub.status.busy": "2022-06-23T21:57:51.062262Z",
     "iopub.status.idle": "2022-06-23T21:57:51.066924Z",
     "shell.execute_reply": "2022-06-23T21:57:51.066095Z"
    },
    "papermill": {
     "duration": 0.017132,
     "end_time": "2022-06-23T21:57:51.069161",
     "exception": false,
     "start_time": "2022-06-23T21:57:51.052029",
     "status": "completed"
    },
    "tags": []
   },
   "outputs": [],
   "source": [
    "#q0.hint()\n",
    "#q0.solution()"
   ]
  },
  {
   "cell_type": "markdown",
   "id": "5fed3db7",
   "metadata": {
    "papermill": {
     "duration": 0.008176,
     "end_time": "2022-06-23T21:57:51.085655",
     "exception": false,
     "start_time": "2022-06-23T21:57:51.077479",
     "status": "completed"
    },
    "tags": []
   },
   "source": [
    "The upcoming questions work the same way. The only thing that will change are the question numbers. For the next question, you'll call `q1.check()`, `q1.hint()`, `q1.solution()`, for question 2, you'll call `q2.check()`, and so on."
   ]
  },
  {
   "cell_type": "markdown",
   "id": "749d91b1",
   "metadata": {
    "papermill": {
     "duration": 0.007975,
     "end_time": "2022-06-23T21:57:51.101904",
     "exception": false,
     "start_time": "2022-06-23T21:57:51.093929",
     "status": "completed"
    },
    "tags": []
   },
   "source": [
    "<hr/>\n",
    "\n",
    "# 1.\n",
    "\n",
    "Complete the code below. In case it's helpful, here is the table of available arithmetic operations:\n",
    "\n",
    "\n",
    "\n",
    "| Operator     | Name           | Description                                            |\n",
    "|--------------|----------------|--------------------------------------------------------|\n",
    "| ``a + b``    | Addition       | Sum of ``a`` and ``b``                                 |\n",
    "| ``a - b``    | Subtraction    | Difference of ``a`` and ``b``                          |\n",
    "| ``a * b``    | Multiplication | Product of ``a`` and ``b``                             |\n",
    "| ``a / b``    | True division  | Quotient of ``a`` and ``b``                            |\n",
    "| ``a // b``   | Floor division | Quotient of ``a`` and ``b``, removing fractional parts |\n",
    "| ``a % b``    | Modulus        | Integer remainder after division of ``a`` by ``b``     |\n",
    "| ``a ** b``   | Exponentiation | ``a`` raised to the power of ``b``                     |\n",
    "| ``-a``       | Negation       | The negative of ``a``                                  |\n",
    "\n",
    "<span style=\"display:none\"></span>\n"
   ]
  },
  {
   "cell_type": "code",
   "execution_count": 5,
   "id": "b52eb0a8",
   "metadata": {
    "execution": {
     "iopub.execute_input": "2022-06-23T21:57:51.120927Z",
     "iopub.status.busy": "2022-06-23T21:57:51.120175Z",
     "iopub.status.idle": "2022-06-23T21:57:51.130979Z",
     "shell.execute_reply": "2022-06-23T21:57:51.129286Z"
    },
    "papermill": {
     "duration": 0.023084,
     "end_time": "2022-06-23T21:57:51.133310",
     "exception": false,
     "start_time": "2022-06-23T21:57:51.110226",
     "status": "completed"
    },
    "tags": []
   },
   "outputs": [
    {
     "data": {
      "application/javascript": [
       "parent.postMessage({\"jupyterEvent\": \"custom.exercise_interaction\", \"data\": {\"outcomeType\": 1, \"valueTowardsCompletion\": 0.25, \"interactionType\": 1, \"questionType\": 1, \"questionId\": \"1_CircleArea\", \"learnToolsVersion\": \"0.3.4\", \"failureMessage\": \"\", \"exceptionClass\": \"\", \"trace\": \"\"}}, \"*\")"
      ],
      "text/plain": [
       "<IPython.core.display.Javascript object>"
      ]
     },
     "metadata": {},
     "output_type": "display_data"
    },
    {
     "data": {
      "text/markdown": [
       "<span style=\"color:#33cc33\">Correct</span>"
      ],
      "text/plain": [
       "Correct"
      ]
     },
     "metadata": {},
     "output_type": "display_data"
    }
   ],
   "source": [
    "pi = 3.14159 # approximate\n",
    "diameter = 3\n",
    "\n",
    "# Create a variable called 'radius' equal to half the diameter\n",
    "____\n",
    "radius = diameter/2\n",
    "# Create a variable called 'area', using the formula for the area of a circle: pi times the radius squared\n",
    "____\n",
    "area = pi*radius**2\n",
    "# Check your answer\n",
    "q1.check()"
   ]
  },
  {
   "cell_type": "code",
   "execution_count": 6,
   "id": "fa8cc3df",
   "metadata": {
    "execution": {
     "iopub.execute_input": "2022-06-23T21:57:51.152623Z",
     "iopub.status.busy": "2022-06-23T21:57:51.151883Z",
     "iopub.status.idle": "2022-06-23T21:57:51.156434Z",
     "shell.execute_reply": "2022-06-23T21:57:51.155652Z"
    },
    "papermill": {
     "duration": 0.016519,
     "end_time": "2022-06-23T21:57:51.158596",
     "exception": false,
     "start_time": "2022-06-23T21:57:51.142077",
     "status": "completed"
    },
    "tags": []
   },
   "outputs": [],
   "source": [
    "# Uncomment and run the lines below if you need help.\n",
    "#q1.hint()\n",
    "#q1.solution()"
   ]
  },
  {
   "cell_type": "markdown",
   "id": "3425e373",
   "metadata": {
    "papermill": {
     "duration": 0.008794,
     "end_time": "2022-06-23T21:57:51.176012",
     "exception": false,
     "start_time": "2022-06-23T21:57:51.167218",
     "status": "completed"
    },
    "tags": []
   },
   "source": [
    "<hr/>\n",
    "\n",
    "# 2.\n",
    "\n",
    "Add code to the following cell to swap variables `a` and `b` (so that `a` refers to the object previously referred to by `b` and vice versa)."
   ]
  },
  {
   "cell_type": "code",
   "execution_count": 7,
   "id": "f2f2f816",
   "metadata": {
    "execution": {
     "iopub.execute_input": "2022-06-23T21:57:51.194957Z",
     "iopub.status.busy": "2022-06-23T21:57:51.194221Z",
     "iopub.status.idle": "2022-06-23T21:57:51.204023Z",
     "shell.execute_reply": "2022-06-23T21:57:51.203188Z"
    },
    "papermill": {
     "duration": 0.021858,
     "end_time": "2022-06-23T21:57:51.206208",
     "exception": false,
     "start_time": "2022-06-23T21:57:51.184350",
     "status": "completed"
    },
    "tags": []
   },
   "outputs": [
    {
     "data": {
      "application/javascript": [
       "parent.postMessage({\"jupyterEvent\": \"custom.exercise_interaction\", \"data\": {\"outcomeType\": 1, \"valueTowardsCompletion\": 0.25, \"interactionType\": 1, \"questionType\": 2, \"questionId\": \"2_VariableSwap\", \"learnToolsVersion\": \"0.3.4\", \"failureMessage\": \"\", \"exceptionClass\": \"\", \"trace\": \"\"}}, \"*\")"
      ],
      "text/plain": [
       "<IPython.core.display.Javascript object>"
      ]
     },
     "metadata": {},
     "output_type": "display_data"
    },
    {
     "data": {
      "text/markdown": [
       "<span style=\"color:#33cc33\">Correct:</span> \n",
       "\n",
       "The most straightforward solution is to use a third variable to temporarily store one of the old values. e.g.:\n",
       "\n",
       "    tmp = a\n",
       "    a = b\n",
       "    b = tmp\n",
       "\n",
       "If you've read lots of Python code, you might have seen the following trick to swap two variables in one line:\n",
       "\n",
       "    a, b = b, a\n",
       "\n",
       "We'll demystify this bit of Python magic later when we talk about *tuples*."
      ],
      "text/plain": [
       "Correct: \n",
       "\n",
       "The most straightforward solution is to use a third variable to temporarily store one of the old values. e.g.:\n",
       "\n",
       "    tmp = a\n",
       "    a = b\n",
       "    b = tmp\n",
       "\n",
       "If you've read lots of Python code, you might have seen the following trick to swap two variables in one line:\n",
       "\n",
       "    a, b = b, a\n",
       "\n",
       "We'll demystify this bit of Python magic later when we talk about *tuples*."
      ]
     },
     "metadata": {},
     "output_type": "display_data"
    }
   ],
   "source": [
    "########### Setup code - don't touch this part ######################\n",
    "# If you're curious, these are examples of lists. We'll talk about \n",
    "# them in depth a few lessons from now. For now, just know that they're\n",
    "# yet another type of Python object, like int or float.\n",
    "a = [1, 2, 3]\n",
    "b = [3, 2, 1]\n",
    "q2.store_original_ids()\n",
    "######################################################################\n",
    "\n",
    "# Your code goes here. Swap the values to which a and b refer.\n",
    "# If you get stuck, you can always uncomment one or both of the lines in\n",
    "# the next cell for a hint, or to peek at the solution.\n",
    "temp = a\n",
    "a = b\n",
    "b = temp\n",
    "######################################################################\n",
    "\n",
    "# Check your answer\n",
    "q2.check()"
   ]
  },
  {
   "cell_type": "code",
   "execution_count": 8,
   "id": "fb4a30f8",
   "metadata": {
    "execution": {
     "iopub.execute_input": "2022-06-23T21:57:51.226705Z",
     "iopub.status.busy": "2022-06-23T21:57:51.226071Z",
     "iopub.status.idle": "2022-06-23T21:57:51.230708Z",
     "shell.execute_reply": "2022-06-23T21:57:51.229820Z"
    },
    "papermill": {
     "duration": 0.017575,
     "end_time": "2022-06-23T21:57:51.233044",
     "exception": false,
     "start_time": "2022-06-23T21:57:51.215469",
     "status": "completed"
    },
    "tags": []
   },
   "outputs": [],
   "source": [
    "#q2.hint()"
   ]
  },
  {
   "cell_type": "code",
   "execution_count": 9,
   "id": "b13768ff",
   "metadata": {
    "execution": {
     "iopub.execute_input": "2022-06-23T21:57:51.253378Z",
     "iopub.status.busy": "2022-06-23T21:57:51.252702Z",
     "iopub.status.idle": "2022-06-23T21:57:51.257227Z",
     "shell.execute_reply": "2022-06-23T21:57:51.256017Z"
    },
    "papermill": {
     "duration": 0.017821,
     "end_time": "2022-06-23T21:57:51.260039",
     "exception": false,
     "start_time": "2022-06-23T21:57:51.242218",
     "status": "completed"
    },
    "tags": []
   },
   "outputs": [],
   "source": [
    "#q2.solution()"
   ]
  },
  {
   "cell_type": "markdown",
   "id": "e98d10b0",
   "metadata": {
    "papermill": {
     "duration": 0.008642,
     "end_time": "2022-06-23T21:57:51.277904",
     "exception": false,
     "start_time": "2022-06-23T21:57:51.269262",
     "status": "completed"
    },
    "tags": []
   },
   "source": [
    "<hr/>\n",
    "\n",
    "# 3a.\n",
    "\n",
    "Add parentheses to the following expression so that it evaluates to 1."
   ]
  },
  {
   "cell_type": "code",
   "execution_count": 10,
   "id": "7616c495",
   "metadata": {
    "execution": {
     "iopub.execute_input": "2022-06-23T21:57:51.298107Z",
     "iopub.status.busy": "2022-06-23T21:57:51.297427Z",
     "iopub.status.idle": "2022-06-23T21:57:51.303537Z",
     "shell.execute_reply": "2022-06-23T21:57:51.302841Z"
    },
    "papermill": {
     "duration": 0.018613,
     "end_time": "2022-06-23T21:57:51.305543",
     "exception": false,
     "start_time": "2022-06-23T21:57:51.286930",
     "status": "completed"
    },
    "tags": []
   },
   "outputs": [
    {
     "data": {
      "text/plain": [
       "1"
      ]
     },
     "execution_count": 10,
     "metadata": {},
     "output_type": "execute_result"
    }
   ],
   "source": [
    "(5 - 3 )// 2"
   ]
  },
  {
   "cell_type": "code",
   "execution_count": 11,
   "id": "e353d1b0",
   "metadata": {
    "execution": {
     "iopub.execute_input": "2022-06-23T21:57:51.326860Z",
     "iopub.status.busy": "2022-06-23T21:57:51.325693Z",
     "iopub.status.idle": "2022-06-23T21:57:51.330125Z",
     "shell.execute_reply": "2022-06-23T21:57:51.329279Z"
    },
    "papermill": {
     "duration": 0.017623,
     "end_time": "2022-06-23T21:57:51.332231",
     "exception": false,
     "start_time": "2022-06-23T21:57:51.314608",
     "status": "completed"
    },
    "tags": []
   },
   "outputs": [],
   "source": [
    "#q3.a.hint()"
   ]
  },
  {
   "cell_type": "code",
   "execution_count": 12,
   "id": "3d43ce66",
   "metadata": {
    "execution": {
     "iopub.execute_input": "2022-06-23T21:57:51.353795Z",
     "iopub.status.busy": "2022-06-23T21:57:51.353226Z",
     "iopub.status.idle": "2022-06-23T21:57:51.360959Z",
     "shell.execute_reply": "2022-06-23T21:57:51.360085Z"
    },
    "papermill": {
     "duration": 0.020889,
     "end_time": "2022-06-23T21:57:51.363053",
     "exception": false,
     "start_time": "2022-06-23T21:57:51.342164",
     "status": "completed"
    },
    "tags": []
   },
   "outputs": [
    {
     "data": {
      "application/javascript": [
       "parent.postMessage({\"jupyterEvent\": \"custom.exercise_interaction\", \"data\": {\"interactionType\": 3, \"questionType\": 4, \"questionId\": \"3.1_ArithmeticParensEasy\", \"learnToolsVersion\": \"0.3.4\", \"valueTowardsCompletion\": 0.0, \"failureMessage\": \"\", \"exceptionClass\": \"\", \"trace\": \"\", \"outcomeType\": 4}}, \"*\")"
      ],
      "text/plain": [
       "<IPython.core.display.Javascript object>"
      ]
     },
     "metadata": {},
     "output_type": "display_data"
    },
    {
     "data": {
      "text/markdown": [
       "<span style=\"color:#33cc99\">Solution:</span> \n",
       "```python\n",
       "(5 - 3) // 2\n",
       "```"
      ],
      "text/plain": [
       "Solution: \n",
       "```python\n",
       "(5 - 3) // 2\n",
       "```"
      ]
     },
     "metadata": {},
     "output_type": "display_data"
    }
   ],
   "source": [
    "# Check your answer (Run this code cell to receive credit!)\n",
    "q3.a.solution()"
   ]
  },
  {
   "cell_type": "markdown",
   "id": "20fba3b0",
   "metadata": {
    "papermill": {
     "duration": 0.009634,
     "end_time": "2022-06-23T21:57:51.382364",
     "exception": false,
     "start_time": "2022-06-23T21:57:51.372730",
     "status": "completed"
    },
    "tags": []
   },
   "source": [
    "# 3b.  <span title=\"A bit spicy\" style=\"color: darkgreen \">🌶️</span>\n",
    "\n",
    "<small>Questions, like this one, marked a spicy pepper are a bit harder.</small>\n",
    "\n",
    "Add parentheses to the following expression so that it evaluates to 0."
   ]
  },
  {
   "cell_type": "code",
   "execution_count": 13,
   "id": "857aa03c",
   "metadata": {
    "execution": {
     "iopub.execute_input": "2022-06-23T21:57:51.403567Z",
     "iopub.status.busy": "2022-06-23T21:57:51.402783Z",
     "iopub.status.idle": "2022-06-23T21:57:51.409624Z",
     "shell.execute_reply": "2022-06-23T21:57:51.408778Z"
    },
    "papermill": {
     "duration": 0.020132,
     "end_time": "2022-06-23T21:57:51.411624",
     "exception": false,
     "start_time": "2022-06-23T21:57:51.391492",
     "status": "completed"
    },
    "tags": []
   },
   "outputs": [
    {
     "data": {
      "text/plain": [
       "0"
      ]
     },
     "execution_count": 13,
     "metadata": {},
     "output_type": "execute_result"
    }
   ],
   "source": [
    "8 - (3 * 2) - (1 + 1)"
   ]
  },
  {
   "cell_type": "code",
   "execution_count": 14,
   "id": "832ee975",
   "metadata": {
    "execution": {
     "iopub.execute_input": "2022-06-23T21:57:51.432100Z",
     "iopub.status.busy": "2022-06-23T21:57:51.431619Z",
     "iopub.status.idle": "2022-06-23T21:57:51.436437Z",
     "shell.execute_reply": "2022-06-23T21:57:51.435101Z"
    },
    "papermill": {
     "duration": 0.017886,
     "end_time": "2022-06-23T21:57:51.438684",
     "exception": false,
     "start_time": "2022-06-23T21:57:51.420798",
     "status": "completed"
    },
    "tags": []
   },
   "outputs": [],
   "source": [
    "#q3.b.hint()"
   ]
  },
  {
   "cell_type": "code",
   "execution_count": 15,
   "id": "e863d065",
   "metadata": {
    "execution": {
     "iopub.execute_input": "2022-06-23T21:57:51.459746Z",
     "iopub.status.busy": "2022-06-23T21:57:51.458926Z",
     "iopub.status.idle": "2022-06-23T21:57:51.467182Z",
     "shell.execute_reply": "2022-06-23T21:57:51.466168Z"
    },
    "papermill": {
     "duration": 0.021189,
     "end_time": "2022-06-23T21:57:51.469227",
     "exception": false,
     "start_time": "2022-06-23T21:57:51.448038",
     "status": "completed"
    },
    "tags": []
   },
   "outputs": [
    {
     "data": {
      "application/javascript": [
       "parent.postMessage({\"jupyterEvent\": \"custom.exercise_interaction\", \"data\": {\"interactionType\": 3, \"questionType\": 4, \"questionId\": \"3.2_ArithmeticParensHard\", \"learnToolsVersion\": \"0.3.4\", \"valueTowardsCompletion\": 0.0, \"failureMessage\": \"\", \"exceptionClass\": \"\", \"trace\": \"\", \"outcomeType\": 4}}, \"*\")"
      ],
      "text/plain": [
       "<IPython.core.display.Javascript object>"
      ]
     },
     "metadata": {},
     "output_type": "display_data"
    },
    {
     "data": {
      "text/markdown": [
       "<span style=\"color:#33cc99\">Solution:</span> `(8 - 3) * (2 - (1 + 1))` is one solution. There may be others."
      ],
      "text/plain": [
       "Solution: `(8 - 3) * (2 - (1 + 1))` is one solution. There may be others."
      ]
     },
     "metadata": {},
     "output_type": "display_data"
    }
   ],
   "source": [
    "# Check your answer (Run this code cell to receive credit!)\n",
    "q3.b.solution()"
   ]
  },
  {
   "cell_type": "markdown",
   "id": "bd56ff82",
   "metadata": {
    "papermill": {
     "duration": 0.009357,
     "end_time": "2022-06-23T21:57:51.488035",
     "exception": false,
     "start_time": "2022-06-23T21:57:51.478678",
     "status": "completed"
    },
    "tags": []
   },
   "source": [
    "<hr/>\n",
    "\n",
    "# 4. \n",
    "Alice, Bob and Carol have agreed to pool their Halloween candy and split it evenly among themselves.\n",
    "For the sake of their friendship, any candies left over will be smashed. For example, if they collectively\n",
    "bring home 91 candies, they'll take 30 each and smash 1.\n",
    "\n",
    "Write an arithmetic expression below to calculate how many candies they must smash for a given haul."
   ]
  },
  {
   "cell_type": "code",
   "execution_count": 16,
   "id": "0572a1f3",
   "metadata": {
    "execution": {
     "iopub.execute_input": "2022-06-23T21:57:51.509122Z",
     "iopub.status.busy": "2022-06-23T21:57:51.508620Z",
     "iopub.status.idle": "2022-06-23T21:57:51.517741Z",
     "shell.execute_reply": "2022-06-23T21:57:51.516862Z"
    },
    "papermill": {
     "duration": 0.022673,
     "end_time": "2022-06-23T21:57:51.520093",
     "exception": false,
     "start_time": "2022-06-23T21:57:51.497420",
     "status": "completed"
    },
    "tags": []
   },
   "outputs": [
    {
     "data": {
      "application/javascript": [
       "parent.postMessage({\"jupyterEvent\": \"custom.exercise_interaction\", \"data\": {\"outcomeType\": 1, \"valueTowardsCompletion\": 0.25, \"interactionType\": 1, \"questionType\": 1, \"questionId\": \"4_CandySplitting\", \"learnToolsVersion\": \"0.3.4\", \"failureMessage\": \"\", \"exceptionClass\": \"\", \"trace\": \"\"}}, \"*\")"
      ],
      "text/plain": [
       "<IPython.core.display.Javascript object>"
      ]
     },
     "metadata": {},
     "output_type": "display_data"
    },
    {
     "data": {
      "text/markdown": [
       "<span style=\"color:#33cc33\">Correct</span>"
      ],
      "text/plain": [
       "Correct"
      ]
     },
     "metadata": {},
     "output_type": "display_data"
    }
   ],
   "source": [
    "# Variables representing the number of candies collected by alice, bob, and carol\n",
    "alice_candies = 121\n",
    "bob_candies = 77\n",
    "carol_candies = 109\n",
    "\n",
    "# Your code goes here! Replace the right-hand side of this assignment with an expression\n",
    "# involving alice_candies, bob_candies, and carol_candies\n",
    "to_smash = (alice_candies + bob_candies + carol_candies)%3\n",
    "\n",
    "# Check your answer\n",
    "q4.check()"
   ]
  },
  {
   "cell_type": "code",
   "execution_count": 17,
   "id": "661be204",
   "metadata": {
    "execution": {
     "iopub.execute_input": "2022-06-23T21:57:51.542693Z",
     "iopub.status.busy": "2022-06-23T21:57:51.541974Z",
     "iopub.status.idle": "2022-06-23T21:57:51.545943Z",
     "shell.execute_reply": "2022-06-23T21:57:51.545088Z"
    },
    "papermill": {
     "duration": 0.017645,
     "end_time": "2022-06-23T21:57:51.548040",
     "exception": false,
     "start_time": "2022-06-23T21:57:51.530395",
     "status": "completed"
    },
    "tags": []
   },
   "outputs": [],
   "source": [
    "#q4.hint()\n",
    "#q4.solution()"
   ]
  },
  {
   "cell_type": "markdown",
   "id": "4d3c4cdf",
   "metadata": {
    "papermill": {
     "duration": 0.010274,
     "end_time": "2022-06-23T21:57:51.567993",
     "exception": false,
     "start_time": "2022-06-23T21:57:51.557719",
     "status": "completed"
    },
    "tags": []
   },
   "source": [
    "# Keep Going\n",
    "\n",
    "Next up, you'll **[learn to write new functions and understand functions others write](https://www.kaggle.com/colinmorris/functions-and-getting-help)**. This will make you at least 10 times more productive as a Python programmer. "
   ]
  },
  {
   "cell_type": "markdown",
   "id": "06adc78b",
   "metadata": {
    "papermill": {
     "duration": 0.009243,
     "end_time": "2022-06-23T21:57:51.587117",
     "exception": false,
     "start_time": "2022-06-23T21:57:51.577874",
     "status": "completed"
    },
    "tags": []
   },
   "source": [
    "---\n",
    "\n",
    "\n",
    "\n",
    "\n",
    "*Have questions or comments? Visit the [course discussion forum](https://www.kaggle.com/learn/python/discussion) to chat with other learners.*"
   ]
  }
 ],
 "metadata": {
  "kernelspec": {
   "display_name": "Python 3",
   "language": "python",
   "name": "python3"
  },
  "language_info": {
   "codemirror_mode": {
    "name": "ipython",
    "version": 3
   },
   "file_extension": ".py",
   "mimetype": "text/x-python",
   "name": "python",
   "nbconvert_exporter": "python",
   "pygments_lexer": "ipython3",
   "version": "3.7.12"
  },
  "papermill": {
   "default_parameters": {},
   "duration": 12.79719,
   "end_time": "2022-06-23T21:57:52.521198",
   "environment_variables": {},
   "exception": null,
   "input_path": "__notebook__.ipynb",
   "output_path": "__notebook__.ipynb",
   "parameters": {},
   "start_time": "2022-06-23T21:57:39.724008",
   "version": "2.3.4"
  }
 },
 "nbformat": 4,
 "nbformat_minor": 5
}
